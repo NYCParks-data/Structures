{
 "cells": [
  {
   "cell_type": "code",
   "execution_count": 1,
   "metadata": {},
   "outputs": [],
   "source": [
    "import arcpy"
   ]
  },
  {
   "cell_type": "code",
   "execution_count": 2,
   "metadata": {},
   "outputs": [],
   "source": [
    "#Define the SDE connection file path\n",
    "sde_con_path = 'C:/Projects'"
   ]
  },
  {
   "cell_type": "code",
   "execution_count": 8,
   "metadata": {},
   "outputs": [],
   "source": [
    "#Define the SDE connection file name\n",
    "sde_con_file = 'your_sde_connection_name_here.sde'"
   ]
  },
  {
   "cell_type": "code",
   "execution_count": 9,
   "metadata": {},
   "outputs": [],
   "source": [
    "sde_con = sde_con_path + '/' + sde_con_file"
   ]
  },
  {
   "cell_type": "code",
   "execution_count": 5,
   "metadata": {},
   "outputs": [],
   "source": [
    "database = 'your_database_here'"
   ]
  },
  {
   "cell_type": "code",
   "execution_count": 6,
   "metadata": {},
   "outputs": [],
   "source": [
    "schema = 'dbo'"
   ]
  },
  {
   "cell_type": "code",
   "execution_count": 28,
   "metadata": {},
   "outputs": [],
   "source": [
    "#If there is no existing SDE connection file, then make one\n",
    "arcpy.CreateDatabaseConnection_management(out_folder_path = sde_con_path,\n",
    "                                          out_name = sde_con_file,\n",
    "                                          account_authentication = 'DATABASE_AUTH',\n",
    "                                          username = 'your_username_here',\n",
    "                                          password = 'your_password_here',\n",
    "                                          instance = 'your_server_name_here', \n",
    "                                          database = database,\n",
    "                                          database_platform = 'SQL_SERVER')"
   ]
  },
  {
   "cell_type": "code",
   "execution_count": 10,
   "metadata": {},
   "outputs": [],
   "source": [
    "#Set the workspace to the appropriate SDE connection\n",
    "arcpy.env.workspace = sde_con"
   ]
  },
  {
   "cell_type": "code",
   "execution_count": 11,
   "metadata": {},
   "outputs": [],
   "source": [
    "#Define the database and schema\n",
    "db_schema = database + '.' + schema + '.'"
   ]
  },
  {
   "cell_type": "code",
   "execution_count": 13,
   "metadata": {},
   "outputs": [],
   "source": [
    "#Retrieve the list of feature classes that are in the current workspace, convert the list elements to a \n",
    "#string and make the names lower case\n",
    "gdb_fcs = [str(a).lower() for a in arcpy.ListFeatureClasses()]"
   ]
  },
  {
   "cell_type": "code",
   "execution_count": 14,
   "metadata": {},
   "outputs": [],
   "source": [
    "#Define all the feature classes that may be edited\n",
    "edit_fcs = ['TBL_DPR_DoITT_GREENROOF', 'TBL_NonActive_DoITT_Greenroof', 'TBL_CapitalProperty',\n",
    "            'TBL_DailyTasks_Sites', 'TBL_CNA_STRUCTURES', 'TBL_PARKSGIS_ALLSITES', 'TBL_PARKSGIS_GREENROOF',\n",
    "            'TBL_PARKSGIS_STRUCTURE', 'TBL_AMPS_BUILDINGS', 'TBL_DM_BUILDINGS', 'TBL_DM_GISALLSITES',\n",
    "            'TBL_OPS_COMPLETEDACTIVATIONWOS', 'TBL_OPS_DFACTIVATION', 'TBL_LaborRel_LactationSites',\n",
    "            'TBL_PPS_ALLSITES', 'TBL_PPS_FACILITYPOINTS']"
   ]
  },
  {
   "cell_type": "code",
   "execution_count": 15,
   "metadata": {},
   "outputs": [],
   "source": [
    "#Append the database name and schema and make all the feature class names lower case\n",
    "edit_fcs = [(db_schema + f).lower() for f in edit_fcs]"
   ]
  },
  {
   "cell_type": "code",
   "execution_count": 16,
   "metadata": {},
   "outputs": [],
   "source": [
    "#Define the fields that are being deleted\n",
    "delete_fields = ['TypeCategory', 'ACRES', 'AMPSSync', 'AMPSSyncDate', 'BATHROOM',\n",
    "                 'COMFORTSTATION', 'ComfortStation_1', 'CommunityBoard', 'CouncilDistrict',\n",
    "                 'CSCount', 'District', 'EstSqFeet', 'FEMARisk', 'GSGroupProject', \n",
    "                 'Map____Hagstrom_', 'Map_Grid__Hagstrom_', 'NAME', 'NYS_ASSEMBLY', 'NYS_SENATE',\n",
    "                 'PAD_addresses', 'PERMITDISTRICT', 'Phone', 'PIPCreated', 'PIPZipCode', 'PRECINCT',\n",
    "                 'RETIRED', 'RETIREDDATE', 'Safety_Index', 'sBATHROOM', 'SIGNNAME', 'Sort', 'sRETIRED',\n",
    "                 'STRUCTURETYPE', 'Sub_Properties_Rated', 'Sub_Property', 'SubPropertyName', 'US_CONGRESS',\n",
    "                 'ZIPCODE']"
   ]
  },
  {
   "cell_type": "code",
   "execution_count": 17,
   "metadata": {},
   "outputs": [],
   "source": [
    "#Define the fields that should be moved to null values instead of being deleted.\n",
    "#Just here for tracking purposes.\n",
    "null_fields = ['Address', 'Historic']"
   ]
  },
  {
   "cell_type": "code",
   "execution_count": 18,
   "metadata": {},
   "outputs": [],
   "source": [
    "#Make all the field names lower case\n",
    "delete_fields = [d.lower() for d in delete_fields]"
   ]
  },
  {
   "cell_type": "code",
   "execution_count": 25,
   "metadata": {},
   "outputs": [],
   "source": [
    "#Open/create a log file in append mode in the same directory as the python script\n",
    "field_audit = open(r'C:\\Projects\\field_audit.txt', 'a')\n",
    "\n",
    "#Iterate through the feature classes in the geodatabase\n",
    "for g in gdb_fcs:\n",
    "    #If the feature class from the geodatabase is in the list of feature classes being edited then \n",
    "    if g in edit_fcs:\n",
    "        field_audit.write('\\n Feature_Class: {} \\n'.format(g))\n",
    "        #Get all the field names in the matching feature class and convert the names to lower case strings\n",
    "        gdb_fields = [str(f.name).lower() for f in arcpy.ListFields(dataset = g)]\n",
    "        \n",
    "        #Iterate through the fields that have been flagged for deletion\n",
    "        for n in null_fields:\n",
    "            #If the fields to be nulled are in the fields of the feature class\n",
    "            if n in gdb_fields:\n",
    "                #Print a message indicating that they will be nulled\n",
    "                field_audit.write('Not deleting column {} from {}, but the data source is changing. \\n'.format(d, g))\n",
    "        \n",
    "        for d in delete_fields:\n",
    "            #If the fields to be deleted are in the fields of the feature class\n",
    "            if d in gdb_fields:            \n",
    "                #Delete the fields from feature class, in place. If we wanted to, we could copy the \n",
    "                #feature class to a new feature class or in memory and then make the edits, but this \n",
    "                #doesn't seem particularly likely to encounter any exceptions.\n",
    "                try:\n",
    "                    arcpy.DeleteField_management(in_table = g, drop_field = d)\n",
    "                    #Print a message indicating the deletion\n",
    "                    field_audit.write('Deleted column {} from {}. \\n'.format(d, g))\n",
    "                \n",
    "                except Exception as e:\n",
    "                    field_audit.write('Could not delete column {} from {}, exception below. \\n'.format(d, g))\n",
    "                    field_audit.write('Exception: {} \\n'.format(e))\n",
    "field_audit.close()"
   ]
  }
 ],
 "metadata": {
  "kernelspec": {
   "display_name": "Python 2",
   "language": "python",
   "name": "python2"
  },
  "language_info": {
   "codemirror_mode": {
    "name": "ipython",
    "version": 2
   },
   "file_extension": ".py",
   "mimetype": "text/x-python",
   "name": "python",
   "nbconvert_exporter": "python",
   "pygments_lexer": "ipython2",
   "version": "2.7.15"
  }
 },
 "nbformat": 4,
 "nbformat_minor": 2
}
