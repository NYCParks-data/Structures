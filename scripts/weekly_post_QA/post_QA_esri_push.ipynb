{
 "cells": [
  {
   "cell_type": "markdown",
   "metadata": {
    "papermill": {
     "duration": 0.062528,
     "end_time": "2020-01-31T17:15:03.390105",
     "exception": false,
     "start_time": "2020-01-31T17:15:03.327577",
     "status": "completed"
    },
    "tags": []
   },
   "source": [
    "# Introduction\n",
    "\n",
    "julie.tsitron@parks.nyc.gov 1/8/2020\n",
    "\n",
    "This notebook is for testing various ArcGIS API for Python functions that allow for pushing/updating GIS data to production servers. Ultimately, the script from this notebook can be used as a template for the technical implementation (i.e., pushing clean data into production ESRI-based geodatabases) of Structures, Sites and Units, CPAs, and other Agency Data Model data products."
   ]
  },
  {
   "cell_type": "markdown",
   "metadata": {
    "papermill": {
     "duration": 0.078129,
     "end_time": "2020-01-31T17:15:03.546321",
     "exception": false,
     "start_time": "2020-01-31T17:15:03.468192",
     "status": "completed"
    },
    "tags": []
   },
   "source": [
    "# Imports and Connections to DBs"
   ]
  },
  {
   "cell_type": "code",
   "execution_count": 1,
   "metadata": {
    "papermill": {
     "duration": 2.859371,
     "end_time": "2020-01-31T17:15:09.436953",
     "exception": false,
     "start_time": "2020-01-31T17:15:06.577582",
     "status": "completed"
    },
    "tags": []
   },
   "outputs": [],
   "source": [
    "# import urllib3\n",
    "# from urllib.parse import quote\n",
    "# from urllib.parse import quote_plus\n",
    "\n",
    "import numpy as np\n",
    "import json\n",
    "import sqlalchemy\n",
    "import os\n",
    "import shapely\n",
    "import pytz\n",
    "from datetime import datetime\n",
    "import pandas as pd\n",
    "import pyodbc\n",
    "import sys\n",
    "sys.path.append('../') \n",
    "from IPM_Shared_Code.Python.geo_functions import read_geosql\n",
    "from IPM_Shared_Code.Python.utils import get_config\n",
    "from IPM_Shared_Code.Python.email_functions import get_contacts, read_template, send_email\n",
    "\n",
    "from arcgis.gis import GIS\n",
    "from arcgis.features import GeoAccessor, GeoSeriesAccessor, SpatialDataFrame, FeatureLayer, FeatureSet"
   ]
  },
  {
   "cell_type": "code",
   "execution_count": 2,
   "metadata": {
    "papermill": {
     "duration": 0.093739,
     "end_time": "2020-01-31T17:15:09.608807",
     "exception": false,
     "start_time": "2020-01-31T17:15:09.515068",
     "status": "completed"
    },
    "tags": []
   },
   "outputs": [],
   "source": [
    "config = get_config('c:\\Projects\\config.ini')\n",
    "\n",
    "driver = config['srv']['driver']\n",
    "server = config['srv']['server']\n",
    "parksgis = config['srv']['parksgis']\n",
    "data_parks_server = config['srv']['data_parks']\n",
    "structuresdb = config['db']['structuresdb']\n",
    "portal = config['url']['portal']\n",
    "structures_url = config['url']['structures']"
   ]
  },
  {
   "cell_type": "code",
   "execution_count": 3,
   "metadata": {
    "papermill": {
     "duration": 0.265578,
     "end_time": "2020-01-31T17:15:09.952585",
     "exception": false,
     "start_time": "2020-01-31T17:15:09.687007",
     "status": "completed"
    },
    "tags": []
   },
   "outputs": [],
   "source": [
    "con = pyodbc.connect('Driver={' + driver + '};Server=' + server +\n",
    "                     ';Database=' + structuresdb + ';Trusted_Connection=Yes;')\n",
    "con_gis = pyodbc.connect('Driver={SQL Server};Server=' + parksgis +\n",
    "                         ';Database=;Trusted_Connection=Yes;')"
   ]
  },
  {
   "cell_type": "code",
   "execution_count": 6,
   "metadata": {
    "papermill": {
     "duration": 0.249983,
     "end_time": "2020-01-31T17:15:10.280709",
     "exception": false,
     "start_time": "2020-01-31T17:15:10.030726",
     "status": "completed"
    },
    "tags": []
   },
   "outputs": [],
   "source": [
    "crsr = con.cursor()\n",
    "crsr.execute(\"{CALL structuresdb.dbo.sp_i_tbl_overlap_exceptions}\")\n",
    "crsr.commit()\n",
    "crsr.close()"
   ]
  },
  {
   "cell_type": "code",
   "execution_count": null,
   "metadata": {},
   "outputs": [],
   "source": [
    "crsr = con.cursor()\n",
    "crsr.execute(\"{CALL structuresdb.dbo.sp_i_tbl_audit_structures}\")\n",
    "crsr.commit()\n",
    "crsr.close()"
   ]
  },
  {
   "cell_type": "code",
   "execution_count": null,
   "metadata": {},
   "outputs": [],
   "source": [
    "crsr = con.cursor()\n",
    "sql_stmt = '''\n",
    "exec [structuresdb].[dbo].[sp_i_tbl_delta_structures_archive] \n",
    "'''\n",
    "crsr.execute(\"{CALL [structuresdb].[dbo].[sp_i_tbl_delta_structures_archive] }\")\n",
    "crsr.commit()\n",
    "crsr.close()"
   ]
  },
  {
   "cell_type": "code",
   "execution_count": null,
   "metadata": {
    "papermill": {
     "duration": 0.156241,
     "end_time": "2020-01-31T17:15:10.546343",
     "exception": false,
     "start_time": "2020-01-31T17:15:10.390102",
     "status": "completed"
    },
    "tags": []
   },
   "outputs": [],
   "source": [
    "# params = urllib.parse.quote_plus(r'Driver=' + driver + ';Server=' + server +\n",
    "#                                  ';Database=' + structuresdb +\n",
    "#                                  ';Trusted_Connection=Yes;')\n",
    "# engine = sqlalchemy.create_engine(\"mssql+pyodbc:///?odbc_connect=%s\" % params)\n",
    "# connection = engine.connect()"
   ]
  },
  {
   "cell_type": "markdown",
   "metadata": {
    "papermill": {
     "duration": 0.062521,
     "end_time": "2020-01-31T17:15:13.046363",
     "exception": false,
     "start_time": "2020-01-31T17:15:12.983842",
     "status": "completed"
    },
    "tags": []
   },
   "source": [
    "# Delta Table from structuresdb"
   ]
  },
  {
   "cell_type": "code",
   "execution_count": 57,
   "metadata": {},
   "outputs": [],
   "source": [
    "sql_structures = '''\n",
    "select * from [ParksGIS].[DPR].[STRUCTURE_EVW] \n",
    "'''\n",
    "structures_latest = read_geosql(sql_structures,\n",
    "                                con_gis,\n",
    "                                geom_raw='SHAPE',\n",
    "                                geom_col='geometry')"
   ]
  },
  {
   "cell_type": "code",
   "execution_count": 39,
   "metadata": {},
   "outputs": [],
   "source": [
    "def make_tz_aware_UTC(row, column):\n",
    "    return pd.to_datetime(row[column]).tz_localize('UTC').astimezone(pytz.UTC)"
   ]
  },
  {
   "cell_type": "code",
   "execution_count": 40,
   "metadata": {},
   "outputs": [],
   "source": [
    "def make_tz_aware_EST(row, column):\n",
    "    return pd.to_datetime(row[column]).tz_localize('EST').astimezone(pytz.UTC)"
   ]
  },
  {
   "cell_type": "code",
   "execution_count": 58,
   "metadata": {},
   "outputs": [],
   "source": [
    "structures_latest['last_edited_date'] = structures_latest.apply(\n",
    "    lambda row: make_tz_aware_UTC(row, 'last_edited_date'), axis=1)"
   ]
  },
  {
   "cell_type": "code",
   "execution_count": 92,
   "metadata": {
    "papermill": {
     "duration": 0.31251,
     "end_time": "2020-01-31T17:15:13.436978",
     "exception": false,
     "start_time": "2020-01-31T17:15:13.124468",
     "status": "completed"
    },
    "scrolled": true,
    "tags": []
   },
   "outputs": [],
   "source": [
    "sql_str_deltas = '''\n",
    "select * FROM [structuresdb].[dbo].[tbl_delta_structures] \n",
    "'''\n",
    "struct_deltas = read_geosql(sql_str_deltas,\n",
    "                            con,\n",
    "                            geom_raw='shape',\n",
    "                            geom_col='geometry')"
   ]
  },
  {
   "cell_type": "code",
   "execution_count": 93,
   "metadata": {
    "papermill": {
     "duration": 0.078108,
     "end_time": "2020-01-31T17:15:13.577581",
     "exception": false,
     "start_time": "2020-01-31T17:15:13.499473",
     "status": "completed"
    },
    "tags": []
   },
   "outputs": [],
   "source": [
    "struct_deltas.rename(columns={\n",
    "    'objectid': 'OBJECTID',\n",
    "    'parks_id': 'SYSTEM',\n",
    "    'bin': 'BIN',\n",
    "    'bbl': 'BBL',\n",
    "    'doitt_id': 'DOITT_ID',\n",
    "    'ground_elevation': 'Ground_Elevation',\n",
    "    'height_roof': 'Height_Roof',\n",
    "    'alteration_year': 'Alteration_Year',\n",
    "    'construction_year': 'Construction_Year',\n",
    "    'demolition_year': 'Demolition_Year'\n",
    "},\n",
    "                     inplace=True)"
   ]
  },
  {
   "cell_type": "code",
   "execution_count": 94,
   "metadata": {},
   "outputs": [
    {
     "data": {
      "text/html": [
       "<div>\n",
       "<style scoped>\n",
       "    .dataframe tbody tr th:only-of-type {\n",
       "        vertical-align: middle;\n",
       "    }\n",
       "\n",
       "    .dataframe tbody tr th {\n",
       "        vertical-align: top;\n",
       "    }\n",
       "\n",
       "    .dataframe thead th {\n",
       "        text-align: right;\n",
       "    }\n",
       "</style>\n",
       "<table border=\"1\" class=\"dataframe\">\n",
       "  <thead>\n",
       "    <tr style=\"text-align: right;\">\n",
       "      <th></th>\n",
       "      <th>fid</th>\n",
       "      <th>OBJECTID</th>\n",
       "      <th>SYSTEM</th>\n",
       "      <th>BIN</th>\n",
       "      <th>BBL</th>\n",
       "      <th>DOITT_ID</th>\n",
       "      <th>Ground_Elevation</th>\n",
       "      <th>Height_Roof</th>\n",
       "      <th>Construction_Year</th>\n",
       "      <th>Alteration_Year</th>\n",
       "      <th>Demolition_Year</th>\n",
       "      <th>api_call</th>\n",
       "      <th>doitt_source</th>\n",
       "      <th>date_stamp</th>\n",
       "      <th>geometry</th>\n",
       "    </tr>\n",
       "  </thead>\n",
       "  <tbody>\n",
       "  </tbody>\n",
       "</table>\n",
       "</div>"
      ],
      "text/plain": [
       "Empty GeoDataFrame\n",
       "Columns: [fid, OBJECTID, SYSTEM, BIN, BBL, DOITT_ID, Ground_Elevation, Height_Roof, Construction_Year, Alteration_Year, Demolition_Year, api_call, doitt_source, date_stamp, geometry]\n",
       "Index: []"
      ]
     },
     "execution_count": 94,
     "metadata": {},
     "output_type": "execute_result"
    }
   ],
   "source": [
    "struct_deltas.head()"
   ]
  },
  {
   "cell_type": "code",
   "execution_count": 95,
   "metadata": {
    "scrolled": true
   },
   "outputs": [],
   "source": [
    "if not struct_deltas.empty:\n",
    "    struct_deltas['date_stamp'] = struct_deltas.apply(\n",
    "        lambda row: make_tz_aware_UTC(row, 'date_stamp'), axis=1)"
   ]
  },
  {
   "cell_type": "code",
   "execution_count": 60,
   "metadata": {},
   "outputs": [
    {
     "data": {
      "text/plain": [
       "Timestamp('2020-03-09 15:07:14+0000', tz='UTC')"
      ]
     },
     "execution_count": 60,
     "metadata": {},
     "output_type": "execute_result"
    }
   ],
   "source": [
    "last_push_api = structures_latest[\n",
    "    (structures_latest['last_edited_user'] == 'NYCDPR\\py_services')\n",
    "    & (structures_latest['last_edited_date'] == structures_latest[\n",
    "        (structures_latest['last_edited_user'] == 'NYCDPR\\py_services'\n",
    "         )]['last_edited_date'].max())].reset_index()['last_edited_date'].loc[0]\n",
    "last_push_api"
   ]
  },
  {
   "cell_type": "code",
   "execution_count": 91,
   "metadata": {},
   "outputs": [
    {
     "data": {
      "text/html": [
       "<div>\n",
       "<style scoped>\n",
       "    .dataframe tbody tr th:only-of-type {\n",
       "        vertical-align: middle;\n",
       "    }\n",
       "\n",
       "    .dataframe tbody tr th {\n",
       "        vertical-align: top;\n",
       "    }\n",
       "\n",
       "    .dataframe thead th {\n",
       "        text-align: right;\n",
       "    }\n",
       "</style>\n",
       "<table border=\"1\" class=\"dataframe\">\n",
       "  <thead>\n",
       "    <tr style=\"text-align: right;\">\n",
       "      <th></th>\n",
       "      <th>fid</th>\n",
       "      <th>OBJECTID</th>\n",
       "      <th>SYSTEM</th>\n",
       "      <th>BIN</th>\n",
       "      <th>BBL</th>\n",
       "      <th>DOITT_ID</th>\n",
       "      <th>Ground_Elevation</th>\n",
       "      <th>Height_Roof</th>\n",
       "      <th>Construction_Year</th>\n",
       "      <th>Alteration_Year</th>\n",
       "      <th>Demolition_Year</th>\n",
       "      <th>api_call</th>\n",
       "      <th>doitt_source</th>\n",
       "      <th>date_stamp</th>\n",
       "      <th>geometry</th>\n",
       "    </tr>\n",
       "  </thead>\n",
       "  <tbody>\n",
       "  </tbody>\n",
       "</table>\n",
       "</div>"
      ],
      "text/plain": [
       "Empty GeoDataFrame\n",
       "Columns: [fid, OBJECTID, SYSTEM, BIN, BBL, DOITT_ID, Ground_Elevation, Height_Roof, Construction_Year, Alteration_Year, Demolition_Year, api_call, doitt_source, date_stamp, geometry]\n",
       "Index: []"
      ]
     },
     "execution_count": 91,
     "metadata": {},
     "output_type": "execute_result"
    }
   ],
   "source": [
    "struct_deltas[struct_deltas['date_stamp']>last_push_api]"
   ]
  },
  {
   "cell_type": "code",
   "execution_count": 29,
   "metadata": {},
   "outputs": [],
   "source": [
    "struct_deltas = struct_deltas[struct_deltas['date_stamp']>last_push_api]"
   ]
  },
  {
   "cell_type": "code",
   "execution_count": 30,
   "metadata": {
    "papermill": {
     "duration": 0.140668,
     "end_time": "2020-01-31T17:15:13.780765",
     "exception": false,
     "start_time": "2020-01-31T17:15:13.640097",
     "status": "completed"
    },
    "tags": []
   },
   "outputs": [
    {
     "data": {
      "text/html": [
       "<div>\n",
       "<style scoped>\n",
       "    .dataframe tbody tr th:only-of-type {\n",
       "        vertical-align: middle;\n",
       "    }\n",
       "\n",
       "    .dataframe tbody tr th {\n",
       "        vertical-align: top;\n",
       "    }\n",
       "\n",
       "    .dataframe thead th {\n",
       "        text-align: right;\n",
       "    }\n",
       "</style>\n",
       "<table border=\"1\" class=\"dataframe\">\n",
       "  <thead>\n",
       "    <tr style=\"text-align: right;\">\n",
       "      <th></th>\n",
       "      <th>fid</th>\n",
       "      <th>OBJECTID</th>\n",
       "      <th>SYSTEM</th>\n",
       "      <th>BIN</th>\n",
       "      <th>BBL</th>\n",
       "      <th>DOITT_ID</th>\n",
       "      <th>Ground_Elevation</th>\n",
       "      <th>Height_Roof</th>\n",
       "      <th>Construction_Year</th>\n",
       "      <th>Alteration_Year</th>\n",
       "      <th>Demolition_Year</th>\n",
       "      <th>api_call</th>\n",
       "      <th>doitt_source</th>\n",
       "      <th>date_stamp</th>\n",
       "      <th>geometry</th>\n",
       "    </tr>\n",
       "  </thead>\n",
       "  <tbody>\n",
       "    <tr>\n",
       "      <th>4161</th>\n",
       "      <td>4162</td>\n",
       "      <td>12136</td>\n",
       "      <td>R088-BLG5143</td>\n",
       "      <td>5143399</td>\n",
       "      <td>5009390120</td>\n",
       "      <td>954559</td>\n",
       "      <td>147.0</td>\n",
       "      <td>19.5</td>\n",
       "      <td>1901.0</td>\n",
       "      <td>NaN</td>\n",
       "      <td>None</td>\n",
       "      <td>U</td>\n",
       "      <td>current</td>\n",
       "      <td>2020-03-07 03:00:09.297000+00:00</td>\n",
       "      <td>POLYGON ((950839.2118229717 150902.7225227952,...</td>\n",
       "    </tr>\n",
       "    <tr>\n",
       "      <th>4162</th>\n",
       "      <td>4163</td>\n",
       "      <td>4987</td>\n",
       "      <td>M160-BLG0679</td>\n",
       "      <td>1060055</td>\n",
       "      <td>1020080029</td>\n",
       "      <td>1283720</td>\n",
       "      <td>15.0</td>\n",
       "      <td>NaN</td>\n",
       "      <td>NaN</td>\n",
       "      <td>NaN</td>\n",
       "      <td>None</td>\n",
       "      <td>U</td>\n",
       "      <td>current</td>\n",
       "      <td>2020-03-07 03:00:09.297000+00:00</td>\n",
       "      <td>POLYGON ((1001132.62435931 237049.2743107229, ...</td>\n",
       "    </tr>\n",
       "    <tr>\n",
       "      <th>4163</th>\n",
       "      <td>4164</td>\n",
       "      <td>5125</td>\n",
       "      <td>X141-BLG0941</td>\n",
       "      <td>2128987</td>\n",
       "      <td>2048390020</td>\n",
       "      <td>1283727</td>\n",
       "      <td>155.0</td>\n",
       "      <td>NaN</td>\n",
       "      <td>NaN</td>\n",
       "      <td>NaN</td>\n",
       "      <td>None</td>\n",
       "      <td>U</td>\n",
       "      <td>current</td>\n",
       "      <td>2020-03-07 03:00:09.297000+00:00</td>\n",
       "      <td>POLYGON ((1023291.007863984 262709.2856546342,...</td>\n",
       "    </tr>\n",
       "    <tr>\n",
       "      <th>4164</th>\n",
       "      <td>4165</td>\n",
       "      <td>5624</td>\n",
       "      <td>M070-BLG5624</td>\n",
       "      <td>1090506</td>\n",
       "      <td>1014540001</td>\n",
       "      <td>1283745</td>\n",
       "      <td>13.0</td>\n",
       "      <td>NaN</td>\n",
       "      <td>NaN</td>\n",
       "      <td>NaN</td>\n",
       "      <td>None</td>\n",
       "      <td>U</td>\n",
       "      <td>current</td>\n",
       "      <td>2020-03-07 03:00:09.297000+00:00</td>\n",
       "      <td>POLYGON ((995163.7084756494 215865.263857305, ...</td>\n",
       "    </tr>\n",
       "    <tr>\n",
       "      <th>4165</th>\n",
       "      <td>4166</td>\n",
       "      <td>6205</td>\n",
       "      <td>Q009-ZN02-BLG0409</td>\n",
       "      <td>4095654</td>\n",
       "      <td>4039140001</td>\n",
       "      <td>1283770</td>\n",
       "      <td>10.0</td>\n",
       "      <td>NaN</td>\n",
       "      <td>NaN</td>\n",
       "      <td>NaN</td>\n",
       "      <td>None</td>\n",
       "      <td>U</td>\n",
       "      <td>current</td>\n",
       "      <td>2020-03-07 03:00:09.297000+00:00</td>\n",
       "      <td>POLYGON ((1025401.079103142 228393.2122265548,...</td>\n",
       "    </tr>\n",
       "  </tbody>\n",
       "</table>\n",
       "</div>"
      ],
      "text/plain": [
       "       fid  OBJECTID             SYSTEM      BIN         BBL  DOITT_ID  \\\n",
       "4161  4162     12136       R088-BLG5143  5143399  5009390120    954559   \n",
       "4162  4163      4987       M160-BLG0679  1060055  1020080029   1283720   \n",
       "4163  4164      5125       X141-BLG0941  2128987  2048390020   1283727   \n",
       "4164  4165      5624       M070-BLG5624  1090506  1014540001   1283745   \n",
       "4165  4166      6205  Q009-ZN02-BLG0409  4095654  4039140001   1283770   \n",
       "\n",
       "      Ground_Elevation  Height_Roof  Construction_Year  Alteration_Year  \\\n",
       "4161             147.0         19.5             1901.0              NaN   \n",
       "4162              15.0          NaN                NaN              NaN   \n",
       "4163             155.0          NaN                NaN              NaN   \n",
       "4164              13.0          NaN                NaN              NaN   \n",
       "4165              10.0          NaN                NaN              NaN   \n",
       "\n",
       "     Demolition_Year api_call doitt_source                       date_stamp  \\\n",
       "4161            None        U      current 2020-03-07 03:00:09.297000+00:00   \n",
       "4162            None        U      current 2020-03-07 03:00:09.297000+00:00   \n",
       "4163            None        U      current 2020-03-07 03:00:09.297000+00:00   \n",
       "4164            None        U      current 2020-03-07 03:00:09.297000+00:00   \n",
       "4165            None        U      current 2020-03-07 03:00:09.297000+00:00   \n",
       "\n",
       "                                               geometry  \n",
       "4161  POLYGON ((950839.2118229717 150902.7225227952,...  \n",
       "4162  POLYGON ((1001132.62435931 237049.2743107229, ...  \n",
       "4163  POLYGON ((1023291.007863984 262709.2856546342,...  \n",
       "4164  POLYGON ((995163.7084756494 215865.263857305, ...  \n",
       "4165  POLYGON ((1025401.079103142 228393.2122265548,...  "
      ]
     },
     "execution_count": 30,
     "metadata": {},
     "output_type": "execute_result"
    }
   ],
   "source": [
    "struct_deltas.head()"
   ]
  },
  {
   "cell_type": "code",
   "execution_count": null,
   "metadata": {
    "papermill": {
     "duration": 0.093739,
     "end_time": "2020-01-31T17:15:13.936955",
     "exception": false,
     "start_time": "2020-01-31T17:15:13.843216",
     "status": "completed"
    },
    "tags": []
   },
   "outputs": [],
   "source": [
    "# def to_wkt(row):\n",
    "#     return row.wkt"
   ]
  },
  {
   "cell_type": "markdown",
   "metadata": {
    "papermill": {
     "duration": 0.125016,
     "end_time": "2020-01-31T17:15:14.733865",
     "exception": false,
     "start_time": "2020-01-31T17:15:14.608849",
     "status": "completed"
    },
    "tags": []
   },
   "source": [
    "# Write delta table to geojson file, create FeatureSet, connect to service, push edits, if any. \n",
    "# Otherwise, just connect to Structures feature layer and query:"
   ]
  },
  {
   "cell_type": "code",
   "execution_count": 33,
   "metadata": {
    "papermill": {
     "duration": 1.687505,
     "end_time": "2020-01-31T17:15:16.499477",
     "exception": false,
     "start_time": "2020-01-31T17:15:14.811972",
     "status": "completed"
    },
    "tags": []
   },
   "outputs": [
    {
     "name": "stderr",
     "output_type": "stream",
     "text": [
      "C:\\ProgramData\\Anaconda3\\lib\\site-packages\\arcgis\\features\\feature.py:793: UserWarning: crs has been deprecated and will be ignored. Please see: https://tools.ietf.org/html/rfc7946#section-4 for more information.\n",
      "  \" see: https://tools.ietf.org/html/rfc7946#section-4 for\" +\\\n"
     ]
    },
    {
     "ename": "NameError",
     "evalue": "name 'num_updates' is not defined",
     "output_type": "error",
     "traceback": [
      "\u001b[1;31m---------------------------------------------------------------------------\u001b[0m",
      "\u001b[1;31mNameError\u001b[0m                                 Traceback (most recent call last)",
      "\u001b[1;32m<ipython-input-33-c5708b3bfa85>\u001b[0m in \u001b[0;36m<module>\u001b[1;34m\u001b[0m\n\u001b[0;32m     40\u001b[0m                    e=error_mssg)\n\u001b[0;32m     41\u001b[0m     \u001b[1;32melse\u001b[0m\u001b[1;33m:\u001b[0m\u001b[1;33m\u001b[0m\u001b[1;33m\u001b[0m\u001b[0m\n\u001b[1;32m---> 42\u001b[1;33m         \u001b[0msuccess_mssg\u001b[0m \u001b[1;33m=\u001b[0m \u001b[1;34m'There were '\u001b[0m \u001b[1;33m+\u001b[0m \u001b[0mstr\u001b[0m\u001b[1;33m(\u001b[0m\u001b[0mnum_updates\u001b[0m\u001b[1;33m)\u001b[0m \u001b[1;33m+\u001b[0m \u001b[1;34m' updates pushed to Production.'\u001b[0m\u001b[1;33m\u001b[0m\u001b[1;33m\u001b[0m\u001b[0m\n\u001b[0m\u001b[0;32m     43\u001b[0m         send_email('mycontacts.txt',\n\u001b[0;32m     44\u001b[0m                    \u001b[1;34m'success_structures_mssg.txt'\u001b[0m\u001b[1;33m,\u001b[0m\u001b[1;33m\u001b[0m\u001b[1;33m\u001b[0m\u001b[0m\n",
      "\u001b[1;31mNameError\u001b[0m: name 'num_updates' is not defined"
     ]
    }
   ],
   "source": [
    "if not struct_deltas.empty:\n",
    "    ## WRITE TO GEOJSON\n",
    "    today = datetime.now().strftime('%Y%m%d')\n",
    "    snapshot = r'C:\\\\Projects\\\\AgencyDataModel\\\\Develop\\\\Structures\\\\delta_snapshots/' + today\n",
    "    if os.path.exists(snapshot):\n",
    "        struct_deltas.to_file(snapshot + '/deltas.geojson',\n",
    "                              encoding='utf-8',\n",
    "                              driver='GeoJSON')\n",
    "    else:\n",
    "        os.makedirs(snapshot)\n",
    "        struct_deltas.to_file(snapshot + '/deltas.geojson',\n",
    "                              encoding='utf-8',\n",
    "                              driver='GeoJSON')\n",
    "\n",
    "    ## READ GEOJSON FILE TO (GEO)JSON OBJECT\n",
    "    with open(snapshot + '/deltas.geojson') as data:\n",
    "        geojson_deltas = json.load(data)\n",
    "\n",
    "    ## CREATE ARCGIS FEATURESET FROM GEOJSON OBJECT\n",
    "    fromJSON_deltas = FeatureSet.from_geojson(geojson_deltas)\n",
    "\n",
    "    ## CONNECT TO PUBLISHED DATASET VIA GIS OBJECT\n",
    "    gis = GIS(url=portal)\n",
    "\n",
    "    ## CONNECT TO FEATURE LAYER DIRECTLY AND QUERY\n",
    "    strct_lyr_url = structures_url\n",
    "\n",
    "    lyr_structures = FeatureLayer(strct_lyr_url)\n",
    "    structures_features = lyr_structures.query()\n",
    "\n",
    "    ## MAKE EDITS\n",
    "    try:\n",
    "        update_result = lyr_structures.edit_features(\n",
    "            updates=fromJSON_deltas.features)\n",
    "    except:\n",
    "        error_mssg = 'Updates were not pushed successfully to Structures. Please see Notebook output/logs for further details.'\n",
    "        send_email('mycontacts.txt',\n",
    "                   'fail_update_mssg.txt',\n",
    "                   subject='structures push: FAILED!',\n",
    "                   e=error_mssg)\n",
    "    else:\n",
    "        num_updates = len(fromJSON_deltas.features)\n",
    "        success_mssg = 'There were ' + str(num_updates) + ' updates pushed to Production.'\n",
    "        send_email('mycontacts.txt',\n",
    "                   'success_structures_mssg.txt',\n",
    "                   subject='structures push: SUCCESS!',\n",
    "                   e=success_mssg)\n",
    "else:\n",
    "    mssg = 'There were no updates to push to the Structure layer.'\n",
    "    send_email('mycontacts.txt','fail_update_mssg.txt', subject = 'structures: NO UPDATES to push', e=mssg)"
   ]
  }
 ],
 "metadata": {
  "kernelspec": {
   "display_name": "Python 3",
   "language": "python",
   "name": "python3"
  },
  "language_info": {
   "codemirror_mode": {
    "name": "ipython",
    "version": 3
   },
   "file_extension": ".py",
   "mimetype": "text/x-python",
   "name": "python",
   "nbconvert_exporter": "python",
   "pygments_lexer": "ipython3",
   "version": "3.7.3"
  },
  "papermill": {
   "duration": 312.985085,
   "end_time": "2020-01-31T17:20:13.453301",
   "environment_variables": {},
   "exception": null,
   "input_path": "weekly2\\final_2_step.ipynb",
   "output_path": "weekly2\\snapshots\\final_2_step\\2020-01-31 12.15.00.343184\\final_2_step.ipynb",
   "parameters": {
    "snapshotDir": "weekly2\\snapshots\\final_2_step\\2020-01-31 12.15.00.343184\\"
   },
   "start_time": "2020-01-31T17:15:00.468216",
   "version": "1.0.1"
  },
  "toc": {
   "base_numbering": 1,
   "nav_menu": {},
   "number_sections": false,
   "sideBar": true,
   "skip_h1_title": false,
   "title_cell": "Table of Contents",
   "title_sidebar": "Contents",
   "toc_cell": false,
   "toc_position": {
    "height": "calc(100% - 180px)",
    "left": "10px",
    "top": "150px",
    "width": "316px"
   },
   "toc_section_display": true,
   "toc_window_display": true
  },
  "varInspector": {
   "cols": {
    "lenName": 16,
    "lenType": 16,
    "lenVar": 40
   },
   "kernels_config": {
    "python": {
     "delete_cmd_postfix": "",
     "delete_cmd_prefix": "del ",
     "library": "var_list.py",
     "varRefreshCmd": "print(var_dic_list())"
    },
    "r": {
     "delete_cmd_postfix": ") ",
     "delete_cmd_prefix": "rm(",
     "library": "var_list.r",
     "varRefreshCmd": "cat(var_dic_list()) "
    }
   },
   "types_to_exclude": [
    "module",
    "function",
    "builtin_function_or_method",
    "instance",
    "_Feature"
   ],
   "window_display": false
  }
 },
 "nbformat": 4,
 "nbformat_minor": 2
}
