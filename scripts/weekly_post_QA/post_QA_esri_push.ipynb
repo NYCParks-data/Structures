{
 "cells": [
  {
   "cell_type": "markdown",
   "metadata": {
    "papermill": {
     "duration": 0.062528,
     "end_time": "2020-01-31T17:15:03.390105",
     "exception": false,
     "start_time": "2020-01-31T17:15:03.327577",
     "status": "completed"
    },
    "tags": []
   },
   "source": [
    "# Introduction\n",
    "\n",
    "julie.tsitron@parks.nyc.gov 1/8/2020\n",
    "\n",
    "This notebook is for testing various ArcGIS API for Python functions that allow for pushing/updating GIS data to production servers. Ultimately, the script from this notebook can be used as a template for the technical implementation (i.e., pushing clean data into production ESRI-based geodatabases) of Structures, Sites and Units, CPAs, and other Agency Data Model data products."
   ]
  },
  {
   "cell_type": "markdown",
   "metadata": {
    "papermill": {
     "duration": 0.078129,
     "end_time": "2020-01-31T17:15:03.546321",
     "exception": false,
     "start_time": "2020-01-31T17:15:03.468192",
     "status": "completed"
    },
    "tags": []
   },
   "source": [
    "# Imports and Connections to DBs"
   ]
  },
  {
   "cell_type": "code",
   "execution_count": 1,
   "metadata": {
    "papermill": {
     "duration": 2.859371,
     "end_time": "2020-01-31T17:15:09.436953",
     "exception": false,
     "start_time": "2020-01-31T17:15:06.577582",
     "status": "completed"
    },
    "tags": []
   },
   "outputs": [],
   "source": [
    "# import urllib3\n",
    "# from urllib.parse import quote\n",
    "# from urllib.parse import quote_plus\n",
    "\n",
    "import numpy as np\n",
    "import json\n",
    "import sqlalchemy\n",
    "import os\n",
    "import shapely\n",
    "import pytz\n",
    "from datetime import datetime\n",
    "import pandas as pd\n",
    "import pyodbc\n",
    "import sys\n",
    "sys.path.append('../') \n",
    "from IPM_Shared_Code_public.Python.geo_functions import read_geosql\n",
    "from IPM_Shared_Code_public.Python.utils import get_config\n",
    "from IPM_Shared_Code_public.Python.email_functions import get_contacts, read_template, send_email\n",
    "\n",
    "from arcgis.gis import GIS\n",
    "from arcgis.features import GeoAccessor, GeoSeriesAccessor, SpatialDataFrame, FeatureLayer, FeatureSet"
   ]
  },
  {
   "cell_type": "code",
   "execution_count": 2,
   "metadata": {
    "papermill": {
     "duration": 0.093739,
     "end_time": "2020-01-31T17:15:09.608807",
     "exception": false,
     "start_time": "2020-01-31T17:15:09.515068",
     "status": "completed"
    },
    "tags": []
   },
   "outputs": [],
   "source": [
    "config = get_config('c:\\Projects\\config.ini')\n",
    "\n",
    "driver = config['srv']['driver']\n",
    "server = config['srv']['server']\n",
    "parksgis = config['srv']['parksgis']\n",
    "data_parks_server = config['srv']['data_parks']\n",
    "structuresdb = config['db']['structuresdb']\n",
    "portal = config['url']['portal']\n",
    "structures_url = config['url']['structures']"
   ]
  },
  {
   "cell_type": "code",
   "execution_count": 3,
   "metadata": {
    "papermill": {
     "duration": 0.265578,
     "end_time": "2020-01-31T17:15:09.952585",
     "exception": false,
     "start_time": "2020-01-31T17:15:09.687007",
     "status": "completed"
    },
    "tags": []
   },
   "outputs": [],
   "source": [
    "con = pyodbc.connect('Driver={' + driver + '};Server=' + server +\n",
    "                     ';Database=' + structuresdb + ';Trusted_Connection=Yes;')\n",
    "con_gis = pyodbc.connect('Driver={SQL Server};Server=' + parksgis +\n",
    "                         ';Database=;Trusted_Connection=Yes;')"
   ]
  },
  {
   "cell_type": "code",
   "execution_count": 4,
   "metadata": {
    "papermill": {
     "duration": 0.249983,
     "end_time": "2020-01-31T17:15:10.280709",
     "exception": false,
     "start_time": "2020-01-31T17:15:10.030726",
     "status": "completed"
    },
    "tags": []
   },
   "outputs": [],
   "source": [
    "crsr = con.cursor()\n",
    "crsr.execute(\"{CALL structuresdb.dbo.sp_i_tbl_overlap_exceptions}\")\n",
    "crsr.commit()\n",
    "crsr.close()"
   ]
  },
  {
   "cell_type": "code",
   "execution_count": 5,
   "metadata": {},
   "outputs": [],
   "source": [
    "crsr = con.cursor()\n",
    "crsr.execute(\"{CALL structuresdb.dbo.sp_i_tbl_audit_structures}\")\n",
    "crsr.commit()\n",
    "crsr.close()"
   ]
  },
  {
   "cell_type": "code",
   "execution_count": 6,
   "metadata": {},
   "outputs": [],
   "source": [
    "crsr = con.cursor()\n",
    "sql_stmt = '''\n",
    "exec [structuresdb].[dbo].[sp_i_tbl_delta_structures_archive] \n",
    "'''\n",
    "crsr.execute(\"{CALL [structuresdb].[dbo].[sp_i_tbl_delta_structures_archive] }\")\n",
    "crsr.commit()\n",
    "crsr.close()"
   ]
  },
  {
   "cell_type": "code",
   "execution_count": 7,
   "metadata": {
    "papermill": {
     "duration": 0.156241,
     "end_time": "2020-01-31T17:15:10.546343",
     "exception": false,
     "start_time": "2020-01-31T17:15:10.390102",
     "status": "completed"
    },
    "tags": []
   },
   "outputs": [],
   "source": [
    "# params = urllib.parse.quote_plus(r'Driver=' + driver + ';Server=' + server +\n",
    "#                                  ';Database=' + structuresdb +\n",
    "#                                  ';Trusted_Connection=Yes;')\n",
    "# engine = sqlalchemy.create_engine(\"mssql+pyodbc:///?odbc_connect=%s\" % params)\n",
    "# connection = engine.connect()"
   ]
  },
  {
   "cell_type": "markdown",
   "metadata": {
    "papermill": {
     "duration": 0.062521,
     "end_time": "2020-01-31T17:15:13.046363",
     "exception": false,
     "start_time": "2020-01-31T17:15:12.983842",
     "status": "completed"
    },
    "tags": []
   },
   "source": [
    "# Delta Table from structuresdb"
   ]
  },
  {
   "cell_type": "code",
   "execution_count": 8,
   "metadata": {},
   "outputs": [],
   "source": [
    "sql_structures = '''\n",
    "select * from [ParksGIS].[DPR].[STRUCTURE_EVW] \n",
    "'''\n",
    "structures_latest = read_geosql(sql_structures,\n",
    "                                con_gis,\n",
    "                                geom_raw='SHAPE',\n",
    "                                geom_col='geometry')"
   ]
  },
  {
   "cell_type": "code",
   "execution_count": 9,
   "metadata": {},
   "outputs": [],
   "source": [
    "def make_tz_aware_UTC(row, column):\n",
    "    return pd.to_datetime(row[column]).tz_localize('UTC').astimezone(pytz.UTC)"
   ]
  },
  {
   "cell_type": "code",
   "execution_count": 10,
   "metadata": {},
   "outputs": [],
   "source": [
    "def make_tz_aware_EST(row, column):\n",
    "    return pd.to_datetime(row[column]).tz_localize('EST').astimezone(pytz.UTC)"
   ]
  },
  {
   "cell_type": "code",
   "execution_count": 11,
   "metadata": {},
   "outputs": [],
   "source": [
    "structures_latest['last_edited_date'] = structures_latest.apply(\n",
    "    lambda row: make_tz_aware_UTC(row, 'last_edited_date'), axis=1)"
   ]
  },
  {
   "cell_type": "code",
   "execution_count": 12,
   "metadata": {
    "papermill": {
     "duration": 0.31251,
     "end_time": "2020-01-31T17:15:13.436978",
     "exception": false,
     "start_time": "2020-01-31T17:15:13.124468",
     "status": "completed"
    },
    "scrolled": true,
    "tags": []
   },
   "outputs": [],
   "source": [
    "sql_str_deltas = '''\n",
    "select * FROM [structuresdb].[dbo].[tbl_delta_structures] \n",
    "'''\n",
    "struct_deltas = read_geosql(sql_str_deltas,\n",
    "                            con,\n",
    "                            geom_raw='shape',\n",
    "                            geom_col='geometry')"
   ]
  },
  {
   "cell_type": "code",
   "execution_count": 13,
   "metadata": {
    "papermill": {
     "duration": 0.078108,
     "end_time": "2020-01-31T17:15:13.577581",
     "exception": false,
     "start_time": "2020-01-31T17:15:13.499473",
     "status": "completed"
    },
    "tags": []
   },
   "outputs": [],
   "source": [
    "struct_deltas.rename(columns={\n",
    "    'objectid': 'OBJECTID',\n",
    "    'parks_id': 'SYSTEM',\n",
    "    'bin': 'BIN',\n",
    "    'bbl': 'BBL',\n",
    "    'doitt_id': 'DOITT_ID',\n",
    "    'ground_elevation': 'Ground_Elevation',\n",
    "    'height_roof': 'Height_Roof',\n",
    "    'alteration_year': 'Alteration_Year',\n",
    "    'construction_year': 'Construction_Year',\n",
    "    'demolition_year': 'Demolition_Year'\n",
    "},\n",
    "                     inplace=True)"
   ]
  },
  {
   "cell_type": "code",
   "execution_count": 14,
   "metadata": {},
   "outputs": [
    {
     "data": {
      "text/html": [
       "<div>\n",
       "<style scoped>\n",
       "    .dataframe tbody tr th:only-of-type {\n",
       "        vertical-align: middle;\n",
       "    }\n",
       "\n",
       "    .dataframe tbody tr th {\n",
       "        vertical-align: top;\n",
       "    }\n",
       "\n",
       "    .dataframe thead th {\n",
       "        text-align: right;\n",
       "    }\n",
       "</style>\n",
       "<table border=\"1\" class=\"dataframe\">\n",
       "  <thead>\n",
       "    <tr style=\"text-align: right;\">\n",
       "      <th></th>\n",
       "      <th>fid</th>\n",
       "      <th>OBJECTID</th>\n",
       "      <th>SYSTEM</th>\n",
       "      <th>BIN</th>\n",
       "      <th>BBL</th>\n",
       "      <th>DOITT_ID</th>\n",
       "      <th>Ground_Elevation</th>\n",
       "      <th>Height_Roof</th>\n",
       "      <th>Construction_Year</th>\n",
       "      <th>Alteration_Year</th>\n",
       "      <th>Demolition_Year</th>\n",
       "      <th>api_call</th>\n",
       "      <th>doitt_source</th>\n",
       "      <th>date_stamp</th>\n",
       "      <th>geometry</th>\n",
       "    </tr>\n",
       "  </thead>\n",
       "  <tbody>\n",
       "  </tbody>\n",
       "</table>\n",
       "</div>"
      ],
      "text/plain": [
       "Empty GeoDataFrame\n",
       "Columns: [fid, OBJECTID, SYSTEM, BIN, BBL, DOITT_ID, Ground_Elevation, Height_Roof, Construction_Year, Alteration_Year, Demolition_Year, api_call, doitt_source, date_stamp, geometry]\n",
       "Index: []"
      ]
     },
     "execution_count": 14,
     "metadata": {},
     "output_type": "execute_result"
    }
   ],
   "source": [
    "struct_deltas.head()"
   ]
  },
  {
   "cell_type": "code",
   "execution_count": 15,
   "metadata": {
    "scrolled": true
   },
   "outputs": [],
   "source": [
    "if not struct_deltas.empty:\n",
    "    struct_deltas['date_stamp'] = struct_deltas.apply(\n",
    "        lambda row: make_tz_aware_UTC(row, 'date_stamp'), axis=1)"
   ]
  },
  {
   "cell_type": "code",
   "execution_count": 16,
   "metadata": {},
   "outputs": [
    {
     "data": {
      "text/plain": [
       "Timestamp('2020-10-04 11:00:52+0000', tz='UTC')"
      ]
     },
     "execution_count": 16,
     "metadata": {},
     "output_type": "execute_result"
    }
   ],
   "source": [
    "last_push_api = structures_latest[\n",
    "    (structures_latest['last_edited_user'] == 'NYCDPR\\py_services')\n",
    "    & (structures_latest['last_edited_date'] == structures_latest[\n",
    "        (structures_latest['last_edited_user'] == 'NYCDPR\\py_services'\n",
    "         )]['last_edited_date'].max())].reset_index()['last_edited_date'].loc[0]\n",
    "last_push_api"
   ]
  },
  {
   "cell_type": "code",
   "execution_count": 17,
   "metadata": {},
   "outputs": [
    {
     "data": {
      "text/html": [
       "<div>\n",
       "<style scoped>\n",
       "    .dataframe tbody tr th:only-of-type {\n",
       "        vertical-align: middle;\n",
       "    }\n",
       "\n",
       "    .dataframe tbody tr th {\n",
       "        vertical-align: top;\n",
       "    }\n",
       "\n",
       "    .dataframe thead th {\n",
       "        text-align: right;\n",
       "    }\n",
       "</style>\n",
       "<table border=\"1\" class=\"dataframe\">\n",
       "  <thead>\n",
       "    <tr style=\"text-align: right;\">\n",
       "      <th></th>\n",
       "      <th>fid</th>\n",
       "      <th>OBJECTID</th>\n",
       "      <th>SYSTEM</th>\n",
       "      <th>BIN</th>\n",
       "      <th>BBL</th>\n",
       "      <th>DOITT_ID</th>\n",
       "      <th>Ground_Elevation</th>\n",
       "      <th>Height_Roof</th>\n",
       "      <th>Construction_Year</th>\n",
       "      <th>Alteration_Year</th>\n",
       "      <th>Demolition_Year</th>\n",
       "      <th>api_call</th>\n",
       "      <th>doitt_source</th>\n",
       "      <th>date_stamp</th>\n",
       "      <th>geometry</th>\n",
       "    </tr>\n",
       "  </thead>\n",
       "  <tbody>\n",
       "  </tbody>\n",
       "</table>\n",
       "</div>"
      ],
      "text/plain": [
       "Empty GeoDataFrame\n",
       "Columns: [fid, OBJECTID, SYSTEM, BIN, BBL, DOITT_ID, Ground_Elevation, Height_Roof, Construction_Year, Alteration_Year, Demolition_Year, api_call, doitt_source, date_stamp, geometry]\n",
       "Index: []"
      ]
     },
     "execution_count": 17,
     "metadata": {},
     "output_type": "execute_result"
    }
   ],
   "source": [
    "struct_deltas[struct_deltas['date_stamp']>last_push_api]"
   ]
  },
  {
   "cell_type": "code",
   "execution_count": 18,
   "metadata": {},
   "outputs": [],
   "source": [
    "struct_deltas = struct_deltas[struct_deltas['date_stamp']>last_push_api]"
   ]
  },
  {
   "cell_type": "code",
   "execution_count": 19,
   "metadata": {
    "papermill": {
     "duration": 0.140668,
     "end_time": "2020-01-31T17:15:13.780765",
     "exception": false,
     "start_time": "2020-01-31T17:15:13.640097",
     "status": "completed"
    },
    "tags": []
   },
   "outputs": [
    {
     "data": {
      "text/html": [
       "<div>\n",
       "<style scoped>\n",
       "    .dataframe tbody tr th:only-of-type {\n",
       "        vertical-align: middle;\n",
       "    }\n",
       "\n",
       "    .dataframe tbody tr th {\n",
       "        vertical-align: top;\n",
       "    }\n",
       "\n",
       "    .dataframe thead th {\n",
       "        text-align: right;\n",
       "    }\n",
       "</style>\n",
       "<table border=\"1\" class=\"dataframe\">\n",
       "  <thead>\n",
       "    <tr style=\"text-align: right;\">\n",
       "      <th></th>\n",
       "      <th>fid</th>\n",
       "      <th>OBJECTID</th>\n",
       "      <th>SYSTEM</th>\n",
       "      <th>BIN</th>\n",
       "      <th>BBL</th>\n",
       "      <th>DOITT_ID</th>\n",
       "      <th>Ground_Elevation</th>\n",
       "      <th>Height_Roof</th>\n",
       "      <th>Construction_Year</th>\n",
       "      <th>Alteration_Year</th>\n",
       "      <th>Demolition_Year</th>\n",
       "      <th>api_call</th>\n",
       "      <th>doitt_source</th>\n",
       "      <th>date_stamp</th>\n",
       "      <th>geometry</th>\n",
       "    </tr>\n",
       "  </thead>\n",
       "  <tbody>\n",
       "  </tbody>\n",
       "</table>\n",
       "</div>"
      ],
      "text/plain": [
       "Empty GeoDataFrame\n",
       "Columns: [fid, OBJECTID, SYSTEM, BIN, BBL, DOITT_ID, Ground_Elevation, Height_Roof, Construction_Year, Alteration_Year, Demolition_Year, api_call, doitt_source, date_stamp, geometry]\n",
       "Index: []"
      ]
     },
     "execution_count": 19,
     "metadata": {},
     "output_type": "execute_result"
    }
   ],
   "source": [
    "struct_deltas.head()"
   ]
  },
  {
   "cell_type": "code",
   "execution_count": 20,
   "metadata": {
    "papermill": {
     "duration": 0.093739,
     "end_time": "2020-01-31T17:15:13.936955",
     "exception": false,
     "start_time": "2020-01-31T17:15:13.843216",
     "status": "completed"
    },
    "tags": []
   },
   "outputs": [],
   "source": [
    "# def to_wkt(row):\n",
    "#     return row.wkt"
   ]
  },
  {
   "cell_type": "markdown",
   "metadata": {
    "papermill": {
     "duration": 0.125016,
     "end_time": "2020-01-31T17:15:14.733865",
     "exception": false,
     "start_time": "2020-01-31T17:15:14.608849",
     "status": "completed"
    },
    "tags": []
   },
   "source": [
    "# Write delta table to geojson file, create FeatureSet, connect to service, push edits, if any. \n",
    "# Otherwise, just connect to Structures feature layer and query:"
   ]
  },
  {
   "cell_type": "code",
   "execution_count": 21,
   "metadata": {
    "papermill": {
     "duration": 1.687505,
     "end_time": "2020-01-31T17:15:16.499477",
     "exception": false,
     "start_time": "2020-01-31T17:15:14.811972",
     "status": "completed"
    },
    "tags": []
   },
   "outputs": [
    {
     "name": "stdout",
     "output_type": "stream",
     "text": [
      "Dear Julie, \n",
      "\n",
      "There were no updates to push to the Structure layer.\n",
      "\n",
      "Thanks,\n",
      "Data team at IPM\n",
      "\n"
     ]
    }
   ],
   "source": [
    "if not struct_deltas.empty:\n",
    "    ## WRITE TO GEOJSON\n",
    "    today = datetime.now().strftime('%Y%m%d')\n",
    "    snapshot = r'C:\\\\Projects\\\\AgencyDataModel\\\\Develop\\\\Structures\\\\delta_snapshots/' + today\n",
    "    if os.path.exists(snapshot):\n",
    "        struct_deltas.to_file(snapshot + '/deltas.geojson',\n",
    "                              encoding='utf-8',\n",
    "                              driver='GeoJSON')\n",
    "    else:\n",
    "        os.makedirs(snapshot)\n",
    "        struct_deltas.to_file(snapshot + '/deltas.geojson',\n",
    "                              encoding='utf-8',\n",
    "                              driver='GeoJSON')\n",
    "\n",
    "    ## READ GEOJSON FILE TO (GEO)JSON OBJECT\n",
    "    with open(snapshot + '/deltas.geojson') as data:\n",
    "        geojson_deltas = json.load(data)\n",
    "\n",
    "    ## CREATE ARCGIS FEATURESET FROM GEOJSON OBJECT\n",
    "    fromJSON_deltas = FeatureSet.from_geojson(geojson_deltas)\n",
    "    \n",
    "    #Set the WKT projection for each feature in the feature set\n",
    "    for f in range(0, len(fromJSON_deltas)):\n",
    "        fromJSON_deltas.features[f].geometry.update({'spatialReference': {'wkid': 2263}})\n",
    "        \n",
    "    #Set the WKT projection for the whole feature set\n",
    "    fromJSON_deltas.spatial_reference = {'wkid': 2263}\n",
    "\n",
    "    ## CONNECT TO PUBLISHED DATASET VIA GIS OBJECT\n",
    "    gis = GIS(url=portal, verify_cert = False)\n",
    "\n",
    "    ## CONNECT TO FEATURE LAYER DIRECTLY AND QUERY\n",
    "    strct_lyr_url = structures_url\n",
    "\n",
    "    lyr_structures = FeatureLayer(strct_lyr_url)\n",
    "    structures_features = lyr_structures.query()\n",
    "\n",
    "    ## MAKE EDITS\n",
    "    try:\n",
    "        update_result = lyr_structures.edit_features(\n",
    "            updates=fromJSON_deltas.features)\n",
    "    except:\n",
    "        error_mssg = 'Updates were not pushed successfully to Structures. Please see Notebook output/logs for further details.'\n",
    "        send_email('mycontacts.txt',\n",
    "                   'fail_update_mssg.txt',\n",
    "                   subject='structures push: FAILED!',\n",
    "                   e=error_mssg)\n",
    "    else:\n",
    "        num_updates = len(fromJSON_deltas.features)\n",
    "        success_mssg = 'There were ' + str(num_updates) + ' updates pushed to Production.'\n",
    "        send_email('mycontacts.txt',\n",
    "                   'success_structures_mssg.txt',\n",
    "                   subject='structures push: SUCCESS!',\n",
    "                   e=success_mssg)\n",
    "else:\n",
    "    mssg = 'There were no updates to push to the Structure layer.'\n",
    "    send_email('mycontacts.txt','fail_update_mssg.txt', subject = 'structures: NO UPDATES to push', e=mssg)"
   ]
  }
 ],
 "metadata": {
  "kernelspec": {
   "display_name": "Python 3",
   "language": "python",
   "name": "python3"
  },
  "language_info": {
   "codemirror_mode": {
    "name": "ipython",
    "version": 3
   },
   "file_extension": ".py",
   "mimetype": "text/x-python",
   "name": "python",
   "nbconvert_exporter": "python",
   "pygments_lexer": "ipython3",
   "version": "3.8.6"
  },
  "papermill": {
   "duration": 312.985085,
   "end_time": "2020-01-31T17:20:13.453301",
   "environment_variables": {},
   "exception": null,
   "input_path": "weekly2\\final_2_step.ipynb",
   "output_path": "weekly2\\snapshots\\final_2_step\\2020-01-31 12.15.00.343184\\final_2_step.ipynb",
   "parameters": {
    "snapshotDir": "weekly2\\snapshots\\final_2_step\\2020-01-31 12.15.00.343184\\"
   },
   "start_time": "2020-01-31T17:15:00.468216",
   "version": "1.0.1"
  },
  "toc": {
   "base_numbering": 1,
   "nav_menu": {},
   "number_sections": false,
   "sideBar": true,
   "skip_h1_title": false,
   "title_cell": "Table of Contents",
   "title_sidebar": "Contents",
   "toc_cell": false,
   "toc_position": {
    "height": "calc(100% - 180px)",
    "left": "10px",
    "top": "150px",
    "width": "316px"
   },
   "toc_section_display": true,
   "toc_window_display": true
  },
  "varInspector": {
   "cols": {
    "lenName": 16,
    "lenType": 16,
    "lenVar": 40
   },
   "kernels_config": {
    "python": {
     "delete_cmd_postfix": "",
     "delete_cmd_prefix": "del ",
     "library": "var_list.py",
     "varRefreshCmd": "print(var_dic_list())"
    },
    "r": {
     "delete_cmd_postfix": ") ",
     "delete_cmd_prefix": "rm(",
     "library": "var_list.r",
     "varRefreshCmd": "cat(var_dic_list()) "
    }
   },
   "types_to_exclude": [
    "module",
    "function",
    "builtin_function_or_method",
    "instance",
    "_Feature"
   ],
   "window_display": false
  }
 },
 "nbformat": 4,
 "nbformat_minor": 2
}
