{
 "cells": [
  {
   "cell_type": "code",
   "execution_count": 1,
   "metadata": {},
   "outputs": [],
   "source": [
    "import pandas as pd\n",
    "import numpy as np\n",
    "import pyodbc\n",
    "import sys\n",
    "import json\n",
    "import urllib\n",
    "import sqlalchemy\n",
    "import os\n",
    "import shapely\n",
    "from datetime import datetime\n",
    "\n",
    "sys.path.append('../')\n",
    "#from IPM_Shared_Code_public.Python.geo_functions import read_geosql\n",
    "from IPM_Shared_Code_public.Python.utils import get_config\n",
    "from IPM_Shared_Code_public.Python.email_functions import get_contacts, read_template, send_email\n",
    "from geosupport import *\n",
    "from get_address_points import *"
   ]
  },
  {
   "cell_type": "code",
   "execution_count": 2,
   "metadata": {},
   "outputs": [],
   "source": [
    "config = get_config('c:\\Projects\\config.ini')\n",
    "\n",
    "driver = config['srv']['driver']\n",
    "server = config['srv']['server']\n",
    "parksgis = config['srv']['parksgis']\n",
    "data_parks_server = config['srv']['data_parks']\n",
    "structuresdb = config['db']['structuresdb']\n",
    "portal = config['url']['portal']\n",
    "structures_url = config['url']['structures']\n",
    "geosupport_url = config['url']['geosupport']"
   ]
  },
  {
   "cell_type": "code",
   "execution_count": 3,
   "metadata": {},
   "outputs": [],
   "source": [
    "geo_key = config['keys']['geosupport_key']\n",
    "geo_ip = config['keys']['geosupport_ip']"
   ]
  },
  {
   "cell_type": "code",
   "execution_count": 4,
   "metadata": {},
   "outputs": [],
   "source": [
    "params = urllib.parse.quote_plus(r'Driver=' + driver + ';Server=' + server +\n",
    "                                 ';Database=' + structuresdb +\n",
    "                                 ';Trusted_Connection=Yes;')\n",
    "engine = sqlalchemy.create_engine(\"mssql+pyodbc:///?odbc_connect=%s\" % params)\n",
    "connection = engine.connect()"
   ]
  },
  {
   "cell_type": "code",
   "execution_count": 5,
   "metadata": {},
   "outputs": [],
   "source": [
    "sql = 'select top 5 bin from structuresdb.dbo.tbl_parks_structures'"
   ]
  },
  {
   "cell_type": "code",
   "execution_count": 6,
   "metadata": {},
   "outputs": [],
   "source": [
    "b = pd.read_sql(con=engine, sql=sql)"
   ]
  },
  {
   "cell_type": "code",
   "execution_count": 7,
   "metadata": {},
   "outputs": [],
   "source": [
    "bins = list(b[b['bin'].notnull()]['bin'])"
   ]
  },
  {
   "cell_type": "code",
   "execution_count": 8,
   "metadata": {},
   "outputs": [],
   "source": [
    "aps = get_address_point(bins, geom_col = 'the_geom')[0]"
   ]
  },
  {
   "cell_type": "code",
   "execution_count": 9,
   "metadata": {},
   "outputs": [
    {
     "data": {
      "text/html": [
       "<div>\n",
       "<style scoped>\n",
       "    .dataframe tbody tr th:only-of-type {\n",
       "        vertical-align: middle;\n",
       "    }\n",
       "\n",
       "    .dataframe tbody tr th {\n",
       "        vertical-align: top;\n",
       "    }\n",
       "\n",
       "    .dataframe thead th {\n",
       "        text-align: right;\n",
       "    }\n",
       "</style>\n",
       "<table border=\"1\" class=\"dataframe\">\n",
       "  <thead>\n",
       "    <tr style=\"text-align: right;\">\n",
       "      <th></th>\n",
       "      <th>the_geom</th>\n",
       "      <th>bin</th>\n",
       "      <th>h_no</th>\n",
       "      <th>address_id</th>\n",
       "      <th>hyphen_typ</th>\n",
       "      <th>side_of_st</th>\n",
       "      <th>borocode</th>\n",
       "      <th>zipcode</th>\n",
       "      <th>created</th>\n",
       "      <th>st_name</th>\n",
       "      <th>physicalid</th>\n",
       "      <th>post_type</th>\n",
       "      <th>full_stree</th>\n",
       "      <th>modified</th>\n",
       "    </tr>\n",
       "  </thead>\n",
       "  <tbody>\n",
       "    <tr>\n",
       "      <th>0</th>\n",
       "      <td>POINT (995998.149 204776.450)</td>\n",
       "      <td>3400033</td>\n",
       "      <td>81</td>\n",
       "      <td>5168623</td>\n",
       "      <td>N</td>\n",
       "      <td>1</td>\n",
       "      <td>3</td>\n",
       "      <td>11222</td>\n",
       "      <td>2015-12-15T00:00:00.000Z</td>\n",
       "      <td>FRANKLIN</td>\n",
       "      <td>64739</td>\n",
       "      <td>ST</td>\n",
       "      <td>FRANKLIN ST</td>\n",
       "      <td>NaN</td>\n",
       "    </tr>\n",
       "    <tr>\n",
       "      <th>1</th>\n",
       "      <td>POINT (984261.245 157105.052)</td>\n",
       "      <td>3170079</td>\n",
       "      <td>2134</td>\n",
       "      <td>3217153</td>\n",
       "      <td>N</td>\n",
       "      <td>2</td>\n",
       "      <td>3</td>\n",
       "      <td>11214</td>\n",
       "      <td>2009-02-13T00:00:00.000Z</td>\n",
       "      <td>CROPSEY</td>\n",
       "      <td>42457</td>\n",
       "      <td>AVE</td>\n",
       "      <td>CROPSEY AVE</td>\n",
       "      <td>NaN</td>\n",
       "    </tr>\n",
       "    <tr>\n",
       "      <th>2</th>\n",
       "      <td>POINT (983853.114 156079.787)</td>\n",
       "      <td>3340691</td>\n",
       "      <td>9000</td>\n",
       "      <td>3217154</td>\n",
       "      <td>N</td>\n",
       "      <td>2</td>\n",
       "      <td>3</td>\n",
       "      <td>11214</td>\n",
       "      <td>2009-02-13T00:00:00.000Z</td>\n",
       "      <td>BAY</td>\n",
       "      <td>51350</td>\n",
       "      <td>PKWY</td>\n",
       "      <td>BAY PKWY</td>\n",
       "      <td>2018-07-26T00:00:00.000Z</td>\n",
       "    </tr>\n",
       "  </tbody>\n",
       "</table>\n",
       "</div>"
      ],
      "text/plain": [
       "                        the_geom      bin  h_no address_id hyphen_typ  \\\n",
       "0  POINT (995998.149 204776.450)  3400033    81    5168623          N   \n",
       "1  POINT (984261.245 157105.052)  3170079  2134    3217153          N   \n",
       "2  POINT (983853.114 156079.787)  3340691  9000    3217154          N   \n",
       "\n",
       "  side_of_st borocode zipcode                   created   st_name physicalid  \\\n",
       "0          1        3   11222  2015-12-15T00:00:00.000Z  FRANKLIN      64739   \n",
       "1          2        3   11214  2009-02-13T00:00:00.000Z   CROPSEY      42457   \n",
       "2          2        3   11214  2009-02-13T00:00:00.000Z       BAY      51350   \n",
       "\n",
       "  post_type   full_stree                  modified  \n",
       "0        ST  FRANKLIN ST                       NaN  \n",
       "1       AVE  CROPSEY AVE                       NaN  \n",
       "2      PKWY     BAY PKWY  2018-07-26T00:00:00.000Z  "
      ]
     },
     "execution_count": 9,
     "metadata": {},
     "output_type": "execute_result"
    }
   ],
   "source": [
    "aps"
   ]
  },
  {
   "cell_type": "code",
   "execution_count": 10,
   "metadata": {},
   "outputs": [],
   "source": [
    "grc_err = ['01/F', '20', '21', '22', '23']\n",
    "out_keys = [\n",
    "    'AddressRangeList', 'out_bbl', 'out_TPAD_bin', 'out_TPAD_bin_status',\n",
    "    'out_TPAD_conflict_flag', 'out_error_message', 'out_grc',\n",
    "    'out_sanborn_boro', 'in_bin', 'out_boro_name1']"
   ]
  },
  {
   "cell_type": "code",
   "execution_count": 11,
   "metadata": {},
   "outputs": [
    {
     "name": "stdout",
     "output_type": "stream",
     "text": [
      "https://geoservice.planning.nyc.gov/geoservice/geoservice.svc/Function_BIN?BIN=3340691.0&key=UPhZX5HAK72P4MDM\n",
      "response\n",
      "<urllib3.response.HTTPResponse object at 0x0000000009960288>\n",
      "raw_dict\n",
      "{'AddressRangeKeys': [{'Key': '', 'Value': 'Ordinary Address Range'}], 'AddressRangeList': [{'b7sc': '31733001', 'bin': '3340691', 'high_address_number': '            9000', 'low_address_number': '            8922', 'street_name': 'BAY PARKWAY                     ', 'tpad_bin_status': 'N/A', 'type': ' ', 'type_meaning': 'Ordinary Address Range'}], 'in_bin': '3340691', 'in_func_code': 'BN', 'out_TPAD_bin': 'N/A', 'out_TPAD_bin_status': 'N/A', 'out_TPAD_conflict_flag': 'N/A', 'out_bbl': '3064900024', 'out_bbl_block': '6490', 'out_bbl_boro': None, 'out_bbl_lot': '24', 'out_bid': '', 'out_bin': '3340691', 'out_bin_status': 'N/A', 'out_boro_name1': 'BROOKLYN ', 'out_condo_flag': 'Non-Condo', 'out_condo_num': 'N/A', 'out_coop_num': 'N/A', 'out_corner_code': 'CR', 'out_dcp_zoning_map': '28A', 'out_error_message': '                                                                                ', 'out_grc': '00', 'out_high_bbl_condo': 'N/A', 'out_interior_flag': 'Not Interior Lot', 'out_irreg_flag': 'Not Irregular Lot', 'out_lat_property': '40.595478', 'out_lon_property': '-74.002485 ', 'out_low_bbl_condo': 'N/A', 'out_num_of_bldgs': '3', 'out_num_of_blockfaces': '5', 'out_reason_code': ' ', 'out_rpad_bldg_class': 'Q1', 'out_rpad_scc': '7', 'out_sanborn_boro': '3', 'out_sanborn_page': '014 ', 'out_sanborn_volume': '12 ', 'out_stname1': None, 'out_tax_map': '3', 'out_tax_section': '19', 'out_tax_volume': '08', 'out_vacant_flag': 'Not Vacant', 'out_x_coord_property': '983560', 'out_y_coord_property': '0156225'}\n",
      "geo_dict\n",
      "{'AddressRangeList': [{'b7sc': '31733001', 'bin': '3340691', 'high_address_number': '            9000', 'low_address_number': '            8922', 'street_name': 'BAY PARKWAY                     ', 'tpad_bin_status': 'N/A', 'type': ' ', 'type_meaning': 'Ordinary Address Range'}], 'out_bbl': '3064900024', 'out_TPAD_bin': 'N/A', 'out_TPAD_bin_status': 'N/A', 'out_TPAD_conflict_flag': 'N/A', 'out_error_message': '                                                                                ', 'out_grc': '00', 'out_sanborn_boro': '3', 'in_bin': '3340691', 'out_boro_name1': 'BROOKLYN '}\n"
     ]
    }
   ],
   "source": [
    "bn = funcbn(bn = bins[2], out_keys = out_keys, grc_err = grc_err, api_key = geo_key, ip = geo_ip)"
   ]
  },
  {
   "cell_type": "code",
   "execution_count": 12,
   "metadata": {},
   "outputs": [
    {
     "data": {
      "text/plain": [
       "[{'b7sc': '31733001',\n",
       "  'bin': '3340691',\n",
       "  'high_address_number': '            9000',\n",
       "  'low_address_number': '            8922',\n",
       "  'street_name': 'BAY PARKWAY                     ',\n",
       "  'tpad_bin_status': 'N/A',\n",
       "  'type': ' ',\n",
       "  'type_meaning': 'Ordinary Address Range',\n",
       "  'out_bbl': '3064900024',\n",
       "  'out_TPAD_bin': 'N/A',\n",
       "  'out_TPAD_bin_status': 'N/A',\n",
       "  'out_TPAD_conflict_flag': 'N/A',\n",
       "  'out_error_message': '                                                                                ',\n",
       "  'out_grc': '00',\n",
       "  'out_sanborn_boro': '3',\n",
       "  'in_bin': '3340691',\n",
       "  'out_boro_name1': 'BROOKLYN '}]"
      ]
     },
     "execution_count": 12,
     "metadata": {},
     "output_type": "execute_result"
    }
   ],
   "source": [
    "bn"
   ]
  },
  {
   "cell_type": "code",
   "execution_count": 13,
   "metadata": {},
   "outputs": [],
   "source": [
    "a = aps.iloc[0][['borocode', 'full_stree']]"
   ]
  },
  {
   "cell_type": "code",
   "execution_count": 18,
   "metadata": {},
   "outputs": [
    {
     "data": {
      "text/plain": [
       "array([[<shapely.geometry.point.Point object at 0x0000000009960188>,\n",
       "        '3400033', '81', '5168623', 'N', '1', '3', '11222',\n",
       "        '2015-12-15T00:00:00.000Z', 'FRANKLIN', '64739', 'ST',\n",
       "        'FRANKLIN ST', nan],\n",
       "       [<shapely.geometry.point.Point object at 0x0000000009960248>,\n",
       "        '3170079', '2134', '3217153', 'N', '2', '3', '11214',\n",
       "        '2009-02-13T00:00:00.000Z', 'CROPSEY', '42457', 'AVE',\n",
       "        'CROPSEY AVE', nan],\n",
       "       [<shapely.geometry.point.Point object at 0x0000000009960308>,\n",
       "        '3340691', '9000', '3217154', 'N', '2', '3', '11214',\n",
       "        '2009-02-13T00:00:00.000Z', 'BAY', '51350', 'PKWY', 'BAY PKWY',\n",
       "        '2018-07-26T00:00:00.000Z']], dtype=object)"
      ]
     },
     "execution_count": 18,
     "metadata": {},
     "output_type": "execute_result"
    }
   ],
   "source": [
    "aps.values"
   ]
  },
  {
   "cell_type": "code",
   "execution_count": 14,
   "metadata": {},
   "outputs": [
    {
     "data": {
      "text/plain": [
       "{'out_boro_name1': 'BROOKLYN ',\n",
       " 'out_grc': '00',\n",
       " 'out_stname1': 'FRANKLIN STREET                 '}"
      ]
     },
     "execution_count": 14,
     "metadata": {},
     "output_type": "execute_result"
    }
   ],
   "source": [
    "func1n(borough = a['borocode'], streetname = a['full_stree'], api_key = geo_key, ip = geo_ip)"
   ]
  },
  {
   "cell_type": "code",
   "execution_count": null,
   "metadata": {},
   "outputs": [],
   "source": []
  }
 ],
 "metadata": {
  "kernelspec": {
   "display_name": "Python 3",
   "language": "python",
   "name": "python3"
  },
  "language_info": {
   "codemirror_mode": {
    "name": "ipython",
    "version": 3
   },
   "file_extension": ".py",
   "mimetype": "text/x-python",
   "name": "python",
   "nbconvert_exporter": "python",
   "pygments_lexer": "ipython3",
   "version": "3.7.4"
  }
 },
 "nbformat": 4,
 "nbformat_minor": 2
}
