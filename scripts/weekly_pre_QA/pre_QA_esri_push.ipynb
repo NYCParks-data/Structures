{
 "cells": [
  {
   "cell_type": "markdown",
   "metadata": {
    "papermill": {
     "duration": 0.062359,
     "end_time": "2022-01-10T15:00:40.767969",
     "exception": false,
     "start_time": "2022-01-10T15:00:40.705610",
     "status": "completed"
    },
    "tags": []
   },
   "source": [
    "# Imports and Connections to DBs"
   ]
  },
  {
   "cell_type": "code",
   "execution_count": null,
   "metadata": {
    "execution": {
     "iopub.execute_input": "2022-01-10T15:00:40.877342Z",
     "iopub.status.busy": "2022-01-10T15:00:40.877342Z",
     "iopub.status.idle": "2022-01-10T15:00:40.893062Z",
     "shell.execute_reply": "2022-01-10T15:00:40.893062Z"
    },
    "papermill": {
     "duration": 0.078126,
     "end_time": "2022-01-10T15:00:40.893062",
     "exception": false,
     "start_time": "2022-01-10T15:00:40.814936",
     "status": "completed"
    },
    "tags": []
   },
   "outputs": [],
   "source": [
    "pwd"
   ]
  },
  {
   "cell_type": "code",
   "execution_count": null,
   "metadata": {
    "execution": {
     "iopub.execute_input": "2022-01-10T15:00:40.986735Z",
     "iopub.status.busy": "2022-01-10T15:00:40.986735Z",
     "iopub.status.idle": "2022-01-10T15:00:41.096119Z",
     "shell.execute_reply": "2022-01-10T15:00:41.096119Z"
    },
    "papermill": {
     "duration": 0.156274,
     "end_time": "2022-01-10T15:00:41.096119",
     "exception": false,
     "start_time": "2022-01-10T15:00:40.939845",
     "status": "completed"
    },
    "tags": []
   },
   "outputs": [],
   "source": [
    "import pyproj"
   ]
  },
  {
   "cell_type": "code",
   "execution_count": null,
   "metadata": {
    "execution": {
     "iopub.execute_input": "2022-01-10T15:00:41.236744Z",
     "iopub.status.busy": "2022-01-10T15:00:41.236744Z",
     "iopub.status.idle": "2022-01-10T15:01:00.300011Z",
     "shell.execute_reply": "2022-01-10T15:01:00.300011Z"
    },
    "papermill": {
     "duration": 19.141403,
     "end_time": "2022-01-10T15:01:00.300011",
     "exception": false,
     "start_time": "2022-01-10T15:00:41.158608",
     "status": "completed"
    },
    "tags": []
   },
   "outputs": [],
   "source": [
    "import geopandas"
   ]
  },
  {
   "cell_type": "code",
   "execution_count": null,
   "metadata": {
    "execution": {
     "iopub.execute_input": "2022-01-10T15:01:00.393764Z",
     "iopub.status.busy": "2022-01-10T15:01:00.393764Z",
     "iopub.status.idle": "2022-01-10T15:01:00.409389Z",
     "shell.execute_reply": "2022-01-10T15:01:00.409389Z"
    },
    "papermill": {
     "duration": 0.062516,
     "end_time": "2022-01-10T15:01:00.409389",
     "exception": false,
     "start_time": "2022-01-10T15:01:00.346873",
     "status": "completed"
    },
    "tags": []
   },
   "outputs": [],
   "source": [
    "geopandas.__version__"
   ]
  },
  {
   "cell_type": "code",
   "execution_count": null,
   "metadata": {
    "execution": {
     "iopub.execute_input": "2022-01-10T15:01:00.503140Z",
     "iopub.status.busy": "2022-01-10T15:01:00.503140Z",
     "iopub.status.idle": "2022-01-10T15:01:00.518766Z",
     "shell.execute_reply": "2022-01-10T15:01:00.518766Z"
    },
    "papermill": {
     "duration": 0.078133,
     "end_time": "2022-01-10T15:01:00.518766",
     "exception": false,
     "start_time": "2022-01-10T15:01:00.440633",
     "status": "completed"
    },
    "tags": []
   },
   "outputs": [],
   "source": [
    "pyproj.__version__"
   ]
  },
  {
   "cell_type": "code",
   "execution_count": null,
   "metadata": {
    "execution": {
     "iopub.execute_input": "2022-01-10T15:01:00.612526Z",
     "iopub.status.busy": "2022-01-10T15:01:00.612526Z",
     "iopub.status.idle": "2022-01-10T15:01:15.956900Z",
     "shell.execute_reply": "2022-01-10T15:01:15.956900Z"
    },
    "papermill": {
     "duration": 15.391265,
     "end_time": "2022-01-10T15:01:15.956900",
     "exception": false,
     "start_time": "2022-01-10T15:01:00.565635",
     "status": "completed"
    },
    "scrolled": true,
    "tags": []
   },
   "outputs": [],
   "source": [
    "import pandas as pd\n",
    "import numpy as np\n",
    "import pyodbc\n",
    "import sys\n",
    "import json\n",
    "import urllib\n",
    "import sqlalchemy\n",
    "import os\n",
    "import shapely\n",
    "from datetime import datetime\n",
    "\n",
    "from arcgis.gis import GIS\n",
    "from arcgis.features import GeoAccessor, GeoSeriesAccessor, SpatialDataFrame, FeatureLayer, FeatureSet\n",
    "\n",
    "sys.path.append('../')\n",
    "from IPM_Shared_Code_public.Python.geo_functions import read_geosql\n",
    "from IPM_Shared_Code_public.Python.utils import get_config\n",
    "from IPM_Shared_Code_public.Python.email_functions import get_contacts, read_template, send_email\n",
    "from geosupport import *"
   ]
  },
  {
   "cell_type": "code",
   "execution_count": null,
   "metadata": {
    "execution": {
     "iopub.execute_input": "2022-01-10T15:01:16.050642Z",
     "iopub.status.busy": "2022-01-10T15:01:16.050642Z",
     "iopub.status.idle": "2022-01-10T15:01:16.066295Z",
     "shell.execute_reply": "2022-01-10T15:01:16.066295Z"
    },
    "papermill": {
     "duration": 0.062415,
     "end_time": "2022-01-10T15:01:16.066295",
     "exception": false,
     "start_time": "2022-01-10T15:01:16.003880",
     "status": "completed"
    },
    "tags": []
   },
   "outputs": [],
   "source": [
    "import arcgis"
   ]
  },
  {
   "cell_type": "code",
   "execution_count": null,
   "metadata": {
    "execution": {
     "iopub.execute_input": "2022-01-10T15:01:16.160032Z",
     "iopub.status.busy": "2022-01-10T15:01:16.160032Z",
     "iopub.status.idle": "2022-01-10T15:01:16.175665Z",
     "shell.execute_reply": "2022-01-10T15:01:16.175665Z"
    },
    "papermill": {
     "duration": 0.062515,
     "end_time": "2022-01-10T15:01:16.175665",
     "exception": false,
     "start_time": "2022-01-10T15:01:16.113150",
     "status": "completed"
    },
    "tags": []
   },
   "outputs": [],
   "source": [
    "arcgis.__version__"
   ]
  },
  {
   "cell_type": "code",
   "execution_count": null,
   "metadata": {
    "execution": {
     "iopub.execute_input": "2022-01-10T15:01:16.269403Z",
     "iopub.status.busy": "2022-01-10T15:01:16.269403Z",
     "iopub.status.idle": "2022-01-10T15:01:16.285047Z",
     "shell.execute_reply": "2022-01-10T15:01:16.285047Z"
    },
    "papermill": {
     "duration": 0.062512,
     "end_time": "2022-01-10T15:01:16.285047",
     "exception": false,
     "start_time": "2022-01-10T15:01:16.222535",
     "status": "completed"
    },
    "tags": []
   },
   "outputs": [],
   "source": [
    "config = get_config('c:\\Projects\\config.ini')\n",
    "\n",
    "driver = config['srv']['driver']\n",
    "server = config['srv']['server']\n",
    "parksgis = config['srv']['parksgis']\n",
    "data_parks_server = config['srv']['data_parks']\n",
    "structuresdb = config['db']['structuresdb']\n",
    "portal = config['url']['portal']\n",
    "structures_url = config['url']['structures']\n",
    "geosupport_url = config['url']['geosupport']"
   ]
  },
  {
   "cell_type": "code",
   "execution_count": null,
   "metadata": {
    "execution": {
     "iopub.execute_input": "2022-01-10T15:01:16.410141Z",
     "iopub.status.busy": "2022-01-10T15:01:16.410141Z",
     "iopub.status.idle": "2022-01-10T15:01:16.910059Z",
     "shell.execute_reply": "2022-01-10T15:01:16.910059Z"
    },
    "papermill": {
     "duration": 0.562527,
     "end_time": "2022-01-10T15:01:16.910059",
     "exception": false,
     "start_time": "2022-01-10T15:01:16.347532",
     "status": "completed"
    },
    "tags": []
   },
   "outputs": [],
   "source": [
    "params = urllib.parse.quote_plus(r'Driver=' + driver + ';Server=' + server +\n",
    "                                 ';Database=' + structuresdb +\n",
    "                                 ';Trusted_Connection=Yes;')\n",
    "engine = sqlalchemy.create_engine(\"mssql+pyodbc:///?odbc_connect=%s\" % params)\n",
    "connection = engine.connect()"
   ]
  },
  {
   "cell_type": "code",
   "execution_count": null,
   "metadata": {
    "execution": {
     "iopub.execute_input": "2022-01-10T15:01:17.003807Z",
     "iopub.status.busy": "2022-01-10T15:01:17.003807Z",
     "iopub.status.idle": "2022-01-10T15:01:17.206988Z",
     "shell.execute_reply": "2022-01-10T15:01:17.206988Z"
    },
    "papermill": {
     "duration": 0.250063,
     "end_time": "2022-01-10T15:01:17.206988",
     "exception": false,
     "start_time": "2022-01-10T15:01:16.956925",
     "status": "completed"
    },
    "tags": []
   },
   "outputs": [],
   "source": [
    "con_data_parks = pyodbc.connect('Driver={' + driver + '};Server=' + data_parks_server +\n",
    "                     ';Database=IPMDB;Trusted_Connection=Yes;')\n",
    "con = pyodbc.connect('Driver={' + driver + '};Server=' + server +\n",
    "                           ';Database=;Trusted_Connection=Yes;')"
   ]
  },
  {
   "cell_type": "markdown",
   "metadata": {
    "papermill": {
     "duration": 0.046859,
     "end_time": "2022-01-10T15:01:17.300740",
     "exception": false,
     "start_time": "2022-01-10T15:01:17.253881",
     "status": "completed"
    },
    "tags": []
   },
   "source": [
    "## Deal with Dates"
   ]
  },
  {
   "cell_type": "markdown",
   "metadata": {
    "papermill": {
     "duration": 0.046837,
     "end_time": "2022-01-10T15:01:17.378875",
     "exception": false,
     "start_time": "2022-01-10T15:01:17.332038",
     "status": "completed"
    },
    "tags": []
   },
   "source": [
    "### m/d/Y H:M:S format:"
   ]
  },
  {
   "cell_type": "code",
   "execution_count": null,
   "metadata": {
    "execution": {
     "iopub.execute_input": "2022-01-10T15:01:17.472586Z",
     "iopub.status.busy": "2022-01-10T15:01:17.472586Z",
     "iopub.status.idle": "2022-01-10T15:01:17.488201Z",
     "shell.execute_reply": "2022-01-10T15:01:17.488201Z"
    },
    "papermill": {
     "duration": 0.062431,
     "end_time": "2022-01-10T15:01:17.488201",
     "exception": false,
     "start_time": "2022-01-10T15:01:17.425770",
     "status": "completed"
    },
    "tags": []
   },
   "outputs": [],
   "source": [
    "# structures_dev['COMMISSIONDATE'] = pd.to_datetime(\n",
    "#     structures_dev['COMMISSIONDATE'],\n",
    "#     errors='coerce').dt.strftime('%m/%d/%Y %H:%M:%S')"
   ]
  },
  {
   "cell_type": "code",
   "execution_count": null,
   "metadata": {
    "execution": {
     "iopub.execute_input": "2022-01-10T15:01:17.581967Z",
     "iopub.status.busy": "2022-01-10T15:01:17.581967Z",
     "iopub.status.idle": "2022-01-10T15:01:17.597581Z",
     "shell.execute_reply": "2022-01-10T15:01:17.597581Z"
    },
    "papermill": {
     "duration": 0.062444,
     "end_time": "2022-01-10T15:01:17.597581",
     "exception": false,
     "start_time": "2022-01-10T15:01:17.535137",
     "status": "completed"
    },
    "scrolled": true,
    "tags": []
   },
   "outputs": [],
   "source": [
    "# structures_dev['COMMISSIONDATE']"
   ]
  },
  {
   "cell_type": "code",
   "execution_count": null,
   "metadata": {
    "execution": {
     "iopub.execute_input": "2022-01-10T15:01:17.691339Z",
     "iopub.status.busy": "2022-01-10T15:01:17.691339Z",
     "iopub.status.idle": "2022-01-10T15:01:17.707015Z",
     "shell.execute_reply": "2022-01-10T15:01:17.707015Z"
    },
    "papermill": {
     "duration": 0.062539,
     "end_time": "2022-01-10T15:01:17.707015",
     "exception": false,
     "start_time": "2022-01-10T15:01:17.644476",
     "status": "completed"
    },
    "tags": []
   },
   "outputs": [],
   "source": [
    "# structures_dev['FEATURESTATUSCHANGEDATE'] = pd.to_datetime(\n",
    "#     structures_dev['FEATURESTATUSCHANGEDATE']).dt.strftime('%m/%d/%Y %H:%M:%S')"
   ]
  },
  {
   "cell_type": "code",
   "execution_count": null,
   "metadata": {
    "execution": {
     "iopub.execute_input": "2022-01-10T15:01:17.800709Z",
     "iopub.status.busy": "2022-01-10T15:01:17.800709Z",
     "iopub.status.idle": "2022-01-10T15:01:17.816350Z",
     "shell.execute_reply": "2022-01-10T15:01:17.816350Z"
    },
    "papermill": {
     "duration": 0.078146,
     "end_time": "2022-01-10T15:01:17.816350",
     "exception": false,
     "start_time": "2022-01-10T15:01:17.738204",
     "status": "completed"
    },
    "tags": []
   },
   "outputs": [],
   "source": [
    "# structures_dev['RETIREDDATE'] = pd.to_datetime(\n",
    "#     structures_dev['RETIREDDATE']).dt.strftime('%m/%d/%Y %H:%M:%S')"
   ]
  },
  {
   "cell_type": "code",
   "execution_count": null,
   "metadata": {
    "execution": {
     "iopub.execute_input": "2022-01-10T15:01:17.910104Z",
     "iopub.status.busy": "2022-01-10T15:01:17.910104Z",
     "iopub.status.idle": "2022-01-10T15:01:17.925726Z",
     "shell.execute_reply": "2022-01-10T15:01:17.925726Z"
    },
    "papermill": {
     "duration": 0.062509,
     "end_time": "2022-01-10T15:01:17.925726",
     "exception": false,
     "start_time": "2022-01-10T15:01:17.863217",
     "status": "completed"
    },
    "scrolled": true,
    "tags": []
   },
   "outputs": [],
   "source": [
    "# structures_dev.columns.values"
   ]
  },
  {
   "cell_type": "markdown",
   "metadata": {
    "papermill": {
     "duration": 0.046924,
     "end_time": "2022-01-10T15:01:18.019524",
     "exception": false,
     "start_time": "2022-01-10T15:01:17.972600",
     "status": "completed"
    },
    "tags": []
   },
   "source": [
    "# Delta Table from structuresdb"
   ]
  },
  {
   "cell_type": "code",
   "execution_count": null,
   "metadata": {
    "execution": {
     "iopub.execute_input": "2022-01-10T15:01:18.113252Z",
     "iopub.status.busy": "2022-01-10T15:01:18.113252Z",
     "iopub.status.idle": "2022-01-10T15:01:18.191372Z",
     "shell.execute_reply": "2022-01-10T15:01:18.191372Z"
    },
    "papermill": {
     "duration": 0.140619,
     "end_time": "2022-01-10T15:01:18.191372",
     "exception": false,
     "start_time": "2022-01-10T15:01:18.050753",
     "status": "completed"
    },
    "scrolled": true,
    "tags": []
   },
   "outputs": [],
   "source": [
    "# SPATIAL DATASET:\n",
    "sql_str_deltas = 'select * FROM [structuresdb].[dbo].[tbl_delta_structures]'\n",
    "struct_deltas = read_geosql(sql_str_deltas,\n",
    "                            con,\n",
    "                            geom_raw='shape',\n",
    "                            geom_col='geometry')"
   ]
  },
  {
   "cell_type": "code",
   "execution_count": null,
   "metadata": {
    "execution": {
     "iopub.execute_input": "2022-01-10T15:01:18.285116Z",
     "iopub.status.busy": "2022-01-10T15:01:18.285116Z",
     "iopub.status.idle": "2022-01-10T15:01:18.300740Z",
     "shell.execute_reply": "2022-01-10T15:01:18.300740Z"
    },
    "papermill": {
     "duration": 0.062511,
     "end_time": "2022-01-10T15:01:18.300740",
     "exception": false,
     "start_time": "2022-01-10T15:01:18.238229",
     "status": "completed"
    },
    "tags": []
   },
   "outputs": [],
   "source": [
    "## Still need this ??\n",
    "\n",
    "struct_deltas.rename(columns={\n",
    "    'objectid': 'OBJECTID',\n",
    "    'parks_id': 'SYSTEM',\n",
    "    'bin': 'BIN',\n",
    "    'bbl': 'BBL',\n",
    "    'doitt_id': 'DOITT_ID',\n",
    "    'ground_elevation': 'Ground_Elevation',\n",
    "    'height_roof': 'Height_Roof',\n",
    "    'alteration_year': 'Alteration_Year',\n",
    "    'construction_year': 'Construction_Year',\n",
    "    'demolition_year': 'Demolition_Year'\n",
    "},\n",
    "                     inplace=True)"
   ]
  },
  {
   "cell_type": "code",
   "execution_count": null,
   "metadata": {
    "execution": {
     "iopub.execute_input": "2022-01-10T15:01:18.472631Z",
     "iopub.status.busy": "2022-01-10T15:01:18.472631Z",
     "iopub.status.idle": "2022-01-10T15:01:18.519499Z",
     "shell.execute_reply": "2022-01-10T15:01:18.519499Z"
    },
    "papermill": {
     "duration": 0.171888,
     "end_time": "2022-01-10T15:01:18.519499",
     "exception": false,
     "start_time": "2022-01-10T15:01:18.347611",
     "status": "completed"
    },
    "scrolled": false,
    "tags": []
   },
   "outputs": [],
   "source": [
    "struct_deltas.head()"
   ]
  },
  {
   "cell_type": "code",
   "execution_count": null,
   "metadata": {
    "execution": {
     "iopub.execute_input": "2022-01-10T15:01:18.613250Z",
     "iopub.status.busy": "2022-01-10T15:01:18.613250Z",
     "iopub.status.idle": "2022-01-10T15:01:18.628883Z",
     "shell.execute_reply": "2022-01-10T15:01:18.628883Z"
    },
    "papermill": {
     "duration": 0.062512,
     "end_time": "2022-01-10T15:01:18.628883",
     "exception": false,
     "start_time": "2022-01-10T15:01:18.566371",
     "status": "completed"
    },
    "scrolled": false,
    "tags": []
   },
   "outputs": [],
   "source": [
    "multipolygons = []\n",
    "\n",
    "for i, row in struct_deltas.iterrows(): \n",
    "    if type(row['geometry'])==shapely.geometry.multipolygon.MultiPolygon:\n",
    "        multipolygons.append(row['SYSTEM'])\n",
    "\n",
    "if len(multipolygons)!=0:\n",
    "    ids = '\\n'.join(multipolygons)\n",
    "    mssg = 'SYSTEM ID(s) of building(s) that are MultiPolygons:\\n'+ids\n",
    "    send_email('mycontacts.txt','multipoly_mssg.txt', subject = 'multipolygons', e=mssg)\n",
    "    \n",
    "struct_deltas = struct_deltas[~struct_deltas['SYSTEM'].isin(multipolygons)]"
   ]
  },
  {
   "cell_type": "code",
   "execution_count": null,
   "metadata": {
    "execution": {
     "iopub.execute_input": "2022-01-10T15:01:18.722623Z",
     "iopub.status.busy": "2022-01-10T15:01:18.722623Z",
     "iopub.status.idle": "2022-01-10T15:01:18.738261Z",
     "shell.execute_reply": "2022-01-10T15:01:18.738261Z"
    },
    "papermill": {
     "duration": 0.062437,
     "end_time": "2022-01-10T15:01:18.738261",
     "exception": false,
     "start_time": "2022-01-10T15:01:18.675824",
     "status": "completed"
    },
    "tags": []
   },
   "outputs": [],
   "source": [
    "multipolygons"
   ]
  },
  {
   "cell_type": "markdown",
   "metadata": {
    "papermill": {
     "duration": 0.046878,
     "end_time": "2022-01-10T15:01:18.832008",
     "exception": false,
     "start_time": "2022-01-10T15:01:18.785130",
     "status": "completed"
    },
    "tags": []
   },
   "source": [
    "## Write Delta Table to geojson file"
   ]
  },
  {
   "cell_type": "code",
   "execution_count": null,
   "metadata": {
    "execution": {
     "iopub.execute_input": "2022-01-10T15:01:18.925772Z",
     "iopub.status.busy": "2022-01-10T15:01:18.925772Z",
     "iopub.status.idle": "2022-01-10T15:01:18.941406Z",
     "shell.execute_reply": "2022-01-10T15:01:18.941406Z"
    },
    "papermill": {
     "duration": 0.062518,
     "end_time": "2022-01-10T15:01:18.941406",
     "exception": false,
     "start_time": "2022-01-10T15:01:18.878888",
     "status": "completed"
    },
    "tags": []
   },
   "outputs": [],
   "source": [
    "today = datetime.now().strftime('%Y%m%d')\n",
    "snapshot = r'C:\\\\Projects\\\\Structures\\\\delta_snapshots/' + today"
   ]
  },
  {
   "cell_type": "code",
   "execution_count": null,
   "metadata": {
    "execution": {
     "iopub.execute_input": "2022-01-10T15:01:19.035184Z",
     "iopub.status.busy": "2022-01-10T15:01:19.035184Z",
     "iopub.status.idle": "2022-01-10T15:01:19.050865Z",
     "shell.execute_reply": "2022-01-10T15:01:19.050865Z"
    },
    "papermill": {
     "duration": 0.062578,
     "end_time": "2022-01-10T15:01:19.050865",
     "exception": false,
     "start_time": "2022-01-10T15:01:18.988287",
     "status": "completed"
    },
    "tags": []
   },
   "outputs": [],
   "source": [
    "if not struct_deltas.empty:\n",
    "    if os.path.exists(snapshot):\n",
    "        struct_deltas.to_file(snapshot + '/deltas.geojson',\n",
    "                              encoding='utf-8',\n",
    "                              driver='GeoJSON')\n",
    "    else:\n",
    "        os.makedirs(snapshot)\n",
    "        struct_deltas.to_file(snapshot + '/deltas.geojson',\n",
    "                              encoding='utf-8',\n",
    "                              driver='GeoJSON')"
   ]
  },
  {
   "cell_type": "markdown",
   "metadata": {
    "papermill": {
     "duration": 0.046863,
     "end_time": "2022-01-10T15:01:19.144520",
     "exception": false,
     "start_time": "2022-01-10T15:01:19.097657",
     "status": "completed"
    },
    "tags": []
   },
   "source": [
    "## Read geojson file to geojson object "
   ]
  },
  {
   "cell_type": "code",
   "execution_count": null,
   "metadata": {
    "execution": {
     "iopub.execute_input": "2022-01-10T15:01:19.238269Z",
     "iopub.status.busy": "2022-01-10T15:01:19.238269Z",
     "iopub.status.idle": "2022-01-10T15:01:19.238269Z",
     "shell.execute_reply": "2022-01-10T15:01:19.238269Z"
    },
    "papermill": {
     "duration": 0.062497,
     "end_time": "2022-01-10T15:01:19.238269",
     "exception": false,
     "start_time": "2022-01-10T15:01:19.175772",
     "status": "completed"
    },
    "tags": []
   },
   "outputs": [],
   "source": [
    "if not struct_deltas.empty:\n",
    "    with open(snapshot+'/deltas.geojson') as data:\n",
    "        geojson_deltas = json.load(data)"
   ]
  },
  {
   "cell_type": "markdown",
   "metadata": {
    "papermill": {
     "duration": 0.03113,
     "end_time": "2022-01-10T15:01:19.316406",
     "exception": false,
     "start_time": "2022-01-10T15:01:19.285276",
     "status": "completed"
    },
    "tags": []
   },
   "source": [
    "## Create arcgis featureSet from geojson object"
   ]
  },
  {
   "cell_type": "code",
   "execution_count": null,
   "metadata": {
    "execution": {
     "iopub.execute_input": "2022-01-10T15:01:19.425846Z",
     "iopub.status.busy": "2022-01-10T15:01:19.425846Z",
     "iopub.status.idle": "2022-01-10T15:01:19.441430Z",
     "shell.execute_reply": "2022-01-10T15:01:19.441430Z"
    },
    "papermill": {
     "duration": 0.078144,
     "end_time": "2022-01-10T15:01:19.441430",
     "exception": false,
     "start_time": "2022-01-10T15:01:19.363286",
     "status": "completed"
    },
    "tags": []
   },
   "outputs": [],
   "source": [
    "type(struct_deltas)"
   ]
  },
  {
   "cell_type": "code",
   "execution_count": null,
   "metadata": {
    "execution": {
     "iopub.execute_input": "2022-01-10T15:01:19.582047Z",
     "iopub.status.busy": "2022-01-10T15:01:19.550795Z",
     "iopub.status.idle": "2022-01-10T15:01:19.597668Z",
     "shell.execute_reply": "2022-01-10T15:01:19.597668Z"
    },
    "papermill": {
     "duration": 0.109379,
     "end_time": "2022-01-10T15:01:19.597668",
     "exception": false,
     "start_time": "2022-01-10T15:01:19.488289",
     "status": "completed"
    },
    "tags": []
   },
   "outputs": [],
   "source": [
    "struct_deltas.crs"
   ]
  },
  {
   "cell_type": "code",
   "execution_count": null,
   "metadata": {
    "execution": {
     "iopub.execute_input": "2022-01-10T15:01:19.691437Z",
     "iopub.status.busy": "2022-01-10T15:01:19.691437Z",
     "iopub.status.idle": "2022-01-10T15:01:19.707047Z",
     "shell.execute_reply": "2022-01-10T15:01:19.707047Z"
    },
    "papermill": {
     "duration": 0.062511,
     "end_time": "2022-01-10T15:01:19.707047",
     "exception": false,
     "start_time": "2022-01-10T15:01:19.644536",
     "status": "completed"
    },
    "tags": []
   },
   "outputs": [],
   "source": [
    "# fromDF_deltas = FeatureSet.from_dataframe(pd.DataFrame(struct_deltas))"
   ]
  },
  {
   "cell_type": "code",
   "execution_count": null,
   "metadata": {
    "execution": {
     "iopub.execute_input": "2022-01-10T15:01:19.800811Z",
     "iopub.status.busy": "2022-01-10T15:01:19.800811Z",
     "iopub.status.idle": "2022-01-10T15:01:19.816426Z",
     "shell.execute_reply": "2022-01-10T15:01:19.816426Z"
    },
    "papermill": {
     "duration": 0.062507,
     "end_time": "2022-01-10T15:01:19.816426",
     "exception": false,
     "start_time": "2022-01-10T15:01:19.753919",
     "status": "completed"
    },
    "scrolled": true,
    "tags": []
   },
   "outputs": [],
   "source": [
    "if not struct_deltas.empty:\n",
    "    fromJSON_deltas = FeatureSet.from_geojson(geojson_deltas)"
   ]
  },
  {
   "cell_type": "code",
   "execution_count": null,
   "metadata": {
    "execution": {
     "iopub.execute_input": "2022-01-10T15:01:19.910182Z",
     "iopub.status.busy": "2022-01-10T15:01:19.910182Z",
     "iopub.status.idle": "2022-01-10T15:01:19.925808Z",
     "shell.execute_reply": "2022-01-10T15:01:19.925808Z"
    },
    "papermill": {
     "duration": 0.062517,
     "end_time": "2022-01-10T15:01:19.925808",
     "exception": false,
     "start_time": "2022-01-10T15:01:19.863291",
     "status": "completed"
    },
    "tags": []
   },
   "outputs": [],
   "source": [
    "#Check the WKT Projection for the feature set\n",
    "if not struct_deltas.empty:\n",
    "    print(fromJSON_deltas.spatial_reference)"
   ]
  },
  {
   "cell_type": "code",
   "execution_count": null,
   "metadata": {
    "execution": {
     "iopub.execute_input": "2022-01-10T15:01:20.020158Z",
     "iopub.status.busy": "2022-01-10T15:01:20.020158Z",
     "iopub.status.idle": "2022-01-10T15:01:20.035182Z",
     "shell.execute_reply": "2022-01-10T15:01:20.035182Z"
    },
    "papermill": {
     "duration": 0.062507,
     "end_time": "2022-01-10T15:01:20.035182",
     "exception": false,
     "start_time": "2022-01-10T15:01:19.972675",
     "status": "completed"
    },
    "tags": []
   },
   "outputs": [],
   "source": [
    "#Set the WKT projection for each feature in the feature set\n",
    "if not struct_deltas.empty:\n",
    "    for f in range(0, len(fromJSON_deltas)):\n",
    "        fromJSON_deltas.features[f].geometry.update({'spatialReference': {'wkid': 2263}})"
   ]
  },
  {
   "cell_type": "code",
   "execution_count": null,
   "metadata": {
    "execution": {
     "iopub.execute_input": "2022-01-10T15:01:20.128957Z",
     "iopub.status.busy": "2022-01-10T15:01:20.128957Z",
     "iopub.status.idle": "2022-01-10T15:01:20.144565Z",
     "shell.execute_reply": "2022-01-10T15:01:20.144565Z"
    },
    "papermill": {
     "duration": 0.062487,
     "end_time": "2022-01-10T15:01:20.144565",
     "exception": false,
     "start_time": "2022-01-10T15:01:20.082078",
     "status": "completed"
    },
    "tags": []
   },
   "outputs": [],
   "source": [
    "#Set the WKT projection for the whole feature set\n",
    "if not struct_deltas.empty:\n",
    "    fromJSON_deltas.spatial_reference = {'wkid': 2263}"
   ]
  },
  {
   "cell_type": "code",
   "execution_count": null,
   "metadata": {
    "execution": {
     "iopub.execute_input": "2022-01-10T15:01:20.238326Z",
     "iopub.status.busy": "2022-01-10T15:01:20.238326Z",
     "iopub.status.idle": "2022-01-10T15:01:20.253946Z",
     "shell.execute_reply": "2022-01-10T15:01:20.253946Z"
    },
    "papermill": {
     "duration": 0.062515,
     "end_time": "2022-01-10T15:01:20.253946",
     "exception": false,
     "start_time": "2022-01-10T15:01:20.191431",
     "status": "completed"
    },
    "tags": []
   },
   "outputs": [],
   "source": [
    "#Check the WKT Projection for the feature set\n",
    "if not struct_deltas.empty:\n",
    "    print(fromJSON_deltas.spatial_reference)"
   ]
  },
  {
   "cell_type": "markdown",
   "metadata": {
    "papermill": {
     "duration": 0.046909,
     "end_time": "2022-01-10T15:01:20.347754",
     "exception": false,
     "start_time": "2022-01-10T15:01:20.300845",
     "status": "completed"
    },
    "tags": []
   },
   "source": [
    "# Connect to published datasets via GIS object"
   ]
  },
  {
   "cell_type": "code",
   "execution_count": null,
   "metadata": {
    "execution": {
     "iopub.execute_input": "2022-01-10T15:01:20.441534Z",
     "iopub.status.busy": "2022-01-10T15:01:20.441534Z",
     "iopub.status.idle": "2022-01-10T15:01:20.457078Z",
     "shell.execute_reply": "2022-01-10T15:01:20.457078Z"
    },
    "papermill": {
     "duration": 0.062506,
     "end_time": "2022-01-10T15:01:20.457078",
     "exception": false,
     "start_time": "2022-01-10T15:01:20.394572",
     "status": "completed"
    },
    "tags": []
   },
   "outputs": [],
   "source": [
    "pwd"
   ]
  },
  {
   "cell_type": "code",
   "execution_count": null,
   "metadata": {
    "execution": {
     "iopub.execute_input": "2022-01-10T15:01:20.550929Z",
     "iopub.status.busy": "2022-01-10T15:01:20.550929Z",
     "iopub.status.idle": "2022-01-10T15:01:23.019839Z",
     "shell.execute_reply": "2022-01-10T15:01:23.019839Z"
    },
    "papermill": {
     "duration": 2.51589,
     "end_time": "2022-01-10T15:01:23.019839",
     "exception": false,
     "start_time": "2022-01-10T15:01:20.503949",
     "status": "completed"
    },
    "tags": []
   },
   "outputs": [],
   "source": [
    "gis = GIS(url=portal, verify_cert = False)"
   ]
  },
  {
   "cell_type": "markdown",
   "metadata": {
    "papermill": {
     "duration": 0.046896,
     "end_time": "2022-01-10T15:01:23.113475",
     "exception": false,
     "start_time": "2022-01-10T15:01:23.066579",
     "status": "completed"
    },
    "tags": []
   },
   "source": [
    "# Make Edits"
   ]
  },
  {
   "cell_type": "markdown",
   "metadata": {
    "papermill": {
     "duration": 0.046812,
     "end_time": "2022-01-10T15:01:23.207194",
     "exception": false,
     "start_time": "2022-01-10T15:01:23.160382",
     "status": "completed"
    },
    "tags": []
   },
   "source": [
    "## Structures"
   ]
  },
  {
   "cell_type": "markdown",
   "metadata": {
    "papermill": {
     "duration": 0.046887,
     "end_time": "2022-01-10T15:01:23.300967",
     "exception": false,
     "start_time": "2022-01-10T15:01:23.254080",
     "status": "completed"
    },
    "tags": []
   },
   "source": [
    "### run delta archive stored proc"
   ]
  },
  {
   "cell_type": "code",
   "execution_count": null,
   "metadata": {
    "execution": {
     "iopub.execute_input": "2022-01-10T15:01:23.410451Z",
     "iopub.status.busy": "2022-01-10T15:01:23.410451Z",
     "iopub.status.idle": "2022-01-10T15:01:23.441593Z",
     "shell.execute_reply": "2022-01-10T15:01:23.441593Z"
    },
    "papermill": {
     "duration": 0.09376,
     "end_time": "2022-01-10T15:01:23.441593",
     "exception": false,
     "start_time": "2022-01-10T15:01:23.347833",
     "status": "completed"
    },
    "tags": []
   },
   "outputs": [],
   "source": [
    "crsr = con.cursor()\n",
    "sqal_stmt = '''\n",
    "exec [structuresdb].[dbo].[sp_i_tbl_delta_structures_archive] \n",
    "'''\n",
    "crsr.execute(\"{CALL [structuresdb].[dbo].[sp_i_tbl_delta_structures_archive] }\")\n",
    "crsr.commit()\n",
    "crsr.close()"
   ]
  },
  {
   "cell_type": "markdown",
   "metadata": {
    "papermill": {
     "duration": 0.046883,
     "end_time": "2022-01-10T15:01:23.535351",
     "exception": false,
     "start_time": "2022-01-10T15:01:23.488468",
     "status": "completed"
    },
    "tags": []
   },
   "source": [
    "### Connect to structures feature layer directly"
   ]
  },
  {
   "cell_type": "code",
   "execution_count": null,
   "metadata": {
    "execution": {
     "iopub.execute_input": "2022-01-10T15:01:23.629137Z",
     "iopub.status.busy": "2022-01-10T15:01:23.629137Z",
     "iopub.status.idle": "2022-01-10T15:01:23.644773Z",
     "shell.execute_reply": "2022-01-10T15:01:23.644773Z"
    },
    "papermill": {
     "duration": 0.062458,
     "end_time": "2022-01-10T15:01:23.644773",
     "exception": false,
     "start_time": "2022-01-10T15:01:23.582315",
     "status": "completed"
    },
    "tags": []
   },
   "outputs": [],
   "source": [
    "strct_lyr_url = structures_url"
   ]
  },
  {
   "cell_type": "code",
   "execution_count": null,
   "metadata": {
    "execution": {
     "iopub.execute_input": "2022-01-10T15:01:23.769721Z",
     "iopub.status.busy": "2022-01-10T15:01:23.769721Z",
     "iopub.status.idle": "2022-01-10T15:01:26.988602Z",
     "shell.execute_reply": "2022-01-10T15:01:26.988602Z"
    },
    "papermill": {
     "duration": 3.281391,
     "end_time": "2022-01-10T15:01:26.988602",
     "exception": false,
     "start_time": "2022-01-10T15:01:23.707211",
     "status": "completed"
    },
    "tags": []
   },
   "outputs": [],
   "source": [
    "lyr_structures = FeatureLayer(strct_lyr_url)\n",
    "structures_features = lyr_structures.query()"
   ]
  },
  {
   "cell_type": "code",
   "execution_count": null,
   "metadata": {
    "execution": {
     "iopub.execute_input": "2022-01-10T15:01:27.097969Z",
     "iopub.status.busy": "2022-01-10T15:01:27.097969Z",
     "iopub.status.idle": "2022-01-10T15:01:27.113605Z",
     "shell.execute_reply": "2022-01-10T15:01:27.113605Z"
    },
    "papermill": {
     "duration": 0.078135,
     "end_time": "2022-01-10T15:01:27.113605",
     "exception": false,
     "start_time": "2022-01-10T15:01:27.035470",
     "status": "completed"
    },
    "tags": []
   },
   "outputs": [],
   "source": [
    "structures_features"
   ]
  },
  {
   "cell_type": "code",
   "execution_count": null,
   "metadata": {
    "execution": {
     "iopub.execute_input": "2022-01-10T15:01:27.207370Z",
     "iopub.status.busy": "2022-01-10T15:01:27.207370Z",
     "iopub.status.idle": "2022-01-10T15:01:27.222979Z",
     "shell.execute_reply": "2022-01-10T15:01:27.222979Z"
    },
    "papermill": {
     "duration": 0.062505,
     "end_time": "2022-01-10T15:01:27.222979",
     "exception": false,
     "start_time": "2022-01-10T15:01:27.160474",
     "status": "completed"
    },
    "tags": []
   },
   "outputs": [],
   "source": [
    "len(struct_deltas)"
   ]
  },
  {
   "cell_type": "markdown",
   "metadata": {
    "papermill": {
     "duration": 0.046864,
     "end_time": "2022-01-10T15:01:27.316736",
     "exception": false,
     "start_time": "2022-01-10T15:01:27.269872",
     "status": "completed"
    },
    "tags": []
   },
   "source": [
    "### EDIT"
   ]
  },
  {
   "cell_type": "code",
   "execution_count": null,
   "metadata": {
    "execution": {
     "iopub.execute_input": "2022-01-10T15:01:27.410484Z",
     "iopub.status.busy": "2022-01-10T15:01:27.410484Z",
     "iopub.status.idle": "2022-01-10T15:01:27.426114Z",
     "shell.execute_reply": "2022-01-10T15:01:27.426114Z"
    },
    "papermill": {
     "duration": 0.062496,
     "end_time": "2022-01-10T15:01:27.426114",
     "exception": false,
     "start_time": "2022-01-10T15:01:27.363618",
     "status": "completed"
    },
    "tags": []
   },
   "outputs": [],
   "source": [
    "if not struct_deltas.empty:\n",
    "    num_updates = len(fromJSON_deltas.features)"
   ]
  },
  {
   "cell_type": "code",
   "execution_count": null,
   "metadata": {
    "execution": {
     "iopub.execute_input": "2022-01-10T15:01:27.535520Z",
     "iopub.status.busy": "2022-01-10T15:01:27.535520Z",
     "iopub.status.idle": "2022-01-10T15:01:27.816760Z",
     "shell.execute_reply": "2022-01-10T15:01:27.816760Z"
    },
    "papermill": {
     "duration": 0.343764,
     "end_time": "2022-01-10T15:01:27.816760",
     "exception": false,
     "start_time": "2022-01-10T15:01:27.472996",
     "status": "completed"
    },
    "tags": []
   },
   "outputs": [],
   "source": [
    "if not struct_deltas.empty:\n",
    "    try:\n",
    "        update_result = lyr_structures.edit_features(\n",
    "            updates=fromJSON_deltas.features)\n",
    "    except:\n",
    "        error_mssg = 'Updates were not pushed successfully to Structures. Please see Notebook output/logs for further details.'\n",
    "        send_email('mycontacts.txt','fail_update_mssg.txt', subject = 'structures push: FAILED!', e=error_mssg)\n",
    "    else:\n",
    "        success_mssg = 'There were ' + str(num_updates) + ' updates pushed to Production.'\n",
    "        send_email('mycontacts.txt','success_structures_mssg.txt', subject = 'structures push: SUCCESS!', e=success_mssg)\n",
    "else:\n",
    "    mssg = 'There were no updates to push to the Structure layer.'\n",
    "    send_email('mycontacts.txt','fail_update_mssg.txt', subject = 'structures: NO UPDATES to push', e=mssg)"
   ]
  },
  {
   "cell_type": "code",
   "execution_count": null,
   "metadata": {
    "execution": {
     "iopub.execute_input": "2022-01-10T15:01:27.926134Z",
     "iopub.status.busy": "2022-01-10T15:01:27.926134Z",
     "iopub.status.idle": "2022-01-10T15:01:30.738741Z",
     "shell.execute_reply": "2022-01-10T15:01:30.738741Z"
    },
    "papermill": {
     "duration": 2.875106,
     "end_time": "2022-01-10T15:01:30.738741",
     "exception": false,
     "start_time": "2022-01-10T15:01:27.863635",
     "status": "completed"
    },
    "tags": []
   },
   "outputs": [],
   "source": [
    "lyr_structures = FeatureLayer(strct_lyr_url)\n",
    "structures_features = lyr_structures.query()"
   ]
  },
  {
   "cell_type": "markdown",
   "metadata": {
    "papermill": {
     "duration": 0.046881,
     "end_time": "2022-01-10T15:01:30.832505",
     "exception": false,
     "start_time": "2022-01-10T15:01:30.785624",
     "status": "completed"
    },
    "tags": []
   },
   "source": [
    "## Geosupport"
   ]
  },
  {
   "cell_type": "markdown",
   "metadata": {
    "papermill": {
     "duration": 0.046953,
     "end_time": "2022-01-10T15:01:30.926335",
     "exception": false,
     "start_time": "2022-01-10T15:01:30.879382",
     "status": "completed"
    },
    "tags": []
   },
   "source": [
    "### connect to geosupport service"
   ]
  },
  {
   "cell_type": "code",
   "execution_count": null,
   "metadata": {
    "execution": {
     "iopub.execute_input": "2022-01-10T15:01:31.020024Z",
     "iopub.status.busy": "2022-01-10T15:01:31.020024Z",
     "iopub.status.idle": "2022-01-10T15:01:31.035634Z",
     "shell.execute_reply": "2022-01-10T15:01:31.035634Z"
    },
    "papermill": {
     "duration": 0.062478,
     "end_time": "2022-01-10T15:01:31.035634",
     "exception": false,
     "start_time": "2022-01-10T15:01:30.973156",
     "status": "completed"
    },
    "tags": []
   },
   "outputs": [],
   "source": [
    "geosupport_tbl_url = geosupport_url"
   ]
  },
  {
   "cell_type": "code",
   "execution_count": null,
   "metadata": {
    "execution": {
     "iopub.execute_input": "2022-01-10T15:01:31.129405Z",
     "iopub.status.busy": "2022-01-10T15:01:31.129405Z",
     "iopub.status.idle": "2022-01-10T15:01:36.395257Z",
     "shell.execute_reply": "2022-01-10T15:01:36.395257Z"
    },
    "papermill": {
     "duration": 5.312751,
     "end_time": "2022-01-10T15:01:36.395257",
     "exception": false,
     "start_time": "2022-01-10T15:01:31.082506",
     "status": "completed"
    },
    "tags": []
   },
   "outputs": [],
   "source": [
    "tbl_geosupport = FeatureLayer(geosupport_tbl_url)\n",
    "geosupport = tbl_geosupport.query()"
   ]
  },
  {
   "cell_type": "markdown",
   "metadata": {
    "papermill": {
     "duration": 0.046884,
     "end_time": "2022-01-10T15:01:36.488989",
     "exception": false,
     "start_time": "2022-01-10T15:01:36.442105",
     "status": "completed"
    },
    "tags": []
   },
   "source": [
    "### Get latest BINs from structures layer"
   ]
  },
  {
   "cell_type": "code",
   "execution_count": null,
   "metadata": {
    "execution": {
     "iopub.execute_input": "2022-01-10T15:01:36.598354Z",
     "iopub.status.busy": "2022-01-10T15:01:36.598354Z",
     "iopub.status.idle": "2022-01-10T15:01:37.098394Z",
     "shell.execute_reply": "2022-01-10T15:01:37.098394Z"
    },
    "papermill": {
     "duration": 0.562527,
     "end_time": "2022-01-10T15:01:37.098394",
     "exception": false,
     "start_time": "2022-01-10T15:01:36.535867",
     "status": "completed"
    },
    "tags": []
   },
   "outputs": [],
   "source": [
    "structures_sdf = structures_features.sdf[\n",
    "    (structures_features.sdf['BIN'] != 0) &\n",
    "    (~pd.isnull(structures_features.sdf['BIN']))] "
   ]
  },
  {
   "cell_type": "code",
   "execution_count": null,
   "metadata": {
    "execution": {
     "iopub.execute_input": "2022-01-10T15:01:37.192147Z",
     "iopub.status.busy": "2022-01-10T15:01:37.192147Z",
     "iopub.status.idle": "2022-01-10T15:01:37.223398Z",
     "shell.execute_reply": "2022-01-10T15:01:37.223398Z"
    },
    "papermill": {
     "duration": 0.078146,
     "end_time": "2022-01-10T15:01:37.223398",
     "exception": false,
     "start_time": "2022-01-10T15:01:37.145252",
     "status": "completed"
    },
    "tags": []
   },
   "outputs": [],
   "source": [
    "structs_sdf_final = structures_sdf[(structures_sdf['BIN'].astype(int) % 1000000 != 0) \n",
    "                                   &(~pd.isnull(structures_sdf['DOITT_ID']))]"
   ]
  },
  {
   "cell_type": "code",
   "execution_count": null,
   "metadata": {
    "execution": {
     "iopub.execute_input": "2022-01-10T15:01:37.317186Z",
     "iopub.status.busy": "2022-01-10T15:01:37.317186Z",
     "iopub.status.idle": "2022-01-10T15:01:37.332843Z",
     "shell.execute_reply": "2022-01-10T15:01:37.332843Z"
    },
    "papermill": {
     "duration": 0.062587,
     "end_time": "2022-01-10T15:01:37.332843",
     "exception": false,
     "start_time": "2022-01-10T15:01:37.270256",
     "status": "completed"
    },
    "tags": []
   },
   "outputs": [],
   "source": [
    "len(structs_sdf_final)"
   ]
  },
  {
   "cell_type": "code",
   "execution_count": null,
   "metadata": {
    "execution": {
     "iopub.execute_input": "2022-01-10T15:01:37.426525Z",
     "iopub.status.busy": "2022-01-10T15:01:37.426525Z",
     "iopub.status.idle": "2022-01-10T15:01:37.442137Z",
     "shell.execute_reply": "2022-01-10T15:01:37.442137Z"
    },
    "papermill": {
     "duration": 0.062495,
     "end_time": "2022-01-10T15:01:37.442137",
     "exception": false,
     "start_time": "2022-01-10T15:01:37.379642",
     "status": "completed"
    },
    "tags": []
   },
   "outputs": [],
   "source": [
    "len(structs_sdf_final['BIN'].unique())"
   ]
  },
  {
   "cell_type": "code",
   "execution_count": null,
   "metadata": {
    "execution": {
     "iopub.execute_input": "2022-01-10T15:01:37.535909Z",
     "iopub.status.busy": "2022-01-10T15:01:37.535909Z",
     "iopub.status.idle": "2022-01-10T15:01:37.551528Z",
     "shell.execute_reply": "2022-01-10T15:01:37.551528Z"
    },
    "papermill": {
     "duration": 0.062516,
     "end_time": "2022-01-10T15:01:37.551528",
     "exception": false,
     "start_time": "2022-01-10T15:01:37.489012",
     "status": "completed"
    },
    "tags": []
   },
   "outputs": [],
   "source": [
    "# DUPLICATE BIN:\n",
    "# pd.concat(g for _, g in structs_sdf_final.groupby(\"BIN\") if len(g) > 1)"
   ]
  },
  {
   "cell_type": "markdown",
   "metadata": {
    "papermill": {
     "duration": 0.046864,
     "end_time": "2022-01-10T15:01:37.645281",
     "exception": false,
     "start_time": "2022-01-10T15:01:37.598417",
     "status": "completed"
    },
    "tags": []
   },
   "source": [
    "### run master geosupport function"
   ]
  },
  {
   "cell_type": "code",
   "execution_count": null,
   "metadata": {
    "execution": {
     "iopub.execute_input": "2022-01-10T15:01:37.770293Z",
     "iopub.status.busy": "2022-01-10T15:01:37.770293Z",
     "iopub.status.idle": "2022-01-10T15:01:37.785911Z",
     "shell.execute_reply": "2022-01-10T15:01:37.785911Z"
    },
    "papermill": {
     "duration": 0.093744,
     "end_time": "2022-01-10T15:01:37.785911",
     "exception": false,
     "start_time": "2022-01-10T15:01:37.692167",
     "status": "completed"
    },
    "tags": []
   },
   "outputs": [],
   "source": [
    "structs_sdf_final.head()"
   ]
  },
  {
   "cell_type": "code",
   "execution_count": null,
   "metadata": {
    "execution": {
     "iopub.execute_input": "2022-01-10T15:01:37.895290Z",
     "iopub.status.busy": "2022-01-10T15:01:37.895290Z",
     "iopub.status.idle": "2022-01-10T15:21:36.037924Z",
     "shell.execute_reply": "2022-01-10T15:21:36.037924Z"
    },
    "papermill": {
     "duration": 1198.205144,
     "end_time": "2022-01-10T15:21:36.037924",
     "exception": false,
     "start_time": "2022-01-10T15:01:37.832780",
     "status": "completed"
    },
    "scrolled": false,
    "tags": []
   },
   "outputs": [],
   "source": [
    "df = master_geosupport_func(structs_sdf_final, 'BIN')"
   ]
  },
  {
   "cell_type": "code",
   "execution_count": null,
   "metadata": {
    "execution": {
     "iopub.execute_input": "2022-01-10T15:21:36.225452Z",
     "iopub.status.busy": "2022-01-10T15:21:36.209813Z",
     "iopub.status.idle": "2022-01-10T15:21:36.241072Z",
     "shell.execute_reply": "2022-01-10T15:21:36.241072Z"
    },
    "papermill": {
     "duration": 0.140626,
     "end_time": "2022-01-10T15:21:36.241072",
     "exception": false,
     "start_time": "2022-01-10T15:21:36.100446",
     "status": "completed"
    },
    "scrolled": true,
    "tags": []
   },
   "outputs": [],
   "source": [
    "df.head()"
   ]
  },
  {
   "cell_type": "markdown",
   "metadata": {
    "papermill": {
     "duration": 0.062501,
     "end_time": "2022-01-10T15:21:36.350452",
     "exception": false,
     "start_time": "2022-01-10T15:21:36.287951",
     "status": "completed"
    },
    "tags": []
   },
   "source": [
    "### prepare latest geosupport data to be pushed to prod"
   ]
  },
  {
   "cell_type": "code",
   "execution_count": null,
   "metadata": {
    "execution": {
     "iopub.execute_input": "2022-01-10T15:21:36.475439Z",
     "iopub.status.busy": "2022-01-10T15:21:36.459827Z",
     "iopub.status.idle": "2022-01-10T15:21:36.537982Z",
     "shell.execute_reply": "2022-01-10T15:21:36.537982Z"
    },
    "papermill": {
     "duration": 0.14066,
     "end_time": "2022-01-10T15:21:36.537982",
     "exception": false,
     "start_time": "2022-01-10T15:21:36.397322",
     "status": "completed"
    },
    "tags": []
   },
   "outputs": [],
   "source": [
    "#Rename all of the columns from Geosupport so that they map exactly to the schema in SQL Server\n",
    "dff = (df.rename(columns = {'out_zip_code': 'Zip_Code',\n",
    "                               'b7sc': 'B7SC',\n",
    "                               'out_b10sc1': 'B10SC',\n",
    "                               #'in_boro': 'Boro_Code',\n",
    "                               'bin': 'BIN',\n",
    "                               'out_preferred_lgc': 'LGC',\n",
    "                               'type_meaning': 'Address_Type',\n",
    "                               'high_address_number': 'High_House_Num',\n",
    "                               'low_address_number': 'Low_House_Num',\n",
    "                               'out_sos_ind': 'Street_Side',\n",
    "                               'street_name': 'Norm_Street_Name',\n",
    "                               'out_usps_city_name': 'USPS_City',\n",
    "                               'out_TPAD_bin_status': 'TPAD_BIN_Status',\n",
    "                               'out_com_dist': 'Community_Board',\n",
    "                               'out_co': 'City_Council',\n",
    "                               'out_ad': 'NYS_Assembly',\n",
    "                               'out_sd': 'NYS_Senate',\n",
    "                               'out_cd': 'US_Congress',\n",
    "                               'out_nta': 'NTA_Code',\n",
    "                               'out_fire_bat': 'Fire_Battalion',\n",
    "                               'out_fire_co': 'Fire_Co_Num',\n",
    "                               'out_fire_co_str': 'Fire_Co_Type',\n",
    "                               'out_fire_div': 'Fire_Division',\n",
    "                               'out_hurricane_zone': 'HEZ',\n",
    "                               'out_police_patrol_boro': 'Police_Boro',\n",
    "                               'Police Patrol Borough Command': 'Police_Boro_Com',\n",
    "                               'out_police_pct': 'Police_Precinct',\n",
    "                               'out_san_sched': 'Sanitation_Subsect',\n",
    "                               'out_san_dist_section': 'Sanitation_District',\n",
    "                               'out_san_recycle': 'Sanitation_Recycling',\n",
    "                               'out_san_reg': 'Sanitation_Reg_Pickup',\n",
    "                               'out_physical_id': 'Physical_ID',\n",
    "                               'address_id': 'Address_ID',\n",
    "                               'out_census_tract_2020':'Census_Tract',\n",
    "                               'out_latitude':'Latitude',\n",
    "                               'out_longitude':'Longitude'})\n",
    "       .reindex(columns = ['BIN', 'Boro_Code', 'Address_Type', 'Low_House_Num', 'High_House_Num', 'Norm_Street_Name', 'USPS_City', \n",
    "                           'Zip_Code', 'Physical_ID', 'B7SC', 'B10SC', 'LGC', 'Street_Side', 'TPAD_BIN_Status', 'HEZ', \n",
    "                           'Community_Board', 'City_Council', 'NYS_Assembly', 'NYS_Senate', 'US_Congress', 'NTA_Code', \n",
    "                           'Fire_Battalion', 'Fire_Co_Num', 'Fire_Co_Type', 'Fire_Division', \n",
    "                           'Police_Boro', 'Police_Boro_Com', 'Police_Precinct', \n",
    "                           'Sanitation_Subsect', 'Sanitation_District', 'Sanitation_Recycling', 'Sanitation_Reg_Pickup', \n",
    "                           'Address_ID', 'official_address', 'posted_address','Latitude','Longitude','Census_Tract'])\n",
    "       .drop_duplicates())"
   ]
  },
  {
   "cell_type": "code",
   "execution_count": null,
   "metadata": {
    "execution": {
     "iopub.execute_input": "2022-01-10T15:21:36.647367Z",
     "iopub.status.busy": "2022-01-10T15:21:36.647367Z",
     "iopub.status.idle": "2022-01-10T15:21:36.662948Z",
     "shell.execute_reply": "2022-01-10T15:21:36.662948Z"
    },
    "papermill": {
     "duration": 0.078133,
     "end_time": "2022-01-10T15:21:36.662948",
     "exception": false,
     "start_time": "2022-01-10T15:21:36.584815",
     "status": "completed"
    },
    "tags": []
   },
   "outputs": [],
   "source": [
    "len(dff)"
   ]
  },
  {
   "cell_type": "code",
   "execution_count": null,
   "metadata": {
    "execution": {
     "iopub.execute_input": "2022-01-10T15:21:36.772334Z",
     "iopub.status.busy": "2022-01-10T15:21:36.772334Z",
     "iopub.status.idle": "2022-01-10T15:21:36.787967Z",
     "shell.execute_reply": "2022-01-10T15:21:36.787967Z"
    },
    "papermill": {
     "duration": 0.078144,
     "end_time": "2022-01-10T15:21:36.787967",
     "exception": false,
     "start_time": "2022-01-10T15:21:36.709823",
     "status": "completed"
    },
    "tags": []
   },
   "outputs": [],
   "source": [
    "# dff.drop('Sanitation_District',axis=1,inplace=True)"
   ]
  },
  {
   "cell_type": "code",
   "execution_count": null,
   "metadata": {
    "execution": {
     "iopub.execute_input": "2022-01-10T15:21:36.928589Z",
     "iopub.status.busy": "2022-01-10T15:21:36.928589Z",
     "iopub.status.idle": "2022-01-10T15:21:36.944234Z",
     "shell.execute_reply": "2022-01-10T15:21:36.944234Z"
    },
    "papermill": {
     "duration": 0.109398,
     "end_time": "2022-01-10T15:21:36.944234",
     "exception": false,
     "start_time": "2022-01-10T15:21:36.834836",
     "status": "completed"
    },
    "scrolled": true,
    "tags": []
   },
   "outputs": [],
   "source": [
    "dff.head(10)"
   ]
  },
  {
   "cell_type": "code",
   "execution_count": null,
   "metadata": {
    "execution": {
     "iopub.execute_input": "2022-01-10T15:21:37.084849Z",
     "iopub.status.busy": "2022-01-10T15:21:37.084849Z",
     "iopub.status.idle": "2022-01-10T15:21:37.100531Z",
     "shell.execute_reply": "2022-01-10T15:21:37.100531Z"
    },
    "papermill": {
     "duration": 0.109423,
     "end_time": "2022-01-10T15:21:37.100531",
     "exception": false,
     "start_time": "2022-01-10T15:21:36.991108",
     "status": "completed"
    },
    "tags": []
   },
   "outputs": [],
   "source": [
    "# pd.to_numeric(dff['Census_Tract'],errors='coerce')\n",
    "dff['Latitude'] = pd.to_numeric(dff['Latitude'],errors='coerce')\n",
    "dff['Longitude'] = pd.to_numeric(dff['Longitude'],errors='coerce')"
   ]
  },
  {
   "cell_type": "code",
   "execution_count": null,
   "metadata": {
    "execution": {
     "iopub.execute_input": "2022-01-10T15:21:37.256715Z",
     "iopub.status.busy": "2022-01-10T15:21:37.256715Z",
     "iopub.status.idle": "2022-01-10T15:21:37.272348Z",
     "shell.execute_reply": "2022-01-10T15:21:37.272348Z"
    },
    "papermill": {
     "duration": 0.078129,
     "end_time": "2022-01-10T15:21:37.272348",
     "exception": false,
     "start_time": "2022-01-10T15:21:37.194219",
     "status": "completed"
    },
    "tags": []
   },
   "outputs": [],
   "source": [
    "#If the length of the updated dateframe is greater than 0 then truncate the existing table\n",
    "if len(dff) > 0:\n",
    "    crsr = con.cursor()\n",
    "    crsr.execute('''truncate table structuresdb.dbo.tbl_geosupport_address''')\n",
    "    crsr.commit()\n",
    "    crsr.close()"
   ]
  },
  {
   "cell_type": "code",
   "execution_count": null,
   "metadata": {
    "execution": {
     "iopub.execute_input": "2022-01-10T15:21:37.381740Z",
     "iopub.status.busy": "2022-01-10T15:21:37.381740Z",
     "iopub.status.idle": "2022-01-10T15:21:43.288231Z",
     "shell.execute_reply": "2022-01-10T15:21:43.288231Z"
    },
    "papermill": {
     "duration": 5.968982,
     "end_time": "2022-01-10T15:21:43.288231",
     "exception": false,
     "start_time": "2022-01-10T15:21:37.319249",
     "status": "completed"
    },
    "tags": []
   },
   "outputs": [],
   "source": [
    "dff.to_sql('tbl_geosupport_address',\n",
    "           engine,\n",
    "           schema='dbo',\n",
    "           if_exists='append',\n",
    "           index=False)"
   ]
  },
  {
   "cell_type": "code",
   "execution_count": null,
   "metadata": {
    "execution": {
     "iopub.execute_input": "2022-01-10T15:21:43.678857Z",
     "iopub.status.busy": "2022-01-10T15:21:43.678857Z",
     "iopub.status.idle": "2022-01-10T15:21:43.694844Z",
     "shell.execute_reply": "2022-01-10T15:21:43.694844Z"
    },
    "papermill": {
     "duration": 0.078468,
     "end_time": "2022-01-10T15:21:43.694844",
     "exception": false,
     "start_time": "2022-01-10T15:21:43.616376",
     "status": "completed"
    },
    "tags": []
   },
   "outputs": [],
   "source": [
    "dff.Latitude.fillna(0,inplace=True)\n",
    "dff.Longitude.fillna(0,inplace=True)\n",
    "dff.Boro_Code.fillna(0,inplace=True)\n",
    "dff.Address_ID.fillna(0,inplace=True)"
   ]
  },
  {
   "cell_type": "code",
   "execution_count": null,
   "metadata": {
    "execution": {
     "iopub.execute_input": "2022-01-10T15:21:43.928881Z",
     "iopub.status.busy": "2022-01-10T15:21:43.928881Z",
     "iopub.status.idle": "2022-01-10T15:21:43.944487Z",
     "shell.execute_reply": "2022-01-10T15:21:43.944487Z"
    },
    "papermill": {
     "duration": 0.07813,
     "end_time": "2022-01-10T15:21:43.944487",
     "exception": false,
     "start_time": "2022-01-10T15:21:43.866357",
     "status": "completed"
    },
    "tags": []
   },
   "outputs": [],
   "source": [
    "# dff = dff.drop(columns = ['official_address', 'posted_address','Sanitation_District'])\n",
    "dff = dff.drop(columns = ['Sanitation_District'])"
   ]
  },
  {
   "cell_type": "code",
   "execution_count": null,
   "metadata": {
    "execution": {
     "iopub.execute_input": "2022-01-10T15:21:44.194525Z",
     "iopub.status.busy": "2022-01-10T15:21:44.194525Z",
     "iopub.status.idle": "2022-01-10T15:21:44.647659Z",
     "shell.execute_reply": "2022-01-10T15:21:44.647659Z"
    },
    "papermill": {
     "duration": 0.51564,
     "end_time": "2022-01-10T15:21:44.647659",
     "exception": false,
     "start_time": "2022-01-10T15:21:44.132019",
     "status": "completed"
    },
    "tags": []
   },
   "outputs": [],
   "source": [
    "geosupport_FSET = FeatureSet.from_dataframe(dff)"
   ]
  },
  {
   "cell_type": "code",
   "execution_count": null,
   "metadata": {
    "execution": {
     "iopub.execute_input": "2022-01-10T15:21:44.757017Z",
     "iopub.status.busy": "2022-01-10T15:21:44.757017Z",
     "iopub.status.idle": "2022-01-10T15:21:44.772643Z",
     "shell.execute_reply": "2022-01-10T15:21:44.772643Z"
    },
    "papermill": {
     "duration": 0.062501,
     "end_time": "2022-01-10T15:21:44.772643",
     "exception": false,
     "start_time": "2022-01-10T15:21:44.710142",
     "status": "completed"
    },
    "tags": []
   },
   "outputs": [],
   "source": [
    "len(geosupport_FSET.features)"
   ]
  },
  {
   "cell_type": "markdown",
   "metadata": {
    "papermill": {
     "duration": 0.062504,
     "end_time": "2022-01-10T15:21:44.882045",
     "exception": false,
     "start_time": "2022-01-10T15:21:44.819541",
     "status": "completed"
    },
    "tags": []
   },
   "source": [
    "### EDIT"
   ]
  },
  {
   "cell_type": "code",
   "execution_count": null,
   "metadata": {
    "execution": {
     "iopub.execute_input": "2022-01-10T15:21:44.991401Z",
     "iopub.status.busy": "2022-01-10T15:21:44.991401Z",
     "iopub.status.idle": "2022-01-10T15:26:01.454987Z",
     "shell.execute_reply": "2022-01-10T15:26:01.454987Z"
    },
    "papermill": {
     "duration": 256.526061,
     "end_time": "2022-01-10T15:26:01.454987",
     "exception": false,
     "start_time": "2022-01-10T15:21:44.928926",
     "status": "completed"
    },
    "tags": []
   },
   "outputs": [],
   "source": [
    "if len(dff) > 0: #len(geosupport_FSET.features):\n",
    "    try:\n",
    "        ## TRUNCATE AND REPLACE\n",
    "        tbl_geosupport.delete_features(where=\"objectid > 0\")\n",
    "        add_to_geosupport = tbl_geosupport.edit_features(adds = geosupport_FSET.features)\n",
    "        print('successfully truncated and replaced!/n')\n",
    "    except:\n",
    "        error_mssg = 'Updates were not pushed successfully to the geosupport table. Please see Notebook output/logs for further details.'\n",
    "        send_email('mycontacts.txt','fail_update_mssg.txt', subject = 'geosupport push: FAILED!', e=error_mssg)\n",
    "    else:\n",
    "        success_mssg = 'There were ' + str(len(dff)) + ' updates pushed to Production.'\n",
    "        send_email('mycontacts.txt','success_geosupport_mssg.txt', subject = 'geosupport push: SUCCESS!', e=success_mssg)\n",
    "else:\n",
    "    mssg = 'There were no updates to push to the geosupport table.'\n",
    "    send_email('mycontacts.txt','fail_update_mssg.txt', subject = 'geosupport: NO UPDATES to push', e=mssg)"
   ]
  },
  {
   "cell_type": "code",
   "execution_count": null,
   "metadata": {},
   "outputs": [],
   "source": []
  }
 ],
 "metadata": {
  "kernelspec": {
   "display_name": "Python 3",
   "language": "python",
   "name": "python3"
  },
  "language_info": {
   "codemirror_mode": {
    "name": "ipython",
    "version": 3
   },
   "file_extension": ".py",
   "mimetype": "text/x-python",
   "name": "python",
   "nbconvert_exporter": "python",
   "pygments_lexer": "ipython3",
   "version": "3.8.6"
  },
  "papermill": {
   "default_parameters": {},
   "duration": 1534.421903,
   "end_time": "2022-01-10T15:26:02.611286",
   "environment_variables": {},
   "exception": null,
   "input_path": "weekly_pre_QA\\pre_QA_esri_push.ipynb",
   "output_path": "weekly_pre_QA\\snapshots\\pre_QA_esri_push\\2022-01-10 10.00.25.939270\\pre_QA_esri_push.ipynb",
   "parameters": {
    "snapshotDir": "weekly_pre_QA\\snapshots\\pre_QA_esri_push\\2022-01-10 10.00.25.939270\\"
   },
   "start_time": "2022-01-10T15:00:28.189383",
   "version": "2.2.0"
  },
  "toc": {
   "base_numbering": 1,
   "nav_menu": {},
   "number_sections": false,
   "sideBar": true,
   "skip_h1_title": false,
   "title_cell": "Table of Contents",
   "title_sidebar": "Contents",
   "toc_cell": false,
   "toc_position": {
    "height": "calc(100% - 180px)",
    "left": "10px",
    "top": "150px",
    "width": "196px"
   },
   "toc_section_display": true,
   "toc_window_display": true
  },
  "varInspector": {
   "cols": {
    "lenName": 16,
    "lenType": 16,
    "lenVar": 40
   },
   "kernels_config": {
    "python": {
     "delete_cmd_postfix": "",
     "delete_cmd_prefix": "del ",
     "library": "var_list.py",
     "varRefreshCmd": "print(var_dic_list())"
    },
    "r": {
     "delete_cmd_postfix": ") ",
     "delete_cmd_prefix": "rm(",
     "library": "var_list.r",
     "varRefreshCmd": "cat(var_dic_list()) "
    }
   },
   "types_to_exclude": [
    "module",
    "function",
    "builtin_function_or_method",
    "instance",
    "_Feature"
   ],
   "window_display": false
  }
 },
 "nbformat": 4,
 "nbformat_minor": 2
}
