{
 "cells": [
  {
   "cell_type": "markdown",
   "metadata": {
    "tags": [
     "papermill-error-cell-tag"
    ]
   },
   "source": [
    "<span style=\"color:red; font-family:Helvetica Neue, Helvetica, Arial, sans-serif; font-size:2em;\">An Exception was encountered at '<a href=\"#papermill-error-cell\">In [31]</a>'.</span>"
   ]
  },
  {
   "cell_type": "code",
   "execution_count": 1,
   "metadata": {
    "execution": {
     "iopub.execute_input": "2021-02-21T12:00:08.103840Z",
     "iopub.status.busy": "2021-02-21T12:00:08.103840Z",
     "iopub.status.idle": "2021-02-21T12:00:08.119477Z",
     "shell.execute_reply": "2021-02-21T12:00:08.119477Z"
    },
    "papermill": {
     "duration": 0.062506,
     "end_time": "2021-02-21T12:00:08.119477",
     "exception": false,
     "start_time": "2021-02-21T12:00:08.056971",
     "status": "completed"
    },
    "tags": [
     "injected-parameters"
    ]
   },
   "outputs": [],
   "source": [
    "# Parameters\n",
    "snapshotDir = \"weekly_pre_QA\\\\snapshots\\\\pre_QA_esri_push\\\\2021-02-21 07.00.00.838081\\\\\"\n"
   ]
  },
  {
   "cell_type": "markdown",
   "metadata": {
    "papermill": {
     "duration": 0.046845,
     "end_time": "2021-02-21T12:00:08.213272",
     "exception": false,
     "start_time": "2021-02-21T12:00:08.166427",
     "status": "completed"
    },
    "tags": []
   },
   "source": [
    "julie.tsitron@parks.nyc.gov 2/20/2020"
   ]
  },
  {
   "cell_type": "markdown",
   "metadata": {
    "papermill": {
     "duration": 0.04689,
     "end_time": "2021-02-21T12:00:08.291419",
     "exception": false,
     "start_time": "2021-02-21T12:00:08.244529",
     "status": "completed"
    },
    "tags": []
   },
   "source": [
    "# Imports and Connections to DBs"
   ]
  },
  {
   "cell_type": "code",
   "execution_count": 2,
   "metadata": {
    "execution": {
     "iopub.execute_input": "2021-02-21T12:00:08.400717Z",
     "iopub.status.busy": "2021-02-21T12:00:08.400717Z",
     "iopub.status.idle": "2021-02-21T12:00:08.416357Z",
     "shell.execute_reply": "2021-02-21T12:00:08.416357Z"
    },
    "papermill": {
     "duration": 0.062511,
     "end_time": "2021-02-21T12:00:08.416357",
     "exception": false,
     "start_time": "2021-02-21T12:00:08.353846",
     "status": "completed"
    },
    "tags": []
   },
   "outputs": [
    {
     "data": {
      "text/plain": [
       "'D:\\\\Projects\\\\Structures\\\\scripts'"
      ]
     },
     "execution_count": 2,
     "metadata": {},
     "output_type": "execute_result"
    }
   ],
   "source": [
    "pwd"
   ]
  },
  {
   "cell_type": "code",
   "execution_count": 3,
   "metadata": {
    "execution": {
     "iopub.execute_input": "2021-02-21T12:00:08.510133Z",
     "iopub.status.busy": "2021-02-21T12:00:08.510133Z",
     "iopub.status.idle": "2021-02-21T12:00:08.994626Z",
     "shell.execute_reply": "2021-02-21T12:00:08.994626Z"
    },
    "papermill": {
     "duration": 0.531344,
     "end_time": "2021-02-21T12:00:08.994626",
     "exception": false,
     "start_time": "2021-02-21T12:00:08.463282",
     "status": "completed"
    },
    "tags": []
   },
   "outputs": [],
   "source": [
    "import pyproj"
   ]
  },
  {
   "cell_type": "code",
   "execution_count": 4,
   "metadata": {
    "execution": {
     "iopub.execute_input": "2021-02-21T12:00:09.088240Z",
     "iopub.status.busy": "2021-02-21T12:00:09.088240Z",
     "iopub.status.idle": "2021-02-21T12:00:14.775865Z",
     "shell.execute_reply": "2021-02-21T12:00:14.775865Z"
    },
    "papermill": {
     "duration": 5.734296,
     "end_time": "2021-02-21T12:00:14.775865",
     "exception": false,
     "start_time": "2021-02-21T12:00:09.041569",
     "status": "completed"
    },
    "tags": []
   },
   "outputs": [],
   "source": [
    "import geopandas"
   ]
  },
  {
   "cell_type": "code",
   "execution_count": 5,
   "metadata": {
    "execution": {
     "iopub.execute_input": "2021-02-21T12:00:14.869624Z",
     "iopub.status.busy": "2021-02-21T12:00:14.869624Z",
     "iopub.status.idle": "2021-02-21T12:00:14.885244Z",
     "shell.execute_reply": "2021-02-21T12:00:14.885244Z"
    },
    "papermill": {
     "duration": 0.062501,
     "end_time": "2021-02-21T12:00:14.885244",
     "exception": false,
     "start_time": "2021-02-21T12:00:14.822743",
     "status": "completed"
    },
    "tags": []
   },
   "outputs": [
    {
     "data": {
      "text/plain": [
       "'0.8.1'"
      ]
     },
     "execution_count": 5,
     "metadata": {},
     "output_type": "execute_result"
    }
   ],
   "source": [
    "geopandas.__version__"
   ]
  },
  {
   "cell_type": "code",
   "execution_count": 6,
   "metadata": {
    "execution": {
     "iopub.execute_input": "2021-02-21T12:00:14.963444Z",
     "iopub.status.busy": "2021-02-21T12:00:14.963444Z",
     "iopub.status.idle": "2021-02-21T12:00:14.978994Z",
     "shell.execute_reply": "2021-02-21T12:00:14.978994Z"
    },
    "papermill": {
     "duration": 0.062496,
     "end_time": "2021-02-21T12:00:14.978994",
     "exception": false,
     "start_time": "2021-02-21T12:00:14.916498",
     "status": "completed"
    },
    "tags": []
   },
   "outputs": [
    {
     "data": {
      "text/plain": [
       "'2.6.1.post1'"
      ]
     },
     "execution_count": 6,
     "metadata": {},
     "output_type": "execute_result"
    }
   ],
   "source": [
    "pyproj.__version__"
   ]
  },
  {
   "cell_type": "code",
   "execution_count": 7,
   "metadata": {
    "execution": {
     "iopub.execute_input": "2021-02-21T12:00:15.088367Z",
     "iopub.status.busy": "2021-02-21T12:00:15.088367Z",
     "iopub.status.idle": "2021-02-21T12:00:15.104009Z",
     "shell.execute_reply": "2021-02-21T12:00:15.104009Z"
    },
    "papermill": {
     "duration": 0.07807,
     "end_time": "2021-02-21T12:00:15.104009",
     "exception": false,
     "start_time": "2021-02-21T12:00:15.025939",
     "status": "completed"
    },
    "tags": []
   },
   "outputs": [],
   "source": [
    "# pyproj."
   ]
  },
  {
   "cell_type": "code",
   "execution_count": 8,
   "metadata": {
    "execution": {
     "iopub.execute_input": "2021-02-21T12:00:15.197740Z",
     "iopub.status.busy": "2021-02-21T12:00:15.197740Z",
     "iopub.status.idle": "2021-02-21T12:00:21.979151Z",
     "shell.execute_reply": "2021-02-21T12:00:21.979151Z"
    },
    "papermill": {
     "duration": 6.828273,
     "end_time": "2021-02-21T12:00:21.979151",
     "exception": false,
     "start_time": "2021-02-21T12:00:15.150878",
     "status": "completed"
    },
    "scrolled": true,
    "tags": []
   },
   "outputs": [],
   "source": [
    "import pandas as pd\n",
    "import numpy as np\n",
    "import pyodbc\n",
    "import sys\n",
    "import json\n",
    "import urllib\n",
    "import sqlalchemy\n",
    "import os\n",
    "import shapely\n",
    "from datetime import datetime\n",
    "\n",
    "from arcgis.gis import GIS\n",
    "from arcgis.features import GeoAccessor, GeoSeriesAccessor, SpatialDataFrame, FeatureLayer, FeatureSet\n",
    "\n",
    "sys.path.append('../')\n",
    "from IPM_Shared_Code_public.Python.geo_functions import read_geosql\n",
    "from IPM_Shared_Code_public.Python.utils import get_config\n",
    "from IPM_Shared_Code_public.Python.email_functions import get_contacts, read_template, send_email\n",
    "from geosupport import *"
   ]
  },
  {
   "cell_type": "code",
   "execution_count": 9,
   "metadata": {
    "execution": {
     "iopub.execute_input": "2021-02-21T12:00:22.072894Z",
     "iopub.status.busy": "2021-02-21T12:00:22.072894Z",
     "iopub.status.idle": "2021-02-21T12:00:22.088605Z",
     "shell.execute_reply": "2021-02-21T12:00:22.088605Z"
    },
    "papermill": {
     "duration": 0.062593,
     "end_time": "2021-02-21T12:00:22.088605",
     "exception": false,
     "start_time": "2021-02-21T12:00:22.026012",
     "status": "completed"
    },
    "tags": []
   },
   "outputs": [],
   "source": [
    "config = get_config('c:\\Projects\\config.ini')\n",
    "\n",
    "driver = config['srv']['driver']\n",
    "server = config['srv']['server']\n",
    "parksgis = config['srv']['parksgis']\n",
    "data_parks_server = config['srv']['data_parks']\n",
    "structuresdb = config['db']['structuresdb']\n",
    "portal = config['url']['portal']\n",
    "structures_url = config['url']['structures']\n",
    "geosupport_url = config['url']['geosupport']"
   ]
  },
  {
   "cell_type": "code",
   "execution_count": 10,
   "metadata": {
    "execution": {
     "iopub.execute_input": "2021-02-21T12:00:22.198011Z",
     "iopub.status.busy": "2021-02-21T12:00:22.198011Z",
     "iopub.status.idle": "2021-02-21T12:00:22.604169Z",
     "shell.execute_reply": "2021-02-21T12:00:22.604169Z"
    },
    "papermill": {
     "duration": 0.453144,
     "end_time": "2021-02-21T12:00:22.604169",
     "exception": false,
     "start_time": "2021-02-21T12:00:22.151025",
     "status": "completed"
    },
    "tags": []
   },
   "outputs": [],
   "source": [
    "params = urllib.parse.quote_plus(r'Driver=' + driver + ';Server=' + server +\n",
    "                                 ';Database=' + structuresdb +\n",
    "                                 ';Trusted_Connection=Yes;')\n",
    "engine = sqlalchemy.create_engine(\"mssql+pyodbc:///?odbc_connect=%s\" % params)\n",
    "connection = engine.connect()"
   ]
  },
  {
   "cell_type": "code",
   "execution_count": 11,
   "metadata": {
    "execution": {
     "iopub.execute_input": "2021-02-21T12:00:22.697901Z",
     "iopub.status.busy": "2021-02-21T12:00:22.697901Z",
     "iopub.status.idle": "2021-02-21T12:00:22.932292Z",
     "shell.execute_reply": "2021-02-21T12:00:22.932292Z"
    },
    "papermill": {
     "duration": 0.281263,
     "end_time": "2021-02-21T12:00:22.932292",
     "exception": false,
     "start_time": "2021-02-21T12:00:22.651029",
     "status": "completed"
    },
    "tags": []
   },
   "outputs": [],
   "source": [
    "con_data_parks = pyodbc.connect('Driver={' + driver + '};Server=' + data_parks_server +\n",
    "                     ';Database=IPMDB;Trusted_Connection=Yes;')\n",
    "con = pyodbc.connect('Driver={' + driver + '};Server=' + server +\n",
    "                           ';Database=;Trusted_Connection=Yes;')"
   ]
  },
  {
   "cell_type": "markdown",
   "metadata": {
    "papermill": {
     "duration": 0.046927,
     "end_time": "2021-02-21T12:00:23.026095",
     "exception": false,
     "start_time": "2021-02-21T12:00:22.979168",
     "status": "completed"
    },
    "tags": []
   },
   "source": [
    "## Deal with Dates"
   ]
  },
  {
   "cell_type": "markdown",
   "metadata": {
    "papermill": {
     "duration": 0.046814,
     "end_time": "2021-02-21T12:00:23.119799",
     "exception": false,
     "start_time": "2021-02-21T12:00:23.072985",
     "status": "completed"
    },
    "tags": []
   },
   "source": [
    "### m/d/Y H:M:S format:"
   ]
  },
  {
   "cell_type": "code",
   "execution_count": 12,
   "metadata": {
    "execution": {
     "iopub.execute_input": "2021-02-21T12:00:23.213583Z",
     "iopub.status.busy": "2021-02-21T12:00:23.213583Z",
     "iopub.status.idle": "2021-02-21T12:00:23.229182Z",
     "shell.execute_reply": "2021-02-21T12:00:23.229182Z"
    },
    "papermill": {
     "duration": 0.062512,
     "end_time": "2021-02-21T12:00:23.229182",
     "exception": false,
     "start_time": "2021-02-21T12:00:23.166670",
     "status": "completed"
    },
    "tags": []
   },
   "outputs": [],
   "source": [
    "# structures_dev['COMMISSIONDATE'] = pd.to_datetime(\n",
    "#     structures_dev['COMMISSIONDATE'],\n",
    "#     errors='coerce').dt.strftime('%m/%d/%Y %H:%M:%S')"
   ]
  },
  {
   "cell_type": "code",
   "execution_count": 13,
   "metadata": {
    "execution": {
     "iopub.execute_input": "2021-02-21T12:00:23.322976Z",
     "iopub.status.busy": "2021-02-21T12:00:23.322976Z",
     "iopub.status.idle": "2021-02-21T12:00:23.338569Z",
     "shell.execute_reply": "2021-02-21T12:00:23.338569Z"
    },
    "papermill": {
     "duration": 0.062516,
     "end_time": "2021-02-21T12:00:23.338569",
     "exception": false,
     "start_time": "2021-02-21T12:00:23.276053",
     "status": "completed"
    },
    "scrolled": true,
    "tags": []
   },
   "outputs": [],
   "source": [
    "# structures_dev['COMMISSIONDATE']"
   ]
  },
  {
   "cell_type": "code",
   "execution_count": 14,
   "metadata": {
    "execution": {
     "iopub.execute_input": "2021-02-21T12:00:23.432312Z",
     "iopub.status.busy": "2021-02-21T12:00:23.432312Z",
     "iopub.status.idle": "2021-02-21T12:00:23.447928Z",
     "shell.execute_reply": "2021-02-21T12:00:23.447928Z"
    },
    "papermill": {
     "duration": 0.062491,
     "end_time": "2021-02-21T12:00:23.447928",
     "exception": false,
     "start_time": "2021-02-21T12:00:23.385437",
     "status": "completed"
    },
    "tags": []
   },
   "outputs": [],
   "source": [
    "# structures_dev['FEATURESTATUSCHANGEDATE'] = pd.to_datetime(\n",
    "#     structures_dev['FEATURESTATUSCHANGEDATE']).dt.strftime('%m/%d/%Y %H:%M:%S')"
   ]
  },
  {
   "cell_type": "code",
   "execution_count": 15,
   "metadata": {
    "execution": {
     "iopub.execute_input": "2021-02-21T12:00:23.541685Z",
     "iopub.status.busy": "2021-02-21T12:00:23.541685Z",
     "iopub.status.idle": "2021-02-21T12:00:23.557302Z",
     "shell.execute_reply": "2021-02-21T12:00:23.557302Z"
    },
    "papermill": {
     "duration": 0.062491,
     "end_time": "2021-02-21T12:00:23.557302",
     "exception": false,
     "start_time": "2021-02-21T12:00:23.494811",
     "status": "completed"
    },
    "tags": []
   },
   "outputs": [],
   "source": [
    "# structures_dev['RETIREDDATE'] = pd.to_datetime(\n",
    "#     structures_dev['RETIREDDATE']).dt.strftime('%m/%d/%Y %H:%M:%S')"
   ]
  },
  {
   "cell_type": "code",
   "execution_count": 16,
   "metadata": {
    "execution": {
     "iopub.execute_input": "2021-02-21T12:00:23.651112Z",
     "iopub.status.busy": "2021-02-21T12:00:23.651112Z",
     "iopub.status.idle": "2021-02-21T12:00:23.666682Z",
     "shell.execute_reply": "2021-02-21T12:00:23.666682Z"
    },
    "papermill": {
     "duration": 0.06248,
     "end_time": "2021-02-21T12:00:23.666682",
     "exception": false,
     "start_time": "2021-02-21T12:00:23.604202",
     "status": "completed"
    },
    "scrolled": true,
    "tags": []
   },
   "outputs": [],
   "source": [
    "# structures_dev.columns.values"
   ]
  },
  {
   "cell_type": "markdown",
   "metadata": {
    "papermill": {
     "duration": 0.031222,
     "end_time": "2021-02-21T12:00:23.744810",
     "exception": false,
     "start_time": "2021-02-21T12:00:23.713588",
     "status": "completed"
    },
    "tags": []
   },
   "source": [
    "# Delta Table from structuresdb"
   ]
  },
  {
   "cell_type": "code",
   "execution_count": 17,
   "metadata": {
    "execution": {
     "iopub.execute_input": "2021-02-21T12:00:23.854266Z",
     "iopub.status.busy": "2021-02-21T12:00:23.854266Z",
     "iopub.status.idle": "2021-02-21T12:00:23.885431Z",
     "shell.execute_reply": "2021-02-21T12:00:23.885431Z"
    },
    "papermill": {
     "duration": 0.093745,
     "end_time": "2021-02-21T12:00:23.885431",
     "exception": false,
     "start_time": "2021-02-21T12:00:23.791686",
     "status": "completed"
    },
    "scrolled": true,
    "tags": []
   },
   "outputs": [],
   "source": [
    "# SPATIAL DATASET:\n",
    "sql_str_deltas = 'select * FROM [structuresdb].[dbo].[tbl_delta_structures]'\n",
    "struct_deltas = read_geosql(sql_str_deltas,\n",
    "                            con,\n",
    "                            geom_raw='shape',\n",
    "                            geom_col='geometry')"
   ]
  },
  {
   "cell_type": "code",
   "execution_count": 18,
   "metadata": {
    "execution": {
     "iopub.execute_input": "2021-02-21T12:00:23.979183Z",
     "iopub.status.busy": "2021-02-21T12:00:23.979183Z",
     "iopub.status.idle": "2021-02-21T12:00:23.994823Z",
     "shell.execute_reply": "2021-02-21T12:00:23.994823Z"
    },
    "papermill": {
     "duration": 0.06239,
     "end_time": "2021-02-21T12:00:23.994823",
     "exception": false,
     "start_time": "2021-02-21T12:00:23.932433",
     "status": "completed"
    },
    "tags": []
   },
   "outputs": [],
   "source": [
    "## Still need this ??\n",
    "\n",
    "struct_deltas.rename(columns={\n",
    "    'objectid': 'OBJECTID',\n",
    "    'parks_id': 'SYSTEM',\n",
    "    'bin': 'BIN',\n",
    "    'bbl': 'BBL',\n",
    "    'doitt_id': 'DOITT_ID',\n",
    "    'ground_elevation': 'Ground_Elevation',\n",
    "    'height_roof': 'Height_Roof',\n",
    "    'alteration_year': 'Alteration_Year',\n",
    "    'construction_year': 'Construction_Year',\n",
    "    'demolition_year': 'Demolition_Year'\n",
    "},\n",
    "                     inplace=True)"
   ]
  },
  {
   "cell_type": "code",
   "execution_count": 19,
   "metadata": {
    "execution": {
     "iopub.execute_input": "2021-02-21T12:00:24.104190Z",
     "iopub.status.busy": "2021-02-21T12:00:24.104190Z",
     "iopub.status.idle": "2021-02-21T12:00:24.135449Z",
     "shell.execute_reply": "2021-02-21T12:00:24.135449Z"
    },
    "papermill": {
     "duration": 0.09375,
     "end_time": "2021-02-21T12:00:24.135449",
     "exception": false,
     "start_time": "2021-02-21T12:00:24.041699",
     "status": "completed"
    },
    "scrolled": false,
    "tags": []
   },
   "outputs": [
    {
     "data": {
      "text/html": [
       "<div>\n",
       "<style scoped>\n",
       "    .dataframe tbody tr th:only-of-type {\n",
       "        vertical-align: middle;\n",
       "    }\n",
       "\n",
       "    .dataframe tbody tr th {\n",
       "        vertical-align: top;\n",
       "    }\n",
       "\n",
       "    .dataframe thead th {\n",
       "        text-align: right;\n",
       "    }\n",
       "</style>\n",
       "<table border=\"1\" class=\"dataframe\">\n",
       "  <thead>\n",
       "    <tr style=\"text-align: right;\">\n",
       "      <th></th>\n",
       "      <th>fid</th>\n",
       "      <th>OBJECTID</th>\n",
       "      <th>SYSTEM</th>\n",
       "      <th>BIN</th>\n",
       "      <th>BBL</th>\n",
       "      <th>DOITT_ID</th>\n",
       "      <th>Ground_Elevation</th>\n",
       "      <th>Height_Roof</th>\n",
       "      <th>Construction_Year</th>\n",
       "      <th>Alteration_Year</th>\n",
       "      <th>Demolition_Year</th>\n",
       "      <th>api_call</th>\n",
       "      <th>doitt_source</th>\n",
       "      <th>date_stamp</th>\n",
       "      <th>geometry</th>\n",
       "    </tr>\n",
       "  </thead>\n",
       "  <tbody>\n",
       "    <tr>\n",
       "      <th>0</th>\n",
       "      <td>2</td>\n",
       "      <td>6218</td>\n",
       "      <td>Q448-ZN01A-BLG0398</td>\n",
       "      <td>4268835</td>\n",
       "      <td>4124060180</td>\n",
       "      <td>919366</td>\n",
       "      <td>19</td>\n",
       "      <td>41.21</td>\n",
       "      <td>1943</td>\n",
       "      <td>1986</td>\n",
       "      <td>None</td>\n",
       "      <td>U</td>\n",
       "      <td>current</td>\n",
       "      <td>2021-02-21 09:02:02.120</td>\n",
       "      <td>POLYGON ((1048144.032 189855.073, 1048131.716 ...</td>\n",
       "    </tr>\n",
       "  </tbody>\n",
       "</table>\n",
       "</div>"
      ],
      "text/plain": [
       "   fid  OBJECTID              SYSTEM      BIN         BBL  DOITT_ID  \\\n",
       "0    2      6218  Q448-ZN01A-BLG0398  4268835  4124060180    919366   \n",
       "\n",
       "   Ground_Elevation  Height_Roof  Construction_Year  Alteration_Year  \\\n",
       "0                19        41.21               1943             1986   \n",
       "\n",
       "  Demolition_Year api_call doitt_source              date_stamp  \\\n",
       "0            None        U      current 2021-02-21 09:02:02.120   \n",
       "\n",
       "                                            geometry  \n",
       "0  POLYGON ((1048144.032 189855.073, 1048131.716 ...  "
      ]
     },
     "execution_count": 19,
     "metadata": {},
     "output_type": "execute_result"
    }
   ],
   "source": [
    "struct_deltas.head()"
   ]
  },
  {
   "cell_type": "code",
   "execution_count": 20,
   "metadata": {
    "execution": {
     "iopub.execute_input": "2021-02-21T12:00:24.229201Z",
     "iopub.status.busy": "2021-02-21T12:00:24.229201Z",
     "iopub.status.idle": "2021-02-21T12:00:24.244978Z",
     "shell.execute_reply": "2021-02-21T12:00:24.244978Z"
    },
    "papermill": {
     "duration": 0.06265,
     "end_time": "2021-02-21T12:00:24.244978",
     "exception": false,
     "start_time": "2021-02-21T12:00:24.182328",
     "status": "completed"
    },
    "tags": []
   },
   "outputs": [],
   "source": [
    "# struct_deltas[struct_deltas['SYSTEM']=='Q015-ZN06-BLG0418']"
   ]
  },
  {
   "cell_type": "code",
   "execution_count": 21,
   "metadata": {
    "execution": {
     "iopub.execute_input": "2021-02-21T12:00:24.338566Z",
     "iopub.status.busy": "2021-02-21T12:00:24.338566Z",
     "iopub.status.idle": "2021-02-21T12:00:24.354197Z",
     "shell.execute_reply": "2021-02-21T12:00:24.354197Z"
    },
    "papermill": {
     "duration": 0.062502,
     "end_time": "2021-02-21T12:00:24.354197",
     "exception": false,
     "start_time": "2021-02-21T12:00:24.291695",
     "status": "completed"
    },
    "scrolled": false,
    "tags": []
   },
   "outputs": [],
   "source": [
    "multipolygons = []\n",
    "\n",
    "for i, row in struct_deltas.iterrows(): \n",
    "    if type(row['geometry'])==shapely.geometry.multipolygon.MultiPolygon:\n",
    "        multipolygons.append(row['SYSTEM'])\n",
    "\n",
    "if len(multipolygons)!=0:\n",
    "    ids = '\\n'.join(multipolygons)\n",
    "    mssg = 'SYSTEM ID(s) of building(s) that are MultiPolygons:\\n'+ids\n",
    "    send_email('mycontacts.txt','multipoly_mssg.txt', subject = 'multipolygons', e=mssg)\n",
    "    \n",
    "struct_deltas = struct_deltas[~struct_deltas['SYSTEM'].isin(multipolygons)]"
   ]
  },
  {
   "cell_type": "code",
   "execution_count": 22,
   "metadata": {
    "execution": {
     "iopub.execute_input": "2021-02-21T12:00:24.447957Z",
     "iopub.status.busy": "2021-02-21T12:00:24.447957Z",
     "iopub.status.idle": "2021-02-21T12:00:24.463573Z",
     "shell.execute_reply": "2021-02-21T12:00:24.463573Z"
    },
    "papermill": {
     "duration": 0.062501,
     "end_time": "2021-02-21T12:00:24.463573",
     "exception": false,
     "start_time": "2021-02-21T12:00:24.401072",
     "status": "completed"
    },
    "tags": []
   },
   "outputs": [
    {
     "data": {
      "text/plain": [
       "[]"
      ]
     },
     "execution_count": 22,
     "metadata": {},
     "output_type": "execute_result"
    }
   ],
   "source": [
    "multipolygons"
   ]
  },
  {
   "cell_type": "markdown",
   "metadata": {
    "papermill": {
     "duration": 0.046878,
     "end_time": "2021-02-21T12:00:24.557326",
     "exception": false,
     "start_time": "2021-02-21T12:00:24.510448",
     "status": "completed"
    },
    "tags": []
   },
   "source": [
    "## Write Delta Table to geojson file"
   ]
  },
  {
   "cell_type": "code",
   "execution_count": 23,
   "metadata": {
    "execution": {
     "iopub.execute_input": "2021-02-21T12:00:24.651078Z",
     "iopub.status.busy": "2021-02-21T12:00:24.651078Z",
     "iopub.status.idle": "2021-02-21T12:00:24.666712Z",
     "shell.execute_reply": "2021-02-21T12:00:24.666712Z"
    },
    "papermill": {
     "duration": 0.078134,
     "end_time": "2021-02-21T12:00:24.666712",
     "exception": false,
     "start_time": "2021-02-21T12:00:24.588578",
     "status": "completed"
    },
    "tags": []
   },
   "outputs": [],
   "source": [
    "today = datetime.now().strftime('%Y%m%d')\n",
    "snapshot = r'C:\\\\Projects\\\\Structures\\\\delta_snapshots/' + today"
   ]
  },
  {
   "cell_type": "code",
   "execution_count": 24,
   "metadata": {
    "execution": {
     "iopub.execute_input": "2021-02-21T12:00:24.760456Z",
     "iopub.status.busy": "2021-02-21T12:00:24.760456Z",
     "iopub.status.idle": "2021-02-21T12:00:24.885475Z",
     "shell.execute_reply": "2021-02-21T12:00:24.885475Z"
    },
    "papermill": {
     "duration": 0.171876,
     "end_time": "2021-02-21T12:00:24.885475",
     "exception": false,
     "start_time": "2021-02-21T12:00:24.713599",
     "status": "completed"
    },
    "tags": []
   },
   "outputs": [],
   "source": [
    "if not struct_deltas.empty:\n",
    "    if os.path.exists(snapshot):\n",
    "        struct_deltas.to_file(snapshot + '/deltas.geojson',\n",
    "                              encoding='utf-8',\n",
    "                              driver='GeoJSON')\n",
    "    else:\n",
    "        os.makedirs(snapshot)\n",
    "        struct_deltas.to_file(snapshot + '/deltas.geojson',\n",
    "                              encoding='utf-8',\n",
    "                              driver='GeoJSON')"
   ]
  },
  {
   "cell_type": "markdown",
   "metadata": {
    "papermill": {
     "duration": 0.046871,
     "end_time": "2021-02-21T12:00:24.979216",
     "exception": false,
     "start_time": "2021-02-21T12:00:24.932345",
     "status": "completed"
    },
    "tags": []
   },
   "source": [
    "## Read geojson file to geojson object "
   ]
  },
  {
   "cell_type": "code",
   "execution_count": 25,
   "metadata": {
    "execution": {
     "iopub.execute_input": "2021-02-21T12:00:25.073036Z",
     "iopub.status.busy": "2021-02-21T12:00:25.073036Z",
     "iopub.status.idle": "2021-02-21T12:00:25.104213Z",
     "shell.execute_reply": "2021-02-21T12:00:25.104213Z"
    },
    "papermill": {
     "duration": 0.078118,
     "end_time": "2021-02-21T12:00:25.104213",
     "exception": false,
     "start_time": "2021-02-21T12:00:25.026095",
     "status": "completed"
    },
    "tags": []
   },
   "outputs": [],
   "source": [
    "if not struct_deltas.empty:\n",
    "    with open(snapshot+'/deltas.geojson') as data:\n",
    "        geojson_deltas = json.load(data)"
   ]
  },
  {
   "cell_type": "markdown",
   "metadata": {
    "papermill": {
     "duration": 0.046933,
     "end_time": "2021-02-21T12:00:25.198036",
     "exception": false,
     "start_time": "2021-02-21T12:00:25.151103",
     "status": "completed"
    },
    "tags": []
   },
   "source": [
    "## Create arcgis featureSet from geojson object"
   ]
  },
  {
   "cell_type": "code",
   "execution_count": 26,
   "metadata": {
    "execution": {
     "iopub.execute_input": "2021-02-21T12:00:25.307372Z",
     "iopub.status.busy": "2021-02-21T12:00:25.307372Z",
     "iopub.status.idle": "2021-02-21T12:00:25.322974Z",
     "shell.execute_reply": "2021-02-21T12:00:25.322974Z"
    },
    "papermill": {
     "duration": 0.078116,
     "end_time": "2021-02-21T12:00:25.322974",
     "exception": false,
     "start_time": "2021-02-21T12:00:25.244858",
     "status": "completed"
    },
    "tags": []
   },
   "outputs": [
    {
     "data": {
      "text/plain": [
       "geopandas.geodataframe.GeoDataFrame"
      ]
     },
     "execution_count": 26,
     "metadata": {},
     "output_type": "execute_result"
    }
   ],
   "source": [
    "type(struct_deltas)"
   ]
  },
  {
   "cell_type": "code",
   "execution_count": 27,
   "metadata": {
    "execution": {
     "iopub.execute_input": "2021-02-21T12:00:25.447970Z",
     "iopub.status.busy": "2021-02-21T12:00:25.447970Z",
     "iopub.status.idle": "2021-02-21T12:00:25.463678Z",
     "shell.execute_reply": "2021-02-21T12:00:25.463678Z"
    },
    "papermill": {
     "duration": 0.093823,
     "end_time": "2021-02-21T12:00:25.463678",
     "exception": false,
     "start_time": "2021-02-21T12:00:25.369855",
     "status": "completed"
    },
    "tags": []
   },
   "outputs": [
    {
     "data": {
      "text/plain": [
       "<Projected CRS: EPSG:2263>\n",
       "Name: NAD83 / New York Long Island (ftUS)\n",
       "Axis Info [cartesian]:\n",
       "- X[east]: Easting (US survey foot)\n",
       "- Y[north]: Northing (US survey foot)\n",
       "Area of Use:\n",
       "- name: USA - New York - SPCS - Long Island\n",
       "- bounds: (-74.26, 40.47, -71.8, 41.3)\n",
       "Coordinate Operation:\n",
       "- name: SPCS83 New York Long Island zone (US Survey feet)\n",
       "- method: Lambert Conic Conformal (2SP)\n",
       "Datum: North American Datum 1983\n",
       "- Ellipsoid: GRS 1980\n",
       "- Prime Meridian: Greenwich"
      ]
     },
     "execution_count": 27,
     "metadata": {},
     "output_type": "execute_result"
    }
   ],
   "source": [
    "struct_deltas.crs"
   ]
  },
  {
   "cell_type": "code",
   "execution_count": 28,
   "metadata": {
    "execution": {
     "iopub.execute_input": "2021-02-21T12:00:25.572978Z",
     "iopub.status.busy": "2021-02-21T12:00:25.572978Z",
     "iopub.status.idle": "2021-02-21T12:00:25.588669Z",
     "shell.execute_reply": "2021-02-21T12:00:25.588669Z"
    },
    "papermill": {
     "duration": 0.062578,
     "end_time": "2021-02-21T12:00:25.588669",
     "exception": false,
     "start_time": "2021-02-21T12:00:25.526091",
     "status": "completed"
    },
    "tags": []
   },
   "outputs": [],
   "source": [
    "# fromDF_deltas = FeatureSet.from_dataframe(pd.DataFrame(struct_deltas))"
   ]
  },
  {
   "cell_type": "code",
   "execution_count": 29,
   "metadata": {
    "execution": {
     "iopub.execute_input": "2021-02-21T12:00:25.682357Z",
     "iopub.status.busy": "2021-02-21T12:00:25.682357Z",
     "iopub.status.idle": "2021-02-21T12:00:25.713605Z",
     "shell.execute_reply": "2021-02-21T12:00:25.713605Z"
    },
    "papermill": {
     "duration": 0.078125,
     "end_time": "2021-02-21T12:00:25.713605",
     "exception": false,
     "start_time": "2021-02-21T12:00:25.635480",
     "status": "completed"
    },
    "scrolled": true,
    "tags": []
   },
   "outputs": [
    {
     "name": "stderr",
     "output_type": "stream",
     "text": [
      "C:\\ProgramData\\Anaconda3\\envs\\structures_vpipm\\lib\\site-packages\\arcgis\\features\\feature.py:799: UserWarning: crs has been deprecated and will be ignored. Please see: https://tools.ietf.org/html/rfc7946#section-4 for more information.\n",
      "  warn(\"crs has been deprecated and will be ignored. Please\"+ \\\n"
     ]
    }
   ],
   "source": [
    "if not struct_deltas.empty:\n",
    "    fromJSON_deltas = FeatureSet.from_geojson(geojson_deltas)"
   ]
  },
  {
   "cell_type": "code",
   "execution_count": 30,
   "metadata": {
    "execution": {
     "iopub.execute_input": "2021-02-21T12:00:25.822986Z",
     "iopub.status.busy": "2021-02-21T12:00:25.822986Z",
     "iopub.status.idle": "2021-02-21T12:00:25.838861Z",
     "shell.execute_reply": "2021-02-21T12:00:25.838861Z"
    },
    "papermill": {
     "duration": 0.078378,
     "end_time": "2021-02-21T12:00:25.838861",
     "exception": false,
     "start_time": "2021-02-21T12:00:25.760483",
     "status": "completed"
    },
    "tags": []
   },
   "outputs": [
    {
     "name": "stdout",
     "output_type": "stream",
     "text": [
      "{'wkid': 4326}\n"
     ]
    }
   ],
   "source": [
    "#Check the WKT Projection for the feature set\n",
    "if not struct_deltas.empty:\n",
    "    print(fromJSON_deltas.spatial_reference)"
   ]
  },
  {
   "cell_type": "markdown",
   "metadata": {
    "tags": [
     "papermill-error-cell-tag"
    ]
   },
   "source": [
    "<span id=\"papermill-error-cell\" style=\"color:red; font-family:Helvetica Neue, Helvetica, Arial, sans-serif; font-size:2em;\">Execution using papermill encountered an exception here and stopped:</span>"
   ]
  },
  {
   "cell_type": "code",
   "execution_count": 31,
   "metadata": {
    "execution": {
     "iopub.execute_input": "2021-02-21T12:00:25.947981Z",
     "iopub.status.busy": "2021-02-21T12:00:25.947981Z",
     "iopub.status.idle": "2021-02-21T12:00:26.463618Z",
     "shell.execute_reply": "2021-02-21T12:00:26.463618Z"
    },
    "papermill": {
     "duration": 0.578087,
     "end_time": "2021-02-21T12:00:26.463618",
     "exception": true,
     "start_time": "2021-02-21T12:00:25.885531",
     "status": "failed"
    },
    "tags": []
   },
   "outputs": [
    {
     "ename": "NameError",
     "evalue": "name 'f' is not defined",
     "output_type": "error",
     "traceback": [
      "\u001b[1;31m---------------------------------------------------------------------------\u001b[0m",
      "\u001b[1;31mNameError\u001b[0m                                 Traceback (most recent call last)",
      "\u001b[1;32m<ipython-input-31-065be8d6c3d1>\u001b[0m in \u001b[0;36m<module>\u001b[1;34m\u001b[0m\n\u001b[0;32m      2\u001b[0m \u001b[1;31m# for f in range(0, len(fromJSON_deltas)):\u001b[0m\u001b[1;33m\u001b[0m\u001b[1;33m\u001b[0m\u001b[1;33m\u001b[0m\u001b[0m\n\u001b[0;32m      3\u001b[0m \u001b[1;32mif\u001b[0m \u001b[1;32mnot\u001b[0m \u001b[0mstruct_deltas\u001b[0m\u001b[1;33m.\u001b[0m\u001b[0mempty\u001b[0m\u001b[1;33m:\u001b[0m\u001b[1;33m\u001b[0m\u001b[1;33m\u001b[0m\u001b[0m\n\u001b[1;32m----> 4\u001b[1;33m     \u001b[0mfromJSON_deltas\u001b[0m\u001b[1;33m.\u001b[0m\u001b[0mfeatures\u001b[0m\u001b[1;33m[\u001b[0m\u001b[0mf\u001b[0m\u001b[1;33m]\u001b[0m\u001b[1;33m.\u001b[0m\u001b[0mgeometry\u001b[0m\u001b[1;33m.\u001b[0m\u001b[0mupdate\u001b[0m\u001b[1;33m(\u001b[0m\u001b[1;33m{\u001b[0m\u001b[1;34m'spatialReference'\u001b[0m\u001b[1;33m:\u001b[0m \u001b[1;33m{\u001b[0m\u001b[1;34m'wkid'\u001b[0m\u001b[1;33m:\u001b[0m \u001b[1;36m2263\u001b[0m\u001b[1;33m}\u001b[0m\u001b[1;33m}\u001b[0m\u001b[1;33m)\u001b[0m\u001b[1;33m\u001b[0m\u001b[1;33m\u001b[0m\u001b[0m\n\u001b[0m",
      "\u001b[1;31mNameError\u001b[0m: name 'f' is not defined"
     ]
    }
   ],
   "source": [
    "#Set the WKT projection for each feature in the feature set\n",
    "if not struct_deltas.empty:\n",
    "    for f in range(0, len(fromJSON_deltas)):\n",
    "        fromJSON_deltas.features[f].geometry.update({'spatialReference': {'wkid': 2263}})"
   ]
  },
  {
   "cell_type": "code",
   "execution_count": null,
   "metadata": {
    "papermill": {
     "duration": null,
     "end_time": null,
     "exception": null,
     "start_time": null,
     "status": "pending"
    },
    "tags": []
   },
   "outputs": [],
   "source": [
    "#Set the WKT projection for the whole feature set\n",
    "if not struct_deltas.empty:\n",
    "    fromJSON_deltas.spatial_reference = {'wkid': 2263}"
   ]
  },
  {
   "cell_type": "code",
   "execution_count": null,
   "metadata": {
    "papermill": {
     "duration": null,
     "end_time": null,
     "exception": null,
     "start_time": null,
     "status": "pending"
    },
    "tags": []
   },
   "outputs": [],
   "source": [
    "#Check the WKT Projection for the feature set\n",
    "if not struct_deltas.empty:\n",
    "    print(fromJSON_deltas.spatial_reference)"
   ]
  },
  {
   "cell_type": "markdown",
   "metadata": {
    "papermill": {
     "duration": null,
     "end_time": null,
     "exception": null,
     "start_time": null,
     "status": "pending"
    },
    "tags": []
   },
   "source": [
    "# Connect to published datasets via GIS object"
   ]
  },
  {
   "cell_type": "code",
   "execution_count": null,
   "metadata": {
    "papermill": {
     "duration": null,
     "end_time": null,
     "exception": null,
     "start_time": null,
     "status": "pending"
    },
    "tags": []
   },
   "outputs": [],
   "source": [
    "gis = GIS(url=portal, verify_cert = False)"
   ]
  },
  {
   "cell_type": "markdown",
   "metadata": {
    "papermill": {
     "duration": null,
     "end_time": null,
     "exception": null,
     "start_time": null,
     "status": "pending"
    },
    "tags": []
   },
   "source": [
    "# Make Edits"
   ]
  },
  {
   "cell_type": "markdown",
   "metadata": {
    "papermill": {
     "duration": null,
     "end_time": null,
     "exception": null,
     "start_time": null,
     "status": "pending"
    },
    "tags": []
   },
   "source": [
    "## Structures"
   ]
  },
  {
   "cell_type": "markdown",
   "metadata": {
    "papermill": {
     "duration": null,
     "end_time": null,
     "exception": null,
     "start_time": null,
     "status": "pending"
    },
    "tags": []
   },
   "source": [
    "### run delta archive stored proc"
   ]
  },
  {
   "cell_type": "code",
   "execution_count": null,
   "metadata": {
    "papermill": {
     "duration": null,
     "end_time": null,
     "exception": null,
     "start_time": null,
     "status": "pending"
    },
    "tags": []
   },
   "outputs": [],
   "source": [
    "crsr = con.cursor()\n",
    "sqal_stmt = '''\n",
    "exec [structuresdb].[dbo].[sp_i_tbl_delta_structures_archive] \n",
    "'''\n",
    "crsr.execute(\"{CALL [structuresdb].[dbo].[sp_i_tbl_delta_structures_archive] }\")\n",
    "crsr.commit()\n",
    "crsr.close()"
   ]
  },
  {
   "cell_type": "markdown",
   "metadata": {
    "papermill": {
     "duration": null,
     "end_time": null,
     "exception": null,
     "start_time": null,
     "status": "pending"
    },
    "tags": []
   },
   "source": [
    "### Connect to structures feature layer directly"
   ]
  },
  {
   "cell_type": "code",
   "execution_count": null,
   "metadata": {
    "papermill": {
     "duration": null,
     "end_time": null,
     "exception": null,
     "start_time": null,
     "status": "pending"
    },
    "tags": []
   },
   "outputs": [],
   "source": [
    "strct_lyr_url = structures_url"
   ]
  },
  {
   "cell_type": "code",
   "execution_count": null,
   "metadata": {
    "papermill": {
     "duration": null,
     "end_time": null,
     "exception": null,
     "start_time": null,
     "status": "pending"
    },
    "tags": []
   },
   "outputs": [],
   "source": [
    "lyr_structures = FeatureLayer(strct_lyr_url)\n",
    "structures_features = lyr_structures.query()"
   ]
  },
  {
   "cell_type": "code",
   "execution_count": null,
   "metadata": {
    "papermill": {
     "duration": null,
     "end_time": null,
     "exception": null,
     "start_time": null,
     "status": "pending"
    },
    "tags": []
   },
   "outputs": [],
   "source": [
    "structures_features"
   ]
  },
  {
   "cell_type": "code",
   "execution_count": null,
   "metadata": {
    "papermill": {
     "duration": null,
     "end_time": null,
     "exception": null,
     "start_time": null,
     "status": "pending"
    },
    "tags": []
   },
   "outputs": [],
   "source": [
    "len(struct_deltas)"
   ]
  },
  {
   "cell_type": "markdown",
   "metadata": {
    "papermill": {
     "duration": null,
     "end_time": null,
     "exception": null,
     "start_time": null,
     "status": "pending"
    },
    "tags": []
   },
   "source": [
    "### EDIT"
   ]
  },
  {
   "cell_type": "code",
   "execution_count": null,
   "metadata": {
    "papermill": {
     "duration": null,
     "end_time": null,
     "exception": null,
     "start_time": null,
     "status": "pending"
    },
    "tags": []
   },
   "outputs": [],
   "source": [
    "if not struct_deltas.empty:\n",
    "    num_updates = len(fromJSON_deltas.features)"
   ]
  },
  {
   "cell_type": "code",
   "execution_count": null,
   "metadata": {
    "papermill": {
     "duration": null,
     "end_time": null,
     "exception": null,
     "start_time": null,
     "status": "pending"
    },
    "tags": []
   },
   "outputs": [],
   "source": [
    "if not struct_deltas.empty:\n",
    "    try:\n",
    "        update_result = lyr_structures.edit_features(\n",
    "            updates=fromJSON_deltas.features)\n",
    "    except:\n",
    "        error_mssg = 'Updates were not pushed successfully to Structures. Please see Notebook output/logs for further details.'\n",
    "        send_email('mycontacts.txt','fail_update_mssg.txt', subject = 'structures push: FAILED!', e=error_mssg)\n",
    "    else:\n",
    "        success_mssg = 'There were ' + str(num_updates) + ' updates pushed to Production.'\n",
    "        send_email('mycontacts.txt','success_structures_mssg.txt', subject = 'structures push: SUCCESS!', e=success_mssg)\n",
    "else:\n",
    "    mssg = 'There were no updates to push to the Structure layer.'\n",
    "    send_email('mycontacts.txt','fail_update_mssg.txt', subject = 'structures: NO UPDATES to push', e=mssg)"
   ]
  },
  {
   "cell_type": "code",
   "execution_count": null,
   "metadata": {
    "papermill": {
     "duration": null,
     "end_time": null,
     "exception": null,
     "start_time": null,
     "status": "pending"
    },
    "tags": []
   },
   "outputs": [],
   "source": [
    "lyr_structures = FeatureLayer(strct_lyr_url)\n",
    "structures_features = lyr_structures.query()"
   ]
  },
  {
   "cell_type": "markdown",
   "metadata": {
    "papermill": {
     "duration": null,
     "end_time": null,
     "exception": null,
     "start_time": null,
     "status": "pending"
    },
    "tags": []
   },
   "source": [
    "## Geosupport"
   ]
  },
  {
   "cell_type": "markdown",
   "metadata": {
    "papermill": {
     "duration": null,
     "end_time": null,
     "exception": null,
     "start_time": null,
     "status": "pending"
    },
    "tags": []
   },
   "source": [
    "### connect to geosupport service"
   ]
  },
  {
   "cell_type": "code",
   "execution_count": null,
   "metadata": {
    "papermill": {
     "duration": null,
     "end_time": null,
     "exception": null,
     "start_time": null,
     "status": "pending"
    },
    "tags": []
   },
   "outputs": [],
   "source": [
    "geosupport_tbl_url = geosupport_url"
   ]
  },
  {
   "cell_type": "code",
   "execution_count": null,
   "metadata": {
    "papermill": {
     "duration": null,
     "end_time": null,
     "exception": null,
     "start_time": null,
     "status": "pending"
    },
    "tags": []
   },
   "outputs": [],
   "source": [
    "tbl_geosupport = FeatureLayer(geosupport_tbl_url)\n",
    "geosupport = tbl_geosupport.query()"
   ]
  },
  {
   "cell_type": "markdown",
   "metadata": {
    "papermill": {
     "duration": null,
     "end_time": null,
     "exception": null,
     "start_time": null,
     "status": "pending"
    },
    "tags": []
   },
   "source": [
    "### Get latest BINs from structures layer"
   ]
  },
  {
   "cell_type": "code",
   "execution_count": null,
   "metadata": {
    "papermill": {
     "duration": null,
     "end_time": null,
     "exception": null,
     "start_time": null,
     "status": "pending"
    },
    "tags": []
   },
   "outputs": [],
   "source": [
    "# structures_valid_BINs = structures_features.sdf[\n",
    "#     (structures_features.sdf['BIN'] != 0) &\n",
    "#     (~pd.isnull(structures_features.sdf['BIN']))] "
   ]
  },
  {
   "cell_type": "code",
   "execution_count": null,
   "metadata": {
    "papermill": {
     "duration": null,
     "end_time": null,
     "exception": null,
     "start_time": null,
     "status": "pending"
    },
    "tags": []
   },
   "outputs": [],
   "source": [
    "# bins = structures_valid_BINs[structures_valid_BINs['BIN'].astype(int) %\n",
    "#                              100000 != 0]['BIN'].astype(int).to_list()"
   ]
  },
  {
   "cell_type": "code",
   "execution_count": null,
   "metadata": {
    "papermill": {
     "duration": null,
     "end_time": null,
     "exception": null,
     "start_time": null,
     "status": "pending"
    },
    "tags": []
   },
   "outputs": [],
   "source": [
    "# bins = [str(bins[i]) for i in range(0, len(bins))]"
   ]
  },
  {
   "cell_type": "code",
   "execution_count": null,
   "metadata": {
    "papermill": {
     "duration": null,
     "end_time": null,
     "exception": null,
     "start_time": null,
     "status": "pending"
    },
    "tags": []
   },
   "outputs": [],
   "source": [
    "structures_sdf = structures_features.sdf[\n",
    "    (structures_features.sdf['BIN'] != 0) &\n",
    "    (~pd.isnull(structures_features.sdf['BIN']))] "
   ]
  },
  {
   "cell_type": "code",
   "execution_count": null,
   "metadata": {
    "papermill": {
     "duration": null,
     "end_time": null,
     "exception": null,
     "start_time": null,
     "status": "pending"
    },
    "tags": []
   },
   "outputs": [],
   "source": [
    "structs_sdf_final = structures_sdf[(structures_sdf['BIN'].astype(int) % 1000000 != 0) \n",
    "                                   &(~pd.isnull(structures_sdf['DOITT_ID']))]"
   ]
  },
  {
   "cell_type": "code",
   "execution_count": null,
   "metadata": {
    "papermill": {
     "duration": null,
     "end_time": null,
     "exception": null,
     "start_time": null,
     "status": "pending"
    },
    "tags": []
   },
   "outputs": [],
   "source": [
    "# doitt_counts = structures_sdf[((~pd.isnull(structures_sdf['DOITT_ID']))\n",
    "#                                &(pd.isnull(structures_sdf['DOITT_Source'])))][cols].groupby('DOITT_ID').count()"
   ]
  },
  {
   "cell_type": "code",
   "execution_count": null,
   "metadata": {
    "papermill": {
     "duration": null,
     "end_time": null,
     "exception": null,
     "start_time": null,
     "status": "pending"
    },
    "tags": []
   },
   "outputs": [],
   "source": [
    "# doitt_counts[doitt_counts['BIN']>1]"
   ]
  },
  {
   "cell_type": "code",
   "execution_count": null,
   "metadata": {
    "papermill": {
     "duration": null,
     "end_time": null,
     "exception": null,
     "start_time": null,
     "status": "pending"
    },
    "tags": []
   },
   "outputs": [],
   "source": [
    "# structures_sdf.groupby('DOITT_ID').count()[structures_sdf.groupby('DOITT_ID').count()['BIN']>1]"
   ]
  },
  {
   "cell_type": "code",
   "execution_count": null,
   "metadata": {
    "papermill": {
     "duration": null,
     "end_time": null,
     "exception": null,
     "start_time": null,
     "status": "pending"
    },
    "tags": []
   },
   "outputs": [],
   "source": [
    "# cols = ['SYSTEM','BIN','DOITT_ID', 'DOITT_Source']\n",
    "\n",
    "## DUPLICATE DOITT_ID:\n",
    "# structures_sdf[structures_sdf['DOITT_ID']==1107938.0]#[cols]"
   ]
  },
  {
   "cell_type": "code",
   "execution_count": null,
   "metadata": {
    "papermill": {
     "duration": null,
     "end_time": null,
     "exception": null,
     "start_time": null,
     "status": "pending"
    },
    "tags": []
   },
   "outputs": [],
   "source": [
    "# structures_sdf[(\n",
    "#     ((structures_sdf['BIN'].astype(int) % 1000000 != 0) \n",
    "#                                    &(~pd.isnull(structures_sdf['DOITT_ID'])))\n",
    "#                 |((~pd.isnull(structures_sdf['DOITT_ID']))&(~pd.isnull(structures_sdf['DOITT_Source'])))\n",
    "# )][cols]"
   ]
  },
  {
   "cell_type": "code",
   "execution_count": null,
   "metadata": {
    "papermill": {
     "duration": null,
     "end_time": null,
     "exception": null,
     "start_time": null,
     "status": "pending"
    },
    "tags": []
   },
   "outputs": [],
   "source": [
    "len(structs_sdf_final)"
   ]
  },
  {
   "cell_type": "code",
   "execution_count": null,
   "metadata": {
    "papermill": {
     "duration": null,
     "end_time": null,
     "exception": null,
     "start_time": null,
     "status": "pending"
    },
    "tags": []
   },
   "outputs": [],
   "source": [
    "len(structs_sdf_final['BIN'].unique())"
   ]
  },
  {
   "cell_type": "code",
   "execution_count": null,
   "metadata": {
    "papermill": {
     "duration": null,
     "end_time": null,
     "exception": null,
     "start_time": null,
     "status": "pending"
    },
    "tags": []
   },
   "outputs": [],
   "source": [
    "# DUPLICATE BIN:\n",
    "# pd.concat(g for _, g in structs_sdf_final.groupby(\"BIN\") if len(g) > 1)"
   ]
  },
  {
   "cell_type": "markdown",
   "metadata": {
    "papermill": {
     "duration": null,
     "end_time": null,
     "exception": null,
     "start_time": null,
     "status": "pending"
    },
    "tags": []
   },
   "source": [
    "### run master geosupport function"
   ]
  },
  {
   "cell_type": "code",
   "execution_count": null,
   "metadata": {
    "papermill": {
     "duration": null,
     "end_time": null,
     "exception": null,
     "start_time": null,
     "status": "pending"
    },
    "tags": []
   },
   "outputs": [],
   "source": [
    "structs_sdf_final.head()"
   ]
  },
  {
   "cell_type": "code",
   "execution_count": null,
   "metadata": {
    "papermill": {
     "duration": null,
     "end_time": null,
     "exception": null,
     "start_time": null,
     "status": "pending"
    },
    "tags": []
   },
   "outputs": [],
   "source": [
    "print_url()"
   ]
  },
  {
   "cell_type": "code",
   "execution_count": null,
   "metadata": {
    "papermill": {
     "duration": null,
     "end_time": null,
     "exception": null,
     "start_time": null,
     "status": "pending"
    },
    "scrolled": false,
    "tags": []
   },
   "outputs": [],
   "source": [
    "df = master_geosupport_func(structs_sdf_final, 'BIN')"
   ]
  },
  {
   "cell_type": "code",
   "execution_count": null,
   "metadata": {
    "papermill": {
     "duration": null,
     "end_time": null,
     "exception": null,
     "start_time": null,
     "status": "pending"
    },
    "scrolled": true,
    "tags": []
   },
   "outputs": [],
   "source": [
    "df.head()"
   ]
  },
  {
   "cell_type": "markdown",
   "metadata": {
    "papermill": {
     "duration": null,
     "end_time": null,
     "exception": null,
     "start_time": null,
     "status": "pending"
    },
    "tags": []
   },
   "source": [
    "### prepare latest geosupport data to be pushed to prod"
   ]
  },
  {
   "cell_type": "code",
   "execution_count": null,
   "metadata": {
    "papermill": {
     "duration": null,
     "end_time": null,
     "exception": null,
     "start_time": null,
     "status": "pending"
    },
    "tags": []
   },
   "outputs": [],
   "source": [
    "#Rename all of the columns from Geosupport so that they map exactly to the schema in SQL Server\n",
    "dff = (df.rename(columns = {'out_zip_code': 'Zip_Code',\n",
    "                               'b7sc': 'B7SC',\n",
    "                               'out_b10sc1': 'B10SC',\n",
    "                               #'in_boro': 'Boro_Code',\n",
    "                               'bin': 'BIN',\n",
    "                               'out_preferred_lgc': 'LGC',\n",
    "                               'type_meaning': 'Address_Type',\n",
    "                               'high_address_number': 'High_House_Num',\n",
    "                               'low_address_number': 'Low_House_Num',\n",
    "                               'out_sos_ind': 'Street_Side',\n",
    "                               'street_name': 'Norm_Street_Name',\n",
    "                               'out_usps_city_name': 'USPS_City',\n",
    "                               'out_TPAD_bin_status': 'TPAD_BIN_Status',\n",
    "                               'out_com_dist': 'Community_Board',\n",
    "                               'out_co': 'City_Council',\n",
    "                               'out_ad': 'NYS_Assembly',\n",
    "                               'out_sd': 'NYS_Senate',\n",
    "                               'out_cd': 'US_Congress',\n",
    "                               'out_nta': 'NTA_Code',\n",
    "                               'out_fire_bat': 'Fire_Battalion',\n",
    "                               'out_fire_co': 'Fire_Co_Num',\n",
    "                               'out_fire_co_str': 'Fire_Co_Type',\n",
    "                               'out_fire_div': 'Fire_Division',\n",
    "                               'out_hurricane_zone': 'HEZ',\n",
    "                               'out_police_patrol_boro': 'Police_Boro',\n",
    "                               'Police Patrol Borough Command': 'Police_Boro_Com',\n",
    "                               'out_police_pct': 'Police_Precinct',\n",
    "                               'out_san_sched': 'Sanitation_Subsect',\n",
    "                               'out_san_dist_section': 'Sanitation_District',\n",
    "                               'out_san_recycle': 'Sanitation_Recycling',\n",
    "                               'out_san_reg': 'Sanitation_Reg_Pickup',\n",
    "                               'out_physical_id': 'Physical_ID',\n",
    "                               'address_id': 'Address_ID'})\n",
    "       .reindex(columns = ['BIN', 'Boro_Code', 'Address_Type', 'Low_House_Num', 'High_House_Num', 'Norm_Street_Name', 'USPS_City', \n",
    "                           'Zip_Code', 'Physical_ID', 'B7SC', 'B10SC', 'LGC', 'Street_Side', 'TPAD_BIN_Status', 'HEZ', \n",
    "                           'Community_Board', 'City_Council', 'NYS_Assembly', 'NYS_Senate', 'US_Congress', 'NTA_Code', \n",
    "                           'Fire_Battalion', 'Fire_Co_Num', 'Fire_Co_Type', 'Fire_Division', \n",
    "                           'Police_Boro', 'Police_Boro_Com', 'Police_Precinct', \n",
    "                           'Sanitation_Subsect', 'Sanitation_District', 'Sanitation_Recycling', 'Sanitation_Reg_Pickup', \n",
    "                           'Address_ID', 'official_address', 'posted_address'])\n",
    "       .drop_duplicates())"
   ]
  },
  {
   "cell_type": "code",
   "execution_count": null,
   "metadata": {
    "papermill": {
     "duration": null,
     "end_time": null,
     "exception": null,
     "start_time": null,
     "status": "pending"
    },
    "tags": []
   },
   "outputs": [],
   "source": [
    "len(dff)"
   ]
  },
  {
   "cell_type": "code",
   "execution_count": null,
   "metadata": {
    "papermill": {
     "duration": null,
     "end_time": null,
     "exception": null,
     "start_time": null,
     "status": "pending"
    },
    "tags": []
   },
   "outputs": [],
   "source": [
    "# dff.drop('Sanitation_District',axis=1,inplace=True)"
   ]
  },
  {
   "cell_type": "code",
   "execution_count": null,
   "metadata": {
    "papermill": {
     "duration": null,
     "end_time": null,
     "exception": null,
     "start_time": null,
     "status": "pending"
    },
    "scrolled": true,
    "tags": []
   },
   "outputs": [],
   "source": [
    "dff.head(10)"
   ]
  },
  {
   "cell_type": "code",
   "execution_count": null,
   "metadata": {
    "papermill": {
     "duration": null,
     "end_time": null,
     "exception": null,
     "start_time": null,
     "status": "pending"
    },
    "tags": []
   },
   "outputs": [],
   "source": [
    "#If the length of the updated dateframe is greater than 0 then truncate the existing table\n",
    "if len(dff) > 0:\n",
    "    crsr = con.cursor()\n",
    "    crsr.execute('''truncate table structuresdb.dbo.tbl_geosupport_address''')\n",
    "    crsr.commit()\n",
    "    crsr.close()"
   ]
  },
  {
   "cell_type": "code",
   "execution_count": null,
   "metadata": {
    "papermill": {
     "duration": null,
     "end_time": null,
     "exception": null,
     "start_time": null,
     "status": "pending"
    },
    "tags": []
   },
   "outputs": [],
   "source": [
    "dff.to_sql('tbl_geosupport_address',\n",
    "           engine,\n",
    "           schema='dbo',\n",
    "           if_exists='append',\n",
    "           index=False)"
   ]
  },
  {
   "cell_type": "code",
   "execution_count": null,
   "metadata": {
    "papermill": {
     "duration": null,
     "end_time": null,
     "exception": null,
     "start_time": null,
     "status": "pending"
    },
    "tags": []
   },
   "outputs": [],
   "source": [
    "dff.Boro_Code.fillna(0,inplace=True)"
   ]
  },
  {
   "cell_type": "code",
   "execution_count": null,
   "metadata": {
    "papermill": {
     "duration": null,
     "end_time": null,
     "exception": null,
     "start_time": null,
     "status": "pending"
    },
    "tags": []
   },
   "outputs": [],
   "source": [
    "dff.Address_ID.fillna(0,inplace=True)"
   ]
  },
  {
   "cell_type": "code",
   "execution_count": null,
   "metadata": {
    "papermill": {
     "duration": null,
     "end_time": null,
     "exception": null,
     "start_time": null,
     "status": "pending"
    },
    "tags": []
   },
   "outputs": [],
   "source": [
    "dff = dff.drop(columns = ['official_address', 'posted_address','Sanitation_District'])"
   ]
  },
  {
   "cell_type": "code",
   "execution_count": null,
   "metadata": {
    "papermill": {
     "duration": null,
     "end_time": null,
     "exception": null,
     "start_time": null,
     "status": "pending"
    },
    "tags": []
   },
   "outputs": [],
   "source": [
    "geosupport_FSET = FeatureSet.from_dataframe(dff)"
   ]
  },
  {
   "cell_type": "code",
   "execution_count": null,
   "metadata": {
    "papermill": {
     "duration": null,
     "end_time": null,
     "exception": null,
     "start_time": null,
     "status": "pending"
    },
    "tags": []
   },
   "outputs": [],
   "source": [
    "len(geosupport_FSET.features)"
   ]
  },
  {
   "cell_type": "markdown",
   "metadata": {
    "papermill": {
     "duration": null,
     "end_time": null,
     "exception": null,
     "start_time": null,
     "status": "pending"
    },
    "tags": []
   },
   "source": [
    "### EDIT"
   ]
  },
  {
   "cell_type": "code",
   "execution_count": null,
   "metadata": {
    "papermill": {
     "duration": null,
     "end_time": null,
     "exception": null,
     "start_time": null,
     "status": "pending"
    },
    "tags": []
   },
   "outputs": [],
   "source": [
    "if len(dff) > 0: #len(geosupport_FSET.features):\n",
    "    try:\n",
    "        ## TRUNCATE AND REPLACE\n",
    "        tbl_geosupport.delete_features(where=\"objectid > 0\")\n",
    "        add_to_geosupport = tbl_geosupport.edit_features(adds = geosupport_FSET.features)\n",
    "    except:\n",
    "        error_mssg = 'Updates were not pushed successfully to the geosupport table. Please see Notebook output/logs for further details.'\n",
    "        send_email('mycontacts.txt','fail_update_mssg.txt', subject = 'geosupport push: FAILED!', e=error_mssg)\n",
    "    else:\n",
    "        success_mssg = 'There were ' + str(len(dff)) + ' updates pushed to Production.'\n",
    "        send_email('mycontacts.txt','success_geosupport_mssg.txt', subject = 'geosupport push: SUCCESS!', e=success_mssg)\n",
    "else:\n",
    "    mssg = 'There were no updates to push to the geosupport table.'\n",
    "    send_email('mycontacts.txt','fail_update_mssg.txt', subject = 'geosupport: NO UPDATES to push', e=mssg)"
   ]
  },
  {
   "cell_type": "code",
   "execution_count": null,
   "metadata": {
    "papermill": {
     "duration": null,
     "end_time": null,
     "exception": null,
     "start_time": null,
     "status": "pending"
    },
    "scrolled": true,
    "tags": []
   },
   "outputs": [],
   "source": [
    "tbl_geosupport.delete_features(where=\"objectid > 0\")\n",
    "add_to_geosupport = tbl_geosupport.edit_features(adds = geosupport_FSET.features)"
   ]
  },
  {
   "cell_type": "code",
   "execution_count": null,
   "metadata": {
    "papermill": {
     "duration": null,
     "end_time": null,
     "exception": null,
     "start_time": null,
     "status": "pending"
    },
    "tags": []
   },
   "outputs": [],
   "source": []
  }
 ],
 "metadata": {
  "kernelspec": {
   "display_name": "Python 3",
   "language": "python",
   "name": "python3"
  },
  "language_info": {
   "codemirror_mode": {
    "name": "ipython",
    "version": 3
   },
   "file_extension": ".py",
   "mimetype": "text/x-python",
   "name": "python",
   "nbconvert_exporter": "python",
   "pygments_lexer": "ipython3",
   "version": "3.7.3"
  },
  "papermill": {
   "default_parameters": {},
   "duration": 26.203698,
   "end_time": "2021-02-21T12:00:27.119887",
   "environment_variables": {},
   "exception": true,
   "input_path": "weekly_pre_QA\\pre_QA_esri_push.ipynb",
   "output_path": "weekly_pre_QA\\snapshots\\pre_QA_esri_push\\2021-02-21 07.00.00.838081\\pre_QA_esri_push.ipynb",
   "parameters": {
    "snapshotDir": "weekly_pre_QA\\snapshots\\pre_QA_esri_push\\2021-02-21 07.00.00.838081\\"
   },
   "start_time": "2021-02-21T12:00:00.916189",
   "version": "2.2.0"
  },
  "toc": {
   "base_numbering": 1,
   "nav_menu": {},
   "number_sections": false,
   "sideBar": true,
   "skip_h1_title": false,
   "title_cell": "Table of Contents",
   "title_sidebar": "Contents",
   "toc_cell": false,
   "toc_position": {
    "height": "calc(100% - 180px)",
    "left": "10px",
    "top": "150px",
    "width": "196px"
   },
   "toc_section_display": true,
   "toc_window_display": true
  },
  "varInspector": {
   "cols": {
    "lenName": 16,
    "lenType": 16,
    "lenVar": 40
   },
   "kernels_config": {
    "python": {
     "delete_cmd_postfix": "",
     "delete_cmd_prefix": "del ",
     "library": "var_list.py",
     "varRefreshCmd": "print(var_dic_list())"
    },
    "r": {
     "delete_cmd_postfix": ") ",
     "delete_cmd_prefix": "rm(",
     "library": "var_list.r",
     "varRefreshCmd": "cat(var_dic_list()) "
    }
   },
   "types_to_exclude": [
    "module",
    "function",
    "builtin_function_or_method",
    "instance",
    "_Feature"
   ],
   "window_display": false
  }
 },
 "nbformat": 4,
 "nbformat_minor": 2
}
