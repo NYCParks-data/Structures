{
 "cells": [
  {
   "cell_type": "markdown",
   "metadata": {},
   "source": [
    "julie.tsitron@parks.nyc.gov 2/20/2020"
   ]
  },
  {
   "cell_type": "markdown",
   "metadata": {},
   "source": [
    "# Imports and Connections to DBs"
   ]
  },
  {
   "cell_type": "code",
   "execution_count": 12,
   "metadata": {},
   "outputs": [
    {
     "data": {
      "text/plain": [
       "'C:\\\\Projects\\\\Structures\\\\develop'"
      ]
     },
     "execution_count": 12,
     "metadata": {},
     "output_type": "execute_result"
    }
   ],
   "source": [
    "pwd"
   ]
  },
  {
   "cell_type": "code",
   "execution_count": 1,
   "metadata": {
    "scrolled": true
   },
   "outputs": [],
   "source": [
    "import pandas as pd\n",
    "import numpy as np\n",
    "import pyodbc\n",
    "import sys\n",
    "import json\n",
    "import urllib\n",
    "import sqlalchemy\n",
    "import os\n",
    "import shapely\n",
    "from datetime import datetime\n",
    "\n",
    "from arcgis.gis import GIS\n",
    "from arcgis.features import GeoAccessor, GeoSeriesAccessor, SpatialDataFrame, FeatureLayer, FeatureSet\n",
    "\n",
    "sys.path.append('../')\n",
    "from IPM_Shared_Code.Python.geo_functions import read_geosql\n",
    "from IPM_Shared_Code.Python.utils import get_config\n",
    "from IPM_Shared_Code.Python.email_functions import get_contacts, read_template, send_email\n",
    "from geosupport import *"
   ]
  },
  {
   "cell_type": "code",
   "execution_count": 2,
   "metadata": {},
   "outputs": [],
   "source": [
    "config = get_config('c:\\Projects\\config.ini')\n",
    "\n",
    "driver = config['srv']['driver']\n",
    "server = config['srv']['server']\n",
    "parksgis = config['srv']['parksgis']\n",
    "data_parks_server = config['srv']['data_parks']\n",
    "structuresdb = config['db']['structuresdb']\n",
    "portal = config['url']['portal']\n",
    "structures_url = config['url']['structures']\n",
    "geosupport_url = config['url']['geosupport']"
   ]
  },
  {
   "cell_type": "code",
   "execution_count": 3,
   "metadata": {},
   "outputs": [],
   "source": [
    "params = urllib.parse.quote_plus(r'Driver=' + driver + ';Server=' + server +\n",
    "                                 ';Database=' + structuresdb +\n",
    "                                 ';Trusted_Connection=Yes;')\n",
    "engine = sqlalchemy.create_engine(\"mssql+pyodbc:///?odbc_connect=%s\" % params)\n",
    "connection = engine.connect()"
   ]
  },
  {
   "cell_type": "code",
   "execution_count": 4,
   "metadata": {},
   "outputs": [],
   "source": [
    "con_data_parks = pyodbc.connect('Driver={' + driver + '};Server=' + data_parks_server +\n",
    "                     ';Database=IPMDB;Trusted_Connection=Yes;')\n",
    "con = pyodbc.connect('Driver={' + driver + '};Server=' + server +\n",
    "                           ';Database=;Trusted_Connection=Yes;')"
   ]
  },
  {
   "cell_type": "markdown",
   "metadata": {},
   "source": [
    "## Deal with Dates"
   ]
  },
  {
   "cell_type": "markdown",
   "metadata": {},
   "source": [
    "### m/d/Y H:M:S format:"
   ]
  },
  {
   "cell_type": "code",
   "execution_count": 5,
   "metadata": {},
   "outputs": [],
   "source": [
    "# structures_dev['COMMISSIONDATE'] = pd.to_datetime(\n",
    "#     structures_dev['COMMISSIONDATE'],\n",
    "#     errors='coerce').dt.strftime('%m/%d/%Y %H:%M:%S')"
   ]
  },
  {
   "cell_type": "code",
   "execution_count": 6,
   "metadata": {
    "scrolled": true
   },
   "outputs": [],
   "source": [
    "# structures_dev['COMMISSIONDATE']"
   ]
  },
  {
   "cell_type": "code",
   "execution_count": 7,
   "metadata": {},
   "outputs": [],
   "source": [
    "# structures_dev['FEATURESTATUSCHANGEDATE'] = pd.to_datetime(\n",
    "#     structures_dev['FEATURESTATUSCHANGEDATE']).dt.strftime('%m/%d/%Y %H:%M:%S')"
   ]
  },
  {
   "cell_type": "code",
   "execution_count": 8,
   "metadata": {},
   "outputs": [],
   "source": [
    "# structures_dev['RETIREDDATE'] = pd.to_datetime(\n",
    "#     structures_dev['RETIREDDATE']).dt.strftime('%m/%d/%Y %H:%M:%S')"
   ]
  },
  {
   "cell_type": "code",
   "execution_count": 9,
   "metadata": {
    "scrolled": true
   },
   "outputs": [],
   "source": [
    "# structures_dev.columns.values"
   ]
  },
  {
   "cell_type": "markdown",
   "metadata": {},
   "source": [
    "# Delta Table from structuresdb"
   ]
  },
  {
   "cell_type": "code",
   "execution_count": 10,
   "metadata": {
    "scrolled": true
   },
   "outputs": [],
   "source": [
    "# SPATIAL DATASET:\n",
    "sql_str_deltas = 'select * FROM [structuresdb].[dbo].[tbl_delta_structures]'\n",
    "struct_deltas = read_geosql(sql_str_deltas,\n",
    "                            con,\n",
    "                            geom_raw='shape',\n",
    "                            geom_col='geometry')"
   ]
  },
  {
   "cell_type": "code",
   "execution_count": 11,
   "metadata": {},
   "outputs": [],
   "source": [
    "## Still need this ??\n",
    "\n",
    "struct_deltas.rename(columns={\n",
    "    'objectid': 'OBJECTID',\n",
    "    'parks_id': 'SYSTEM',\n",
    "    'bin': 'BIN',\n",
    "    'bbl': 'BBL',\n",
    "    'doitt_id': 'DOITT_ID',\n",
    "    'ground_elevation': 'Ground_Elevation',\n",
    "    'height_roof': 'Height_Roof',\n",
    "    'alteration_year': 'Alteration_Year',\n",
    "    'construction_year': 'Construction_Year',\n",
    "    'demolition_year': 'Demolition_Year'\n",
    "},\n",
    "                     inplace=True)"
   ]
  },
  {
   "cell_type": "code",
   "execution_count": 12,
   "metadata": {
    "scrolled": true
   },
   "outputs": [
    {
     "data": {
      "text/html": [
       "<div>\n",
       "<style scoped>\n",
       "    .dataframe tbody tr th:only-of-type {\n",
       "        vertical-align: middle;\n",
       "    }\n",
       "\n",
       "    .dataframe tbody tr th {\n",
       "        vertical-align: top;\n",
       "    }\n",
       "\n",
       "    .dataframe thead th {\n",
       "        text-align: right;\n",
       "    }\n",
       "</style>\n",
       "<table border=\"1\" class=\"dataframe\">\n",
       "  <thead>\n",
       "    <tr style=\"text-align: right;\">\n",
       "      <th></th>\n",
       "      <th>fid</th>\n",
       "      <th>OBJECTID</th>\n",
       "      <th>SYSTEM</th>\n",
       "      <th>BIN</th>\n",
       "      <th>BBL</th>\n",
       "      <th>DOITT_ID</th>\n",
       "      <th>Ground_Elevation</th>\n",
       "      <th>Height_Roof</th>\n",
       "      <th>Construction_Year</th>\n",
       "      <th>Alteration_Year</th>\n",
       "      <th>Demolition_Year</th>\n",
       "      <th>api_call</th>\n",
       "      <th>doitt_source</th>\n",
       "      <th>date_stamp</th>\n",
       "      <th>geometry</th>\n",
       "    </tr>\n",
       "  </thead>\n",
       "  <tbody>\n",
       "  </tbody>\n",
       "</table>\n",
       "</div>"
      ],
      "text/plain": [
       "Empty GeoDataFrame\n",
       "Columns: [fid, OBJECTID, SYSTEM, BIN, BBL, DOITT_ID, Ground_Elevation, Height_Roof, Construction_Year, Alteration_Year, Demolition_Year, api_call, doitt_source, date_stamp, geometry]\n",
       "Index: []"
      ]
     },
     "execution_count": 12,
     "metadata": {},
     "output_type": "execute_result"
    }
   ],
   "source": [
    "struct_deltas.head()"
   ]
  },
  {
   "cell_type": "code",
   "execution_count": 13,
   "metadata": {
    "scrolled": false
   },
   "outputs": [],
   "source": [
    "multipolygons = []\n",
    "\n",
    "for i, row in struct_deltas.iterrows(): \n",
    "    if type(row['geometry'])==shapely.geometry.multipolygon.MultiPolygon:\n",
    "        multipolygons.append(row['SYSTEM'])\n",
    "\n",
    "if len(multipolygons)!=0:\n",
    "    ids = '\\n'.join(multipolygons)\n",
    "    mssg = 'SYSTEM ID(s) of building(s) that are MultiPolygons:\\n'+ids\n",
    "    send_email('mycontacts.txt','multipoly_mssg.txt', subject = 'multipolygons', e=mssg)\n",
    "    \n",
    "struct_deltas = struct_deltas[~struct_deltas['SYSTEM'].isin(multipolygons)]"
   ]
  },
  {
   "cell_type": "markdown",
   "metadata": {},
   "source": [
    "## Write Delta Table to geojson file"
   ]
  },
  {
   "cell_type": "code",
   "execution_count": 14,
   "metadata": {},
   "outputs": [],
   "source": [
    "today = datetime.now().strftime('%Y%m%d')\n",
    "snapshot = r'C:\\\\Projects\\\\Structures\\\\delta_snapshots/' + today"
   ]
  },
  {
   "cell_type": "code",
   "execution_count": 15,
   "metadata": {},
   "outputs": [],
   "source": [
    "if not struct_deltas.empty:\n",
    "    if os.path.exists(snapshot):\n",
    "        struct_deltas.to_file(snapshot + '/deltas.geojson',\n",
    "                              encoding='utf-8',\n",
    "                              driver='GeoJSON')\n",
    "    else:\n",
    "        os.makedirs(snapshot)\n",
    "        struct_deltas.to_file(snapshot + '/deltas.geojson',\n",
    "                              encoding='utf-8',\n",
    "                              driver='GeoJSON')"
   ]
  },
  {
   "cell_type": "markdown",
   "metadata": {},
   "source": [
    "## Read geojson file to geojson object "
   ]
  },
  {
   "cell_type": "code",
   "execution_count": 16,
   "metadata": {},
   "outputs": [],
   "source": [
    "if not struct_deltas.empty:\n",
    "    with open(snapshot+'/deltas.geojson') as data:\n",
    "        geojson_deltas = json.load(data)"
   ]
  },
  {
   "cell_type": "markdown",
   "metadata": {},
   "source": [
    "## Create arcgis featureSet from geojson object"
   ]
  },
  {
   "cell_type": "code",
   "execution_count": 17,
   "metadata": {
    "scrolled": true
   },
   "outputs": [],
   "source": [
    "if not struct_deltas.empty:\n",
    "    fromJSON_deltas = FeatureSet.from_geojson(geojson_deltas)"
   ]
  },
  {
   "cell_type": "markdown",
   "metadata": {},
   "source": [
    "# Connect to published datasets via GIS object"
   ]
  },
  {
   "cell_type": "code",
   "execution_count": 3,
   "metadata": {},
   "outputs": [],
   "source": [
    "gis = GIS(url=portal)"
   ]
  },
  {
   "cell_type": "markdown",
   "metadata": {},
   "source": [
    "# Make Edits"
   ]
  },
  {
   "cell_type": "markdown",
   "metadata": {},
   "source": [
    "## Structures"
   ]
  },
  {
   "cell_type": "markdown",
   "metadata": {},
   "source": [
    "### run delta archive stored proc"
   ]
  },
  {
   "cell_type": "code",
   "execution_count": null,
   "metadata": {},
   "outputs": [],
   "source": [
    "crsr = con.cursor()\n",
    "sqal_stmt = '''\n",
    "exec [structuresdb].[dbo].[sp_i_tbl_delta_structures_archive] \n",
    "'''\n",
    "crsr.execute(\"{CALL [structuresdb].[dbo].[sp_i_tbl_delta_structures_archive] }\")\n",
    "crsr.commit()\n",
    "crsr.close()"
   ]
  },
  {
   "cell_type": "markdown",
   "metadata": {},
   "source": [
    "### Connect to structures feature layer directly"
   ]
  },
  {
   "cell_type": "code",
   "execution_count": 4,
   "metadata": {},
   "outputs": [],
   "source": [
    "strct_lyr_url = structures_url"
   ]
  },
  {
   "cell_type": "code",
   "execution_count": 5,
   "metadata": {},
   "outputs": [],
   "source": [
    "lyr_structures = FeatureLayer(strct_lyr_url)\n",
    "structures_features = lyr_structures.query()"
   ]
  },
  {
   "cell_type": "code",
   "execution_count": 9,
   "metadata": {},
   "outputs": [
    {
     "data": {
      "text/plain": [
       "<FeatureSet> 2702 features"
      ]
     },
     "execution_count": 9,
     "metadata": {},
     "output_type": "execute_result"
    }
   ],
   "source": [
    "structures_features"
   ]
  },
  {
   "cell_type": "code",
   "execution_count": 10,
   "metadata": {},
   "outputs": [
    {
     "ename": "NameError",
     "evalue": "name 'struct_deltas' is not defined",
     "output_type": "error",
     "traceback": [
      "\u001b[1;31m---------------------------------------------------------------------------\u001b[0m",
      "\u001b[1;31mNameError\u001b[0m                                 Traceback (most recent call last)",
      "\u001b[1;32m<ipython-input-10-eb59ff47798c>\u001b[0m in \u001b[0;36m<module>\u001b[1;34m\u001b[0m\n\u001b[1;32m----> 1\u001b[1;33m \u001b[0mlen\u001b[0m\u001b[1;33m(\u001b[0m\u001b[0mstruct_deltas\u001b[0m\u001b[1;33m)\u001b[0m\u001b[1;33m\u001b[0m\u001b[1;33m\u001b[0m\u001b[0m\n\u001b[0m",
      "\u001b[1;31mNameError\u001b[0m: name 'struct_deltas' is not defined"
     ]
    }
   ],
   "source": [
    "len(struct_deltas)"
   ]
  },
  {
   "cell_type": "markdown",
   "metadata": {},
   "source": [
    "### EDIT"
   ]
  },
  {
   "cell_type": "code",
   "execution_count": null,
   "metadata": {},
   "outputs": [],
   "source": [
    "if not struct_deltas.empty:\n",
    "    num_updates = len(fromJSON_deltas.features)"
   ]
  },
  {
   "cell_type": "code",
   "execution_count": null,
   "metadata": {},
   "outputs": [],
   "source": [
    "if not struct_deltas.empty:\n",
    "    try:\n",
    "        update_result = lyr_structures.edit_features(\n",
    "            updates=fromJSON_deltas.features)\n",
    "    except:\n",
    "        error_mssg = 'Updates were not pushed successfully to Structures. Please see Notebook output/logs for further details.'\n",
    "        send_email('mycontacts.txt','fail_update_mssg.txt', subject = 'structures push: FAILED!', e=error_mssg)\n",
    "    else:\n",
    "        success_mssg = 'There were ' + str(num_updates) + ' updates pushed to Production.'\n",
    "        send_email('mycontacts.txt','success_structures_mssg.txt', subject = 'structures push: SUCCESS!', e=success_mssg)\n",
    "else:\n",
    "    mssg = 'There were no updates to push to the Structure layer.'\n",
    "    send_email('mycontacts.txt','fail_update_mssg.txt', subject = 'structures: NO UPDATES to push', e=mssg)"
   ]
  },
  {
   "cell_type": "code",
   "execution_count": 6,
   "metadata": {},
   "outputs": [],
   "source": [
    "lyr_structures = FeatureLayer(strct_lyr_url)\n",
    "structures_features = lyr_structures.query()"
   ]
  },
  {
   "cell_type": "markdown",
   "metadata": {},
   "source": [
    "## Geosupport"
   ]
  },
  {
   "cell_type": "markdown",
   "metadata": {},
   "source": [
    "### connect to geosupport service"
   ]
  },
  {
   "cell_type": "code",
   "execution_count": 6,
   "metadata": {},
   "outputs": [],
   "source": [
    "geosupport_tbl_url = geosupport_url"
   ]
  },
  {
   "cell_type": "code",
   "execution_count": 7,
   "metadata": {},
   "outputs": [],
   "source": [
    "tbl_geosupport = FeatureLayer(geosupport_tbl_url)\n",
    "geosupport = tbl_geosupport.query()"
   ]
  },
  {
   "cell_type": "markdown",
   "metadata": {},
   "source": [
    "### Get latest BINs from structures layer"
   ]
  },
  {
   "cell_type": "code",
   "execution_count": 8,
   "metadata": {},
   "outputs": [],
   "source": [
    "structures_valid_BINs = structures_features.sdf[\n",
    "    (structures_features.sdf['BIN'] != 0) &\n",
    "    (~pd.isnull(structures_features.sdf['BIN']))] "
   ]
  },
  {
   "cell_type": "code",
   "execution_count": 9,
   "metadata": {},
   "outputs": [],
   "source": [
    "bins = structures_valid_BINs[structures_valid_BINs['BIN'].astype(int) %\n",
    "                             100000 != 0]['BIN'].astype(int).to_list()"
   ]
  },
  {
   "cell_type": "code",
   "execution_count": 10,
   "metadata": {},
   "outputs": [],
   "source": [
    "bins = [str(bins[i]) for i in range(0, len(bins))]"
   ]
  },
  {
   "cell_type": "markdown",
   "metadata": {},
   "source": [
    "### run master geosupport function"
   ]
  },
  {
   "cell_type": "code",
   "execution_count": 11,
   "metadata": {
    "scrolled": false
   },
   "outputs": [],
   "source": [
    "df = master_geosupport_func(bins)"
   ]
  },
  {
   "cell_type": "markdown",
   "metadata": {},
   "source": [
    "### prepare latest geosupport data to be pushed to prod"
   ]
  },
  {
   "cell_type": "code",
   "execution_count": 13,
   "metadata": {},
   "outputs": [],
   "source": [
    "#Rename all of the columns from Geosupport so that they map exactly to the schema in SQL Server\n",
    "dff = (df.rename(columns = {'out_zip_code': 'Zip_Code',\n",
    "                               'b7sc': 'B7SC',\n",
    "                               'out_b10sc1': 'B10SC',\n",
    "                               'out_sanborn_boro': 'Boro_Code',\n",
    "                               'bin': 'BIN',\n",
    "                               'out_preferred_lgc': 'LGC',\n",
    "                               'type_meaning': 'Address_Type',\n",
    "                               'high_address_number': 'High_House_Num',\n",
    "                               'low_address_number': 'Low_House_Num',\n",
    "                               'out_sos_ind': 'Street_Side',\n",
    "                               'street_name': 'Norm_Street_Name',\n",
    "                               'out_usps_city_name': 'USPS_City',\n",
    "                               'out_TPAD_bin_status': 'TPAD_BIN_Status',\n",
    "                               'out_co': 'City_Council',\n",
    "                               'out_ad': 'NYS_Assembly',\n",
    "                               'out_sd': 'NYS_Senate',\n",
    "                               'out_cd': 'US_Congress',\n",
    "                               'out_nta': 'NTA_Code',\n",
    "                               'out_fire_bat': 'Fire_Battalion',\n",
    "                               'out_fire_co': 'Fire_Co_Num',\n",
    "                               'out_fire_co_str': 'Fire_Co_Type',\n",
    "                               'out_fire_div': 'Fire_Division',\n",
    "                               'out_hurricane_zone': 'HEZ',\n",
    "                               'out_police_patrol_boro': 'Police_Boro',\n",
    "                               'Police Patrol Borough Command': 'Police_Boro_Com',\n",
    "                               'out_police_pct': 'Police_Precinct',\n",
    "                               'Sanitation Collection Scheduling Section and Subsection': 'Sanitation_Subsect',\n",
    "                               'Sanitation District': 'Sanitation_District',\n",
    "                               'Sanitation Recycling Collection Schedule': 'Sanitation_Recycling',\n",
    "                               'out_san_reg': 'Sanitation_Reg_Pickup',\n",
    "                               'out_physical_id': 'Physical_ID'})\n",
    "       .reindex(columns = ['BIN', 'Boro_Code', 'Address_Type', 'Low_House_Num', 'High_House_Num', 'Norm_Street_Name', 'USPS_City', \n",
    "                           'Zip_Code', 'Physical_ID', 'B7SC', 'B10SC', 'LGC', 'Street_Side', 'TPAD_BIN_Status', 'HEZ', \n",
    "                           'Community_Board', 'City_Council', 'NYS_Assembly', 'NYS_Senate', 'US_Congress', 'NTA_Code', \n",
    "                           'Fire_Battalion', 'Fire_Co_Num', 'Fire_Co_Type', 'Fire_Division', \n",
    "                           'Police_Boro', 'Police_Boro_Com', 'Police_Precinct', \n",
    "                           'Sanitation_Subsect', 'Sanitation_District', 'Sanitation_Recycling', 'Sanitation_Reg_Pickup'])\n",
    "       .drop_duplicates())"
   ]
  },
  {
   "cell_type": "code",
   "execution_count": 14,
   "metadata": {},
   "outputs": [
    {
     "data": {
      "text/plain": [
       "3540"
      ]
     },
     "execution_count": 14,
     "metadata": {},
     "output_type": "execute_result"
    }
   ],
   "source": [
    "len(dff)"
   ]
  },
  {
   "cell_type": "code",
   "execution_count": 15,
   "metadata": {
    "scrolled": false
   },
   "outputs": [
    {
     "data": {
      "text/html": [
       "<div>\n",
       "<style scoped>\n",
       "    .dataframe tbody tr th:only-of-type {\n",
       "        vertical-align: middle;\n",
       "    }\n",
       "\n",
       "    .dataframe tbody tr th {\n",
       "        vertical-align: top;\n",
       "    }\n",
       "\n",
       "    .dataframe thead th {\n",
       "        text-align: right;\n",
       "    }\n",
       "</style>\n",
       "<table border=\"1\" class=\"dataframe\">\n",
       "  <thead>\n",
       "    <tr style=\"text-align: right;\">\n",
       "      <th></th>\n",
       "      <th>BIN</th>\n",
       "      <th>Boro_Code</th>\n",
       "      <th>Address_Type</th>\n",
       "      <th>Low_House_Num</th>\n",
       "      <th>High_House_Num</th>\n",
       "      <th>Norm_Street_Name</th>\n",
       "      <th>USPS_City</th>\n",
       "      <th>Zip_Code</th>\n",
       "      <th>Physical_ID</th>\n",
       "      <th>B7SC</th>\n",
       "      <th>...</th>\n",
       "      <th>Fire_Co_Num</th>\n",
       "      <th>Fire_Co_Type</th>\n",
       "      <th>Fire_Division</th>\n",
       "      <th>Police_Boro</th>\n",
       "      <th>Police_Boro_Com</th>\n",
       "      <th>Police_Precinct</th>\n",
       "      <th>Sanitation_Subsect</th>\n",
       "      <th>Sanitation_District</th>\n",
       "      <th>Sanitation_Recycling</th>\n",
       "      <th>Sanitation_Reg_Pickup</th>\n",
       "    </tr>\n",
       "  </thead>\n",
       "  <tbody>\n",
       "    <tr>\n",
       "      <th>0</th>\n",
       "      <td>4592110</td>\n",
       "      <td>4</td>\n",
       "      <td>Non-Addressable Unnamed Building</td>\n",
       "      <td>None</td>\n",
       "      <td>None</td>\n",
       "      <td>BEACH  104 STREET</td>\n",
       "      <td>NaN</td>\n",
       "      <td>NaN</td>\n",
       "      <td>NaN</td>\n",
       "      <td>43361001</td>\n",
       "      <td>...</td>\n",
       "      <td>NaN</td>\n",
       "      <td>NaN</td>\n",
       "      <td>NaN</td>\n",
       "      <td>NaN</td>\n",
       "      <td>NaN</td>\n",
       "      <td>NaN</td>\n",
       "      <td>NaN</td>\n",
       "      <td>NaN</td>\n",
       "      <td>NaN</td>\n",
       "      <td>NaN</td>\n",
       "    </tr>\n",
       "    <tr>\n",
       "      <th>1</th>\n",
       "      <td>4453939</td>\n",
       "      <td>4</td>\n",
       "      <td>Ordinary Address Range</td>\n",
       "      <td>132A</td>\n",
       "      <td>132B</td>\n",
       "      <td>SERGEANT BEERS LANE</td>\n",
       "      <td>NaN</td>\n",
       "      <td>NaN</td>\n",
       "      <td>NaN</td>\n",
       "      <td>46189701</td>\n",
       "      <td>...</td>\n",
       "      <td>NaN</td>\n",
       "      <td>NaN</td>\n",
       "      <td>NaN</td>\n",
       "      <td>NaN</td>\n",
       "      <td>NaN</td>\n",
       "      <td>NaN</td>\n",
       "      <td>NaN</td>\n",
       "      <td>NaN</td>\n",
       "      <td>NaN</td>\n",
       "      <td>NaN</td>\n",
       "    </tr>\n",
       "    <tr>\n",
       "      <th>2</th>\n",
       "      <td>4539845</td>\n",
       "      <td>4</td>\n",
       "      <td>Ordinary Address Range</td>\n",
       "      <td>340</td>\n",
       "      <td>340</td>\n",
       "      <td>STORY AVENUE</td>\n",
       "      <td>BAYSIDE</td>\n",
       "      <td>11359</td>\n",
       "      <td>0103875</td>\n",
       "      <td>46449501</td>\n",
       "      <td>...</td>\n",
       "      <td>Engine 306</td>\n",
       "      <td>Engine 306</td>\n",
       "      <td>14</td>\n",
       "      <td>Queens North</td>\n",
       "      <td>NaN</td>\n",
       "      <td>109</td>\n",
       "      <td>NaN</td>\n",
       "      <td>NaN</td>\n",
       "      <td>NaN</td>\n",
       "      <td>None</td>\n",
       "    </tr>\n",
       "    <tr>\n",
       "      <th>3</th>\n",
       "      <td>4539831</td>\n",
       "      <td>4</td>\n",
       "      <td>Ordinary Address Range</td>\n",
       "      <td>411A</td>\n",
       "      <td>411B</td>\n",
       "      <td>SHORE ROAD</td>\n",
       "      <td>NaN</td>\n",
       "      <td>NaN</td>\n",
       "      <td>NaN</td>\n",
       "      <td>46209501</td>\n",
       "      <td>...</td>\n",
       "      <td>NaN</td>\n",
       "      <td>NaN</td>\n",
       "      <td>NaN</td>\n",
       "      <td>NaN</td>\n",
       "      <td>NaN</td>\n",
       "      <td>NaN</td>\n",
       "      <td>NaN</td>\n",
       "      <td>NaN</td>\n",
       "      <td>NaN</td>\n",
       "      <td>NaN</td>\n",
       "    </tr>\n",
       "    <tr>\n",
       "      <th>4</th>\n",
       "      <td>4539891</td>\n",
       "      <td>4</td>\n",
       "      <td>Ordinary Address Range</td>\n",
       "      <td>615</td>\n",
       "      <td>615</td>\n",
       "      <td>LITTLE BAY ROAD</td>\n",
       "      <td>BAYSIDE</td>\n",
       "      <td>11359</td>\n",
       "      <td>0103838</td>\n",
       "      <td>45410701</td>\n",
       "      <td>...</td>\n",
       "      <td>Engine 306</td>\n",
       "      <td>Engine 306</td>\n",
       "      <td>14</td>\n",
       "      <td>Queens North</td>\n",
       "      <td>NaN</td>\n",
       "      <td>109</td>\n",
       "      <td>NaN</td>\n",
       "      <td>NaN</td>\n",
       "      <td>NaN</td>\n",
       "      <td>None</td>\n",
       "    </tr>\n",
       "    <tr>\n",
       "      <th>5</th>\n",
       "      <td>4539854</td>\n",
       "      <td>4</td>\n",
       "      <td>Ordinary Address Range</td>\n",
       "      <td>620</td>\n",
       "      <td>620</td>\n",
       "      <td>CIRCLE DRIVE</td>\n",
       "      <td>BAYSIDE</td>\n",
       "      <td>11359</td>\n",
       "      <td>0165595</td>\n",
       "      <td>43902001</td>\n",
       "      <td>...</td>\n",
       "      <td>Engine 306</td>\n",
       "      <td>Engine 306</td>\n",
       "      <td>14</td>\n",
       "      <td>Queens North</td>\n",
       "      <td>NaN</td>\n",
       "      <td>109</td>\n",
       "      <td>NaN</td>\n",
       "      <td>NaN</td>\n",
       "      <td>NaN</td>\n",
       "      <td>None</td>\n",
       "    </tr>\n",
       "    <tr>\n",
       "      <th>6</th>\n",
       "      <td>4539910</td>\n",
       "      <td>4</td>\n",
       "      <td>Ordinary Address Range</td>\n",
       "      <td>417</td>\n",
       "      <td>417</td>\n",
       "      <td>WALTER REED ROAD</td>\n",
       "      <td>BAYSIDE</td>\n",
       "      <td>11359</td>\n",
       "      <td>0103869</td>\n",
       "      <td>46676001</td>\n",
       "      <td>...</td>\n",
       "      <td>Engine 306</td>\n",
       "      <td>Engine 306</td>\n",
       "      <td>14</td>\n",
       "      <td>Queens North</td>\n",
       "      <td>NaN</td>\n",
       "      <td>109</td>\n",
       "      <td>NaN</td>\n",
       "      <td>NaN</td>\n",
       "      <td>NaN</td>\n",
       "      <td>None</td>\n",
       "    </tr>\n",
       "    <tr>\n",
       "      <th>7</th>\n",
       "      <td>4539838</td>\n",
       "      <td>4</td>\n",
       "      <td>Ordinary Address Range</td>\n",
       "      <td>405</td>\n",
       "      <td>405</td>\n",
       "      <td>SYLVESTER LANE</td>\n",
       "      <td>BAYSIDE</td>\n",
       "      <td>11359</td>\n",
       "      <td>0103866</td>\n",
       "      <td>46504001</td>\n",
       "      <td>...</td>\n",
       "      <td>Engine 306</td>\n",
       "      <td>Engine 306</td>\n",
       "      <td>14</td>\n",
       "      <td>Queens North</td>\n",
       "      <td>NaN</td>\n",
       "      <td>109</td>\n",
       "      <td>NaN</td>\n",
       "      <td>NaN</td>\n",
       "      <td>NaN</td>\n",
       "      <td>None</td>\n",
       "    </tr>\n",
       "    <tr>\n",
       "      <th>8</th>\n",
       "      <td>4539848</td>\n",
       "      <td>4</td>\n",
       "      <td>Ordinary Address Range</td>\n",
       "      <td>319</td>\n",
       "      <td>319</td>\n",
       "      <td>LITTLE BAY ROAD</td>\n",
       "      <td>None</td>\n",
       "      <td>None</td>\n",
       "      <td>None</td>\n",
       "      <td>45410701</td>\n",
       "      <td>...</td>\n",
       "      <td>None</td>\n",
       "      <td>None</td>\n",
       "      <td>None</td>\n",
       "      <td>None</td>\n",
       "      <td>NaN</td>\n",
       "      <td>None</td>\n",
       "      <td>NaN</td>\n",
       "      <td>NaN</td>\n",
       "      <td>NaN</td>\n",
       "      <td>None</td>\n",
       "    </tr>\n",
       "    <tr>\n",
       "      <th>9</th>\n",
       "      <td>4539846</td>\n",
       "      <td>4</td>\n",
       "      <td>Ordinary Address Range</td>\n",
       "      <td>403</td>\n",
       "      <td>403</td>\n",
       "      <td>SYLVESTER LANE</td>\n",
       "      <td>BAYSIDE</td>\n",
       "      <td>11359</td>\n",
       "      <td>0103866</td>\n",
       "      <td>46504001</td>\n",
       "      <td>...</td>\n",
       "      <td>Engine 306</td>\n",
       "      <td>Engine 306</td>\n",
       "      <td>14</td>\n",
       "      <td>Queens North</td>\n",
       "      <td>NaN</td>\n",
       "      <td>109</td>\n",
       "      <td>NaN</td>\n",
       "      <td>NaN</td>\n",
       "      <td>NaN</td>\n",
       "      <td>None</td>\n",
       "    </tr>\n",
       "  </tbody>\n",
       "</table>\n",
       "<p>10 rows × 32 columns</p>\n",
       "</div>"
      ],
      "text/plain": [
       "       BIN Boro_Code                      Address_Type Low_House_Num  \\\n",
       "0  4592110         4  Non-Addressable Unnamed Building          None   \n",
       "1  4453939         4            Ordinary Address Range          132A   \n",
       "2  4539845         4            Ordinary Address Range           340   \n",
       "3  4539831         4            Ordinary Address Range          411A   \n",
       "4  4539891         4            Ordinary Address Range           615   \n",
       "5  4539854         4            Ordinary Address Range           620   \n",
       "6  4539910         4            Ordinary Address Range           417   \n",
       "7  4539838         4            Ordinary Address Range           405   \n",
       "8  4539848         4            Ordinary Address Range           319   \n",
       "9  4539846         4            Ordinary Address Range           403   \n",
       "\n",
       "  High_House_Num     Norm_Street_Name USPS_City Zip_Code Physical_ID  \\\n",
       "0           None    BEACH  104 STREET       NaN      NaN         NaN   \n",
       "1           132B  SERGEANT BEERS LANE       NaN      NaN         NaN   \n",
       "2            340         STORY AVENUE   BAYSIDE    11359     0103875   \n",
       "3           411B           SHORE ROAD       NaN      NaN         NaN   \n",
       "4            615      LITTLE BAY ROAD   BAYSIDE    11359     0103838   \n",
       "5            620         CIRCLE DRIVE   BAYSIDE    11359     0165595   \n",
       "6            417     WALTER REED ROAD   BAYSIDE    11359     0103869   \n",
       "7            405       SYLVESTER LANE   BAYSIDE    11359     0103866   \n",
       "8            319      LITTLE BAY ROAD      None     None        None   \n",
       "9            403       SYLVESTER LANE   BAYSIDE    11359     0103866   \n",
       "\n",
       "       B7SC  ... Fire_Co_Num Fire_Co_Type Fire_Division   Police_Boro  \\\n",
       "0  43361001  ...         NaN          NaN           NaN           NaN   \n",
       "1  46189701  ...         NaN          NaN           NaN           NaN   \n",
       "2  46449501  ...  Engine 306   Engine 306            14  Queens North   \n",
       "3  46209501  ...         NaN          NaN           NaN           NaN   \n",
       "4  45410701  ...  Engine 306   Engine 306            14  Queens North   \n",
       "5  43902001  ...  Engine 306   Engine 306            14  Queens North   \n",
       "6  46676001  ...  Engine 306   Engine 306            14  Queens North   \n",
       "7  46504001  ...  Engine 306   Engine 306            14  Queens North   \n",
       "8  45410701  ...        None         None          None          None   \n",
       "9  46504001  ...  Engine 306   Engine 306            14  Queens North   \n",
       "\n",
       "  Police_Boro_Com  Police_Precinct Sanitation_Subsect Sanitation_District  \\\n",
       "0             NaN              NaN                NaN                 NaN   \n",
       "1             NaN              NaN                NaN                 NaN   \n",
       "2             NaN              109                NaN                 NaN   \n",
       "3             NaN              NaN                NaN                 NaN   \n",
       "4             NaN              109                NaN                 NaN   \n",
       "5             NaN              109                NaN                 NaN   \n",
       "6             NaN              109                NaN                 NaN   \n",
       "7             NaN              109                NaN                 NaN   \n",
       "8             NaN             None                NaN                 NaN   \n",
       "9             NaN              109                NaN                 NaN   \n",
       "\n",
       "  Sanitation_Recycling Sanitation_Reg_Pickup  \n",
       "0                  NaN                   NaN  \n",
       "1                  NaN                   NaN  \n",
       "2                  NaN                  None  \n",
       "3                  NaN                   NaN  \n",
       "4                  NaN                  None  \n",
       "5                  NaN                  None  \n",
       "6                  NaN                  None  \n",
       "7                  NaN                  None  \n",
       "8                  NaN                  None  \n",
       "9                  NaN                  None  \n",
       "\n",
       "[10 rows x 32 columns]"
      ]
     },
     "execution_count": 15,
     "metadata": {},
     "output_type": "execute_result"
    }
   ],
   "source": [
    "dff.head(10)"
   ]
  },
  {
   "cell_type": "code",
   "execution_count": 16,
   "metadata": {},
   "outputs": [],
   "source": [
    "measurer = np.vectorize(len)"
   ]
  },
  {
   "cell_type": "code",
   "execution_count": 17,
   "metadata": {},
   "outputs": [],
   "source": [
    "# type_df = pd.DataFrame({'df_name': dff.columns.tolist(),\n",
    "#                         'df_type': dff.dtypes.astype(str).tolist(),\n",
    "#                         'df_len' : measurer(dff.values.astype(str)).max(axis=0)})"
   ]
  },
  {
   "cell_type": "code",
   "execution_count": 18,
   "metadata": {},
   "outputs": [
    {
     "data": {
      "text/html": [
       "<div>\n",
       "<style scoped>\n",
       "    .dataframe tbody tr th:only-of-type {\n",
       "        vertical-align: middle;\n",
       "    }\n",
       "\n",
       "    .dataframe tbody tr th {\n",
       "        vertical-align: top;\n",
       "    }\n",
       "\n",
       "    .dataframe thead th {\n",
       "        text-align: right;\n",
       "    }\n",
       "</style>\n",
       "<table border=\"1\" class=\"dataframe\">\n",
       "  <thead>\n",
       "    <tr style=\"text-align: right;\">\n",
       "      <th></th>\n",
       "      <th>df_name</th>\n",
       "      <th>df_type</th>\n",
       "      <th>df_len</th>\n",
       "    </tr>\n",
       "  </thead>\n",
       "  <tbody>\n",
       "    <tr>\n",
       "      <th>0</th>\n",
       "      <td>BIN</td>\n",
       "      <td>object</td>\n",
       "      <td>7</td>\n",
       "    </tr>\n",
       "    <tr>\n",
       "      <th>1</th>\n",
       "      <td>Boro_Code</td>\n",
       "      <td>object</td>\n",
       "      <td>4</td>\n",
       "    </tr>\n",
       "    <tr>\n",
       "      <th>2</th>\n",
       "      <td>Address_Type</td>\n",
       "      <td>object</td>\n",
       "      <td>33</td>\n",
       "    </tr>\n",
       "    <tr>\n",
       "      <th>3</th>\n",
       "      <td>Low_House_Num</td>\n",
       "      <td>object</td>\n",
       "      <td>12</td>\n",
       "    </tr>\n",
       "    <tr>\n",
       "      <th>4</th>\n",
       "      <td>High_House_Num</td>\n",
       "      <td>object</td>\n",
       "      <td>12</td>\n",
       "    </tr>\n",
       "  </tbody>\n",
       "</table>\n",
       "</div>"
      ],
      "text/plain": [
       "          df_name df_type  df_len\n",
       "0             BIN  object       7\n",
       "1       Boro_Code  object       4\n",
       "2    Address_Type  object      33\n",
       "3   Low_House_Num  object      12\n",
       "4  High_House_Num  object      12"
      ]
     },
     "execution_count": 18,
     "metadata": {},
     "output_type": "execute_result"
    }
   ],
   "source": [
    "# type_df.head()"
   ]
  },
  {
   "cell_type": "code",
   "execution_count": 19,
   "metadata": {},
   "outputs": [],
   "source": [
    "con_str = \"Driver={SQL Server};Server=\" + server + \";Database=structuresdb;Trusted_Connection=Yes;\"\n",
    "sa_con = quote_plus(con_str)\n",
    "engine = sqlalchemy.create_engine(\n",
    "    \"mssql+pyodbc:///?odbc_connect={}\".format(sa_con))"
   ]
  },
  {
   "cell_type": "code",
   "execution_count": 20,
   "metadata": {},
   "outputs": [],
   "source": [
    "if len(dff) > 0:\n",
    "    dff.to_sql('tbl_geosupport_address',\n",
    "               engine,\n",
    "               schema='dbo',\n",
    "               if_exists='replace',\n",
    "               index=False)"
   ]
  },
  {
   "cell_type": "code",
   "execution_count": null,
   "metadata": {},
   "outputs": [],
   "source": [
    "dff.Boro_Code.fillna(0,inplace=True)"
   ]
  },
  {
   "cell_type": "code",
   "execution_count": null,
   "metadata": {},
   "outputs": [],
   "source": [
    "geosupport_FSET = FeatureSet.from_dataframe(dff)"
   ]
  },
  {
   "cell_type": "code",
   "execution_count": null,
   "metadata": {},
   "outputs": [],
   "source": [
    "len(geosupport_FSET.features)"
   ]
  },
  {
   "cell_type": "markdown",
   "metadata": {},
   "source": [
    "### EDIT"
   ]
  },
  {
   "cell_type": "code",
   "execution_count": null,
   "metadata": {},
   "outputs": [],
   "source": [
    "if len(dff) > 0: #len(geosupport_FSET.features):\n",
    "    try:\n",
    "        ## TRUNCATE AND REPLACE\n",
    "        tbl_geosupport.delete_features(where=\"objectid > 0\")\n",
    "        add_to_geosupport = tbl_geosupport.edit_features(adds = geosupport_FSET.features)\n",
    "    except:\n",
    "        error_mssg = 'Updates were not pushed successfully to the geosupport table. Please see Notebook output/logs for further details.'\n",
    "        send_email('mycontacts.txt','fail_update_mssg.txt', subject = 'geosupport push: FAILED!', e=error_mssg)\n",
    "    else:\n",
    "        success_mssg = 'There were ' + str(len(dff)) + ' updates pushed to Production.'\n",
    "        send_email('mycontacts.txt','success_geosupport_mssg.txt', subject = 'geosupport push: SUCCESS!', e=success_mssg)\n",
    "else:\n",
    "    mssg = 'There were no updates to push to the geosupport table.'\n",
    "    send_email('mycontacts.txt','fail_update_mssg.txt', subject = 'geosupport: NO UPDATES to push', e=mssg)"
   ]
  },
  {
   "cell_type": "code",
   "execution_count": null,
   "metadata": {},
   "outputs": [],
   "source": []
  }
 ],
 "metadata": {
  "kernelspec": {
   "display_name": "Python 3",
   "language": "python",
   "name": "python3"
  },
  "language_info": {
   "codemirror_mode": {
    "name": "ipython",
    "version": 3
   },
   "file_extension": ".py",
   "mimetype": "text/x-python",
   "name": "python",
   "nbconvert_exporter": "python",
   "pygments_lexer": "ipython3",
   "version": "3.7.3"
  },
  "toc": {
   "base_numbering": 1,
   "nav_menu": {},
   "number_sections": false,
   "sideBar": true,
   "skip_h1_title": false,
   "title_cell": "Table of Contents",
   "title_sidebar": "Contents",
   "toc_cell": false,
   "toc_position": {
    "height": "calc(100% - 180px)",
    "left": "10px",
    "top": "150px",
    "width": "316px"
   },
   "toc_section_display": true,
   "toc_window_display": true
  },
  "varInspector": {
   "cols": {
    "lenName": 16,
    "lenType": 16,
    "lenVar": 40
   },
   "kernels_config": {
    "python": {
     "delete_cmd_postfix": "",
     "delete_cmd_prefix": "del ",
     "library": "var_list.py",
     "varRefreshCmd": "print(var_dic_list())"
    },
    "r": {
     "delete_cmd_postfix": ") ",
     "delete_cmd_prefix": "rm(",
     "library": "var_list.r",
     "varRefreshCmd": "cat(var_dic_list()) "
    }
   },
   "types_to_exclude": [
    "module",
    "function",
    "builtin_function_or_method",
    "instance",
    "_Feature"
   ],
   "window_display": false
  }
 },
 "nbformat": 4,
 "nbformat_minor": 2
}
