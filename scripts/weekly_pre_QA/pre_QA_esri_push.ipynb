{
 "cells": [
  {
   "cell_type": "markdown",
   "metadata": {},
   "source": [
    "julie.tsitron@parks.nyc.gov 2/20/2020"
   ]
  },
  {
   "cell_type": "markdown",
   "metadata": {},
   "source": [
    "# Imports and Connections to DBs"
   ]
  },
  {
   "cell_type": "code",
   "execution_count": 1,
   "metadata": {},
   "outputs": [
    {
     "data": {
      "text/plain": [
       "'c:\\\\Projects\\\\Structures\\\\develop'"
      ]
     },
     "execution_count": 1,
     "metadata": {},
     "output_type": "execute_result"
    }
   ],
   "source": [
    "pwd"
   ]
  },
  {
   "cell_type": "code",
   "execution_count": 2,
   "metadata": {},
   "outputs": [],
   "source": [
    "import pyproj"
   ]
  },
  {
   "cell_type": "code",
   "execution_count": 3,
   "metadata": {},
   "outputs": [],
   "source": [
    "import geopandas"
   ]
  },
  {
   "cell_type": "code",
   "execution_count": 4,
   "metadata": {},
   "outputs": [
    {
     "data": {
      "text/plain": [
       "'0.8.1'"
      ]
     },
     "execution_count": 4,
     "metadata": {},
     "output_type": "execute_result"
    }
   ],
   "source": [
    "geopandas.__version__"
   ]
  },
  {
   "cell_type": "code",
   "execution_count": 5,
   "metadata": {},
   "outputs": [
    {
     "data": {
      "text/plain": [
       "'2.6.1.post1'"
      ]
     },
     "execution_count": 5,
     "metadata": {},
     "output_type": "execute_result"
    }
   ],
   "source": [
    "pyproj.__version__"
   ]
  },
  {
   "cell_type": "code",
   "execution_count": 6,
   "metadata": {},
   "outputs": [],
   "source": [
    "# pyproj."
   ]
  },
  {
   "cell_type": "code",
   "execution_count": 7,
   "metadata": {
    "scrolled": true
   },
   "outputs": [],
   "source": [
    "import pandas as pd\n",
    "import numpy as np\n",
    "import pyodbc\n",
    "import sys\n",
    "import json\n",
    "import urllib\n",
    "import sqlalchemy\n",
    "import os\n",
    "import shapely\n",
    "from datetime import datetime\n",
    "\n",
    "from arcgis.gis import GIS\n",
    "from arcgis.features import GeoAccessor, GeoSeriesAccessor, SpatialDataFrame, FeatureLayer, FeatureSet\n",
    "\n",
    "sys.path.append('../')\n",
    "from IPM_Shared_Code_public.Python.geo_functions import read_geosql\n",
    "from IPM_Shared_Code_public.Python.utils import get_config\n",
    "from IPM_Shared_Code_public.Python.email_functions import get_contacts, read_template, send_email\n",
    "from geosupport import *"
   ]
  },
  {
   "cell_type": "code",
   "execution_count": 8,
   "metadata": {},
   "outputs": [],
   "source": [
    "config = get_config('c:\\Projects\\config.ini')\n",
    "\n",
    "driver = config['srv']['driver']\n",
    "server = config['srv']['server']\n",
    "parksgis = config['srv']['parksgis']\n",
    "data_parks_server = config['srv']['data_parks']\n",
    "structuresdb = config['db']['structuresdb']\n",
    "portal = config['url']['portal']\n",
    "structures_url = config['url']['structures']\n",
    "geosupport_url = config['url']['geosupport']"
   ]
  },
  {
   "cell_type": "code",
   "execution_count": 9,
   "metadata": {},
   "outputs": [],
   "source": [
    "params = urllib.parse.quote_plus(r'Driver=' + driver + ';Server=' + server +\n",
    "                                 ';Database=' + structuresdb +\n",
    "                                 ';Trusted_Connection=Yes;')\n",
    "engine = sqlalchemy.create_engine(\"mssql+pyodbc:///?odbc_connect=%s\" % params)\n",
    "connection = engine.connect()"
   ]
  },
  {
   "cell_type": "code",
   "execution_count": 10,
   "metadata": {},
   "outputs": [],
   "source": [
    "con_data_parks = pyodbc.connect('Driver={' + driver + '};Server=' + data_parks_server +\n",
    "                     ';Database=IPMDB;Trusted_Connection=Yes;')\n",
    "con = pyodbc.connect('Driver={' + driver + '};Server=' + server +\n",
    "                           ';Database=;Trusted_Connection=Yes;')"
   ]
  },
  {
   "cell_type": "markdown",
   "metadata": {},
   "source": [
    "## Deal with Dates"
   ]
  },
  {
   "cell_type": "markdown",
   "metadata": {},
   "source": [
    "### m/d/Y H:M:S format:"
   ]
  },
  {
   "cell_type": "code",
   "execution_count": 11,
   "metadata": {},
   "outputs": [],
   "source": [
    "# structures_dev['COMMISSIONDATE'] = pd.to_datetime(\n",
    "#     structures_dev['COMMISSIONDATE'],\n",
    "#     errors='coerce').dt.strftime('%m/%d/%Y %H:%M:%S')"
   ]
  },
  {
   "cell_type": "code",
   "execution_count": 12,
   "metadata": {
    "scrolled": true
   },
   "outputs": [],
   "source": [
    "# structures_dev['COMMISSIONDATE']"
   ]
  },
  {
   "cell_type": "code",
   "execution_count": 13,
   "metadata": {},
   "outputs": [],
   "source": [
    "# structures_dev['FEATURESTATUSCHANGEDATE'] = pd.to_datetime(\n",
    "#     structures_dev['FEATURESTATUSCHANGEDATE']).dt.strftime('%m/%d/%Y %H:%M:%S')"
   ]
  },
  {
   "cell_type": "code",
   "execution_count": 14,
   "metadata": {},
   "outputs": [],
   "source": [
    "# structures_dev['RETIREDDATE'] = pd.to_datetime(\n",
    "#     structures_dev['RETIREDDATE']).dt.strftime('%m/%d/%Y %H:%M:%S')"
   ]
  },
  {
   "cell_type": "code",
   "execution_count": 15,
   "metadata": {
    "scrolled": true
   },
   "outputs": [],
   "source": [
    "# structures_dev.columns.values"
   ]
  },
  {
   "cell_type": "markdown",
   "metadata": {},
   "source": [
    "# Delta Table from structuresdb"
   ]
  },
  {
   "cell_type": "code",
   "execution_count": 16,
   "metadata": {
    "scrolled": true
   },
   "outputs": [],
   "source": [
    "# SPATIAL DATASET:\n",
    "sql_str_deltas = 'select * FROM [structuresdb].[dbo].[tbl_delta_structures]'\n",
    "struct_deltas = read_geosql(sql_str_deltas,\n",
    "                            con,\n",
    "                            geom_raw='shape',\n",
    "                            geom_col='geometry')"
   ]
  },
  {
   "cell_type": "code",
   "execution_count": 17,
   "metadata": {},
   "outputs": [],
   "source": [
    "## Still need this ??\n",
    "\n",
    "struct_deltas.rename(columns={\n",
    "    'objectid': 'OBJECTID',\n",
    "    'parks_id': 'SYSTEM',\n",
    "    'bin': 'BIN',\n",
    "    'bbl': 'BBL',\n",
    "    'doitt_id': 'DOITT_ID',\n",
    "    'ground_elevation': 'Ground_Elevation',\n",
    "    'height_roof': 'Height_Roof',\n",
    "    'alteration_year': 'Alteration_Year',\n",
    "    'construction_year': 'Construction_Year',\n",
    "    'demolition_year': 'Demolition_Year'\n",
    "},\n",
    "                     inplace=True)"
   ]
  },
  {
   "cell_type": "code",
   "execution_count": 18,
   "metadata": {
    "scrolled": false
   },
   "outputs": [
    {
     "data": {
      "text/html": [
       "<div>\n",
       "<style scoped>\n",
       "    .dataframe tbody tr th:only-of-type {\n",
       "        vertical-align: middle;\n",
       "    }\n",
       "\n",
       "    .dataframe tbody tr th {\n",
       "        vertical-align: top;\n",
       "    }\n",
       "\n",
       "    .dataframe thead th {\n",
       "        text-align: right;\n",
       "    }\n",
       "</style>\n",
       "<table border=\"1\" class=\"dataframe\">\n",
       "  <thead>\n",
       "    <tr style=\"text-align: right;\">\n",
       "      <th></th>\n",
       "      <th>fid</th>\n",
       "      <th>OBJECTID</th>\n",
       "      <th>SYSTEM</th>\n",
       "      <th>BIN</th>\n",
       "      <th>BBL</th>\n",
       "      <th>DOITT_ID</th>\n",
       "      <th>Ground_Elevation</th>\n",
       "      <th>Height_Roof</th>\n",
       "      <th>Construction_Year</th>\n",
       "      <th>Alteration_Year</th>\n",
       "      <th>Demolition_Year</th>\n",
       "      <th>api_call</th>\n",
       "      <th>doitt_source</th>\n",
       "      <th>date_stamp</th>\n",
       "      <th>geometry</th>\n",
       "    </tr>\n",
       "  </thead>\n",
       "  <tbody>\n",
       "    <tr>\n",
       "      <th>0</th>\n",
       "      <td>1</td>\n",
       "      <td>5679</td>\n",
       "      <td>R013-BLG3581</td>\n",
       "      <td>5153581</td>\n",
       "      <td>5055700001</td>\n",
       "      <td>444585</td>\n",
       "      <td>9.0</td>\n",
       "      <td>16.00</td>\n",
       "      <td>1931.0</td>\n",
       "      <td>NaN</td>\n",
       "      <td>None</td>\n",
       "      <td>U</td>\n",
       "      <td>current</td>\n",
       "      <td>2021-01-14 05:07:13.973</td>\n",
       "      <td>POLYGON ((937416.848 143769.832, 937400.769 14...</td>\n",
       "    </tr>\n",
       "    <tr>\n",
       "      <th>1</th>\n",
       "      <td>2</td>\n",
       "      <td>6251</td>\n",
       "      <td>M033-BLG1531</td>\n",
       "      <td>1081934</td>\n",
       "      <td>1003400001</td>\n",
       "      <td>445450</td>\n",
       "      <td>16.0</td>\n",
       "      <td>39.23</td>\n",
       "      <td>1900.0</td>\n",
       "      <td>1992.0</td>\n",
       "      <td>None</td>\n",
       "      <td>U</td>\n",
       "      <td>current</td>\n",
       "      <td>2021-01-14 05:07:13.973</td>\n",
       "      <td>POLYGON ((989434.660 201650.170, 989426.582 20...</td>\n",
       "    </tr>\n",
       "    <tr>\n",
       "      <th>2</th>\n",
       "      <td>3</td>\n",
       "      <td>5345</td>\n",
       "      <td>M107-BLG1574</td>\n",
       "      <td>1088078</td>\n",
       "      <td>1018190010</td>\n",
       "      <td>446387</td>\n",
       "      <td>24.0</td>\n",
       "      <td>49.00</td>\n",
       "      <td>1961.0</td>\n",
       "      <td>NaN</td>\n",
       "      <td>None</td>\n",
       "      <td>U</td>\n",
       "      <td>current</td>\n",
       "      <td>2021-01-14 05:07:13.973</td>\n",
       "      <td>POLYGON ((1004143.512 226698.919, 1004080.866 ...</td>\n",
       "    </tr>\n",
       "    <tr>\n",
       "      <th>3</th>\n",
       "      <td>4</td>\n",
       "      <td>6713</td>\n",
       "      <td>X092-ZN03-BLG0965</td>\n",
       "      <td>2123969</td>\n",
       "      <td>2059000150</td>\n",
       "      <td>449043</td>\n",
       "      <td>22.0</td>\n",
       "      <td>8.97</td>\n",
       "      <td>1970.0</td>\n",
       "      <td>NaN</td>\n",
       "      <td>None</td>\n",
       "      <td>U</td>\n",
       "      <td>current</td>\n",
       "      <td>2021-01-14 05:07:13.973</td>\n",
       "      <td>POLYGON ((1012801.678 263654.846, 1012779.208 ...</td>\n",
       "    </tr>\n",
       "    <tr>\n",
       "      <th>4</th>\n",
       "      <td>5</td>\n",
       "      <td>4859</td>\n",
       "      <td>Q012B-BLG0580</td>\n",
       "      <td>4560693</td>\n",
       "      <td>4060720001</td>\n",
       "      <td>449179</td>\n",
       "      <td>74.0</td>\n",
       "      <td>10.00</td>\n",
       "      <td>1955.0</td>\n",
       "      <td>NaN</td>\n",
       "      <td>None</td>\n",
       "      <td>U</td>\n",
       "      <td>current</td>\n",
       "      <td>2021-01-14 05:07:13.973</td>\n",
       "      <td>POLYGON ((1048594.670 221387.270, 1048574.380 ...</td>\n",
       "    </tr>\n",
       "  </tbody>\n",
       "</table>\n",
       "</div>"
      ],
      "text/plain": [
       "   fid  OBJECTID             SYSTEM      BIN         BBL  DOITT_ID  \\\n",
       "0    1      5679       R013-BLG3581  5153581  5055700001    444585   \n",
       "1    2      6251       M033-BLG1531  1081934  1003400001    445450   \n",
       "2    3      5345       M107-BLG1574  1088078  1018190010    446387   \n",
       "3    4      6713  X092-ZN03-BLG0965  2123969  2059000150    449043   \n",
       "4    5      4859      Q012B-BLG0580  4560693  4060720001    449179   \n",
       "\n",
       "   Ground_Elevation  Height_Roof  Construction_Year  Alteration_Year  \\\n",
       "0               9.0        16.00             1931.0              NaN   \n",
       "1              16.0        39.23             1900.0           1992.0   \n",
       "2              24.0        49.00             1961.0              NaN   \n",
       "3              22.0         8.97             1970.0              NaN   \n",
       "4              74.0        10.00             1955.0              NaN   \n",
       "\n",
       "  Demolition_Year api_call doitt_source              date_stamp  \\\n",
       "0            None        U      current 2021-01-14 05:07:13.973   \n",
       "1            None        U      current 2021-01-14 05:07:13.973   \n",
       "2            None        U      current 2021-01-14 05:07:13.973   \n",
       "3            None        U      current 2021-01-14 05:07:13.973   \n",
       "4            None        U      current 2021-01-14 05:07:13.973   \n",
       "\n",
       "                                            geometry  \n",
       "0  POLYGON ((937416.848 143769.832, 937400.769 14...  \n",
       "1  POLYGON ((989434.660 201650.170, 989426.582 20...  \n",
       "2  POLYGON ((1004143.512 226698.919, 1004080.866 ...  \n",
       "3  POLYGON ((1012801.678 263654.846, 1012779.208 ...  \n",
       "4  POLYGON ((1048594.670 221387.270, 1048574.380 ...  "
      ]
     },
     "execution_count": 18,
     "metadata": {},
     "output_type": "execute_result"
    }
   ],
   "source": [
    "struct_deltas.head()"
   ]
  },
  {
   "cell_type": "code",
   "execution_count": 19,
   "metadata": {},
   "outputs": [],
   "source": [
    "# struct_deltas[struct_deltas['SYSTEM']=='Q015-ZN06-BLG0418']"
   ]
  },
  {
   "cell_type": "code",
   "execution_count": 20,
   "metadata": {
    "scrolled": false
   },
   "outputs": [],
   "source": [
    "multipolygons = []\n",
    "\n",
    "for i, row in struct_deltas.iterrows(): \n",
    "    if type(row['geometry'])==shapely.geometry.multipolygon.MultiPolygon:\n",
    "        multipolygons.append(row['SYSTEM'])\n",
    "\n",
    "if len(multipolygons)!=0:\n",
    "    ids = '\\n'.join(multipolygons)\n",
    "    mssg = 'SYSTEM ID(s) of building(s) that are MultiPolygons:\\n'+ids\n",
    "    send_email('mycontacts.txt','multipoly_mssg.txt', subject = 'multipolygons', e=mssg)\n",
    "    \n",
    "struct_deltas = struct_deltas[~struct_deltas['SYSTEM'].isin(multipolygons)]"
   ]
  },
  {
   "cell_type": "code",
   "execution_count": 21,
   "metadata": {},
   "outputs": [
    {
     "data": {
      "text/plain": [
       "[]"
      ]
     },
     "execution_count": 21,
     "metadata": {},
     "output_type": "execute_result"
    }
   ],
   "source": [
    "multipolygons"
   ]
  },
  {
   "cell_type": "markdown",
   "metadata": {},
   "source": [
    "## Write Delta Table to geojson file"
   ]
  },
  {
   "cell_type": "code",
   "execution_count": 22,
   "metadata": {},
   "outputs": [],
   "source": [
    "today = datetime.now().strftime('%Y%m%d')\n",
    "snapshot = r'C:\\\\Projects\\\\Structures\\\\delta_snapshots/' + today"
   ]
  },
  {
   "cell_type": "code",
   "execution_count": 23,
   "metadata": {},
   "outputs": [],
   "source": [
    "if not struct_deltas.empty:\n",
    "    if os.path.exists(snapshot):\n",
    "        struct_deltas.to_file(snapshot + '/deltas.geojson',\n",
    "                              encoding='utf-8',\n",
    "                              driver='GeoJSON')\n",
    "    else:\n",
    "        os.makedirs(snapshot)\n",
    "        struct_deltas.to_file(snapshot + '/deltas.geojson',\n",
    "                              encoding='utf-8',\n",
    "                              driver='GeoJSON')"
   ]
  },
  {
   "cell_type": "markdown",
   "metadata": {},
   "source": [
    "## Read geojson file to geojson object "
   ]
  },
  {
   "cell_type": "code",
   "execution_count": 24,
   "metadata": {},
   "outputs": [],
   "source": [
    "if not struct_deltas.empty:\n",
    "    with open(snapshot+'/deltas.geojson') as data:\n",
    "        geojson_deltas = json.load(data)"
   ]
  },
  {
   "cell_type": "markdown",
   "metadata": {},
   "source": [
    "## Create arcgis featureSet from geojson object"
   ]
  },
  {
   "cell_type": "code",
   "execution_count": 25,
   "metadata": {},
   "outputs": [
    {
     "data": {
      "text/plain": [
       "geopandas.geodataframe.GeoDataFrame"
      ]
     },
     "execution_count": 25,
     "metadata": {},
     "output_type": "execute_result"
    }
   ],
   "source": [
    "type(struct_deltas)"
   ]
  },
  {
   "cell_type": "code",
   "execution_count": 26,
   "metadata": {},
   "outputs": [
    {
     "data": {
      "text/plain": [
       "<Projected CRS: EPSG:2263>\n",
       "Name: NAD83 / New York Long Island (ftUS)\n",
       "Axis Info [cartesian]:\n",
       "- X[east]: Easting (US survey foot)\n",
       "- Y[north]: Northing (US survey foot)\n",
       "Area of Use:\n",
       "- name: USA - New York - SPCS - Long Island\n",
       "- bounds: (-74.26, 40.47, -71.8, 41.3)\n",
       "Coordinate Operation:\n",
       "- name: SPCS83 New York Long Island zone (US Survey feet)\n",
       "- method: Lambert Conic Conformal (2SP)\n",
       "Datum: North American Datum 1983\n",
       "- Ellipsoid: GRS 1980\n",
       "- Prime Meridian: Greenwich"
      ]
     },
     "execution_count": 26,
     "metadata": {},
     "output_type": "execute_result"
    }
   ],
   "source": [
    "struct_deltas.crs"
   ]
  },
  {
   "cell_type": "code",
   "execution_count": 27,
   "metadata": {},
   "outputs": [],
   "source": [
    "# fromDF_deltas = FeatureSet.from_dataframe(pd.DataFrame(struct_deltas))"
   ]
  },
  {
   "cell_type": "code",
   "execution_count": 28,
   "metadata": {
    "scrolled": true
   },
   "outputs": [
    {
     "name": "stderr",
     "output_type": "stream",
     "text": [
      "C:\\ProgramData\\Anaconda3\\envs\\structures\\lib\\site-packages\\arcgis\\features\\feature.py:799: UserWarning: crs has been deprecated and will be ignored. Please see: https://tools.ietf.org/html/rfc7946#section-4 for more information.\n",
      "  warn(\"crs has been deprecated and will be ignored. Please\"+ \\\n"
     ]
    }
   ],
   "source": [
    "if not struct_deltas.empty:\n",
    "    fromJSON_deltas = FeatureSet.from_geojson(geojson_deltas)"
   ]
  },
  {
   "cell_type": "code",
   "execution_count": 29,
   "metadata": {},
   "outputs": [
    {
     "name": "stdout",
     "output_type": "stream",
     "text": [
      "{'wkid': 4326}\n"
     ]
    }
   ],
   "source": [
    "#Check the WKT Projection for the feature set\n",
    "if len(fromJSON_deltas) > 0:\n",
    "    print(fromJSON_deltas.spatial_reference)"
   ]
  },
  {
   "cell_type": "code",
   "execution_count": 30,
   "metadata": {},
   "outputs": [],
   "source": [
    "#Set the WKT projection for each feature in the feature set\n",
    "for f in range(0, len(fromJSON_deltas)):\n",
    "    fromJSON_deltas.features[f].geometry.update({'spatialReference': {'wkid': 2263}})"
   ]
  },
  {
   "cell_type": "code",
   "execution_count": 31,
   "metadata": {},
   "outputs": [],
   "source": [
    "#Set the WKT projection for the whole feature set\n",
    "fromJSON_deltas.spatial_reference = {'wkid': 2263}"
   ]
  },
  {
   "cell_type": "code",
   "execution_count": 32,
   "metadata": {},
   "outputs": [
    {
     "name": "stdout",
     "output_type": "stream",
     "text": [
      "{'wkid': 2263}\n"
     ]
    }
   ],
   "source": [
    "#Check the WKT Projection for the feature set\n",
    "if len(fromJSON_deltas) > 0:\n",
    "    print(fromJSON_deltas.spatial_reference)"
   ]
  },
  {
   "cell_type": "markdown",
   "metadata": {},
   "source": [
    "# Connect to published datasets via GIS object"
   ]
  },
  {
   "cell_type": "code",
   "execution_count": 33,
   "metadata": {},
   "outputs": [],
   "source": [
    "gis = GIS(url=portal, verify_cert = False)"
   ]
  },
  {
   "cell_type": "markdown",
   "metadata": {},
   "source": [
    "# Make Edits"
   ]
  },
  {
   "cell_type": "markdown",
   "metadata": {},
   "source": [
    "## Structures"
   ]
  },
  {
   "cell_type": "markdown",
   "metadata": {},
   "source": [
    "### run delta archive stored proc"
   ]
  },
  {
   "cell_type": "code",
   "execution_count": 34,
   "metadata": {},
   "outputs": [],
   "source": [
    "crsr = con.cursor()\n",
    "sqal_stmt = '''\n",
    "exec [structuresdb].[dbo].[sp_i_tbl_delta_structures_archive] \n",
    "'''\n",
    "crsr.execute(\"{CALL [structuresdb].[dbo].[sp_i_tbl_delta_structures_archive] }\")\n",
    "crsr.commit()\n",
    "crsr.close()"
   ]
  },
  {
   "cell_type": "markdown",
   "metadata": {},
   "source": [
    "### Connect to structures feature layer directly"
   ]
  },
  {
   "cell_type": "code",
   "execution_count": 35,
   "metadata": {},
   "outputs": [],
   "source": [
    "strct_lyr_url = structures_url"
   ]
  },
  {
   "cell_type": "code",
   "execution_count": 36,
   "metadata": {},
   "outputs": [],
   "source": [
    "lyr_structures = FeatureLayer(strct_lyr_url)\n",
    "structures_features = lyr_structures.query()"
   ]
  },
  {
   "cell_type": "code",
   "execution_count": 37,
   "metadata": {},
   "outputs": [
    {
     "data": {
      "text/plain": [
       "<FeatureSet> 2707 features"
      ]
     },
     "execution_count": 37,
     "metadata": {},
     "output_type": "execute_result"
    }
   ],
   "source": [
    "structures_features"
   ]
  },
  {
   "cell_type": "code",
   "execution_count": 38,
   "metadata": {},
   "outputs": [
    {
     "data": {
      "text/plain": [
       "852"
      ]
     },
     "execution_count": 38,
     "metadata": {},
     "output_type": "execute_result"
    }
   ],
   "source": [
    "len(struct_deltas)"
   ]
  },
  {
   "cell_type": "markdown",
   "metadata": {},
   "source": [
    "### EDIT"
   ]
  },
  {
   "cell_type": "code",
   "execution_count": 39,
   "metadata": {},
   "outputs": [],
   "source": [
    "if not struct_deltas.empty:\n",
    "    num_updates = len(fromJSON_deltas.features)"
   ]
  },
  {
   "cell_type": "code",
   "execution_count": 40,
   "metadata": {},
   "outputs": [
    {
     "name": "stdout",
     "output_type": "stream",
     "text": [
      "Dear Julie, \n",
      "\n",
      "This is a courtesy message to let you know updates to the Structure layer were pushed successfully.\n",
      "\n",
      "Details:\n",
      "\n",
      "There were 852 updates pushed to Production.\n",
      "\n",
      "Thanks,\n",
      "Data team at IPM\n",
      "\n"
     ]
    }
   ],
   "source": [
    "if not struct_deltas.empty:\n",
    "    try:\n",
    "        update_result = lyr_structures.edit_features(\n",
    "            updates=fromJSON_deltas.features)\n",
    "    except:\n",
    "        error_mssg = 'Updates were not pushed successfully to Structures. Please see Notebook output/logs for further details.'\n",
    "        send_email('mycontacts.txt','fail_update_mssg.txt', subject = 'structures push: FAILED!', e=error_mssg)\n",
    "    else:\n",
    "        success_mssg = 'There were ' + str(num_updates) + ' updates pushed to Production.'\n",
    "        send_email('mycontacts.txt','success_structures_mssg.txt', subject = 'structures push: SUCCESS!', e=success_mssg)\n",
    "else:\n",
    "    mssg = 'There were no updates to push to the Structure layer.'\n",
    "    send_email('mycontacts.txt','fail_update_mssg.txt', subject = 'structures: NO UPDATES to push', e=mssg)"
   ]
  },
  {
   "cell_type": "code",
   "execution_count": 41,
   "metadata": {},
   "outputs": [],
   "source": [
    "lyr_structures = FeatureLayer(strct_lyr_url)\n",
    "structures_features = lyr_structures.query()"
   ]
  },
  {
   "cell_type": "markdown",
   "metadata": {},
   "source": [
    "## Geosupport"
   ]
  },
  {
   "cell_type": "markdown",
   "metadata": {},
   "source": [
    "### connect to geosupport service"
   ]
  },
  {
   "cell_type": "code",
   "execution_count": 42,
   "metadata": {},
   "outputs": [],
   "source": [
    "geosupport_tbl_url = geosupport_url"
   ]
  },
  {
   "cell_type": "code",
   "execution_count": 43,
   "metadata": {},
   "outputs": [],
   "source": [
    "tbl_geosupport = FeatureLayer(geosupport_tbl_url)\n",
    "geosupport = tbl_geosupport.query()"
   ]
  },
  {
   "cell_type": "markdown",
   "metadata": {},
   "source": [
    "### Get latest BINs from structures layer"
   ]
  },
  {
   "cell_type": "code",
   "execution_count": 44,
   "metadata": {},
   "outputs": [],
   "source": [
    "# structures_valid_BINs = structures_features.sdf[\n",
    "#     (structures_features.sdf['BIN'] != 0) &\n",
    "#     (~pd.isnull(structures_features.sdf['BIN']))] "
   ]
  },
  {
   "cell_type": "code",
   "execution_count": 45,
   "metadata": {},
   "outputs": [],
   "source": [
    "# bins = structures_valid_BINs[structures_valid_BINs['BIN'].astype(int) %\n",
    "#                              100000 != 0]['BIN'].astype(int).to_list()"
   ]
  },
  {
   "cell_type": "code",
   "execution_count": 46,
   "metadata": {},
   "outputs": [],
   "source": [
    "# bins = [str(bins[i]) for i in range(0, len(bins))]"
   ]
  },
  {
   "cell_type": "code",
   "execution_count": 47,
   "metadata": {},
   "outputs": [],
   "source": [
    "structures_sdf = structures_features.sdf[\n",
    "    (structures_features.sdf['BIN'] != 0) &\n",
    "    (~pd.isnull(structures_features.sdf['BIN']))] "
   ]
  },
  {
   "cell_type": "code",
   "execution_count": 48,
   "metadata": {},
   "outputs": [],
   "source": [
    "structs_sdf_final = structures_sdf[structures_sdf['BIN'].astype(int) % 1000000 != 0]"
   ]
  },
  {
   "cell_type": "markdown",
   "metadata": {},
   "source": [
    "### run master geosupport function"
   ]
  },
  {
   "cell_type": "code",
   "execution_count": 49,
   "metadata": {},
   "outputs": [
    {
     "data": {
      "text/html": [
       "<div>\n",
       "<style scoped>\n",
       "    .dataframe tbody tr th:only-of-type {\n",
       "        vertical-align: middle;\n",
       "    }\n",
       "\n",
       "    .dataframe tbody tr th {\n",
       "        vertical-align: top;\n",
       "    }\n",
       "\n",
       "    .dataframe thead th {\n",
       "        text-align: right;\n",
       "    }\n",
       "</style>\n",
       "<table border=\"1\" class=\"dataframe\">\n",
       "  <thead>\n",
       "    <tr style=\"text-align: right;\">\n",
       "      <th></th>\n",
       "      <th>OBJECTID</th>\n",
       "      <th>SYSTEM</th>\n",
       "      <th>created_user</th>\n",
       "      <th>created_date</th>\n",
       "      <th>last_edited_user</th>\n",
       "      <th>last_edited_date</th>\n",
       "      <th>GlobalID</th>\n",
       "      <th>FEATURESTATUS</th>\n",
       "      <th>FEATURESTATUSCHANGEDATE</th>\n",
       "      <th>BIN</th>\n",
       "      <th>...</th>\n",
       "      <th>Ground_Elevation</th>\n",
       "      <th>Height_Roof</th>\n",
       "      <th>Construction_Year</th>\n",
       "      <th>Alteration_Year</th>\n",
       "      <th>Demolition_Year</th>\n",
       "      <th>DOITT_ID</th>\n",
       "      <th>DOITT_Source</th>\n",
       "      <th>ActualSqFeetAboveGrade</th>\n",
       "      <th>ActualSqFeetBelowGrade</th>\n",
       "      <th>SHAPE</th>\n",
       "    </tr>\n",
       "  </thead>\n",
       "  <tbody>\n",
       "    <tr>\n",
       "      <th>0</th>\n",
       "      <td>4519</td>\n",
       "      <td>Q389-BLG0001</td>\n",
       "      <td>DPR</td>\n",
       "      <td>2015-06-11 13:06:36</td>\n",
       "      <td>NYCDPR\\scott.gilbert</td>\n",
       "      <td>2020-09-16 17:53:03</td>\n",
       "      <td>{532937F3-5C74-4709-A848-D0A721D73609}</td>\n",
       "      <td>Active</td>\n",
       "      <td>NaT</td>\n",
       "      <td>4592110.0</td>\n",
       "      <td>...</td>\n",
       "      <td>7.0</td>\n",
       "      <td>8.730474</td>\n",
       "      <td>1958.0</td>\n",
       "      <td>NaN</td>\n",
       "      <td>None</td>\n",
       "      <td>277465.0</td>\n",
       "      <td>current</td>\n",
       "      <td>NaN</td>\n",
       "      <td>None</td>\n",
       "      <td>{\"rings\": [[[1032852.2682688832, 152292.274533...</td>\n",
       "    </tr>\n",
       "    <tr>\n",
       "      <th>1</th>\n",
       "      <td>4520</td>\n",
       "      <td>Q458-BLG0077</td>\n",
       "      <td>DPR</td>\n",
       "      <td>2015-06-11 13:06:36</td>\n",
       "      <td>NYCDPR\\py_services</td>\n",
       "      <td>2021-01-15 04:07:05</td>\n",
       "      <td>{47FD958F-CD1F-4F89-A61B-5CA55E7D7D3A}</td>\n",
       "      <td>Inactive</td>\n",
       "      <td>2013-10-04</td>\n",
       "      <td>4453939.0</td>\n",
       "      <td>...</td>\n",
       "      <td>29.0</td>\n",
       "      <td>34.000000</td>\n",
       "      <td>NaN</td>\n",
       "      <td>NaN</td>\n",
       "      <td>None</td>\n",
       "      <td>246576.0</td>\n",
       "      <td>current</td>\n",
       "      <td>NaN</td>\n",
       "      <td>None</td>\n",
       "      <td>{\"rings\": [[[1047002.3764515519, 227118.998239...</td>\n",
       "    </tr>\n",
       "    <tr>\n",
       "      <th>2</th>\n",
       "      <td>4521</td>\n",
       "      <td>Q458-BLG0078</td>\n",
       "      <td>DPR</td>\n",
       "      <td>2015-06-11 13:06:36</td>\n",
       "      <td>NYCDPR\\py_services</td>\n",
       "      <td>2021-01-15 04:07:05</td>\n",
       "      <td>{BE6587F7-189E-4A66-9EF5-17D8972976A5}</td>\n",
       "      <td>Active</td>\n",
       "      <td>NaT</td>\n",
       "      <td>4539845.0</td>\n",
       "      <td>...</td>\n",
       "      <td>29.0</td>\n",
       "      <td>9.000000</td>\n",
       "      <td>NaN</td>\n",
       "      <td>NaN</td>\n",
       "      <td>None</td>\n",
       "      <td>486282.0</td>\n",
       "      <td>current</td>\n",
       "      <td>NaN</td>\n",
       "      <td>None</td>\n",
       "      <td>{\"rings\": [[[1046728.9501611441, 228000.653300...</td>\n",
       "    </tr>\n",
       "    <tr>\n",
       "      <th>5</th>\n",
       "      <td>4524</td>\n",
       "      <td>Q458-BLG0082</td>\n",
       "      <td>DPR</td>\n",
       "      <td>2015-06-11 13:06:36</td>\n",
       "      <td>NYCDPR\\py_services</td>\n",
       "      <td>2021-01-15 04:07:05</td>\n",
       "      <td>{18AA7EB3-EF58-48BE-9A0E-836A19F4B626}</td>\n",
       "      <td>Inactive</td>\n",
       "      <td>2013-10-04</td>\n",
       "      <td>4539831.0</td>\n",
       "      <td>...</td>\n",
       "      <td>26.0</td>\n",
       "      <td>42.000000</td>\n",
       "      <td>NaN</td>\n",
       "      <td>NaN</td>\n",
       "      <td>None</td>\n",
       "      <td>827172.0</td>\n",
       "      <td>current</td>\n",
       "      <td>NaN</td>\n",
       "      <td>None</td>\n",
       "      <td>{\"rings\": [[[1046510.868904382, 228830.6959315...</td>\n",
       "    </tr>\n",
       "    <tr>\n",
       "      <th>8</th>\n",
       "      <td>4527</td>\n",
       "      <td>Q458-BLG0085</td>\n",
       "      <td>DPR</td>\n",
       "      <td>2015-06-11 13:06:36</td>\n",
       "      <td>NYCDPR\\py_services</td>\n",
       "      <td>2021-01-15 04:07:05</td>\n",
       "      <td>{02EAB4BE-27FC-44CA-B125-2C97ED8E07D0}</td>\n",
       "      <td>Inactive</td>\n",
       "      <td>2013-10-04</td>\n",
       "      <td>4539891.0</td>\n",
       "      <td>...</td>\n",
       "      <td>8.0</td>\n",
       "      <td>36.000000</td>\n",
       "      <td>NaN</td>\n",
       "      <td>NaN</td>\n",
       "      <td>None</td>\n",
       "      <td>415163.0</td>\n",
       "      <td>current</td>\n",
       "      <td>NaN</td>\n",
       "      <td>None</td>\n",
       "      <td>{\"rings\": [[[1044900.0824277997, 228794.469954...</td>\n",
       "    </tr>\n",
       "  </tbody>\n",
       "</table>\n",
       "<p>5 rows × 21 columns</p>\n",
       "</div>"
      ],
      "text/plain": [
       "   OBJECTID        SYSTEM created_user        created_date  \\\n",
       "0      4519  Q389-BLG0001          DPR 2015-06-11 13:06:36   \n",
       "1      4520  Q458-BLG0077          DPR 2015-06-11 13:06:36   \n",
       "2      4521  Q458-BLG0078          DPR 2015-06-11 13:06:36   \n",
       "5      4524  Q458-BLG0082          DPR 2015-06-11 13:06:36   \n",
       "8      4527  Q458-BLG0085          DPR 2015-06-11 13:06:36   \n",
       "\n",
       "       last_edited_user    last_edited_date  \\\n",
       "0  NYCDPR\\scott.gilbert 2020-09-16 17:53:03   \n",
       "1    NYCDPR\\py_services 2021-01-15 04:07:05   \n",
       "2    NYCDPR\\py_services 2021-01-15 04:07:05   \n",
       "5    NYCDPR\\py_services 2021-01-15 04:07:05   \n",
       "8    NYCDPR\\py_services 2021-01-15 04:07:05   \n",
       "\n",
       "                                 GlobalID FEATURESTATUS  \\\n",
       "0  {532937F3-5C74-4709-A848-D0A721D73609}        Active   \n",
       "1  {47FD958F-CD1F-4F89-A61B-5CA55E7D7D3A}      Inactive   \n",
       "2  {BE6587F7-189E-4A66-9EF5-17D8972976A5}        Active   \n",
       "5  {18AA7EB3-EF58-48BE-9A0E-836A19F4B626}      Inactive   \n",
       "8  {02EAB4BE-27FC-44CA-B125-2C97ED8E07D0}      Inactive   \n",
       "\n",
       "  FEATURESTATUSCHANGEDATE        BIN  ... Ground_Elevation  Height_Roof  \\\n",
       "0                     NaT  4592110.0  ...              7.0     8.730474   \n",
       "1              2013-10-04  4453939.0  ...             29.0    34.000000   \n",
       "2                     NaT  4539845.0  ...             29.0     9.000000   \n",
       "5              2013-10-04  4539831.0  ...             26.0    42.000000   \n",
       "8              2013-10-04  4539891.0  ...              8.0    36.000000   \n",
       "\n",
       "   Construction_Year  Alteration_Year  Demolition_Year  DOITT_ID  \\\n",
       "0             1958.0              NaN             None  277465.0   \n",
       "1                NaN              NaN             None  246576.0   \n",
       "2                NaN              NaN             None  486282.0   \n",
       "5                NaN              NaN             None  827172.0   \n",
       "8                NaN              NaN             None  415163.0   \n",
       "\n",
       "   DOITT_Source ActualSqFeetAboveGrade  ActualSqFeetBelowGrade  \\\n",
       "0       current                    NaN                    None   \n",
       "1       current                    NaN                    None   \n",
       "2       current                    NaN                    None   \n",
       "5       current                    NaN                    None   \n",
       "8       current                    NaN                    None   \n",
       "\n",
       "                                               SHAPE  \n",
       "0  {\"rings\": [[[1032852.2682688832, 152292.274533...  \n",
       "1  {\"rings\": [[[1047002.3764515519, 227118.998239...  \n",
       "2  {\"rings\": [[[1046728.9501611441, 228000.653300...  \n",
       "5  {\"rings\": [[[1046510.868904382, 228830.6959315...  \n",
       "8  {\"rings\": [[[1044900.0824277997, 228794.469954...  \n",
       "\n",
       "[5 rows x 21 columns]"
      ]
     },
     "execution_count": 49,
     "metadata": {},
     "output_type": "execute_result"
    }
   ],
   "source": [
    "structs_sdf_final.head()"
   ]
  },
  {
   "cell_type": "code",
   "execution_count": 50,
   "metadata": {
    "scrolled": false
   },
   "outputs": [],
   "source": [
    "df = master_geosupport_func2(structs_sdf_final, 'BIN')"
   ]
  },
  {
   "cell_type": "code",
   "execution_count": 51,
   "metadata": {},
   "outputs": [
    {
     "data": {
      "text/html": [
       "<div>\n",
       "<style scoped>\n",
       "    .dataframe tbody tr th:only-of-type {\n",
       "        vertical-align: middle;\n",
       "    }\n",
       "\n",
       "    .dataframe tbody tr th {\n",
       "        vertical-align: top;\n",
       "    }\n",
       "\n",
       "    .dataframe thead th {\n",
       "        text-align: right;\n",
       "    }\n",
       "</style>\n",
       "<table border=\"1\" class=\"dataframe\">\n",
       "  <thead>\n",
       "    <tr style=\"text-align: right;\">\n",
       "      <th></th>\n",
       "      <th>bin</th>\n",
       "      <th>high_address_number</th>\n",
       "      <th>low_address_number</th>\n",
       "      <th>street_name</th>\n",
       "      <th>out_boro_name1</th>\n",
       "      <th>address_id</th>\n",
       "      <th>posted_address</th>\n",
       "      <th>b7sc</th>\n",
       "      <th>tpad_bin_status</th>\n",
       "      <th>type</th>\n",
       "      <th>...</th>\n",
       "      <th>out_san_dist_section</th>\n",
       "      <th>out_san_recycle</th>\n",
       "      <th>out_san_reg</th>\n",
       "      <th>out_san_org_pick_up</th>\n",
       "      <th>out_usps_city_name</th>\n",
       "      <th>out_preferred_lgc</th>\n",
       "      <th>out_sos_ind</th>\n",
       "      <th>out_physical_id</th>\n",
       "      <th>in_boro</th>\n",
       "      <th>Boro_Code</th>\n",
       "    </tr>\n",
       "  </thead>\n",
       "  <tbody>\n",
       "    <tr>\n",
       "      <th>0</th>\n",
       "      <td>4453939</td>\n",
       "      <td>132</td>\n",
       "      <td>132</td>\n",
       "      <td>SERGEANT BEERS LANE</td>\n",
       "      <td>QUEENS</td>\n",
       "      <td>5163967</td>\n",
       "      <td>1.0</td>\n",
       "      <td>NaN</td>\n",
       "      <td>NaN</td>\n",
       "      <td>NaN</td>\n",
       "      <td>...</td>\n",
       "      <td>407 / 07</td>\n",
       "      <td></td>\n",
       "      <td></td>\n",
       "      <td></td>\n",
       "      <td>BAYSIDE</td>\n",
       "      <td>46189701</td>\n",
       "      <td>Address is on the left when facing from GENERA...</td>\n",
       "      <td>0103892</td>\n",
       "      <td>4</td>\n",
       "      <td>4</td>\n",
       "    </tr>\n",
       "    <tr>\n",
       "      <th>1</th>\n",
       "      <td>4539831</td>\n",
       "      <td>411</td>\n",
       "      <td>411</td>\n",
       "      <td>SHORE ROAD</td>\n",
       "      <td>QUEENS</td>\n",
       "      <td>5164307</td>\n",
       "      <td>1.0</td>\n",
       "      <td>NaN</td>\n",
       "      <td>NaN</td>\n",
       "      <td>NaN</td>\n",
       "      <td>...</td>\n",
       "      <td>407 / 07</td>\n",
       "      <td></td>\n",
       "      <td></td>\n",
       "      <td></td>\n",
       "      <td>BAYSIDE</td>\n",
       "      <td>46209501</td>\n",
       "      <td>Address is on the right when facing from ORDNA...</td>\n",
       "      <td>0103395</td>\n",
       "      <td>4</td>\n",
       "      <td>4</td>\n",
       "    </tr>\n",
       "    <tr>\n",
       "      <th>2</th>\n",
       "      <td>4539848</td>\n",
       "      <td>619</td>\n",
       "      <td>619</td>\n",
       "      <td>LITTLE BAY ROAD</td>\n",
       "      <td>QUEENS</td>\n",
       "      <td>5164224</td>\n",
       "      <td>1.0</td>\n",
       "      <td>NaN</td>\n",
       "      <td>NaN</td>\n",
       "      <td>NaN</td>\n",
       "      <td>...</td>\n",
       "      <td>407 / 07</td>\n",
       "      <td></td>\n",
       "      <td></td>\n",
       "      <td></td>\n",
       "      <td>BAYSIDE</td>\n",
       "      <td>45410701</td>\n",
       "      <td>Address is on the right when facing from WILLE...</td>\n",
       "      <td>0103838</td>\n",
       "      <td>4</td>\n",
       "      <td>4</td>\n",
       "    </tr>\n",
       "    <tr>\n",
       "      <th>3</th>\n",
       "      <td>4539879</td>\n",
       "      <td>308</td>\n",
       "      <td>308</td>\n",
       "      <td>RED CROSS LANE</td>\n",
       "      <td>QUEENS</td>\n",
       "      <td>5164008</td>\n",
       "      <td>1.0</td>\n",
       "      <td>NaN</td>\n",
       "      <td>NaN</td>\n",
       "      <td>NaN</td>\n",
       "      <td>...</td>\n",
       "      <td>407 / 07</td>\n",
       "      <td></td>\n",
       "      <td></td>\n",
       "      <td></td>\n",
       "      <td>BAYSIDE</td>\n",
       "      <td>46007701</td>\n",
       "      <td>Address is on the left when facing from BEND t...</td>\n",
       "      <td>0103884</td>\n",
       "      <td>4</td>\n",
       "      <td>4</td>\n",
       "    </tr>\n",
       "    <tr>\n",
       "      <th>4</th>\n",
       "      <td>4539878</td>\n",
       "      <td>307</td>\n",
       "      <td>307</td>\n",
       "      <td>SHORE ROAD</td>\n",
       "      <td>QUEENS</td>\n",
       "      <td>5164308</td>\n",
       "      <td>1.0</td>\n",
       "      <td>NaN</td>\n",
       "      <td>NaN</td>\n",
       "      <td>NaN</td>\n",
       "      <td>...</td>\n",
       "      <td>407 / 07</td>\n",
       "      <td></td>\n",
       "      <td></td>\n",
       "      <td></td>\n",
       "      <td>BAYSIDE</td>\n",
       "      <td>46209501</td>\n",
       "      <td>Address is on the right when facing from STORY...</td>\n",
       "      <td>0103398</td>\n",
       "      <td>4</td>\n",
       "      <td>4</td>\n",
       "    </tr>\n",
       "  </tbody>\n",
       "</table>\n",
       "<p>5 rows × 47 columns</p>\n",
       "</div>"
      ],
      "text/plain": [
       "       bin high_address_number low_address_number          street_name  \\\n",
       "0  4453939                 132                132  SERGEANT BEERS LANE   \n",
       "1  4539831                 411                411           SHORE ROAD   \n",
       "2  4539848                 619                619      LITTLE BAY ROAD   \n",
       "3  4539879                 308                308       RED CROSS LANE   \n",
       "4  4539878                 307                307           SHORE ROAD   \n",
       "\n",
       "  out_boro_name1 address_id  posted_address b7sc tpad_bin_status type  ...  \\\n",
       "0         QUEENS    5163967             1.0  NaN             NaN  NaN  ...   \n",
       "1         QUEENS    5164307             1.0  NaN             NaN  NaN  ...   \n",
       "2         QUEENS    5164224             1.0  NaN             NaN  NaN  ...   \n",
       "3         QUEENS    5164008             1.0  NaN             NaN  NaN  ...   \n",
       "4         QUEENS    5164308             1.0  NaN             NaN  NaN  ...   \n",
       "\n",
       "  out_san_dist_section out_san_recycle out_san_reg out_san_org_pick_up  \\\n",
       "0             407 / 07                                                   \n",
       "1             407 / 07                                                   \n",
       "2             407 / 07                                                   \n",
       "3             407 / 07                                                   \n",
       "4             407 / 07                                                   \n",
       "\n",
       "  out_usps_city_name out_preferred_lgc  \\\n",
       "0            BAYSIDE          46189701   \n",
       "1            BAYSIDE          46209501   \n",
       "2            BAYSIDE          45410701   \n",
       "3            BAYSIDE          46007701   \n",
       "4            BAYSIDE          46209501   \n",
       "\n",
       "                                         out_sos_ind out_physical_id  in_boro  \\\n",
       "0  Address is on the left when facing from GENERA...         0103892        4   \n",
       "1  Address is on the right when facing from ORDNA...         0103395        4   \n",
       "2  Address is on the right when facing from WILLE...         0103838        4   \n",
       "3  Address is on the left when facing from BEND t...         0103884        4   \n",
       "4  Address is on the right when facing from STORY...         0103398        4   \n",
       "\n",
       "  Boro_Code  \n",
       "0         4  \n",
       "1         4  \n",
       "2         4  \n",
       "3         4  \n",
       "4         4  \n",
       "\n",
       "[5 rows x 47 columns]"
      ]
     },
     "execution_count": 51,
     "metadata": {},
     "output_type": "execute_result"
    }
   ],
   "source": [
    "df.head()"
   ]
  },
  {
   "cell_type": "markdown",
   "metadata": {},
   "source": [
    "### prepare latest geosupport data to be pushed to prod"
   ]
  },
  {
   "cell_type": "code",
   "execution_count": 52,
   "metadata": {},
   "outputs": [],
   "source": [
    "#Rename all of the columns from Geosupport so that they map exactly to the schema in SQL Server\n",
    "dff = (df.rename(columns = {'out_zip_code': 'Zip_Code',\n",
    "                               'b7sc': 'B7SC',\n",
    "                               'out_b10sc1': 'B10SC',\n",
    "                               #'in_boro': 'Boro_Code',\n",
    "                               'bin': 'BIN',\n",
    "                               'out_preferred_lgc': 'LGC',\n",
    "                               'type_meaning': 'Address_Type',\n",
    "                               'high_address_number': 'High_House_Num',\n",
    "                               'low_address_number': 'Low_House_Num',\n",
    "                               'out_sos_ind': 'Street_Side',\n",
    "                               'street_name': 'Norm_Street_Name',\n",
    "                               'out_usps_city_name': 'USPS_City',\n",
    "                               'out_TPAD_bin_status': 'TPAD_BIN_Status',\n",
    "                               'out_com_dist': 'Community_Board',\n",
    "                               'out_co': 'City_Council',\n",
    "                               'out_ad': 'NYS_Assembly',\n",
    "                               'out_sd': 'NYS_Senate',\n",
    "                               'out_cd': 'US_Congress',\n",
    "                               'out_nta': 'NTA_Code',\n",
    "                               'out_fire_bat': 'Fire_Battalion',\n",
    "                               'out_fire_co': 'Fire_Co_Num',\n",
    "                               'out_fire_co_str': 'Fire_Co_Type',\n",
    "                               'out_fire_div': 'Fire_Division',\n",
    "                               'out_hurricane_zone': 'HEZ',\n",
    "                               'out_police_patrol_boro': 'Police_Boro',\n",
    "                               'Police Patrol Borough Command': 'Police_Boro_Com',\n",
    "                               'out_police_pct': 'Police_Precinct',\n",
    "                               'out_san_sched': 'Sanitation_Subsect',\n",
    "                               'out_san_dist_section': 'Sanitation_District',\n",
    "                               'out_san_recycle': 'Sanitation_Recycling',\n",
    "                               'out_san_reg': 'Sanitation_Reg_Pickup',\n",
    "                               'out_physical_id': 'Physical_ID',\n",
    "                               'address_id': 'Address_ID'})\n",
    "       .reindex(columns = ['BIN', 'Boro_Code', 'Address_Type', 'Low_House_Num', 'High_House_Num', 'Norm_Street_Name', 'USPS_City', \n",
    "                           'Zip_Code', 'Physical_ID', 'B7SC', 'B10SC', 'LGC', 'Street_Side', 'TPAD_BIN_Status', 'HEZ', \n",
    "                           'Community_Board', 'City_Council', 'NYS_Assembly', 'NYS_Senate', 'US_Congress', 'NTA_Code', \n",
    "                           'Fire_Battalion', 'Fire_Co_Num', 'Fire_Co_Type', 'Fire_Division', \n",
    "                           'Police_Boro', 'Police_Boro_Com', 'Police_Precinct', \n",
    "                           'Sanitation_Subsect', 'Sanitation_District', 'Sanitation_Recycling', 'Sanitation_Reg_Pickup', \n",
    "                           'Address_ID', 'official_address', 'posted_address'])\n",
    "       .drop_duplicates())"
   ]
  },
  {
   "cell_type": "code",
   "execution_count": 53,
   "metadata": {},
   "outputs": [
    {
     "data": {
      "text/plain": [
       "3880"
      ]
     },
     "execution_count": 53,
     "metadata": {},
     "output_type": "execute_result"
    }
   ],
   "source": [
    "len(dff)"
   ]
  },
  {
   "cell_type": "code",
   "execution_count": 54,
   "metadata": {
    "scrolled": false
   },
   "outputs": [
    {
     "data": {
      "text/html": [
       "<div>\n",
       "<style scoped>\n",
       "    .dataframe tbody tr th:only-of-type {\n",
       "        vertical-align: middle;\n",
       "    }\n",
       "\n",
       "    .dataframe tbody tr th {\n",
       "        vertical-align: top;\n",
       "    }\n",
       "\n",
       "    .dataframe thead th {\n",
       "        text-align: right;\n",
       "    }\n",
       "</style>\n",
       "<table border=\"1\" class=\"dataframe\">\n",
       "  <thead>\n",
       "    <tr style=\"text-align: right;\">\n",
       "      <th></th>\n",
       "      <th>BIN</th>\n",
       "      <th>Boro_Code</th>\n",
       "      <th>Address_Type</th>\n",
       "      <th>Low_House_Num</th>\n",
       "      <th>High_House_Num</th>\n",
       "      <th>Norm_Street_Name</th>\n",
       "      <th>USPS_City</th>\n",
       "      <th>Zip_Code</th>\n",
       "      <th>Physical_ID</th>\n",
       "      <th>B7SC</th>\n",
       "      <th>...</th>\n",
       "      <th>Police_Boro</th>\n",
       "      <th>Police_Boro_Com</th>\n",
       "      <th>Police_Precinct</th>\n",
       "      <th>Sanitation_Subsect</th>\n",
       "      <th>Sanitation_District</th>\n",
       "      <th>Sanitation_Recycling</th>\n",
       "      <th>Sanitation_Reg_Pickup</th>\n",
       "      <th>Address_ID</th>\n",
       "      <th>official_address</th>\n",
       "      <th>posted_address</th>\n",
       "    </tr>\n",
       "  </thead>\n",
       "  <tbody>\n",
       "    <tr>\n",
       "      <th>0</th>\n",
       "      <td>4453939</td>\n",
       "      <td>4</td>\n",
       "      <td>NaN</td>\n",
       "      <td>132</td>\n",
       "      <td>132</td>\n",
       "      <td>SERGEANT BEERS LANE</td>\n",
       "      <td>BAYSIDE</td>\n",
       "      <td>11359</td>\n",
       "      <td>0103892</td>\n",
       "      <td>NaN</td>\n",
       "      <td>...</td>\n",
       "      <td>Queens North</td>\n",
       "      <td>NaN</td>\n",
       "      <td>109</td>\n",
       "      <td></td>\n",
       "      <td>407 / 07</td>\n",
       "      <td></td>\n",
       "      <td></td>\n",
       "      <td>5163967</td>\n",
       "      <td>0.0</td>\n",
       "      <td>1.0</td>\n",
       "    </tr>\n",
       "    <tr>\n",
       "      <th>1</th>\n",
       "      <td>4539831</td>\n",
       "      <td>4</td>\n",
       "      <td>NaN</td>\n",
       "      <td>411</td>\n",
       "      <td>411</td>\n",
       "      <td>SHORE ROAD</td>\n",
       "      <td>BAYSIDE</td>\n",
       "      <td>11359</td>\n",
       "      <td>0103395</td>\n",
       "      <td>NaN</td>\n",
       "      <td>...</td>\n",
       "      <td>Queens North</td>\n",
       "      <td>NaN</td>\n",
       "      <td>109</td>\n",
       "      <td></td>\n",
       "      <td>407 / 07</td>\n",
       "      <td></td>\n",
       "      <td></td>\n",
       "      <td>5164307</td>\n",
       "      <td>0.0</td>\n",
       "      <td>1.0</td>\n",
       "    </tr>\n",
       "    <tr>\n",
       "      <th>2</th>\n",
       "      <td>4539848</td>\n",
       "      <td>4</td>\n",
       "      <td>NaN</td>\n",
       "      <td>619</td>\n",
       "      <td>619</td>\n",
       "      <td>LITTLE BAY ROAD</td>\n",
       "      <td>BAYSIDE</td>\n",
       "      <td>11359</td>\n",
       "      <td>0103838</td>\n",
       "      <td>NaN</td>\n",
       "      <td>...</td>\n",
       "      <td>Queens North</td>\n",
       "      <td>NaN</td>\n",
       "      <td>109</td>\n",
       "      <td></td>\n",
       "      <td>407 / 07</td>\n",
       "      <td></td>\n",
       "      <td></td>\n",
       "      <td>5164224</td>\n",
       "      <td>0.0</td>\n",
       "      <td>1.0</td>\n",
       "    </tr>\n",
       "    <tr>\n",
       "      <th>3</th>\n",
       "      <td>4539879</td>\n",
       "      <td>4</td>\n",
       "      <td>NaN</td>\n",
       "      <td>308</td>\n",
       "      <td>308</td>\n",
       "      <td>RED CROSS LANE</td>\n",
       "      <td>BAYSIDE</td>\n",
       "      <td>11359</td>\n",
       "      <td>0103884</td>\n",
       "      <td>NaN</td>\n",
       "      <td>...</td>\n",
       "      <td>Queens North</td>\n",
       "      <td>NaN</td>\n",
       "      <td>109</td>\n",
       "      <td></td>\n",
       "      <td>407 / 07</td>\n",
       "      <td></td>\n",
       "      <td></td>\n",
       "      <td>5164008</td>\n",
       "      <td>0.0</td>\n",
       "      <td>1.0</td>\n",
       "    </tr>\n",
       "    <tr>\n",
       "      <th>4</th>\n",
       "      <td>4539878</td>\n",
       "      <td>4</td>\n",
       "      <td>NaN</td>\n",
       "      <td>307</td>\n",
       "      <td>307</td>\n",
       "      <td>SHORE ROAD</td>\n",
       "      <td>BAYSIDE</td>\n",
       "      <td>11359</td>\n",
       "      <td>0103398</td>\n",
       "      <td>NaN</td>\n",
       "      <td>...</td>\n",
       "      <td>Queens North</td>\n",
       "      <td>NaN</td>\n",
       "      <td>109</td>\n",
       "      <td></td>\n",
       "      <td>407 / 07</td>\n",
       "      <td></td>\n",
       "      <td></td>\n",
       "      <td>5164308</td>\n",
       "      <td>0.0</td>\n",
       "      <td>1.0</td>\n",
       "    </tr>\n",
       "    <tr>\n",
       "      <th>5</th>\n",
       "      <td>4453948</td>\n",
       "      <td>4</td>\n",
       "      <td>NaN</td>\n",
       "      <td>415</td>\n",
       "      <td>415</td>\n",
       "      <td>WALTER REED ROAD</td>\n",
       "      <td>BAYSIDE</td>\n",
       "      <td>11359</td>\n",
       "      <td>0103869</td>\n",
       "      <td>NaN</td>\n",
       "      <td>...</td>\n",
       "      <td>Queens North</td>\n",
       "      <td>NaN</td>\n",
       "      <td>109</td>\n",
       "      <td></td>\n",
       "      <td>407 / 07</td>\n",
       "      <td></td>\n",
       "      <td></td>\n",
       "      <td>5163949</td>\n",
       "      <td>0.0</td>\n",
       "      <td>1.0</td>\n",
       "    </tr>\n",
       "    <tr>\n",
       "      <th>6</th>\n",
       "      <td>4297581</td>\n",
       "      <td>4</td>\n",
       "      <td>NaN</td>\n",
       "      <td>16-26</td>\n",
       "      <td>16-26</td>\n",
       "      <td>CROSS BAY BOULEVARD</td>\n",
       "      <td>FAR ROCKAWAY</td>\n",
       "      <td>11693</td>\n",
       "      <td></td>\n",
       "      <td>NaN</td>\n",
       "      <td>...</td>\n",
       "      <td>Queens South</td>\n",
       "      <td>NaN</td>\n",
       "      <td>100</td>\n",
       "      <td>2C</td>\n",
       "      <td>414 / 142</td>\n",
       "      <td>ETH</td>\n",
       "      <td>MTH</td>\n",
       "      <td>330544</td>\n",
       "      <td>0.0</td>\n",
       "      <td>1.0</td>\n",
       "    </tr>\n",
       "    <tr>\n",
       "      <th>7</th>\n",
       "      <td>4592679</td>\n",
       "      <td>4</td>\n",
       "      <td>NaN</td>\n",
       "      <td>80-98</td>\n",
       "      <td>80-98</td>\n",
       "      <td>LINDEN BOULEVARD</td>\n",
       "      <td>HOWARD BEACH</td>\n",
       "      <td>11414</td>\n",
       "      <td>0076911</td>\n",
       "      <td>NaN</td>\n",
       "      <td>...</td>\n",
       "      <td>Queens South</td>\n",
       "      <td>NaN</td>\n",
       "      <td>106</td>\n",
       "      <td>1D</td>\n",
       "      <td>410 / 101</td>\n",
       "      <td>ET</td>\n",
       "      <td>TF</td>\n",
       "      <td>10173282</td>\n",
       "      <td>0.0</td>\n",
       "      <td>1.0</td>\n",
       "    </tr>\n",
       "    <tr>\n",
       "      <th>8</th>\n",
       "      <td>4094682</td>\n",
       "      <td>4</td>\n",
       "      <td>NaN</td>\n",
       "      <td>82-54</td>\n",
       "      <td>82-54</td>\n",
       "      <td>88 PLACE</td>\n",
       "      <td>RIDGEWOOD</td>\n",
       "      <td>11385</td>\n",
       "      <td>0097947</td>\n",
       "      <td>NaN</td>\n",
       "      <td>...</td>\n",
       "      <td>Queens North</td>\n",
       "      <td>NaN</td>\n",
       "      <td>104</td>\n",
       "      <td>4E</td>\n",
       "      <td>405 / 054</td>\n",
       "      <td>EW</td>\n",
       "      <td>WS</td>\n",
       "      <td>105020</td>\n",
       "      <td>0.0</td>\n",
       "      <td>1.0</td>\n",
       "    </tr>\n",
       "    <tr>\n",
       "      <th>9</th>\n",
       "      <td>4116653</td>\n",
       "      <td>4</td>\n",
       "      <td>NaN</td>\n",
       "      <td>51-04</td>\n",
       "      <td>51-04</td>\n",
       "      <td>KISSENA BOULEVARD</td>\n",
       "      <td>FLUSHING</td>\n",
       "      <td>11355</td>\n",
       "      <td>0005510</td>\n",
       "      <td>NaN</td>\n",
       "      <td>...</td>\n",
       "      <td>Queens North</td>\n",
       "      <td>NaN</td>\n",
       "      <td>109</td>\n",
       "      <td>2D</td>\n",
       "      <td>407 / 072</td>\n",
       "      <td>ET</td>\n",
       "      <td>TF</td>\n",
       "      <td>128838</td>\n",
       "      <td>0.0</td>\n",
       "      <td>1.0</td>\n",
       "    </tr>\n",
       "  </tbody>\n",
       "</table>\n",
       "<p>10 rows × 35 columns</p>\n",
       "</div>"
      ],
      "text/plain": [
       "       BIN Boro_Code Address_Type Low_House_Num High_House_Num  \\\n",
       "0  4453939         4          NaN           132            132   \n",
       "1  4539831         4          NaN           411            411   \n",
       "2  4539848         4          NaN           619            619   \n",
       "3  4539879         4          NaN           308            308   \n",
       "4  4539878         4          NaN           307            307   \n",
       "5  4453948         4          NaN           415            415   \n",
       "6  4297581         4          NaN         16-26          16-26   \n",
       "7  4592679         4          NaN         80-98          80-98   \n",
       "8  4094682         4          NaN         82-54          82-54   \n",
       "9  4116653         4          NaN         51-04          51-04   \n",
       "\n",
       "      Norm_Street_Name     USPS_City Zip_Code Physical_ID B7SC  ...  \\\n",
       "0  SERGEANT BEERS LANE       BAYSIDE    11359     0103892  NaN  ...   \n",
       "1           SHORE ROAD       BAYSIDE    11359     0103395  NaN  ...   \n",
       "2      LITTLE BAY ROAD       BAYSIDE    11359     0103838  NaN  ...   \n",
       "3       RED CROSS LANE       BAYSIDE    11359     0103884  NaN  ...   \n",
       "4           SHORE ROAD       BAYSIDE    11359     0103398  NaN  ...   \n",
       "5     WALTER REED ROAD       BAYSIDE    11359     0103869  NaN  ...   \n",
       "6  CROSS BAY BOULEVARD  FAR ROCKAWAY    11693              NaN  ...   \n",
       "7     LINDEN BOULEVARD  HOWARD BEACH    11414     0076911  NaN  ...   \n",
       "8             88 PLACE     RIDGEWOOD    11385     0097947  NaN  ...   \n",
       "9    KISSENA BOULEVARD      FLUSHING    11355     0005510  NaN  ...   \n",
       "\n",
       "    Police_Boro Police_Boro_Com Police_Precinct Sanitation_Subsect  \\\n",
       "0  Queens North             NaN             109                      \n",
       "1  Queens North             NaN             109                      \n",
       "2  Queens North             NaN             109                      \n",
       "3  Queens North             NaN             109                      \n",
       "4  Queens North             NaN             109                      \n",
       "5  Queens North             NaN             109                      \n",
       "6  Queens South             NaN             100                 2C   \n",
       "7  Queens South             NaN             106                 1D   \n",
       "8  Queens North             NaN             104                 4E   \n",
       "9  Queens North             NaN             109                 2D   \n",
       "\n",
       "  Sanitation_District Sanitation_Recycling Sanitation_Reg_Pickup Address_ID  \\\n",
       "0            407 / 07                                               5163967   \n",
       "1            407 / 07                                               5164307   \n",
       "2            407 / 07                                               5164224   \n",
       "3            407 / 07                                               5164008   \n",
       "4            407 / 07                                               5164308   \n",
       "5            407 / 07                                               5163949   \n",
       "6           414 / 142                  ETH                   MTH     330544   \n",
       "7           410 / 101                   ET                    TF   10173282   \n",
       "8           405 / 054                   EW                    WS     105020   \n",
       "9           407 / 072                   ET                    TF     128838   \n",
       "\n",
       "  official_address posted_address  \n",
       "0              0.0            1.0  \n",
       "1              0.0            1.0  \n",
       "2              0.0            1.0  \n",
       "3              0.0            1.0  \n",
       "4              0.0            1.0  \n",
       "5              0.0            1.0  \n",
       "6              0.0            1.0  \n",
       "7              0.0            1.0  \n",
       "8              0.0            1.0  \n",
       "9              0.0            1.0  \n",
       "\n",
       "[10 rows x 35 columns]"
      ]
     },
     "execution_count": 54,
     "metadata": {},
     "output_type": "execute_result"
    }
   ],
   "source": [
    "dff.head(10)"
   ]
  },
  {
   "cell_type": "code",
   "execution_count": 55,
   "metadata": {},
   "outputs": [],
   "source": [
    "#If the length of the updated dateframe is greater than 0 then truncate the existing table\n",
    "if len(dff) > 0:\n",
    "    crsr = con.cursor()\n",
    "    crsr.execute('''truncate table structuresdb.dbo.tbl_geosupport_address''')\n",
    "    crsr.commit()\n",
    "    crsr.close()"
   ]
  },
  {
   "cell_type": "code",
   "execution_count": 56,
   "metadata": {},
   "outputs": [],
   "source": [
    "dff.to_sql('tbl_geosupport_address',\n",
    "           engine,\n",
    "           schema='dbo',\n",
    "           if_exists='append',\n",
    "           index=False)"
   ]
  },
  {
   "cell_type": "code",
   "execution_count": 57,
   "metadata": {},
   "outputs": [],
   "source": [
    "dff.Boro_Code.fillna(0,inplace=True)"
   ]
  },
  {
   "cell_type": "code",
   "execution_count": 58,
   "metadata": {},
   "outputs": [],
   "source": [
    "dff.Address_ID.fillna(0,inplace=True)"
   ]
  },
  {
   "cell_type": "code",
   "execution_count": 59,
   "metadata": {},
   "outputs": [],
   "source": [
    "dff = dff.drop(columns = ['official_address', 'posted_address'])"
   ]
  },
  {
   "cell_type": "code",
   "execution_count": 60,
   "metadata": {},
   "outputs": [],
   "source": [
    "geosupport_FSET = FeatureSet.from_dataframe(dff)"
   ]
  },
  {
   "cell_type": "code",
   "execution_count": 61,
   "metadata": {},
   "outputs": [
    {
     "data": {
      "text/plain": [
       "3880"
      ]
     },
     "execution_count": 61,
     "metadata": {},
     "output_type": "execute_result"
    }
   ],
   "source": [
    "len(geosupport_FSET.features)"
   ]
  },
  {
   "cell_type": "markdown",
   "metadata": {},
   "source": [
    "### EDIT"
   ]
  },
  {
   "cell_type": "code",
   "execution_count": 62,
   "metadata": {},
   "outputs": [
    {
     "name": "stdout",
     "output_type": "stream",
     "text": [
      "Dear Julie, \n",
      "\n",
      "Updates were not pushed successfully to the geosupport table. Please see Notebook output/logs for further details.\n",
      "\n",
      "Thanks,\n",
      "Data team at IPM\n",
      "\n"
     ]
    }
   ],
   "source": [
    "if len(dff) > 0: #len(geosupport_FSET.features):\n",
    "    try:\n",
    "        ## TRUNCATE AND REPLACE\n",
    "        tbl_geosupport.delete_features(where=\"objectid > 0\")\n",
    "        add_to_geosupport = tbl_geosupport.edit_features(adds = geosupport_FSET.features)\n",
    "    except:\n",
    "        error_mssg = 'Updates were not pushed successfully to the geosupport table. Please see Notebook output/logs for further details.'\n",
    "        send_email('mycontacts.txt','fail_update_mssg.txt', subject = 'geosupport push: FAILED!', e=error_mssg)\n",
    "    else:\n",
    "        success_mssg = 'There were ' + str(len(dff)) + ' updates pushed to Production.'\n",
    "        send_email('mycontacts.txt','success_geosupport_mssg.txt', subject = 'geosupport push: SUCCESS!', e=success_mssg)\n",
    "else:\n",
    "    mssg = 'There were no updates to push to the geosupport table.'\n",
    "    send_email('mycontacts.txt','fail_update_mssg.txt', subject = 'geosupport: NO UPDATES to push', e=mssg)"
   ]
  },
  {
   "cell_type": "code",
   "execution_count": null,
   "metadata": {},
   "outputs": [],
   "source": []
  }
 ],
 "metadata": {
  "kernelspec": {
   "display_name": "Python 3",
   "language": "python",
   "name": "python3"
  },
  "language_info": {
   "codemirror_mode": {
    "name": "ipython",
    "version": 3
   },
   "file_extension": ".py",
   "mimetype": "text/x-python",
   "name": "python",
   "nbconvert_exporter": "python",
   "pygments_lexer": "ipython3",
   "version": "3.8.6"
  },
  "toc": {
   "base_numbering": 1,
   "nav_menu": {},
   "number_sections": false,
   "sideBar": true,
   "skip_h1_title": false,
   "title_cell": "Table of Contents",
   "title_sidebar": "Contents",
   "toc_cell": false,
   "toc_position": {
    "height": "calc(100% - 180px)",
    "left": "10px",
    "top": "150px",
    "width": "196px"
   },
   "toc_section_display": true,
   "toc_window_display": true
  },
  "varInspector": {
   "cols": {
    "lenName": 16,
    "lenType": 16,
    "lenVar": 40
   },
   "kernels_config": {
    "python": {
     "delete_cmd_postfix": "",
     "delete_cmd_prefix": "del ",
     "library": "var_list.py",
     "varRefreshCmd": "print(var_dic_list())"
    },
    "r": {
     "delete_cmd_postfix": ") ",
     "delete_cmd_prefix": "rm(",
     "library": "var_list.r",
     "varRefreshCmd": "cat(var_dic_list()) "
    }
   },
   "types_to_exclude": [
    "module",
    "function",
    "builtin_function_or_method",
    "instance",
    "_Feature"
   ],
   "window_display": false
  }
 },
 "nbformat": 4,
 "nbformat_minor": 2
}
