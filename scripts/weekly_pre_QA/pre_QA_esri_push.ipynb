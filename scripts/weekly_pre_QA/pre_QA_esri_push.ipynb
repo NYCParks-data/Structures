{
 "cells": [
  {
   "cell_type": "markdown",
   "metadata": {},
   "source": [
    "julie.tsitron@parks.nyc.gov 2/20/2020"
   ]
  },
  {
   "cell_type": "markdown",
   "metadata": {},
   "source": [
    "# Imports and Connections to DBs"
   ]
  },
  {
   "cell_type": "code",
   "execution_count": 1,
   "metadata": {},
   "outputs": [
    {
     "data": {
      "text/plain": [
       "'C:\\\\Projects\\\\Structures_test\\\\develop'"
      ]
     },
     "execution_count": 1,
     "metadata": {},
     "output_type": "execute_result"
    }
   ],
   "source": [
    "pwd"
   ]
  },
  {
   "cell_type": "code",
   "execution_count": 2,
   "metadata": {},
   "outputs": [],
   "source": [
    "import pyproj"
   ]
  },
  {
   "cell_type": "code",
   "execution_count": 3,
   "metadata": {},
   "outputs": [],
   "source": [
    "import geopandas"
   ]
  },
  {
   "cell_type": "code",
   "execution_count": 4,
   "metadata": {},
   "outputs": [
    {
     "data": {
      "text/plain": [
       "'0.8.1'"
      ]
     },
     "execution_count": 4,
     "metadata": {},
     "output_type": "execute_result"
    }
   ],
   "source": [
    "geopandas.__version__"
   ]
  },
  {
   "cell_type": "code",
   "execution_count": 5,
   "metadata": {},
   "outputs": [
    {
     "data": {
      "text/plain": [
       "'2.6.1.post1'"
      ]
     },
     "execution_count": 5,
     "metadata": {},
     "output_type": "execute_result"
    }
   ],
   "source": [
    "pyproj.__version__"
   ]
  },
  {
   "cell_type": "code",
   "execution_count": 6,
   "metadata": {},
   "outputs": [],
   "source": [
    "# pyproj."
   ]
  },
  {
   "cell_type": "code",
   "execution_count": 7,
   "metadata": {
    "scrolled": true
   },
   "outputs": [],
   "source": [
    "import pandas as pd\n",
    "import numpy as np\n",
    "import pyodbc\n",
    "import sys\n",
    "import json\n",
    "import urllib\n",
    "import sqlalchemy\n",
    "import os\n",
    "import shapely\n",
    "from datetime import datetime\n",
    "\n",
    "from arcgis.gis import GIS\n",
    "from arcgis.features import GeoAccessor, GeoSeriesAccessor, SpatialDataFrame, FeatureLayer, FeatureSet\n",
    "\n",
    "sys.path.append('../')\n",
    "from IPM_Shared_Code_public.Python.geo_functions import read_geosql\n",
    "from IPM_Shared_Code_public.Python.utils import get_config\n",
    "from IPM_Shared_Code_public.Python.email_functions import get_contacts, read_template, send_email\n",
    "from geosupport import *"
   ]
  },
  {
   "cell_type": "code",
   "execution_count": 8,
   "metadata": {},
   "outputs": [],
   "source": [
    "config = get_config('c:\\Projects\\config.ini')\n",
    "\n",
    "driver = config['srv']['driver']\n",
    "server = config['srv']['server']\n",
    "parksgis = config['srv']['parksgis']\n",
    "data_parks_server = config['srv']['data_parks']\n",
    "structuresdb = config['db']['structuresdb']\n",
    "portal = config['url']['portal']\n",
    "structures_url = config['url']['structures']\n",
    "geosupport_url = config['url']['geosupport']"
   ]
  },
  {
   "cell_type": "code",
   "execution_count": 9,
   "metadata": {},
   "outputs": [],
   "source": [
    "params = urllib.parse.quote_plus(r'Driver=' + driver + ';Server=' + server +\n",
    "                                 ';Database=' + structuresdb +\n",
    "                                 ';Trusted_Connection=Yes;')\n",
    "engine = sqlalchemy.create_engine(\"mssql+pyodbc:///?odbc_connect=%s\" % params)\n",
    "connection = engine.connect()"
   ]
  },
  {
   "cell_type": "code",
   "execution_count": 10,
   "metadata": {},
   "outputs": [],
   "source": [
    "con_data_parks = pyodbc.connect('Driver={' + driver + '};Server=' + data_parks_server +\n",
    "                     ';Database=IPMDB;Trusted_Connection=Yes;')\n",
    "con = pyodbc.connect('Driver={' + driver + '};Server=' + server +\n",
    "                           ';Database=;Trusted_Connection=Yes;')"
   ]
  },
  {
   "cell_type": "markdown",
   "metadata": {},
   "source": [
    "## Deal with Dates"
   ]
  },
  {
   "cell_type": "markdown",
   "metadata": {},
   "source": [
    "### m/d/Y H:M:S format:"
   ]
  },
  {
   "cell_type": "code",
   "execution_count": 11,
   "metadata": {},
   "outputs": [],
   "source": [
    "# structures_dev['COMMISSIONDATE'] = pd.to_datetime(\n",
    "#     structures_dev['COMMISSIONDATE'],\n",
    "#     errors='coerce').dt.strftime('%m/%d/%Y %H:%M:%S')"
   ]
  },
  {
   "cell_type": "code",
   "execution_count": 12,
   "metadata": {
    "scrolled": true
   },
   "outputs": [],
   "source": [
    "# structures_dev['COMMISSIONDATE']"
   ]
  },
  {
   "cell_type": "code",
   "execution_count": 13,
   "metadata": {},
   "outputs": [],
   "source": [
    "# structures_dev['FEATURESTATUSCHANGEDATE'] = pd.to_datetime(\n",
    "#     structures_dev['FEATURESTATUSCHANGEDATE']).dt.strftime('%m/%d/%Y %H:%M:%S')"
   ]
  },
  {
   "cell_type": "code",
   "execution_count": 14,
   "metadata": {},
   "outputs": [],
   "source": [
    "# structures_dev['RETIREDDATE'] = pd.to_datetime(\n",
    "#     structures_dev['RETIREDDATE']).dt.strftime('%m/%d/%Y %H:%M:%S')"
   ]
  },
  {
   "cell_type": "code",
   "execution_count": 15,
   "metadata": {
    "scrolled": true
   },
   "outputs": [],
   "source": [
    "# structures_dev.columns.values"
   ]
  },
  {
   "cell_type": "markdown",
   "metadata": {},
   "source": [
    "# Delta Table from structuresdb"
   ]
  },
  {
   "cell_type": "code",
   "execution_count": 16,
   "metadata": {
    "scrolled": true
   },
   "outputs": [],
   "source": [
    "# SPATIAL DATASET:\n",
    "sql_str_deltas = 'select * FROM [structuresdb].[dbo].[tbl_delta_structures]'\n",
    "struct_deltas = read_geosql(sql_str_deltas,\n",
    "                            con,\n",
    "                            geom_raw='shape',\n",
    "                            geom_col='geometry')"
   ]
  },
  {
   "cell_type": "code",
   "execution_count": 18,
   "metadata": {},
   "outputs": [],
   "source": [
    "## Still need this ??\n",
    "\n",
    "struct_deltas.rename(columns={\n",
    "    'objectid': 'OBJECTID',\n",
    "    'parks_id': 'SYSTEM',\n",
    "    'bin': 'BIN',\n",
    "    'bbl': 'BBL',\n",
    "    'doitt_id': 'DOITT_ID',\n",
    "    'ground_elevation': 'Ground_Elevation',\n",
    "    'height_roof': 'Height_Roof',\n",
    "    'alteration_year': 'Alteration_Year',\n",
    "    'construction_year': 'Construction_Year',\n",
    "    'demolition_year': 'Demolition_Year'\n",
    "},\n",
    "                     inplace=True)"
   ]
  },
  {
   "cell_type": "code",
   "execution_count": 19,
   "metadata": {
    "scrolled": false
   },
   "outputs": [
    {
     "data": {
      "text/html": [
       "<div>\n",
       "<style scoped>\n",
       "    .dataframe tbody tr th:only-of-type {\n",
       "        vertical-align: middle;\n",
       "    }\n",
       "\n",
       "    .dataframe tbody tr th {\n",
       "        vertical-align: top;\n",
       "    }\n",
       "\n",
       "    .dataframe thead th {\n",
       "        text-align: right;\n",
       "    }\n",
       "</style>\n",
       "<table border=\"1\" class=\"dataframe\">\n",
       "  <thead>\n",
       "    <tr style=\"text-align: right;\">\n",
       "      <th></th>\n",
       "      <th>fid</th>\n",
       "      <th>OBJECTID</th>\n",
       "      <th>SYSTEM</th>\n",
       "      <th>BIN</th>\n",
       "      <th>BBL</th>\n",
       "      <th>DOITT_ID</th>\n",
       "      <th>Ground_Elevation</th>\n",
       "      <th>Height_Roof</th>\n",
       "      <th>Construction_Year</th>\n",
       "      <th>Alteration_Year</th>\n",
       "      <th>Demolition_Year</th>\n",
       "      <th>api_call</th>\n",
       "      <th>doitt_source</th>\n",
       "      <th>date_stamp</th>\n",
       "      <th>geometry</th>\n",
       "    </tr>\n",
       "  </thead>\n",
       "  <tbody>\n",
       "    <tr>\n",
       "      <th>0</th>\n",
       "      <td>1</td>\n",
       "      <td>6771</td>\n",
       "      <td>Q471-BLG0001</td>\n",
       "      <td>4542932</td>\n",
       "      <td>4000060001</td>\n",
       "      <td>1268580</td>\n",
       "      <td>8</td>\n",
       "      <td>21.687771</td>\n",
       "      <td>2013.0</td>\n",
       "      <td>NaN</td>\n",
       "      <td>None</td>\n",
       "      <td>U</td>\n",
       "      <td>current</td>\n",
       "      <td>2020-12-13 09:03:18.970</td>\n",
       "      <td>POLYGON ((995222.165 209600.351, 995225.092 20...</td>\n",
       "    </tr>\n",
       "    <tr>\n",
       "      <th>1</th>\n",
       "      <td>2</td>\n",
       "      <td>4812</td>\n",
       "      <td>Q343-BLG0512</td>\n",
       "      <td>4610410</td>\n",
       "      <td>4045380001</td>\n",
       "      <td>1268613</td>\n",
       "      <td>22</td>\n",
       "      <td>15.515073</td>\n",
       "      <td>1951.0</td>\n",
       "      <td>NaN</td>\n",
       "      <td>None</td>\n",
       "      <td>U</td>\n",
       "      <td>current</td>\n",
       "      <td>2020-12-13 09:03:18.970</td>\n",
       "      <td>POLYGON ((1037340.009 227844.415, 1037318.921 ...</td>\n",
       "    </tr>\n",
       "    <tr>\n",
       "      <th>2</th>\n",
       "      <td>3</td>\n",
       "      <td>12064</td>\n",
       "      <td>Q458-BLG0438</td>\n",
       "      <td>4610438</td>\n",
       "      <td>4059170001</td>\n",
       "      <td>1268811</td>\n",
       "      <td>34</td>\n",
       "      <td>11.029054</td>\n",
       "      <td>2011.0</td>\n",
       "      <td>NaN</td>\n",
       "      <td>None</td>\n",
       "      <td>U</td>\n",
       "      <td>current</td>\n",
       "      <td>2020-12-13 09:03:18.970</td>\n",
       "      <td>POLYGON ((1046742.424 227957.080, 1046733.859 ...</td>\n",
       "    </tr>\n",
       "    <tr>\n",
       "      <th>3</th>\n",
       "      <td>4</td>\n",
       "      <td>12028</td>\n",
       "      <td>M028-BLG9799</td>\n",
       "      <td>1089799</td>\n",
       "      <td>1021780600</td>\n",
       "      <td>1268900</td>\n",
       "      <td>-2</td>\n",
       "      <td>21.029465</td>\n",
       "      <td>NaN</td>\n",
       "      <td>NaN</td>\n",
       "      <td>None</td>\n",
       "      <td>U</td>\n",
       "      <td>current</td>\n",
       "      <td>2020-12-13 09:03:18.970</td>\n",
       "      <td>POLYGON ((1002870.036 255245.035, 1002882.032 ...</td>\n",
       "    </tr>\n",
       "    <tr>\n",
       "      <th>4</th>\n",
       "      <td>5</td>\n",
       "      <td>12065</td>\n",
       "      <td>X010-ZN03-BLG8179</td>\n",
       "      <td>2118179</td>\n",
       "      <td>2029420001</td>\n",
       "      <td>1269094</td>\n",
       "      <td>99</td>\n",
       "      <td>16.116720</td>\n",
       "      <td>2015.0</td>\n",
       "      <td>NaN</td>\n",
       "      <td>None</td>\n",
       "      <td>U</td>\n",
       "      <td>current</td>\n",
       "      <td>2020-12-13 09:03:18.970</td>\n",
       "      <td>POLYGON ((1013172.907 244998.838, 1013173.492 ...</td>\n",
       "    </tr>\n",
       "  </tbody>\n",
       "</table>\n",
       "</div>"
      ],
      "text/plain": [
       "   fid  OBJECTID             SYSTEM      BIN         BBL  DOITT_ID  \\\n",
       "0    1      6771       Q471-BLG0001  4542932  4000060001   1268580   \n",
       "1    2      4812       Q343-BLG0512  4610410  4045380001   1268613   \n",
       "2    3     12064       Q458-BLG0438  4610438  4059170001   1268811   \n",
       "3    4     12028       M028-BLG9799  1089799  1021780600   1268900   \n",
       "4    5     12065  X010-ZN03-BLG8179  2118179  2029420001   1269094   \n",
       "\n",
       "   Ground_Elevation  Height_Roof  Construction_Year  Alteration_Year  \\\n",
       "0                 8    21.687771             2013.0              NaN   \n",
       "1                22    15.515073             1951.0              NaN   \n",
       "2                34    11.029054             2011.0              NaN   \n",
       "3                -2    21.029465                NaN              NaN   \n",
       "4                99    16.116720             2015.0              NaN   \n",
       "\n",
       "  Demolition_Year api_call doitt_source              date_stamp  \\\n",
       "0            None        U      current 2020-12-13 09:03:18.970   \n",
       "1            None        U      current 2020-12-13 09:03:18.970   \n",
       "2            None        U      current 2020-12-13 09:03:18.970   \n",
       "3            None        U      current 2020-12-13 09:03:18.970   \n",
       "4            None        U      current 2020-12-13 09:03:18.970   \n",
       "\n",
       "                                            geometry  \n",
       "0  POLYGON ((995222.165 209600.351, 995225.092 20...  \n",
       "1  POLYGON ((1037340.009 227844.415, 1037318.921 ...  \n",
       "2  POLYGON ((1046742.424 227957.080, 1046733.859 ...  \n",
       "3  POLYGON ((1002870.036 255245.035, 1002882.032 ...  \n",
       "4  POLYGON ((1013172.907 244998.838, 1013173.492 ...  "
      ]
     },
     "execution_count": 19,
     "metadata": {},
     "output_type": "execute_result"
    }
   ],
   "source": [
    "struct_deltas.head()"
   ]
  },
  {
   "cell_type": "code",
   "execution_count": 28,
   "metadata": {},
   "outputs": [
    {
     "data": {
      "text/html": [
       "<div>\n",
       "<style scoped>\n",
       "    .dataframe tbody tr th:only-of-type {\n",
       "        vertical-align: middle;\n",
       "    }\n",
       "\n",
       "    .dataframe tbody tr th {\n",
       "        vertical-align: top;\n",
       "    }\n",
       "\n",
       "    .dataframe thead th {\n",
       "        text-align: right;\n",
       "    }\n",
       "</style>\n",
       "<table border=\"1\" class=\"dataframe\">\n",
       "  <thead>\n",
       "    <tr style=\"text-align: right;\">\n",
       "      <th></th>\n",
       "      <th>fid</th>\n",
       "      <th>OBJECTID</th>\n",
       "      <th>SYSTEM</th>\n",
       "      <th>BIN</th>\n",
       "      <th>BBL</th>\n",
       "      <th>DOITT_ID</th>\n",
       "      <th>Ground_Elevation</th>\n",
       "      <th>Height_Roof</th>\n",
       "      <th>Construction_Year</th>\n",
       "      <th>Alteration_Year</th>\n",
       "      <th>Demolition_Year</th>\n",
       "      <th>api_call</th>\n",
       "      <th>doitt_source</th>\n",
       "      <th>date_stamp</th>\n",
       "      <th>geometry</th>\n",
       "    </tr>\n",
       "  </thead>\n",
       "  <tbody>\n",
       "    <tr>\n",
       "      <th>618</th>\n",
       "      <td>626</td>\n",
       "      <td>14955</td>\n",
       "      <td>Q015-ZN06-BLG0418</td>\n",
       "      <td>4439149</td>\n",
       "      <td>4038660070</td>\n",
       "      <td>29096</td>\n",
       "      <td>151</td>\n",
       "      <td>19.0</td>\n",
       "      <td>1931.0</td>\n",
       "      <td>NaN</td>\n",
       "      <td>None</td>\n",
       "      <td>U</td>\n",
       "      <td>current</td>\n",
       "      <td>2020-12-13 09:03:18.970</td>\n",
       "      <td>POLYGON ((1023470.614 194759.839, 1023455.125 ...</td>\n",
       "    </tr>\n",
       "  </tbody>\n",
       "</table>\n",
       "</div>"
      ],
      "text/plain": [
       "     fid  OBJECTID             SYSTEM      BIN         BBL  DOITT_ID  \\\n",
       "618  626     14955  Q015-ZN06-BLG0418  4439149  4038660070     29096   \n",
       "\n",
       "     Ground_Elevation  Height_Roof  Construction_Year  Alteration_Year  \\\n",
       "618               151         19.0             1931.0              NaN   \n",
       "\n",
       "    Demolition_Year api_call doitt_source              date_stamp  \\\n",
       "618            None        U      current 2020-12-13 09:03:18.970   \n",
       "\n",
       "                                              geometry  \n",
       "618  POLYGON ((1023470.614 194759.839, 1023455.125 ...  "
      ]
     },
     "execution_count": 28,
     "metadata": {},
     "output_type": "execute_result"
    }
   ],
   "source": [
    "struct_deltas[struct_deltas['SYSTEM']=='Q015-ZN06-BLG0418']"
   ]
  },
  {
   "cell_type": "code",
   "execution_count": 21,
   "metadata": {
    "scrolled": false
   },
   "outputs": [],
   "source": [
    "multipolygons = []\n",
    "\n",
    "for i, row in struct_deltas.iterrows(): \n",
    "    if type(row['geometry'])==shapely.geometry.multipolygon.MultiPolygon:\n",
    "        multipolygons.append(row['SYSTEM'])\n",
    "\n",
    "if len(multipolygons)!=0:\n",
    "    ids = '\\n'.join(multipolygons)\n",
    "    mssg = 'SYSTEM ID(s) of building(s) that are MultiPolygons:\\n'+ids\n",
    "    send_email('mycontacts.txt','multipoly_mssg.txt', subject = 'multipolygons', e=mssg)\n",
    "    \n",
    "struct_deltas = struct_deltas[~struct_deltas['SYSTEM'].isin(multipolygons)]"
   ]
  },
  {
   "cell_type": "code",
   "execution_count": 22,
   "metadata": {},
   "outputs": [
    {
     "data": {
      "text/plain": [
       "[]"
      ]
     },
     "execution_count": 22,
     "metadata": {},
     "output_type": "execute_result"
    }
   ],
   "source": [
    "multipolygons"
   ]
  },
  {
   "cell_type": "markdown",
   "metadata": {},
   "source": [
    "## Write Delta Table to geojson file"
   ]
  },
  {
   "cell_type": "code",
   "execution_count": 23,
   "metadata": {},
   "outputs": [],
   "source": [
    "today = datetime.now().strftime('%Y%m%d')\n",
    "snapshot = r'C:\\\\Projects\\\\Structures\\\\delta_snapshots/' + today"
   ]
  },
  {
   "cell_type": "code",
   "execution_count": 24,
   "metadata": {},
   "outputs": [],
   "source": [
    "if not struct_deltas.empty:\n",
    "    if os.path.exists(snapshot):\n",
    "        struct_deltas.to_file(snapshot + '/deltas.geojson',\n",
    "                              encoding='utf-8',\n",
    "                              driver='GeoJSON')\n",
    "    else:\n",
    "        os.makedirs(snapshot)\n",
    "        struct_deltas.to_file(snapshot + '/deltas.geojson',\n",
    "                              encoding='utf-8',\n",
    "                              driver='GeoJSON')"
   ]
  },
  {
   "cell_type": "markdown",
   "metadata": {},
   "source": [
    "## Read geojson file to geojson object "
   ]
  },
  {
   "cell_type": "code",
   "execution_count": 25,
   "metadata": {},
   "outputs": [],
   "source": [
    "if not struct_deltas.empty:\n",
    "    with open(snapshot+'/deltas.geojson') as data:\n",
    "        geojson_deltas = json.load(data)"
   ]
  },
  {
   "cell_type": "markdown",
   "metadata": {},
   "source": [
    "## Create arcgis featureSet from geojson object"
   ]
  },
  {
   "cell_type": "code",
   "execution_count": 43,
   "metadata": {},
   "outputs": [
    {
     "data": {
      "text/plain": [
       "geopandas.geodataframe.GeoDataFrame"
      ]
     },
     "execution_count": 43,
     "metadata": {},
     "output_type": "execute_result"
    }
   ],
   "source": [
    "type(struct_deltas)"
   ]
  },
  {
   "cell_type": "code",
   "execution_count": 44,
   "metadata": {},
   "outputs": [
    {
     "data": {
      "text/plain": [
       "<Projected CRS: EPSG:2263>\n",
       "Name: NAD83 / New York Long Island (ftUS)\n",
       "Axis Info [cartesian]:\n",
       "- X[east]: Easting (US survey foot)\n",
       "- Y[north]: Northing (US survey foot)\n",
       "Area of Use:\n",
       "- name: USA - New York - SPCS - Long Island\n",
       "- bounds: (-74.26, 40.47, -71.8, 41.3)\n",
       "Coordinate Operation:\n",
       "- name: SPCS83 New York Long Island zone (US Survey feet)\n",
       "- method: Lambert Conic Conformal (2SP)\n",
       "Datum: North American Datum 1983\n",
       "- Ellipsoid: GRS 1980\n",
       "- Prime Meridian: Greenwich"
      ]
     },
     "execution_count": 44,
     "metadata": {},
     "output_type": "execute_result"
    }
   ],
   "source": [
    "struct_deltas.crs"
   ]
  },
  {
   "cell_type": "code",
   "execution_count": 57,
   "metadata": {},
   "outputs": [],
   "source": [
    "# fromDF_deltas = FeatureSet.from_dataframe(pd.DataFrame(struct_deltas))"
   ]
  },
  {
   "cell_type": "code",
   "execution_count": 135,
   "metadata": {
    "scrolled": true
   },
   "outputs": [
    {
     "name": "stderr",
     "output_type": "stream",
     "text": [
      "C:\\ProgramData\\Anaconda3\\envs\\structures_vpipm\\lib\\site-packages\\arcgis\\features\\feature.py:799: UserWarning: crs has been deprecated and will be ignored. Please see: https://tools.ietf.org/html/rfc7946#section-4 for more information.\n",
      "  warn(\"crs has been deprecated and will be ignored. Please\"+ \\\n"
     ]
    }
   ],
   "source": [
    "if not struct_deltas.empty:\n",
    "    fromJSON_deltas = FeatureSet.from_geojson(geojson_deltas)"
   ]
  },
  {
   "cell_type": "code",
   "execution_count": 150,
   "metadata": {},
   "outputs": [
    {
     "name": "stdout",
     "output_type": "stream",
     "text": [
      "{'wkid': 4326}\n"
     ]
    }
   ],
   "source": [
    "#Check the WKT Projection for the feature set\n",
    "if len(fromJSON_deltas) > 0:\n",
    "    print(fromJSON_deltas.spatial_reference)"
   ]
  },
  {
   "cell_type": "code",
   "execution_count": 143,
   "metadata": {},
   "outputs": [],
   "source": [
    "#Set the WKT projection for each feature in the feature set\n",
    "for f in range(0, len(fromJSON_deltas)):\n",
    "    fromJSON_deltas.features[f].geometry.update({'spatialReference': {'wkid': 2263}})"
   ]
  },
  {
   "cell_type": "code",
   "execution_count": 151,
   "metadata": {},
   "outputs": [],
   "source": [
    "#Set the WKT projection for the whole feature set\n",
    "fromJSON_deltas.spatial_reference = {'wkid': 2263}"
   ]
  },
  {
   "cell_type": "code",
   "execution_count": 152,
   "metadata": {},
   "outputs": [
    {
     "name": "stdout",
     "output_type": "stream",
     "text": [
      "{'wkid': 2263}\n"
     ]
    }
   ],
   "source": [
    "#Check the WKT Projection for the feature set\n",
    "if len(fromJSON_deltas) > 0:\n",
    "    print(fromJSON_deltas.spatial_reference)"
   ]
  },
  {
   "cell_type": "markdown",
   "metadata": {},
   "source": [
    "# Connect to published datasets via GIS object"
   ]
  },
  {
   "cell_type": "code",
   "execution_count": 139,
   "metadata": {},
   "outputs": [],
   "source": [
    "gis = GIS(url=portal, verify_cert = False)"
   ]
  },
  {
   "cell_type": "markdown",
   "metadata": {},
   "source": [
    "# Make Edits"
   ]
  },
  {
   "cell_type": "markdown",
   "metadata": {},
   "source": [
    "## Structures"
   ]
  },
  {
   "cell_type": "markdown",
   "metadata": {},
   "source": [
    "### run delta archive stored proc"
   ]
  },
  {
   "cell_type": "code",
   "execution_count": 140,
   "metadata": {},
   "outputs": [],
   "source": [
    "crsr = con.cursor()\n",
    "sqal_stmt = '''\n",
    "exec [structuresdb].[dbo].[sp_i_tbl_delta_structures_archive] \n",
    "'''\n",
    "crsr.execute(\"{CALL [structuresdb].[dbo].[sp_i_tbl_delta_structures_archive] }\")\n",
    "crsr.commit()\n",
    "crsr.close()"
   ]
  },
  {
   "cell_type": "markdown",
   "metadata": {},
   "source": [
    "### Connect to structures feature layer directly"
   ]
  },
  {
   "cell_type": "code",
   "execution_count": 129,
   "metadata": {},
   "outputs": [],
   "source": [
    "strct_lyr_url = structures_url"
   ]
  },
  {
   "cell_type": "code",
   "execution_count": 130,
   "metadata": {},
   "outputs": [],
   "source": [
    "lyr_structures = FeatureLayer(strct_lyr_url)\n",
    "structures_features = lyr_structures.query()"
   ]
  },
  {
   "cell_type": "code",
   "execution_count": 131,
   "metadata": {},
   "outputs": [
    {
     "data": {
      "text/plain": [
       "<FeatureSet> 2709 features"
      ]
     },
     "execution_count": 131,
     "metadata": {},
     "output_type": "execute_result"
    }
   ],
   "source": [
    "structures_features"
   ]
  },
  {
   "cell_type": "code",
   "execution_count": 132,
   "metadata": {},
   "outputs": [
    {
     "data": {
      "text/plain": [
       "802"
      ]
     },
     "execution_count": 132,
     "metadata": {},
     "output_type": "execute_result"
    }
   ],
   "source": [
    "len(struct_deltas)"
   ]
  },
  {
   "cell_type": "markdown",
   "metadata": {},
   "source": [
    "### EDIT"
   ]
  },
  {
   "cell_type": "code",
   "execution_count": 141,
   "metadata": {},
   "outputs": [],
   "source": [
    "if not struct_deltas.empty:\n",
    "    num_updates = len(fromJSON_deltas.features)"
   ]
  },
  {
   "cell_type": "code",
   "execution_count": 149,
   "metadata": {},
   "outputs": [
    {
     "name": "stdout",
     "output_type": "stream",
     "text": [
      "Dear Julie, \n",
      "\n",
      "This is a courtesy message to let you know updates to the Structure layer were pushed successfully.\n",
      "\n",
      "Details:\n",
      "\n",
      "There were 802 updates pushed to Production.\n",
      "\n",
      "Thanks,\n",
      "Data team at IPM\n",
      "\n"
     ]
    }
   ],
   "source": [
    "if not struct_deltas.empty:\n",
    "    try:\n",
    "        update_result = lyr_structures.edit_features(\n",
    "            updates=fromJSON_deltas.features)\n",
    "    except:\n",
    "        error_mssg = 'Updates were not pushed successfully to Structures. Please see Notebook output/logs for further details.'\n",
    "        send_email('mycontacts.txt','fail_update_mssg.txt', subject = 'structures push: FAILED!', e=error_mssg)\n",
    "    else:\n",
    "        success_mssg = 'There were ' + str(num_updates) + ' updates pushed to Production.'\n",
    "        send_email('mycontacts.txt','success_structures_mssg.txt', subject = 'structures push: SUCCESS!', e=success_mssg)\n",
    "else:\n",
    "    mssg = 'There were no updates to push to the Structure layer.'\n",
    "    send_email('mycontacts.txt','fail_update_mssg.txt', subject = 'structures: NO UPDATES to push', e=mssg)"
   ]
  },
  {
   "cell_type": "code",
   "execution_count": 34,
   "metadata": {},
   "outputs": [],
   "source": [
    "lyr_structures = FeatureLayer(strct_lyr_url)\n",
    "structures_features = lyr_structures.query()"
   ]
  },
  {
   "cell_type": "markdown",
   "metadata": {},
   "source": [
    "## Geosupport"
   ]
  },
  {
   "cell_type": "markdown",
   "metadata": {},
   "source": [
    "### connect to geosupport service"
   ]
  },
  {
   "cell_type": "code",
   "execution_count": 35,
   "metadata": {},
   "outputs": [],
   "source": [
    "geosupport_tbl_url = geosupport_url"
   ]
  },
  {
   "cell_type": "code",
   "execution_count": 36,
   "metadata": {},
   "outputs": [],
   "source": [
    "tbl_geosupport = FeatureLayer(geosupport_tbl_url)\n",
    "geosupport = tbl_geosupport.query()"
   ]
  },
  {
   "cell_type": "markdown",
   "metadata": {},
   "source": [
    "### Get latest BINs from structures layer"
   ]
  },
  {
   "cell_type": "code",
   "execution_count": 37,
   "metadata": {},
   "outputs": [],
   "source": [
    "structures_valid_BINs = structures_features.sdf[\n",
    "    (structures_features.sdf['BIN'] != 0) &\n",
    "    (~pd.isnull(structures_features.sdf['BIN']))] "
   ]
  },
  {
   "cell_type": "code",
   "execution_count": 38,
   "metadata": {},
   "outputs": [],
   "source": [
    "bins = structures_valid_BINs[structures_valid_BINs['BIN'].astype(int) %\n",
    "                             100000 != 0]['BIN'].astype(int).to_list()"
   ]
  },
  {
   "cell_type": "code",
   "execution_count": 39,
   "metadata": {},
   "outputs": [],
   "source": [
    "bins = [str(bins[i]) for i in range(0, len(bins))]"
   ]
  },
  {
   "cell_type": "markdown",
   "metadata": {},
   "source": [
    "### run master geosupport function"
   ]
  },
  {
   "cell_type": "code",
   "execution_count": 40,
   "metadata": {
    "scrolled": false
   },
   "outputs": [],
   "source": [
    "df = master_geosupport_func(bins)"
   ]
  },
  {
   "cell_type": "markdown",
   "metadata": {},
   "source": [
    "### prepare latest geosupport data to be pushed to prod"
   ]
  },
  {
   "cell_type": "code",
   "execution_count": 41,
   "metadata": {},
   "outputs": [],
   "source": [
    "#Rename all of the columns from Geosupport so that they map exactly to the schema in SQL Server\n",
    "dff = (df.rename(columns = {'out_zip_code': 'Zip_Code',\n",
    "                               'b7sc': 'B7SC',\n",
    "                               'out_b10sc1': 'B10SC',\n",
    "                               'out_sanborn_boro': 'Boro_Code',\n",
    "                               'bin': 'BIN',\n",
    "                               'out_preferred_lgc': 'LGC',\n",
    "                               'type_meaning': 'Address_Type',\n",
    "                               'high_address_number': 'High_House_Num',\n",
    "                               'low_address_number': 'Low_House_Num',\n",
    "                               'out_sos_ind': 'Street_Side',\n",
    "                               'street_name': 'Norm_Street_Name',\n",
    "                               'out_usps_city_name': 'USPS_City',\n",
    "                               'out_TPAD_bin_status': 'TPAD_BIN_Status',\n",
    "                               'out_com_dist': 'Community_Board',\n",
    "                               'out_co': 'City_Council',\n",
    "                               'out_ad': 'NYS_Assembly',\n",
    "                               'out_sd': 'NYS_Senate',\n",
    "                               'out_cd': 'US_Congress',\n",
    "                               'out_nta': 'NTA_Code',\n",
    "                               'out_fire_bat': 'Fire_Battalion',\n",
    "                               'out_fire_co': 'Fire_Co_Num',\n",
    "                               'out_fire_co_str': 'Fire_Co_Type',\n",
    "                               'out_fire_div': 'Fire_Division',\n",
    "                               'out_hurricane_zone': 'HEZ',\n",
    "                               'out_police_patrol_boro': 'Police_Boro',\n",
    "                               'Police Patrol Borough Command': 'Police_Boro_Com',\n",
    "                               'out_police_pct': 'Police_Precinct',\n",
    "                               'Sanitation Collection Scheduling Section and Subsection': 'Sanitation_Subsect',\n",
    "                               'Sanitation District': 'Sanitation_District',\n",
    "                               'Sanitation Recycling Collection Schedule': 'Sanitation_Recycling',\n",
    "                               'out_san_reg': 'Sanitation_Reg_Pickup',\n",
    "                               'out_physical_id': 'Physical_ID',\n",
    "                               'out_ap_id': 'Address_ID'})\n",
    "       .reindex(columns = ['BIN', 'Boro_Code', 'Address_Type', 'Low_House_Num', 'High_House_Num', 'Norm_Street_Name', 'USPS_City', \n",
    "                           'Zip_Code', 'Physical_ID', 'B7SC', 'B10SC', 'LGC', 'Street_Side', 'TPAD_BIN_Status', 'HEZ', \n",
    "                           'Community_Board', 'City_Council', 'NYS_Assembly', 'NYS_Senate', 'US_Congress', 'NTA_Code', \n",
    "                           'Fire_Battalion', 'Fire_Co_Num', 'Fire_Co_Type', 'Fire_Division', \n",
    "                           'Police_Boro', 'Police_Boro_Com', 'Police_Precinct', \n",
    "                           'Sanitation_Subsect', 'Sanitation_District', 'Sanitation_Recycling', 'Sanitation_Reg_Pickup', 'Address_ID'])\n",
    "       .drop_duplicates())"
   ]
  },
  {
   "cell_type": "code",
   "execution_count": 42,
   "metadata": {},
   "outputs": [
    {
     "data": {
      "text/plain": [
       "3543"
      ]
     },
     "execution_count": 42,
     "metadata": {},
     "output_type": "execute_result"
    }
   ],
   "source": [
    "len(dff)"
   ]
  },
  {
   "cell_type": "code",
   "execution_count": 43,
   "metadata": {
    "scrolled": false
   },
   "outputs": [
    {
     "data": {
      "text/html": [
       "<div>\n",
       "<style scoped>\n",
       "    .dataframe tbody tr th:only-of-type {\n",
       "        vertical-align: middle;\n",
       "    }\n",
       "\n",
       "    .dataframe tbody tr th {\n",
       "        vertical-align: top;\n",
       "    }\n",
       "\n",
       "    .dataframe thead th {\n",
       "        text-align: right;\n",
       "    }\n",
       "</style>\n",
       "<table border=\"1\" class=\"dataframe\">\n",
       "  <thead>\n",
       "    <tr style=\"text-align: right;\">\n",
       "      <th></th>\n",
       "      <th>BIN</th>\n",
       "      <th>Boro_Code</th>\n",
       "      <th>Address_Type</th>\n",
       "      <th>Low_House_Num</th>\n",
       "      <th>High_House_Num</th>\n",
       "      <th>Norm_Street_Name</th>\n",
       "      <th>USPS_City</th>\n",
       "      <th>Zip_Code</th>\n",
       "      <th>Physical_ID</th>\n",
       "      <th>B7SC</th>\n",
       "      <th>...</th>\n",
       "      <th>Fire_Co_Type</th>\n",
       "      <th>Fire_Division</th>\n",
       "      <th>Police_Boro</th>\n",
       "      <th>Police_Boro_Com</th>\n",
       "      <th>Police_Precinct</th>\n",
       "      <th>Sanitation_Subsect</th>\n",
       "      <th>Sanitation_District</th>\n",
       "      <th>Sanitation_Recycling</th>\n",
       "      <th>Sanitation_Reg_Pickup</th>\n",
       "      <th>Address_ID</th>\n",
       "    </tr>\n",
       "  </thead>\n",
       "  <tbody>\n",
       "    <tr>\n",
       "      <th>0</th>\n",
       "      <td>4592110</td>\n",
       "      <td>4</td>\n",
       "      <td>Non-Addressable Unnamed Building</td>\n",
       "      <td>None</td>\n",
       "      <td>None</td>\n",
       "      <td>BEACH  104 STREET</td>\n",
       "      <td>NaN</td>\n",
       "      <td>NaN</td>\n",
       "      <td>NaN</td>\n",
       "      <td>43361001</td>\n",
       "      <td>...</td>\n",
       "      <td>NaN</td>\n",
       "      <td>NaN</td>\n",
       "      <td>NaN</td>\n",
       "      <td>NaN</td>\n",
       "      <td>NaN</td>\n",
       "      <td>NaN</td>\n",
       "      <td>NaN</td>\n",
       "      <td>NaN</td>\n",
       "      <td>NaN</td>\n",
       "      <td>NaN</td>\n",
       "    </tr>\n",
       "    <tr>\n",
       "      <th>1</th>\n",
       "      <td>4453939</td>\n",
       "      <td>4</td>\n",
       "      <td>Ordinary Address Range</td>\n",
       "      <td>132A</td>\n",
       "      <td>132B</td>\n",
       "      <td>SERGEANT BEERS LANE</td>\n",
       "      <td>NaN</td>\n",
       "      <td>NaN</td>\n",
       "      <td>NaN</td>\n",
       "      <td>46189701</td>\n",
       "      <td>...</td>\n",
       "      <td>NaN</td>\n",
       "      <td>NaN</td>\n",
       "      <td>NaN</td>\n",
       "      <td>NaN</td>\n",
       "      <td>NaN</td>\n",
       "      <td>NaN</td>\n",
       "      <td>NaN</td>\n",
       "      <td>NaN</td>\n",
       "      <td>NaN</td>\n",
       "      <td>NaN</td>\n",
       "    </tr>\n",
       "    <tr>\n",
       "      <th>2</th>\n",
       "      <td>4539845</td>\n",
       "      <td>4</td>\n",
       "      <td>Ordinary Address Range</td>\n",
       "      <td>340</td>\n",
       "      <td>340</td>\n",
       "      <td>STORY AVENUE</td>\n",
       "      <td>BAYSIDE</td>\n",
       "      <td>11359</td>\n",
       "      <td>0103875</td>\n",
       "      <td>46449501</td>\n",
       "      <td>...</td>\n",
       "      <td>Engine 306</td>\n",
       "      <td>14</td>\n",
       "      <td>Queens North</td>\n",
       "      <td>NaN</td>\n",
       "      <td>109</td>\n",
       "      <td>NaN</td>\n",
       "      <td>NaN</td>\n",
       "      <td>NaN</td>\n",
       "      <td>None</td>\n",
       "      <td>5164333</td>\n",
       "    </tr>\n",
       "    <tr>\n",
       "      <th>3</th>\n",
       "      <td>4539831</td>\n",
       "      <td>4</td>\n",
       "      <td>Ordinary Address Range</td>\n",
       "      <td>411A</td>\n",
       "      <td>411B</td>\n",
       "      <td>SHORE ROAD</td>\n",
       "      <td>NaN</td>\n",
       "      <td>NaN</td>\n",
       "      <td>NaN</td>\n",
       "      <td>46209501</td>\n",
       "      <td>...</td>\n",
       "      <td>NaN</td>\n",
       "      <td>NaN</td>\n",
       "      <td>NaN</td>\n",
       "      <td>NaN</td>\n",
       "      <td>NaN</td>\n",
       "      <td>NaN</td>\n",
       "      <td>NaN</td>\n",
       "      <td>NaN</td>\n",
       "      <td>NaN</td>\n",
       "      <td>NaN</td>\n",
       "    </tr>\n",
       "    <tr>\n",
       "      <th>4</th>\n",
       "      <td>4539891</td>\n",
       "      <td>4</td>\n",
       "      <td>Ordinary Address Range</td>\n",
       "      <td>615</td>\n",
       "      <td>615</td>\n",
       "      <td>LITTLE BAY ROAD</td>\n",
       "      <td>BAYSIDE</td>\n",
       "      <td>11359</td>\n",
       "      <td>0103838</td>\n",
       "      <td>45410701</td>\n",
       "      <td>...</td>\n",
       "      <td>Engine 306</td>\n",
       "      <td>14</td>\n",
       "      <td>Queens North</td>\n",
       "      <td>NaN</td>\n",
       "      <td>109</td>\n",
       "      <td>NaN</td>\n",
       "      <td>NaN</td>\n",
       "      <td>NaN</td>\n",
       "      <td>None</td>\n",
       "      <td>5163935</td>\n",
       "    </tr>\n",
       "    <tr>\n",
       "      <th>5</th>\n",
       "      <td>4539854</td>\n",
       "      <td>4</td>\n",
       "      <td>Ordinary Address Range</td>\n",
       "      <td>620</td>\n",
       "      <td>620</td>\n",
       "      <td>CIRCLE DRIVE</td>\n",
       "      <td>BAYSIDE</td>\n",
       "      <td>11359</td>\n",
       "      <td>0165595</td>\n",
       "      <td>43902001</td>\n",
       "      <td>...</td>\n",
       "      <td>Engine 306</td>\n",
       "      <td>14</td>\n",
       "      <td>Queens North</td>\n",
       "      <td>NaN</td>\n",
       "      <td>109</td>\n",
       "      <td>NaN</td>\n",
       "      <td>NaN</td>\n",
       "      <td>NaN</td>\n",
       "      <td>None</td>\n",
       "      <td>5163980</td>\n",
       "    </tr>\n",
       "    <tr>\n",
       "      <th>6</th>\n",
       "      <td>4539910</td>\n",
       "      <td>4</td>\n",
       "      <td>Ordinary Address Range</td>\n",
       "      <td>417</td>\n",
       "      <td>417</td>\n",
       "      <td>WALTER REED ROAD</td>\n",
       "      <td>BAYSIDE</td>\n",
       "      <td>11359</td>\n",
       "      <td>0103869</td>\n",
       "      <td>46676001</td>\n",
       "      <td>...</td>\n",
       "      <td>Engine 306</td>\n",
       "      <td>14</td>\n",
       "      <td>Queens North</td>\n",
       "      <td>NaN</td>\n",
       "      <td>109</td>\n",
       "      <td>NaN</td>\n",
       "      <td>NaN</td>\n",
       "      <td>NaN</td>\n",
       "      <td>None</td>\n",
       "      <td>5164014</td>\n",
       "    </tr>\n",
       "    <tr>\n",
       "      <th>7</th>\n",
       "      <td>4539838</td>\n",
       "      <td>4</td>\n",
       "      <td>Ordinary Address Range</td>\n",
       "      <td>405</td>\n",
       "      <td>405</td>\n",
       "      <td>SYLVESTER LANE</td>\n",
       "      <td>BAYSIDE</td>\n",
       "      <td>11359</td>\n",
       "      <td>0103866</td>\n",
       "      <td>46504001</td>\n",
       "      <td>...</td>\n",
       "      <td>Engine 306</td>\n",
       "      <td>14</td>\n",
       "      <td>Queens North</td>\n",
       "      <td>NaN</td>\n",
       "      <td>109</td>\n",
       "      <td>NaN</td>\n",
       "      <td>NaN</td>\n",
       "      <td>NaN</td>\n",
       "      <td>None</td>\n",
       "      <td>5163945</td>\n",
       "    </tr>\n",
       "    <tr>\n",
       "      <th>8</th>\n",
       "      <td>4539848</td>\n",
       "      <td>4</td>\n",
       "      <td>Ordinary Address Range</td>\n",
       "      <td>319</td>\n",
       "      <td>319</td>\n",
       "      <td>LITTLE BAY ROAD</td>\n",
       "      <td>None</td>\n",
       "      <td>None</td>\n",
       "      <td>None</td>\n",
       "      <td>45410701</td>\n",
       "      <td>...</td>\n",
       "      <td>None</td>\n",
       "      <td>None</td>\n",
       "      <td>None</td>\n",
       "      <td>NaN</td>\n",
       "      <td>None</td>\n",
       "      <td>NaN</td>\n",
       "      <td>NaN</td>\n",
       "      <td>NaN</td>\n",
       "      <td>None</td>\n",
       "      <td>None</td>\n",
       "    </tr>\n",
       "    <tr>\n",
       "      <th>9</th>\n",
       "      <td>4539846</td>\n",
       "      <td>4</td>\n",
       "      <td>Ordinary Address Range</td>\n",
       "      <td>403</td>\n",
       "      <td>403</td>\n",
       "      <td>SYLVESTER LANE</td>\n",
       "      <td>BAYSIDE</td>\n",
       "      <td>11359</td>\n",
       "      <td>0103866</td>\n",
       "      <td>46504001</td>\n",
       "      <td>...</td>\n",
       "      <td>Engine 306</td>\n",
       "      <td>14</td>\n",
       "      <td>Queens North</td>\n",
       "      <td>NaN</td>\n",
       "      <td>109</td>\n",
       "      <td>NaN</td>\n",
       "      <td>NaN</td>\n",
       "      <td>NaN</td>\n",
       "      <td>None</td>\n",
       "      <td>5164208</td>\n",
       "    </tr>\n",
       "  </tbody>\n",
       "</table>\n",
       "<p>10 rows × 33 columns</p>\n",
       "</div>"
      ],
      "text/plain": [
       "       BIN Boro_Code                      Address_Type Low_House_Num  \\\n",
       "0  4592110         4  Non-Addressable Unnamed Building          None   \n",
       "1  4453939         4            Ordinary Address Range          132A   \n",
       "2  4539845         4            Ordinary Address Range           340   \n",
       "3  4539831         4            Ordinary Address Range          411A   \n",
       "4  4539891         4            Ordinary Address Range           615   \n",
       "5  4539854         4            Ordinary Address Range           620   \n",
       "6  4539910         4            Ordinary Address Range           417   \n",
       "7  4539838         4            Ordinary Address Range           405   \n",
       "8  4539848         4            Ordinary Address Range           319   \n",
       "9  4539846         4            Ordinary Address Range           403   \n",
       "\n",
       "  High_House_Num     Norm_Street_Name USPS_City Zip_Code Physical_ID  \\\n",
       "0           None    BEACH  104 STREET       NaN      NaN         NaN   \n",
       "1           132B  SERGEANT BEERS LANE       NaN      NaN         NaN   \n",
       "2            340         STORY AVENUE   BAYSIDE    11359     0103875   \n",
       "3           411B           SHORE ROAD       NaN      NaN         NaN   \n",
       "4            615      LITTLE BAY ROAD   BAYSIDE    11359     0103838   \n",
       "5            620         CIRCLE DRIVE   BAYSIDE    11359     0165595   \n",
       "6            417     WALTER REED ROAD   BAYSIDE    11359     0103869   \n",
       "7            405       SYLVESTER LANE   BAYSIDE    11359     0103866   \n",
       "8            319      LITTLE BAY ROAD      None     None        None   \n",
       "9            403       SYLVESTER LANE   BAYSIDE    11359     0103866   \n",
       "\n",
       "       B7SC  ... Fire_Co_Type Fire_Division   Police_Boro Police_Boro_Com  \\\n",
       "0  43361001  ...          NaN           NaN           NaN             NaN   \n",
       "1  46189701  ...          NaN           NaN           NaN             NaN   \n",
       "2  46449501  ...   Engine 306            14  Queens North             NaN   \n",
       "3  46209501  ...          NaN           NaN           NaN             NaN   \n",
       "4  45410701  ...   Engine 306            14  Queens North             NaN   \n",
       "5  43902001  ...   Engine 306            14  Queens North             NaN   \n",
       "6  46676001  ...   Engine 306            14  Queens North             NaN   \n",
       "7  46504001  ...   Engine 306            14  Queens North             NaN   \n",
       "8  45410701  ...         None          None          None             NaN   \n",
       "9  46504001  ...   Engine 306            14  Queens North             NaN   \n",
       "\n",
       "  Police_Precinct Sanitation_Subsect Sanitation_District Sanitation_Recycling  \\\n",
       "0             NaN                NaN                 NaN                  NaN   \n",
       "1             NaN                NaN                 NaN                  NaN   \n",
       "2             109                NaN                 NaN                  NaN   \n",
       "3             NaN                NaN                 NaN                  NaN   \n",
       "4             109                NaN                 NaN                  NaN   \n",
       "5             109                NaN                 NaN                  NaN   \n",
       "6             109                NaN                 NaN                  NaN   \n",
       "7             109                NaN                 NaN                  NaN   \n",
       "8            None                NaN                 NaN                  NaN   \n",
       "9             109                NaN                 NaN                  NaN   \n",
       "\n",
       "  Sanitation_Reg_Pickup Address_ID  \n",
       "0                   NaN        NaN  \n",
       "1                   NaN        NaN  \n",
       "2                  None    5164333  \n",
       "3                   NaN        NaN  \n",
       "4                  None    5163935  \n",
       "5                  None    5163980  \n",
       "6                  None    5164014  \n",
       "7                  None    5163945  \n",
       "8                  None       None  \n",
       "9                  None    5164208  \n",
       "\n",
       "[10 rows x 33 columns]"
      ]
     },
     "execution_count": 43,
     "metadata": {},
     "output_type": "execute_result"
    }
   ],
   "source": [
    "dff.head(10)"
   ]
  },
  {
   "cell_type": "code",
   "execution_count": 44,
   "metadata": {},
   "outputs": [],
   "source": [
    "measurer = np.vectorize(len)"
   ]
  },
  {
   "cell_type": "code",
   "execution_count": null,
   "metadata": {},
   "outputs": [],
   "source": [
    "# type_df = pd.DataFrame({'df_name': dff.columns.tolist(),\n",
    "#                         'df_type': dff.dtypes.astype(str).tolist(),\n",
    "#                         'df_len' : measurer(dff.values.astype(str)).max(axis=0)})"
   ]
  },
  {
   "cell_type": "code",
   "execution_count": null,
   "metadata": {},
   "outputs": [],
   "source": [
    "# type_df.head()"
   ]
  },
  {
   "cell_type": "code",
   "execution_count": 45,
   "metadata": {},
   "outputs": [],
   "source": [
    "con_str = \"Driver={SQL Server};Server=\" + server + \";Database=structuresdb;Trusted_Connection=Yes;\"\n",
    "sa_con = quote_plus(con_str)\n",
    "engine = sqlalchemy.create_engine(\n",
    "    \"mssql+pyodbc:///?odbc_connect={}\".format(sa_con))"
   ]
  },
  {
   "cell_type": "code",
   "execution_count": 46,
   "metadata": {},
   "outputs": [],
   "source": [
    "if len(dff) > 0:\n",
    "    dff.to_sql('tbl_geosupport_address',\n",
    "               engine,\n",
    "               schema='dbo',\n",
    "               if_exists='replace',\n",
    "               index=False)"
   ]
  },
  {
   "cell_type": "code",
   "execution_count": 47,
   "metadata": {},
   "outputs": [],
   "source": [
    "dff.Boro_Code.fillna(0,inplace=True)"
   ]
  },
  {
   "cell_type": "code",
   "execution_count": 48,
   "metadata": {},
   "outputs": [],
   "source": [
    "dff.Address_ID.fillna(0,inplace=True)"
   ]
  },
  {
   "cell_type": "code",
   "execution_count": 49,
   "metadata": {},
   "outputs": [],
   "source": [
    "geosupport_FSET = FeatureSet.from_dataframe(dff)"
   ]
  },
  {
   "cell_type": "code",
   "execution_count": 50,
   "metadata": {},
   "outputs": [
    {
     "data": {
      "text/plain": [
       "3543"
      ]
     },
     "execution_count": 50,
     "metadata": {},
     "output_type": "execute_result"
    }
   ],
   "source": [
    "len(geosupport_FSET.features)"
   ]
  },
  {
   "cell_type": "markdown",
   "metadata": {},
   "source": [
    "### EDIT"
   ]
  },
  {
   "cell_type": "code",
   "execution_count": 55,
   "metadata": {},
   "outputs": [
    {
     "name": "stdout",
     "output_type": "stream",
     "text": [
      "Dear Julie, \n",
      "\n",
      "This is a courtesy message to let you know updates to the geosupport table were pushed successfully.\n",
      "\n",
      "Details:\n",
      "\n",
      "There were 3543 updates pushed to Production.\n",
      "\n",
      "Thanks,\n",
      "Data team at IPM\n",
      "\n"
     ]
    }
   ],
   "source": [
    "if len(dff) > 0: #len(geosupport_FSET.features):\n",
    "    try:\n",
    "        ## TRUNCATE AND REPLACE\n",
    "        tbl_geosupport.delete_features(where=\"objectid > 0\")\n",
    "        add_to_geosupport = tbl_geosupport.edit_features(adds = geosupport_FSET.features)\n",
    "    except:\n",
    "        error_mssg = 'Updates were not pushed successfully to the geosupport table. Please see Notebook output/logs for further details.'\n",
    "        send_email('mycontacts.txt','fail_update_mssg.txt', subject = 'geosupport push: FAILED!', e=error_mssg)\n",
    "    else:\n",
    "        success_mssg = 'There were ' + str(len(dff)) + ' updates pushed to Production.'\n",
    "        send_email('mycontacts.txt','success_geosupport_mssg.txt', subject = 'geosupport push: SUCCESS!', e=success_mssg)\n",
    "else:\n",
    "    mssg = 'There were no updates to push to the geosupport table.'\n",
    "    send_email('mycontacts.txt','fail_update_mssg.txt', subject = 'geosupport: NO UPDATES to push', e=mssg)"
   ]
  },
  {
   "cell_type": "code",
   "execution_count": null,
   "metadata": {},
   "outputs": [],
   "source": []
  }
 ],
 "metadata": {
  "kernelspec": {
   "display_name": "Python 3",
   "language": "python",
   "name": "python3"
  },
  "language_info": {
   "codemirror_mode": {
    "name": "ipython",
    "version": 3
   },
   "file_extension": ".py",
   "mimetype": "text/x-python",
   "name": "python",
   "nbconvert_exporter": "python",
   "pygments_lexer": "ipython3",
   "version": "3.8.6"
  },
  "toc": {
   "base_numbering": 1,
   "nav_menu": {},
   "number_sections": false,
   "sideBar": true,
   "skip_h1_title": false,
   "title_cell": "Table of Contents",
   "title_sidebar": "Contents",
   "toc_cell": false,
   "toc_position": {
    "height": "calc(100% - 180px)",
    "left": "10px",
    "top": "150px",
    "width": "196px"
   },
   "toc_section_display": true,
   "toc_window_display": true
  },
  "varInspector": {
   "cols": {
    "lenName": 16,
    "lenType": 16,
    "lenVar": 40
   },
   "kernels_config": {
    "python": {
     "delete_cmd_postfix": "",
     "delete_cmd_prefix": "del ",
     "library": "var_list.py",
     "varRefreshCmd": "print(var_dic_list())"
    },
    "r": {
     "delete_cmd_postfix": ") ",
     "delete_cmd_prefix": "rm(",
     "library": "var_list.r",
     "varRefreshCmd": "cat(var_dic_list()) "
    }
   },
   "types_to_exclude": [
    "module",
    "function",
    "builtin_function_or_method",
    "instance",
    "_Feature"
   ],
   "window_display": false
  }
 },
 "nbformat": 4,
 "nbformat_minor": 2
}
