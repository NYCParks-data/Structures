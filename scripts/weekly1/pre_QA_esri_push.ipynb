{
 "cells": [
  {
   "cell_type": "markdown",
   "metadata": {},
   "source": [
    "# Introduction\n",
    "\n",
    "julie.tsitron@parks.nyc.gov 1/8/2020\n",
    "\n",
    "This notebook is for testing various ArcGIS API for Python functions that allow for pushing/updating GIS data to production servers. Ultimately, the script from this notebook can be used as a template for the technical implementation (i.e., pushing clean data into production ESRI-based geodatabases) of Structures, Sites and Units, CPAs, and other Agency Data Model data products."
   ]
  },
  {
   "cell_type": "markdown",
   "metadata": {},
   "source": [
    "# Imports and Connections to DBs"
   ]
  },
  {
   "cell_type": "code",
   "execution_count": 1,
   "metadata": {},
   "outputs": [],
   "source": [
    "import pandas as pd\n",
    "import pyodbc\n",
    "import sys\n",
    "sys.path.append('../') ## <-- THIS IS THE PART THAT TELLS IT TO LOOK IN THE PARENT DIRECTORY\n",
    "from IPM_Shared_Code.Python.geo_functions import read_geosql\n",
    "from IPM_Shared_Code.Python.email_functions import get_contacts, read_template, send_email\n",
    "from arcgis.gis import GIS\n",
    "from arcgis.features import GeoAccessor, GeoSeriesAccessor, SpatialDataFrame, FeatureLayer\n",
    "# import requests\n",
    "# from urllib3 import PoolManager\n",
    "# http = PoolManager()\n",
    "import json\n",
    "# import time\n",
    "from datetime import datetime\n",
    "import arcgis\n",
    "import utils\n",
    "import urllib\n",
    "import sqlalchemy\n",
    "import os\n",
    "import shapely\n",
    "import smtplib\n",
    "# from shapely.geometry import shape, mapping"
   ]
  },
  {
   "cell_type": "code",
   "execution_count": 2,
   "metadata": {},
   "outputs": [],
   "source": [
    "config = utils.get_config('config.ini')\n",
    "\n",
    "driver = config['srv']['driver']\n",
    "vpipm_server = config['srv']['vpipm']\n",
    "parksgis_dev_server = config['srv']['parksgis_dev']\n",
    "parksgis_prod_server = config['srv']['parksgis_prod']\n",
    "data_parks_server = config['srv']['data_parks']\n",
    "structuresdb = config['db']['structuresdb']\n",
    "\n",
    "portal_dev = config['url']['portal_dev']\n",
    "portal_prod = config['url']['portal_prod']\n",
    "structures_dev_url = config['url']['structures_dev']\n",
    "structures_prod_url = config['url']['structures_prod']"
   ]
  },
  {
   "cell_type": "code",
   "execution_count": 3,
   "metadata": {},
   "outputs": [],
   "source": [
    "params = urllib.parse.quote_plus(r'Driver=' + driver + ';Server=' +\n",
    "                                 vpipm_server + ';Database=' + structuresdb +\n",
    "                                 ';Trusted_Connection=Yes;')\n",
    "engine = sqlalchemy.create_engine(\"mssql+pyodbc:///?odbc_connect=%s\" % params)"
   ]
  },
  {
   "cell_type": "code",
   "execution_count": 4,
   "metadata": {},
   "outputs": [],
   "source": [
    "connection = engine.connect()"
   ]
  },
  {
   "cell_type": "code",
   "execution_count": 5,
   "metadata": {},
   "outputs": [],
   "source": [
    "con = pyodbc.connect('Driver={' + driver + '};Server=' + data_parks_server +\n",
    "                     ';Database=IPMDB;Trusted_Connection=Yes;')\n",
    "con_vpipm = pyodbc.connect('Driver={' + driver + '};Server=' + vpipm_server +\n",
    "                           ';Database=;Trusted_Connection=Yes;')"
   ]
  },
  {
   "cell_type": "markdown",
   "metadata": {},
   "source": [
    "# Data"
   ]
  },
  {
   "cell_type": "markdown",
   "metadata": {},
   "source": [
    "# Deal with Dates"
   ]
  },
  {
   "cell_type": "markdown",
   "metadata": {},
   "source": [
    "## m/d/Y H:M:S format:"
   ]
  },
  {
   "cell_type": "code",
   "execution_count": 24,
   "metadata": {},
   "outputs": [],
   "source": [
    "# structures_dev['COMMISSIONDATE'] = pd.to_datetime(\n",
    "#     structures_dev['COMMISSIONDATE'],\n",
    "#     errors='coerce').dt.strftime('%m/%d/%Y %H:%M:%S')"
   ]
  },
  {
   "cell_type": "code",
   "execution_count": 25,
   "metadata": {
    "scrolled": true
   },
   "outputs": [],
   "source": [
    "# structures_dev['COMMISSIONDATE']"
   ]
  },
  {
   "cell_type": "code",
   "execution_count": 26,
   "metadata": {},
   "outputs": [],
   "source": [
    "# structures_dev['FEATURESTATUSCHANGEDATE'] = pd.to_datetime(\n",
    "#     structures_dev['FEATURESTATUSCHANGEDATE']).dt.strftime('%m/%d/%Y %H:%M:%S')"
   ]
  },
  {
   "cell_type": "code",
   "execution_count": 27,
   "metadata": {},
   "outputs": [],
   "source": [
    "# structures_dev['RETIREDDATE'] = pd.to_datetime(\n",
    "#     structures_dev['RETIREDDATE']).dt.strftime('%m/%d/%Y %H:%M:%S')"
   ]
  },
  {
   "cell_type": "code",
   "execution_count": 28,
   "metadata": {
    "scrolled": true
   },
   "outputs": [],
   "source": [
    "# structures_dev.columns.values"
   ]
  },
  {
   "cell_type": "markdown",
   "metadata": {},
   "source": [
    "## Delta Table from structuresdb (on vpipm)"
   ]
  },
  {
   "cell_type": "code",
   "execution_count": 29,
   "metadata": {
    "scrolled": true
   },
   "outputs": [],
   "source": [
    "# SPATIAL DATASET:\n",
    "sql_str_deltas = 'select * FROM [structuresdb].[dbo].[tbl_delta_structures]'\n",
    "struct_deltas = read_geosql(sql_str_deltas,\n",
    "                            con_vpipm,\n",
    "                            geom_raw='shape',\n",
    "                            geom_col='geometry')"
   ]
  },
  {
   "cell_type": "code",
   "execution_count": 30,
   "metadata": {},
   "outputs": [],
   "source": [
    "## Still need this ??\n",
    "\n",
    "struct_deltas.rename(columns={\n",
    "    'objectid': 'OBJECTID',\n",
    "    'parks_id': 'SYSTEM',\n",
    "    'bin': 'BIN',\n",
    "    'bbl': 'BBL',\n",
    "    'doitt_id': 'DOITT_ID',\n",
    "    'ground_elevation': 'Ground_Elevation',\n",
    "    'height_roof': 'Height_Roof',\n",
    "    'alteration_year': 'Alteration_Year',\n",
    "    'construction_year': 'Construction_Year',\n",
    "    'demolition_year': 'Demolition_Year'\n",
    "},\n",
    "                     inplace=True)"
   ]
  },
  {
   "cell_type": "code",
   "execution_count": 31,
   "metadata": {},
   "outputs": [
    {
     "data": {
      "text/html": [
       "<div>\n",
       "<style scoped>\n",
       "    .dataframe tbody tr th:only-of-type {\n",
       "        vertical-align: middle;\n",
       "    }\n",
       "\n",
       "    .dataframe tbody tr th {\n",
       "        vertical-align: top;\n",
       "    }\n",
       "\n",
       "    .dataframe thead th {\n",
       "        text-align: right;\n",
       "    }\n",
       "</style>\n",
       "<table border=\"1\" class=\"dataframe\">\n",
       "  <thead>\n",
       "    <tr style=\"text-align: right;\">\n",
       "      <th></th>\n",
       "      <th>fid</th>\n",
       "      <th>OBJECTID</th>\n",
       "      <th>SYSTEM</th>\n",
       "      <th>BIN</th>\n",
       "      <th>BBL</th>\n",
       "      <th>DOITT_ID</th>\n",
       "      <th>Ground_Elevation</th>\n",
       "      <th>Height_Roof</th>\n",
       "      <th>Construction_Year</th>\n",
       "      <th>Alteration_Year</th>\n",
       "      <th>Demolition_Year</th>\n",
       "      <th>api_call</th>\n",
       "      <th>doitt_source</th>\n",
       "      <th>date_stamp</th>\n",
       "      <th>geometry</th>\n",
       "    </tr>\n",
       "  </thead>\n",
       "  <tbody>\n",
       "    <tr>\n",
       "      <th>0</th>\n",
       "      <td>1</td>\n",
       "      <td>4596</td>\n",
       "      <td>Q376-BLG0193</td>\n",
       "      <td>4616184</td>\n",
       "      <td>4065070001</td>\n",
       "      <td>220471</td>\n",
       "      <td>70.0</td>\n",
       "      <td>13.890000</td>\n",
       "      <td>1952.0</td>\n",
       "      <td>NaN</td>\n",
       "      <td>None</td>\n",
       "      <td>U</td>\n",
       "      <td>current</td>\n",
       "      <td>2020-02-11 20:01:51.967</td>\n",
       "      <td>POLYGON ((1033184.264980316 207904.7335185558,...</td>\n",
       "    </tr>\n",
       "    <tr>\n",
       "      <th>1</th>\n",
       "      <td>2</td>\n",
       "      <td>4716</td>\n",
       "      <td>Q099-ZN18-BLG0361</td>\n",
       "      <td>4557975</td>\n",
       "      <td>4020180001</td>\n",
       "      <td>221004</td>\n",
       "      <td>27.0</td>\n",
       "      <td>12.789576</td>\n",
       "      <td>1939.0</td>\n",
       "      <td>NaN</td>\n",
       "      <td>None</td>\n",
       "      <td>U</td>\n",
       "      <td>current</td>\n",
       "      <td>2020-02-11 20:01:51.967</td>\n",
       "      <td>POLYGON ((1026348.098534554 210512.7463471293,...</td>\n",
       "    </tr>\n",
       "    <tr>\n",
       "      <th>2</th>\n",
       "      <td>3</td>\n",
       "      <td>4772</td>\n",
       "      <td>Q220C-03-BLG0454</td>\n",
       "      <td>4584331</td>\n",
       "      <td>4119820001</td>\n",
       "      <td>222114</td>\n",
       "      <td>33.0</td>\n",
       "      <td>15.530000</td>\n",
       "      <td>1931.0</td>\n",
       "      <td>NaN</td>\n",
       "      <td>None</td>\n",
       "      <td>U</td>\n",
       "      <td>current</td>\n",
       "      <td>2020-02-11 20:01:51.967</td>\n",
       "      <td>POLYGON ((1039076.640006557 187146.0099442154,...</td>\n",
       "    </tr>\n",
       "    <tr>\n",
       "      <th>3</th>\n",
       "      <td>4</td>\n",
       "      <td>5371</td>\n",
       "      <td>B385-BLG1612</td>\n",
       "      <td>3336973</td>\n",
       "      <td>3025560041</td>\n",
       "      <td>222674</td>\n",
       "      <td>12.0</td>\n",
       "      <td>14.370000</td>\n",
       "      <td>1936.0</td>\n",
       "      <td>NaN</td>\n",
       "      <td>None</td>\n",
       "      <td>U</td>\n",
       "      <td>current</td>\n",
       "      <td>2020-02-11 20:01:51.967</td>\n",
       "      <td>POLYGON ((995133.3437069803 205243.7522919625,...</td>\n",
       "    </tr>\n",
       "    <tr>\n",
       "      <th>4</th>\n",
       "      <td>5</td>\n",
       "      <td>5339</td>\n",
       "      <td>M107-BLG1568</td>\n",
       "      <td>1088091</td>\n",
       "      <td>1018190010</td>\n",
       "      <td>223660</td>\n",
       "      <td>22.0</td>\n",
       "      <td>13.222770</td>\n",
       "      <td>1961.0</td>\n",
       "      <td>NaN</td>\n",
       "      <td>None</td>\n",
       "      <td>U</td>\n",
       "      <td>current</td>\n",
       "      <td>2020-02-11 20:01:51.967</td>\n",
       "      <td>POLYGON ((1002872.513596058 226117.4808856249,...</td>\n",
       "    </tr>\n",
       "  </tbody>\n",
       "</table>\n",
       "</div>"
      ],
      "text/plain": [
       "   fid  OBJECTID             SYSTEM      BIN         BBL  DOITT_ID  \\\n",
       "0    1      4596       Q376-BLG0193  4616184  4065070001    220471   \n",
       "1    2      4716  Q099-ZN18-BLG0361  4557975  4020180001    221004   \n",
       "2    3      4772   Q220C-03-BLG0454  4584331  4119820001    222114   \n",
       "3    4      5371       B385-BLG1612  3336973  3025560041    222674   \n",
       "4    5      5339       M107-BLG1568  1088091  1018190010    223660   \n",
       "\n",
       "   Ground_Elevation  Height_Roof  Construction_Year  Alteration_Year  \\\n",
       "0              70.0    13.890000             1952.0              NaN   \n",
       "1              27.0    12.789576             1939.0              NaN   \n",
       "2              33.0    15.530000             1931.0              NaN   \n",
       "3              12.0    14.370000             1936.0              NaN   \n",
       "4              22.0    13.222770             1961.0              NaN   \n",
       "\n",
       "  Demolition_Year api_call doitt_source              date_stamp  \\\n",
       "0            None        U      current 2020-02-11 20:01:51.967   \n",
       "1            None        U      current 2020-02-11 20:01:51.967   \n",
       "2            None        U      current 2020-02-11 20:01:51.967   \n",
       "3            None        U      current 2020-02-11 20:01:51.967   \n",
       "4            None        U      current 2020-02-11 20:01:51.967   \n",
       "\n",
       "                                            geometry  \n",
       "0  POLYGON ((1033184.264980316 207904.7335185558,...  \n",
       "1  POLYGON ((1026348.098534554 210512.7463471293,...  \n",
       "2  POLYGON ((1039076.640006557 187146.0099442154,...  \n",
       "3  POLYGON ((995133.3437069803 205243.7522919625,...  \n",
       "4  POLYGON ((1002872.513596058 226117.4808856249,...  "
      ]
     },
     "execution_count": 31,
     "metadata": {},
     "output_type": "execute_result"
    }
   ],
   "source": [
    "struct_deltas.head()"
   ]
  },
  {
   "cell_type": "code",
   "execution_count": 32,
   "metadata": {},
   "outputs": [],
   "source": [
    "# multipolygons"
   ]
  },
  {
   "cell_type": "code",
   "execution_count": 33,
   "metadata": {},
   "outputs": [],
   "source": [
    "multipolygons = []\n",
    "for i, row in struct_deltas.iterrows(): \n",
    "    if type(row['geometry'])==shapely.geometry.multipolygon.MultiPolygon:\n",
    "#         print('hi')\n",
    "        multipolygons.append(row['SYSTEM'])\n",
    "#         print(i)\n",
    "# print(row['SYSTEM'])\n",
    "if len(multipolygons)!=0:\n",
    "    ids = '\\n'.join(multipolygons[:1])\n",
    "#     print(type(ids))\n",
    "    mssg = 'SYSTEM ID(s) of building(s) that are MultiPolygons:\\n'+ids\n",
    "    send_email('mycontacts.txt','multipoly_mssg.txt', subject = 'multipolygons', e=mssg)\n",
    "struct_deltas = struct_deltas[~struct_deltas['SYSTEM'].isin(multipolygons)]"
   ]
  },
  {
   "cell_type": "code",
   "execution_count": 40,
   "metadata": {},
   "outputs": [],
   "source": [
    "# def to_wkt(row):\n",
    "#     return row.wkt"
   ]
  },
  {
   "cell_type": "markdown",
   "metadata": {},
   "source": [
    "# Write Delta Table to geojson file"
   ]
  },
  {
   "cell_type": "code",
   "execution_count": 44,
   "metadata": {},
   "outputs": [],
   "source": [
    "today = datetime.now().strftime('%Y%m%d')\n",
    "snapshot = r'C:\\\\Projects\\\\AgencyDataModel\\\\Develop\\\\Structures\\\\delta_snapshots/' + today\n",
    "if os.path.exists(snapshot):\n",
    "    struct_deltas.to_file(snapshot + '/deltas.geojson',\n",
    "                          encoding='utf-8',\n",
    "                          driver='GeoJSON')\n",
    "else:\n",
    "    os.makedirs(snapshot)\n",
    "    struct_deltas.to_file(snapshot + '/deltas.geojson',\n",
    "                          encoding='utf-8',\n",
    "                          driver='GeoJSON')"
   ]
  },
  {
   "cell_type": "markdown",
   "metadata": {},
   "source": [
    "# Read geojson file to geojson object "
   ]
  },
  {
   "cell_type": "code",
   "execution_count": 49,
   "metadata": {},
   "outputs": [],
   "source": [
    "with open(snapshot+'/deltas.geojson') as data:\n",
    "    geojson_deltas = json.load(data)"
   ]
  },
  {
   "cell_type": "markdown",
   "metadata": {},
   "source": [
    "# Create arcgis featureSet from geojson object"
   ]
  },
  {
   "cell_type": "code",
   "execution_count": 50,
   "metadata": {
    "scrolled": true
   },
   "outputs": [
    {
     "name": "stderr",
     "output_type": "stream",
     "text": [
      "C:\\ProgramData\\Anaconda3\\lib\\site-packages\\arcgis\\features\\feature.py:793: UserWarning: crs has been deprecated and will be ignored. Please see: https://tools.ietf.org/html/rfc7946#section-4 for more information.\n",
      "  \" see: https://tools.ietf.org/html/rfc7946#section-4 for\" +\\\n"
     ]
    }
   ],
   "source": [
    "fromJSON_deltas = arcgis.features.FeatureSet.from_geojson(geojson_deltas)"
   ]
  },
  {
   "cell_type": "markdown",
   "metadata": {},
   "source": [
    "# Connect to published dataset via GIS object"
   ]
  },
  {
   "cell_type": "code",
   "execution_count": 51,
   "metadata": {},
   "outputs": [],
   "source": [
    "gis = GIS(url=portal_dev)"
   ]
  },
  {
   "cell_type": "markdown",
   "metadata": {},
   "source": [
    "# Connect to feature layer directly"
   ]
  },
  {
   "cell_type": "code",
   "execution_count": 52,
   "metadata": {},
   "outputs": [],
   "source": [
    "strct_lyr_url = structures_dev_url"
   ]
  },
  {
   "cell_type": "code",
   "execution_count": 53,
   "metadata": {},
   "outputs": [],
   "source": [
    "lyr_structures = FeatureLayer(strct_lyr_url)\n",
    "structures_features = lyr_structures.query()"
   ]
  },
  {
   "cell_type": "code",
   "execution_count": 54,
   "metadata": {},
   "outputs": [
    {
     "data": {
      "text/plain": [
       "<FeatureSet> 2697 features"
      ]
     },
     "execution_count": 54,
     "metadata": {},
     "output_type": "execute_result"
    }
   ],
   "source": [
    "structures_features"
   ]
  },
  {
   "cell_type": "code",
   "execution_count": 55,
   "metadata": {},
   "outputs": [
    {
     "data": {
      "text/plain": [
       "2075"
      ]
     },
     "execution_count": 55,
     "metadata": {},
     "output_type": "execute_result"
    }
   ],
   "source": [
    "len(struct_deltas)"
   ]
  },
  {
   "cell_type": "markdown",
   "metadata": {},
   "source": [
    "# Make Edits"
   ]
  },
  {
   "cell_type": "code",
   "execution_count": 62,
   "metadata": {},
   "outputs": [],
   "source": [
    "crsr = con_vpipm.cursor()\n",
    "sql_stmt = '''\n",
    "exec [structuresdb].[dbo].[sp_i_tbl_delta_structures_archive] \n",
    "'''\n",
    "crsr.execute(\"{CALL [structuresdb].[dbo].[sp_i_tbl_delta_structures_archive] }\")\n",
    "crsr.commit()\n",
    "crsr.close()"
   ]
  },
  {
   "cell_type": "code",
   "execution_count": 57,
   "metadata": {},
   "outputs": [],
   "source": [
    "update_result = lyr_structures.edit_features(updates=fromJSON_deltas.features)"
   ]
  },
  {
   "cell_type": "code",
   "execution_count": 60,
   "metadata": {},
   "outputs": [],
   "source": [
    "lyr_structures = FeatureLayer(strct_lyr_url)\n",
    "structures_features = lyr_structures.query()"
   ]
  }
 ],
 "metadata": {
  "kernelspec": {
   "display_name": "Python 3",
   "language": "python",
   "name": "python3"
  },
  "language_info": {
   "codemirror_mode": {
    "name": "ipython",
    "version": 3
   },
   "file_extension": ".py",
   "mimetype": "text/x-python",
   "name": "python",
   "nbconvert_exporter": "python",
   "pygments_lexer": "ipython3",
   "version": "3.7.3"
  },
  "toc": {
   "base_numbering": 1,
   "nav_menu": {},
   "number_sections": false,
   "sideBar": true,
   "skip_h1_title": false,
   "title_cell": "Table of Contents",
   "title_sidebar": "Contents",
   "toc_cell": false,
   "toc_position": {
    "height": "calc(100% - 180px)",
    "left": "10px",
    "top": "150px",
    "width": "316px"
   },
   "toc_section_display": true,
   "toc_window_display": true
  }
 },
 "nbformat": 4,
 "nbformat_minor": 2
}
